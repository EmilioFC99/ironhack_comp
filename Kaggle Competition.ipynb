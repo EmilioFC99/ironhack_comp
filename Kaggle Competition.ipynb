{
 "cells": [
  {
   "cell_type": "markdown",
   "metadata": {},
   "source": [
    "# Data Cleaning\n",
    "* Rare Encoding 'city' (top 8 labels)\n",
    "* Creating groups for 'experience' and converting it to ordinal.\n",
    "* Converting the rest to ordinal for Null filling.\n",
    "* Creating Dummies\n",
    "\n",
    "# Feature Selection\n",
    " * chi_squared\n",
    " * mutual_info_classif\n",
    "\n",
    "# Model Test\n",
    " * GaussianNB\n",
    " * Logistic Regression\n",
    " * Extreme Tree Classifier\n",
    " * Decision Tree Classifier\n",
    " * Random Forest\n",
    " * KNeighbors\n",
    " * SVC\\\n",
    " \n",
    "# Model Train\n",
    " For deployment"
   ]
  },
  {
   "cell_type": "code",
   "execution_count": 1,
   "metadata": {},
   "outputs": [],
   "source": [
    "# imports\n",
    "import pandas as pd\n",
    "import numpy as np\n",
    "import matplotlib.pyplot as plt\n",
    "import seaborn as sns\n",
    "\n",
    "from feature_engine.encoding import RareLabelEncoder, OneHotEncoder\n",
    "from feature_engine.discretisation import EqualFrequencyDiscretiser\n",
    "from sklearn.preprocessing import RobustScaler\n",
    "\n",
    "from sklearn.experimental import enable_iterative_imputer\n",
    "from sklearn.impute import IterativeImputer\n",
    "\n",
    "from sklearn.feature_selection import SelectKBest\n",
    "from sklearn.feature_selection import chi2\n",
    "from sklearn.feature_selection import mutual_info_classif\n",
    "\n",
    "\n",
    "from sklearn.naive_bayes import GaussianNB\n",
    "from sklearn.linear_model import LogisticRegression\n",
    "from sklearn.tree import ExtraTreeClassifier, DecisionTreeClassifier\n",
    "from sklearn.ensemble import RandomForestClassifier\n",
    "from sklearn.neighbors import KNeighborsClassifier\n",
    "from sklearn.svm import SVC\n",
    "\n",
    "from sklearn.model_selection import train_test_split, KFold, cross_validate\n",
    "\n",
    "from sklearn import metrics\n",
    "from scipy import stats"
   ]
  },
  {
   "cell_type": "markdown",
   "metadata": {},
   "source": [
    "# Data Cleaning"
   ]
  },
  {
   "cell_type": "code",
   "execution_count": 2,
   "metadata": {},
   "outputs": [],
   "source": [
    "def Data_Cleaning(data_, scale = False, normalize = False):\n",
    "    \"\"\"\n",
    "    Function that takes the dataset \n",
    "    and convert categorical features to ordinal,\n",
    "    fill nulls, standardize data and create dummies.\n",
    "    \"\"\"\n",
    "    data = data_.copy()\n",
    "    \n",
    "    \n",
    "    cat = 'gender'\n",
    "    data[cat].replace({\"Male\":1, \n",
    "                       \"Female\":2, \n",
    "                       \"Other\":3},\n",
    "                      inplace=True)\n",
    "    \n",
    "    \n",
    "    cat = 'enrolled_university'\n",
    "    data[cat].isnull().mean()*100\n",
    "    data[cat].replace({\"no_enrollment\":0, \n",
    "                       'Full time course':2, \n",
    "                       'Part time course':1}, \n",
    "                      inplace = True)\n",
    "    \n",
    "    \n",
    "    cat = 'education_level'\n",
    "    data[cat].replace({\"Primary School\": 0, \n",
    "                       \"High School\": 1, \n",
    "                       \"Graduate\": 2, \n",
    "                       \"Masters\": 3, \n",
    "                       \"Phd\": 4},\n",
    "                      inplace =True)\n",
    "    \n",
    "    \n",
    "    cat= \"major_discipline\"\n",
    "    data[cat].replace({'STEM':0, \n",
    "                       'Business Degree':1, \n",
    "                       'Humanities': 2,\n",
    "                       'Arts':3, \n",
    "                       'No Major':4 ,\n",
    "                       'Other':5},\n",
    "                      inplace = True)\n",
    "    \n",
    "    \n",
    "    cat = 'experience'\n",
    "    def Create_Groups(x):\n",
    "        if x in ['<1','1','2','3','4']:\n",
    "            return '0-5'\n",
    "        elif x in ['5','6','7','8','9']:\n",
    "            return '5-10'\n",
    "        elif x in ['10','11','12','13','14']:\n",
    "            return '10-15'\n",
    "        elif x in ['15','16','17','18','19']:\n",
    "            return '15-20'\n",
    "        elif x in ['20','>20']:\n",
    "            return '20+'\n",
    "        else: return x\n",
    "        \n",
    "    data[cat] = data[cat].apply(Create_Groups)\n",
    "    data[cat].replace({'0-5': 0, \n",
    "                       '5-10':1, \n",
    "                       '10-15':2, \n",
    "                       '15-20':3,\n",
    "                       '20+':4},\n",
    "                      inplace=True)\n",
    "    \n",
    "    \n",
    "    cat = 'last_new_job'\n",
    "    data[cat].replace({'never':0,\n",
    "                       '1':1, \n",
    "                       '2':2, \n",
    "                       '3':3, \n",
    "                       '4':4,\n",
    "                       '>4':5}, \n",
    "                      inplace = True)\n",
    "    \n",
    "    \n",
    "    cat = 'company_size'\n",
    "    data[cat].replace({'<10':0, \n",
    "                       '10/49':1, \n",
    "                       '50-99':2, \n",
    "                       '100-500':3, \n",
    "                       '500-999':4,\n",
    "                       '1000-4999':5,\n",
    "                       '5000-9999':6, \n",
    "                       '10000+':7},\n",
    "                      inplace=True)\n",
    "    \n",
    "    \n",
    "    cat = 'company_type'\n",
    "    data[cat].replace({'Pvt Ltd':0, \n",
    "                       'Funded Startup':1,\n",
    "                       'Early Stage Startup':2,\n",
    "                       'Public Sector':3,\n",
    "                       'NGO':4,\n",
    "                       'Other':5},\n",
    "                      inplace=True)\n",
    "\n",
    "    cat = 'city'\n",
    "    rare_encoder = RareLabelEncoder(tol=0.02,\n",
    "                                    n_categories=8,\n",
    "                                    variables=cat,\n",
    "                                    replace_with='Other')\n",
    "    rare_encoder.fit(data)\n",
    "    data = rare_encoder.transform(data)\n",
    "    \n",
    "    \n",
    "    cat = 'city_development_index'\n",
    "    bins = 6\n",
    "    disc = EqualFrequencyDiscretiser(q=bins)\n",
    "    disc.fit(pd.DataFrame(data[cat]))\n",
    "    data[cat] = disc.transform(pd.DataFrame(data[cat]))\n",
    "    \n",
    "    cat = 'relevent_experience'\n",
    "    data[cat] = data[cat].apply(lambda x: 1 if 'Has' in x else 0) \n",
    "    \n",
    "    \n",
    "\n",
    "    null_columns = data.isnull().mean()*100\n",
    "    null_columns = null_columns[null_columns > 0].index.to_list()\n",
    "    #null_columns = ['gender', 'enrolled_university', \n",
    "    #'education_level', 'major_discipline', 'experience', \n",
    "    #'company_size', 'company_type', 'last_new_job']\n",
    "    \n",
    "    #Using IterativeImputer to fill nulls\n",
    "    imputer = IterativeImputer(max_iter=200,random_state=0)\n",
    "    for col in null_columns:\n",
    "        data[col] = imputer.fit_transform(data[[col]])\n",
    "        data[col] = round(data[col])\n",
    "        \n",
    "    #Creating Dummies\n",
    "    dummies = ['gender','city','major_discipline','company_type','enrolled_university']\n",
    "    data[dummies] =data[dummies].astype('O')\n",
    "    one_hot_top = OneHotEncoder(variables=dummies)\n",
    "    one_hot_top.fit(data)\n",
    "    data = one_hot_top.transform(data)\n",
    "    \n",
    "    if scale:\n",
    "        cat = 'training_hours'\n",
    "        if normalize:\n",
    "            data[cat] =  data[cat] ** (1/3)\n",
    "        scaler = RobustScaler().fit(data[[cat]])\n",
    "        data[cat] = scaler.transform(data[[cat]])\n",
    "        data[cat] =  data[cat] + data[cat].max()\n",
    "    return data"
   ]
  },
  {
   "cell_type": "code",
   "execution_count": 3,
   "metadata": {
    "scrolled": false
   },
   "outputs": [],
   "source": [
    "data_cleaned = Data_Cleaning(pd.read_csv('z_train.csv'), scale =True, normalize = True)"
   ]
  },
  {
   "cell_type": "markdown",
   "metadata": {},
   "source": [
    "# Feature Selection"
   ]
  },
  {
   "cell_type": "code",
   "execution_count": 4,
   "metadata": {},
   "outputs": [],
   "source": [
    "X = data_cleaned.drop(['target','enrollee_id'], axis = 1) \n",
    "y = data_cleaned['target']\n",
    "\n",
    "X_train, X_test, y_train, y_test = train_test_split(X, y, \n",
    "                                                    test_size=0.2)"
   ]
  },
  {
   "cell_type": "code",
   "execution_count": 5,
   "metadata": {
    "scrolled": true
   },
   "outputs": [
    {
     "data": {
      "image/png": "[encoded data removed]",
      "text/plain": [
       "<Figure size 1440x1080 with 1 Axes>"
      ]
     },
     "metadata": {
      "needs_background": "light"
     },
     "output_type": "display_data"
    },
    {
     "data": {
      "image/png": "[encoded data removed]",
      "text/plain": [
       "<Figure size 1440x1080 with 1 Axes>"
      ]
     },
     "metadata": {
      "needs_background": "light"
     },
     "output_type": "display_data"
    },
    {
     "data": {
      "text/plain": [
       "(array([[3., 1., 3., ..., 1., 0., 0.],\n",
       "        [4., 1., 3., ..., 0., 1., 0.],\n",
       "        [0., 0., 2., ..., 0., 0., 1.],\n",
       "        ...,\n",
       "        [0., 1., 2., ..., 0., 1., 0.],\n",
       "        [2., 1., 2., ..., 1., 0., 0.],\n",
       "        [3., 1., 2., ..., 1., 0., 0.]]),\n",
       " array([[3., 1., 3., ..., 1., 0., 0.],\n",
       "        [0., 0., 2., ..., 1., 0., 0.],\n",
       "        [3., 1., 2., ..., 1., 0., 0.],\n",
       "        ...,\n",
       "        [0., 1., 3., ..., 1., 0., 0.],\n",
       "        [1., 1., 2., ..., 1., 0., 0.],\n",
       "        [3., 1., 2., ..., 1., 0., 0.]]),\n",
       " SelectKBest(k='all',\n",
       "             score_func=<function mutual_info_classif at 0x0000024DC4C07B80>))"
      ]
     },
     "execution_count": 5,
     "metadata": {},
     "output_type": "execute_result"
    }
   ],
   "source": [
    "def select_features_viz(X_train, y_train, X_test, score_func, k = 'all'):\n",
    "    fs = SelectKBest(score_func=score_func, k=k) #12 -15\n",
    "    fs.fit(X_train, y_train)\n",
    "    X_train_fs = fs.transform(X_train)\n",
    "    X_test_fs = fs.transform(X_test)\n",
    "    \n",
    "    plt.figure(figsize=(20,15))\n",
    "    plt.bar(X_train.columns, fs.scores_)\n",
    "    plt.xticks(rotation=90)\n",
    "    plt.title(f\"{str(score_func)}\")\n",
    "    plt.show()\n",
    "    return X_train_fs, X_test_fs, fs\n",
    "\n",
    "select_features_viz(X_train, y_train, X_test, \n",
    "                    score_func=chi2) # k 17\n",
    "\n",
    "select_features_viz(X_train, y_train, X_test, \n",
    "                    score_func=mutual_info_classif) # k = 23"
   ]
  },
  {
   "cell_type": "code",
   "execution_count": 6,
   "metadata": {},
   "outputs": [],
   "source": [
    "def select_features(X_train, y_train, X_test, score_func, k = 'all'):\n",
    "    fs = SelectKBest(score_func=score_func, k=k)\n",
    "    fs.fit(X_train, y_train)\n",
    "    X_train_fs = fs.transform(X_train)\n",
    "    X_test_fs = fs.transform(X_test)  \n",
    "    return X_train_fs, X_test_fs"
   ]
  },
  {
   "cell_type": "markdown",
   "metadata": {},
   "source": [
    "# Model Test"
   ]
  },
  {
   "cell_type": "code",
   "execution_count": 7,
   "metadata": {},
   "outputs": [],
   "source": [
    "def ModelTest(model, X_train, X_test, y_train, y_test, typ, k):\n",
    "    model.fit(X_train, y_train)\n",
    "    y_pred = model.predict(X_test)\n",
    "\n",
    "    cross_val = cross_validate(model,X_train,y_train, \n",
    "                               scoring=('accuracy','precision','recall','f1','roc_auc'),\n",
    "                               cv=10)\n",
    "\n",
    "    print(f\"\\nModel: {str(model)}\\n\")\n",
    "    display(metrics.confusion_matrix(y_test,y_pred))\n",
    "    print(f\"Cross Val:\")\n",
    "    acc= cross_val.get('test_accuracy').mean()\n",
    "    print(f\"Acc: {acc}\")\n",
    "    precision = cross_val.get('test_precision').mean()\n",
    "    print(f\"Precision: {precision}\")\n",
    "    recall = cross_val.get('test_recall').mean()\n",
    "    print(f\"Recall: {recall}\")\n",
    "    f1 = cross_val.get('test_f1').mean()\n",
    "    print(f\"f1: {f1}\")\n",
    "    roc_auc = cross_val.get('test_roc_auc').mean()\n",
    "    print(f\"ROC AUC: {roc_auc}\")\n",
    "    return  ((acc+precision + recall)/3, f\"{str(model)} set = {typ} k = {str(k)}\" )"
   ]
  },
  {
   "cell_type": "code",
   "execution_count": 26,
   "metadata": {},
   "outputs": [],
   "source": [
    "k_chi = 9\n",
    "k_mic = 8"
   ]
  },
  {
   "cell_type": "code",
   "execution_count": 27,
   "metadata": {
    "scrolled": true
   },
   "outputs": [
    {
     "name": "stdout",
     "output_type": "stream",
     "text": [
      "\n",
      "Model: GaussianNB()\n",
      "\n"
     ]
    },
    {
     "data": {
      "text/plain": [
       "array([[1620,  645],\n",
       "       [ 247,  554]], dtype=int64)"
      ]
     },
     "metadata": {},
     "output_type": "display_data"
    },
    {
     "name": "stdout",
     "output_type": "stream",
     "text": [
      "Cross Val:\n",
      "Acc: 0.697226753670473\n",
      "Precision: 0.42682014341259417\n",
      "Recall: 0.6639193058378685\n",
      "f1: 0.5194333386622011\n",
      "ROC AUC: 0.7331303497695207\n",
      "\n",
      "Model: GaussianNB()\n",
      "\n"
     ]
    },
    {
     "data": {
      "text/plain": [
       "array([[1620,  645],\n",
       "       [ 247,  554]], dtype=int64)"
      ]
     },
     "metadata": {},
     "output_type": "display_data"
    },
    {
     "name": "stdout",
     "output_type": "stream",
     "text": [
      "Cross Val:\n",
      "Acc: 0.697226753670473\n",
      "Precision: 0.42682014341259417\n",
      "Recall: 0.6639193058378685\n",
      "f1: 0.5194333386622011\n",
      "ROC AUC: 0.7331303497695207\n",
      "\n",
      "Model: GaussianNB()\n",
      "\n"
     ]
    },
    {
     "data": {
      "text/plain": [
       "array([[1580,  696],\n",
       "       [ 260,  530]], dtype=int64)"
      ]
     },
     "metadata": {},
     "output_type": "display_data"
    },
    {
     "name": "stdout",
     "output_type": "stream",
     "text": [
      "Cross Val:\n",
      "Acc: 0.6926590538336052\n",
      "Precision: 0.4231132300476227\n",
      "Recall: 0.6624913149209658\n",
      "f1: 0.516290200735211\n",
      "ROC AUC: 0.7256292250331909\n",
      "\n",
      "Model: GaussianNB()\n",
      "\n"
     ]
    },
    {
     "data": {
      "text/plain": [
       "array([[1580,  696],\n",
       "       [ 260,  530]], dtype=int64)"
      ]
     },
     "metadata": {},
     "output_type": "display_data"
    },
    {
     "name": "stdout",
     "output_type": "stream",
     "text": [
      "Cross Val:\n",
      "Acc: 0.6926590538336052\n",
      "Precision: 0.4231132300476227\n",
      "Recall: 0.6624913149209658\n",
      "f1: 0.516290200735211\n",
      "ROC AUC: 0.7256292250331909\n",
      "\n",
      "Model: GaussianNB()\n",
      "\n"
     ]
    },
    {
     "data": {
      "text/plain": [
       "array([[1631,  659],\n",
       "       [ 261,  515]], dtype=int64)"
      ]
     },
     "metadata": {},
     "output_type": "display_data"
    },
    {
     "name": "stdout",
     "output_type": "stream",
     "text": [
      "Cross Val:\n",
      "Acc: 0.6977977161500817\n",
      "Precision: 0.43013662707576206\n",
      "Recall: 0.6561658757549612\n",
      "f1: 0.5193864499602892\n",
      "ROC AUC: 0.7297723970670428\n",
      "\n",
      "Model: GaussianNB()\n",
      "\n"
     ]
    },
    {
     "data": {
      "text/plain": [
       "array([[1631,  659],\n",
       "       [ 261,  515]], dtype=int64)"
      ]
     },
     "metadata": {},
     "output_type": "display_data"
    },
    {
     "name": "stdout",
     "output_type": "stream",
     "text": [
      "Cross Val:\n",
      "Acc: 0.6977977161500817\n",
      "Precision: 0.43013662707576206\n",
      "Recall: 0.6561658757549612\n",
      "f1: 0.5193864499602892\n",
      "ROC AUC: 0.7297723970670428\n",
      "\n",
      "Model: GaussianNB()\n",
      "\n"
     ]
    },
    {
     "data": {
      "text/plain": [
       "array([[1590,  717],\n",
       "       [ 256,  503]], dtype=int64)"
      ]
     },
     "metadata": {},
     "output_type": "display_data"
    },
    {
     "name": "stdout",
     "output_type": "stream",
     "text": [
      "Cross Val:\n",
      "Acc: 0.6892332789559543\n",
      "Precision: 0.42396909269606314\n",
      "Recall: 0.6747354750803687\n",
      "f1: 0.5204977816421414\n",
      "ROC AUC: 0.7301792395862019\n",
      "\n",
      "Model: GaussianNB()\n",
      "\n"
     ]
    },
    {
     "data": {
      "text/plain": [
       "array([[1590,  717],\n",
       "       [ 256,  503]], dtype=int64)"
      ]
     },
     "metadata": {},
     "output_type": "display_data"
    },
    {
     "name": "stdout",
     "output_type": "stream",
     "text": [
      "Cross Val:\n",
      "Acc: 0.6892332789559543\n",
      "Precision: 0.42396909269606314\n",
      "Recall: 0.6747354750803687\n",
      "f1: 0.5204977816421414\n",
      "ROC AUC: 0.7301792395862019\n"
     ]
    }
   ],
   "source": [
    "metricss = []\n",
    "\n",
    "for scale in [True,False]:\n",
    "    for normalize in [True,False]:\n",
    "        \n",
    "        #Extracting and Cleaning Data\n",
    "        data_cleaned = Data_Cleaning(pd.read_csv('z_train.csv'), \n",
    "                                     scale = scale, \n",
    "                                     normalize = normalize)\n",
    "        \n",
    "        #Train, Test Split\n",
    "        X = data_cleaned.drop(['target','enrollee_id'], axis = 1) \n",
    "        y = data_cleaned['target']\n",
    "        X_train, X_test, y_train, y_test = train_test_split(X, y, \n",
    "                                                            test_size=0.2)\n",
    "\n",
    "        X_train_fs_chi, X_test_fs_chi = select_features(X_train, y_train, X_test, \n",
    "                                                        chi2, \n",
    "                                                        k = k_chi)\n",
    "        X_train_fs_mic, X_test_fs_mic = select_features(X_train, y_train, X_test, \n",
    "                                                        mutual_info_classif, \n",
    "                                                        k = k_mic)\n",
    "        \n",
    "        #Model Training\n",
    "        a = ModelTest(GaussianNB(), #Model    \n",
    "                      X_train = X_train_fs_chi, X_test = X_test_fs_chi,\n",
    "                      y_train = y_train, y_test = y_test,\n",
    "                      typ = 'chi',\n",
    "                      k = k_chi)\n",
    "        metricss.append((a, \"scale: \" + str(scale), \"normalize:\" + str(normalize)))\n",
    "\n",
    "        a = ModelTest(GaussianNB(), #Model          \n",
    "                      X_train = X_train_fs_mic, X_test = X_test_fs_mic,  #Best\n",
    "                      y_train = y_train, y_test = y_test,\n",
    "                      typ = 'mic',\n",
    "                      k = k_mic)\n",
    "        metricss.append((a, \"scale: \" + str(scale), \"normalize:\" + str(normalize)))\n",
    "        "
   ]
  },
  {
   "cell_type": "code",
   "execution_count": 28,
   "metadata": {
    "scrolled": true
   },
   "outputs": [
    {
     "name": "stdout",
     "output_type": "stream",
     "text": [
      "\n",
      "Model: LogisticRegression(max_iter=1000, random_state=0)\n",
      "\n"
     ]
    },
    {
     "data": {
      "text/plain": [
       "array([[2132,  142],\n",
       "       [ 573,  219]], dtype=int64)"
      ]
     },
     "metadata": {},
     "output_type": "display_data"
    },
    {
     "name": "stdout",
     "output_type": "stream",
     "text": [
      "Cross Val:\n",
      "Acc: 0.7739804241435564\n",
      "Precision: 0.5972260835369714\n",
      "Recall: 0.26683711134271326\n",
      "f1: 0.36806332666251196\n",
      "ROC AUC: 0.7717375830542129\n",
      "\n",
      "Model: LogisticRegression(max_iter=1000, random_state=0)\n",
      "\n"
     ]
    },
    {
     "data": {
      "text/plain": [
       "array([[2132,  142],\n",
       "       [ 573,  219]], dtype=int64)"
      ]
     },
     "metadata": {},
     "output_type": "display_data"
    },
    {
     "name": "stdout",
     "output_type": "stream",
     "text": [
      "Cross Val:\n",
      "Acc: 0.7739804241435564\n",
      "Precision: 0.5972260835369714\n",
      "Recall: 0.26683711134271326\n",
      "f1: 0.36806332666251196\n",
      "ROC AUC: 0.7717375830542129\n",
      "\n",
      "Model: LogisticRegression(max_iter=1000, random_state=0)\n",
      "\n"
     ]
    },
    {
     "data": {
      "text/plain": [
       "array([[2197,  122],\n",
       "       [ 534,  213]], dtype=int64)"
      ]
     },
     "metadata": {},
     "output_type": "display_data"
    },
    {
     "name": "stdout",
     "output_type": "stream",
     "text": [
      "Cross Val:\n",
      "Acc: 0.7676998368678629\n",
      "Precision: 0.5824050598722781\n",
      "Recall: 0.2681183637209696\n",
      "f1: 0.3668257285793405\n",
      "ROC AUC: 0.7719345020101732\n",
      "\n",
      "Model: LogisticRegression(max_iter=1000, random_state=0)\n",
      "\n"
     ]
    },
    {
     "data": {
      "text/plain": [
       "array([[2197,  122],\n",
       "       [ 534,  213]], dtype=int64)"
      ]
     },
     "metadata": {},
     "output_type": "display_data"
    },
    {
     "name": "stdout",
     "output_type": "stream",
     "text": [
      "Cross Val:\n",
      "Acc: 0.7676998368678629\n",
      "Precision: 0.5824050598722781\n",
      "Recall: 0.2681183637209696\n",
      "f1: 0.3668257285793405\n",
      "ROC AUC: 0.7719345020101732\n",
      "\n",
      "Model: LogisticRegression(max_iter=1000, random_state=0)\n",
      "\n"
     ]
    },
    {
     "data": {
      "text/plain": [
       "array([[2172,  129],\n",
       "       [ 557,  208]], dtype=int64)"
      ]
     },
     "metadata": {},
     "output_type": "display_data"
    },
    {
     "name": "stdout",
     "output_type": "stream",
     "text": [
      "Cross Val:\n",
      "Acc: 0.7702283849918434\n",
      "Precision: 0.5889498717702815\n",
      "Recall: 0.26577842065788065\n",
      "f1: 0.3660057400626318\n",
      "ROC AUC: 0.7740132177084652\n",
      "\n",
      "Model: LogisticRegression(max_iter=1000, random_state=0)\n",
      "\n"
     ]
    },
    {
     "data": {
      "text/plain": [
       "array([[2172,  129],\n",
       "       [ 557,  208]], dtype=int64)"
      ]
     },
     "metadata": {},
     "output_type": "display_data"
    },
    {
     "name": "stdout",
     "output_type": "stream",
     "text": [
      "Cross Val:\n",
      "Acc: 0.7702283849918434\n",
      "Precision: 0.5889498717702815\n",
      "Recall: 0.26577842065788065\n",
      "f1: 0.3660057400626318\n",
      "ROC AUC: 0.7740132177084652\n",
      "\n",
      "Model: LogisticRegression(max_iter=1000, random_state=0)\n",
      "\n"
     ]
    },
    {
     "data": {
      "text/plain": [
       "array([[2158,  165],\n",
       "       [ 526,  217]], dtype=int64)"
      ]
     },
     "metadata": {},
     "output_type": "display_data"
    },
    {
     "name": "stdout",
     "output_type": "stream",
     "text": [
      "Cross Val:\n",
      "Acc: 0.7716965742251224\n",
      "Precision: 0.5983381952735082\n",
      "Recall: 0.2784821165889127\n",
      "f1: 0.3797740590729291\n",
      "ROC AUC: 0.7753115054566024\n",
      "\n",
      "Model: LogisticRegression(max_iter=1000, random_state=0)\n",
      "\n"
     ]
    },
    {
     "data": {
      "text/plain": [
       "array([[2158,  165],\n",
       "       [ 526,  217]], dtype=int64)"
      ]
     },
     "metadata": {},
     "output_type": "display_data"
    },
    {
     "name": "stdout",
     "output_type": "stream",
     "text": [
      "Cross Val:\n",
      "Acc: 0.7716965742251224\n",
      "Precision: 0.5983381952735082\n",
      "Recall: 0.2784821165889127\n",
      "f1: 0.3797740590729291\n",
      "ROC AUC: 0.7753115054566024\n"
     ]
    }
   ],
   "source": [
    "#Model Test                                   \n",
    "for scale in [True,False]:\n",
    "    for normalize in [True,False]:\n",
    "        \n",
    "        #Extracting and Cleaning Data\n",
    "        data_cleaned = Data_Cleaning(pd.read_csv('z_train.csv'), \n",
    "                                     scale = scale, \n",
    "                                     normalize = normalize)\n",
    "        \n",
    "        #Train, Test Split\n",
    "        X = data_cleaned.drop(['target','enrollee_id'], axis = 1) \n",
    "        y = data_cleaned['target']\n",
    "        X_train, X_test, y_train, y_test = train_test_split(X, y, \n",
    "                                                            test_size=0.2)\n",
    "\n",
    "        X_train_fs_chi, X_test_fs_chi = select_features(X_train, y_train, X_test, \n",
    "                                                        chi2, \n",
    "                                                        k = k_chi)\n",
    "        X_train_fs_mic, X_test_fs_mic = select_features(X_train, y_train, X_test, \n",
    "                                                        mutual_info_classif, \n",
    "                                                        k = k_mic)\n",
    "        \n",
    "        #Model Training   \n",
    "    \n",
    "        a = ModelTest(LogisticRegression(max_iter=1000,random_state=0), #Model    \n",
    "                      X_train = X_train_fs_chi, X_test = X_test_fs_chi,\n",
    "                      y_train = y_train, y_test = y_test,\n",
    "                      typ = 'chi',\n",
    "                      k = k_chi)\n",
    "        metricss.append((a, \"scale: \" + str(scale), \"normalize:\" + str(normalize)))\n",
    "\n",
    "        a = ModelTest(LogisticRegression(max_iter=1000, random_state=0), #Model          \n",
    "                      X_train = X_train_fs_mic, X_test = X_test_fs_mic,  #Best\n",
    "                      y_train = y_train, y_test = y_test,\n",
    "                      typ = 'mic',\n",
    "                      k = k_mic)\n",
    "        metricss.append((a, \"scale: \" + str(scale), \"normalize:\" + str(normalize)))"
   ]
  },
  {
   "cell_type": "code",
   "execution_count": 29,
   "metadata": {
    "scrolled": true
   },
   "outputs": [
    {
     "name": "stdout",
     "output_type": "stream",
     "text": [
      "\n",
      "Model: ExtraTreeClassifier(max_depth=5, random_state=0)\n",
      "\n"
     ]
    },
    {
     "data": {
      "text/plain": [
       "array([[2086,  225],\n",
       "       [ 482,  273]], dtype=int64)"
      ]
     },
     "metadata": {},
     "output_type": "display_data"
    },
    {
     "name": "stdout",
     "output_type": "stream",
     "text": [
      "Cross Val:\n",
      "Acc: 0.7608482871125611\n",
      "Precision: 0.5356395819065907\n",
      "Recall: 0.2739956568946797\n",
      "f1: 0.3531182183678938\n",
      "ROC AUC: 0.7269331524283257\n",
      "\n",
      "Model: ExtraTreeClassifier(max_depth=5, random_state=0)\n",
      "\n"
     ]
    },
    {
     "data": {
      "text/plain": [
       "array([[2086,  225],\n",
       "       [ 482,  273]], dtype=int64)"
      ]
     },
     "metadata": {},
     "output_type": "display_data"
    },
    {
     "name": "stdout",
     "output_type": "stream",
     "text": [
      "Cross Val:\n",
      "Acc: 0.7608482871125611\n",
      "Precision: 0.5356395819065907\n",
      "Recall: 0.2739956568946797\n",
      "f1: 0.3531182183678938\n",
      "ROC AUC: 0.7269331524283257\n",
      "\n",
      "Model: ExtraTreeClassifier(max_depth=10, random_state=0)\n",
      "\n"
     ]
    },
    {
     "data": {
      "text/plain": [
       "array([[2160,  151],\n",
       "       [ 583,  172]], dtype=int64)"
      ]
     },
     "metadata": {},
     "output_type": "display_data"
    },
    {
     "name": "stdout",
     "output_type": "stream",
     "text": [
      "Cross Val:\n",
      "Acc: 0.7740619902120718\n",
      "Precision: 0.5768959270927967\n",
      "Recall: 0.37308019842030193\n",
      "f1: 0.4505796453566068\n",
      "ROC AUC: 0.747616655038849\n",
      "\n",
      "Model: ExtraTreeClassifier(max_depth=10, random_state=0)\n",
      "\n"
     ]
    },
    {
     "data": {
      "text/plain": [
       "array([[2160,  151],\n",
       "       [ 583,  172]], dtype=int64)"
      ]
     },
     "metadata": {},
     "output_type": "display_data"
    },
    {
     "name": "stdout",
     "output_type": "stream",
     "text": [
      "Cross Val:\n",
      "Acc: 0.7740619902120718\n",
      "Precision: 0.5768959270927967\n",
      "Recall: 0.37308019842030193\n",
      "f1: 0.4505796453566068\n",
      "ROC AUC: 0.747616655038849\n",
      "\n",
      "Model: ExtraTreeClassifier(max_depth=15, random_state=0)\n",
      "\n"
     ]
    },
    {
     "data": {
      "text/plain": [
       "array([[2005,  306],\n",
       "       [ 423,  332]], dtype=int64)"
      ]
     },
     "metadata": {},
     "output_type": "display_data"
    },
    {
     "name": "stdout",
     "output_type": "stream",
     "text": [
      "Cross Val:\n",
      "Acc: 0.7570146818923329\n",
      "Precision: 0.5183556074301119\n",
      "Recall: 0.40631453450001065\n",
      "f1: 0.45465480545374354\n",
      "ROC AUC: 0.7191947717480114\n",
      "\n",
      "Model: ExtraTreeClassifier(max_depth=15, random_state=0)\n",
      "\n"
     ]
    },
    {
     "data": {
      "text/plain": [
       "array([[2005,  306],\n",
       "       [ 423,  332]], dtype=int64)"
      ]
     },
     "metadata": {},
     "output_type": "display_data"
    },
    {
     "name": "stdout",
     "output_type": "stream",
     "text": [
      "Cross Val:\n",
      "Acc: 0.7570146818923329\n",
      "Precision: 0.5183556074301119\n",
      "Recall: 0.40631453450001065\n",
      "f1: 0.45465480545374354\n",
      "ROC AUC: 0.7191947717480114\n",
      "\n",
      "Model: ExtraTreeClassifier(max_depth=20, random_state=0)\n",
      "\n"
     ]
    },
    {
     "data": {
      "text/plain": [
       "array([[1948,  363],\n",
       "       [ 450,  305]], dtype=int64)"
      ]
     },
     "metadata": {},
     "output_type": "display_data"
    },
    {
     "name": "stdout",
     "output_type": "stream",
     "text": [
      "Cross Val:\n",
      "Acc: 0.7432300163132137\n",
      "Precision: 0.4854705339126574\n",
      "Recall: 0.4398969576973026\n",
      "f1: 0.4612271124456534\n",
      "ROC AUC: 0.6740905395087411\n",
      "\n",
      "Model: ExtraTreeClassifier(max_depth=20, random_state=0)\n",
      "\n"
     ]
    },
    {
     "data": {
      "text/plain": [
       "array([[1948,  363],\n",
       "       [ 450,  305]], dtype=int64)"
      ]
     },
     "metadata": {},
     "output_type": "display_data"
    },
    {
     "name": "stdout",
     "output_type": "stream",
     "text": [
      "Cross Val:\n",
      "Acc: 0.7432300163132137\n",
      "Precision: 0.4854705339126574\n",
      "Recall: 0.4398969576973026\n",
      "f1: 0.4612271124456534\n",
      "ROC AUC: 0.6740905395087411\n",
      "\n",
      "Model: ExtraTreeClassifier(max_depth=25, random_state=0)\n",
      "\n"
     ]
    },
    {
     "data": {
      "text/plain": [
       "array([[1904,  407],\n",
       "       [ 414,  341]], dtype=int64)"
      ]
     },
     "metadata": {},
     "output_type": "display_data"
    },
    {
     "name": "stdout",
     "output_type": "stream",
     "text": [
      "Cross Val:\n",
      "Acc: 0.7174551386623165\n",
      "Precision: 0.434941566391327\n",
      "Recall: 0.42977581912243723\n",
      "f1: 0.432084937163391\n",
      "ROC AUC: 0.6332110477410458\n",
      "\n",
      "Model: ExtraTreeClassifier(max_depth=25, random_state=0)\n",
      "\n"
     ]
    },
    {
     "data": {
      "text/plain": [
       "array([[1904,  407],\n",
       "       [ 414,  341]], dtype=int64)"
      ]
     },
     "metadata": {},
     "output_type": "display_data"
    },
    {
     "name": "stdout",
     "output_type": "stream",
     "text": [
      "Cross Val:\n",
      "Acc: 0.7174551386623165\n",
      "Precision: 0.434941566391327\n",
      "Recall: 0.42977581912243723\n",
      "f1: 0.432084937163391\n",
      "ROC AUC: 0.6332110477410458\n",
      "\n",
      "Model: ExtraTreeClassifier(max_depth=30, random_state=0)\n",
      "\n"
     ]
    },
    {
     "data": {
      "text/plain": [
       "array([[1848,  463],\n",
       "       [ 414,  341]], dtype=int64)"
      ]
     },
     "metadata": {},
     "output_type": "display_data"
    },
    {
     "name": "stdout",
     "output_type": "stream",
     "text": [
      "Cross Val:\n",
      "Acc: 0.7179445350734095\n",
      "Precision: 0.43700635680764355\n",
      "Recall: 0.43695365225351807\n",
      "f1: 0.4367729984004736\n",
      "ROC AUC: 0.628912213103676\n",
      "\n",
      "Model: ExtraTreeClassifier(max_depth=30, random_state=0)\n",
      "\n"
     ]
    },
    {
     "data": {
      "text/plain": [
       "array([[1848,  463],\n",
       "       [ 414,  341]], dtype=int64)"
      ]
     },
     "metadata": {},
     "output_type": "display_data"
    },
    {
     "name": "stdout",
     "output_type": "stream",
     "text": [
      "Cross Val:\n",
      "Acc: 0.7179445350734095\n",
      "Precision: 0.43700635680764355\n",
      "Recall: 0.43695365225351807\n",
      "f1: 0.4367729984004736\n",
      "ROC AUC: 0.628912213103676\n",
      "\n",
      "Model: ExtraTreeClassifier(max_depth=35, random_state=0)\n",
      "\n"
     ]
    },
    {
     "data": {
      "text/plain": [
       "array([[1906,  405],\n",
       "       [ 416,  339]], dtype=int64)"
      ]
     },
     "metadata": {},
     "output_type": "display_data"
    },
    {
     "name": "stdout",
     "output_type": "stream",
     "text": [
      "Cross Val:\n",
      "Acc: 0.7240619902120718\n",
      "Precision: 0.44936168244192637\n",
      "Recall: 0.4551936301121969\n",
      "f1: 0.4521897273686881\n",
      "ROC AUC: 0.6376884166711113\n",
      "\n",
      "Model: ExtraTreeClassifier(max_depth=35, random_state=0)\n",
      "\n"
     ]
    },
    {
     "data": {
      "text/plain": [
       "array([[1906,  405],\n",
       "       [ 416,  339]], dtype=int64)"
      ]
     },
     "metadata": {},
     "output_type": "display_data"
    },
    {
     "name": "stdout",
     "output_type": "stream",
     "text": [
      "Cross Val:\n",
      "Acc: 0.7240619902120718\n",
      "Precision: 0.44936168244192637\n",
      "Recall: 0.4551936301121969\n",
      "f1: 0.4521897273686881\n",
      "ROC AUC: 0.6376884166711113\n",
      "\n",
      "Model: ExtraTreeClassifier(max_depth=40, random_state=0)\n",
      "\n"
     ]
    },
    {
     "data": {
      "text/plain": [
       "array([[1883,  428],\n",
       "       [ 414,  341]], dtype=int64)"
      ]
     },
     "metadata": {},
     "output_type": "display_data"
    },
    {
     "name": "stdout",
     "output_type": "stream",
     "text": [
      "Cross Val:\n",
      "Acc: 0.7211256117455139\n",
      "Precision: 0.44309351653916773\n",
      "Recall: 0.4421621851780886\n",
      "f1: 0.44250099079392646\n",
      "ROC AUC: 0.6309577156008622\n",
      "\n",
      "Model: ExtraTreeClassifier(max_depth=40, random_state=0)\n",
      "\n"
     ]
    },
    {
     "data": {
      "text/plain": [
       "array([[1883,  428],\n",
       "       [ 414,  341]], dtype=int64)"
      ]
     },
     "metadata": {},
     "output_type": "display_data"
    },
    {
     "name": "stdout",
     "output_type": "stream",
     "text": [
      "Cross Val:\n",
      "Acc: 0.7211256117455139\n",
      "Precision: 0.44309351653916773\n",
      "Recall: 0.4421621851780886\n",
      "f1: 0.44250099079392646\n",
      "ROC AUC: 0.6309577156008622\n",
      "\n",
      "Model: ExtraTreeClassifier(max_depth=45, random_state=0)\n",
      "\n"
     ]
    },
    {
     "data": {
      "text/plain": [
       "array([[1883,  428],\n",
       "       [ 414,  341]], dtype=int64)"
      ]
     },
     "metadata": {},
     "output_type": "display_data"
    },
    {
     "name": "stdout",
     "output_type": "stream",
     "text": [
      "Cross Val:\n",
      "Acc: 0.7211256117455139\n",
      "Precision: 0.4433389903035329\n",
      "Recall: 0.44444231547124813\n",
      "f1: 0.4437347570276927\n",
      "ROC AUC: 0.6318530380197215\n",
      "\n",
      "Model: ExtraTreeClassifier(max_depth=45, random_state=0)\n",
      "\n"
     ]
    },
    {
     "data": {
      "text/plain": [
       "array([[1883,  428],\n",
       "       [ 414,  341]], dtype=int64)"
      ]
     },
     "metadata": {},
     "output_type": "display_data"
    },
    {
     "name": "stdout",
     "output_type": "stream",
     "text": [
      "Cross Val:\n",
      "Acc: 0.7211256117455139\n",
      "Precision: 0.4433389903035329\n",
      "Recall: 0.44444231547124813\n",
      "f1: 0.4437347570276927\n",
      "ROC AUC: 0.6318530380197215\n",
      "\n",
      "Model: ExtraTreeClassifier(max_depth=5, random_state=0)\n",
      "\n"
     ]
    },
    {
     "data": {
      "text/plain": [
       "array([[2161,  164],\n",
       "       [ 566,  175]], dtype=int64)"
      ]
     },
     "metadata": {},
     "output_type": "display_data"
    },
    {
     "name": "stdout",
     "output_type": "stream",
     "text": [
      "Cross Val:\n",
      "Acc: 0.753915171288744\n",
      "Precision: 0.5250833703570084\n",
      "Recall: 0.2121327701424789\n",
      "f1: 0.3007719420464171\n",
      "ROC AUC: 0.7187512475934905\n",
      "\n",
      "Model: ExtraTreeClassifier(max_depth=5, random_state=0)\n",
      "\n"
     ]
    },
    {
     "data": {
      "text/plain": [
       "array([[2161,  164],\n",
       "       [ 566,  175]], dtype=int64)"
      ]
     },
     "metadata": {},
     "output_type": "display_data"
    },
    {
     "name": "stdout",
     "output_type": "stream",
     "text": [
      "Cross Val:\n",
      "Acc: 0.753915171288744\n",
      "Precision: 0.5250833703570084\n",
      "Recall: 0.2121327701424789\n",
      "f1: 0.3007719420464171\n",
      "ROC AUC: 0.7187512475934905\n",
      "\n",
      "Model: ExtraTreeClassifier(max_depth=10, random_state=0)\n",
      "\n"
     ]
    },
    {
     "data": {
      "text/plain": [
       "array([[2059,  266],\n",
       "       [ 414,  327]], dtype=int64)"
      ]
     },
     "metadata": {},
     "output_type": "display_data"
    },
    {
     "name": "stdout",
     "output_type": "stream",
     "text": [
      "Cross Val:\n",
      "Acc: 0.7656606851549755\n",
      "Precision: 0.5523218533885617\n",
      "Recall: 0.3610053377043668\n",
      "f1: 0.4339371136882953\n",
      "ROC AUC: 0.7491490665750139\n",
      "\n",
      "Model: ExtraTreeClassifier(max_depth=10, random_state=0)\n",
      "\n"
     ]
    },
    {
     "data": {
      "text/plain": [
       "array([[2059,  266],\n",
       "       [ 414,  327]], dtype=int64)"
      ]
     },
     "metadata": {},
     "output_type": "display_data"
    },
    {
     "name": "stdout",
     "output_type": "stream",
     "text": [
      "Cross Val:\n",
      "Acc: 0.7656606851549755\n",
      "Precision: 0.5523218533885617\n",
      "Recall: 0.3610053377043668\n",
      "f1: 0.4339371136882953\n",
      "ROC AUC: 0.7491490665750139\n",
      "\n",
      "Model: ExtraTreeClassifier(max_depth=15, random_state=0)\n",
      "\n"
     ]
    },
    {
     "data": {
      "text/plain": [
       "array([[2058,  267],\n",
       "       [ 438,  303]], dtype=int64)"
      ]
     },
     "metadata": {},
     "output_type": "display_data"
    },
    {
     "name": "stdout",
     "output_type": "stream",
     "text": [
      "Cross Val:\n",
      "Acc: 0.7619902120717782\n",
      "Precision: 0.5338559932189617\n",
      "Recall: 0.43267032320430376\n",
      "f1: 0.47575105597597106\n",
      "ROC AUC: 0.7158952314983382\n",
      "\n",
      "Model: ExtraTreeClassifier(max_depth=15, random_state=0)\n",
      "\n"
     ]
    },
    {
     "data": {
      "text/plain": [
       "array([[2058,  267],\n",
       "       [ 438,  303]], dtype=int64)"
      ]
     },
     "metadata": {},
     "output_type": "display_data"
    },
    {
     "name": "stdout",
     "output_type": "stream",
     "text": [
      "Cross Val:\n",
      "Acc: 0.7619902120717782\n",
      "Precision: 0.5338559932189617\n",
      "Recall: 0.43267032320430376\n",
      "f1: 0.47575105597597106\n",
      "ROC AUC: 0.7158952314983382\n",
      "\n",
      "Model: ExtraTreeClassifier(max_depth=20, random_state=0)\n",
      "\n"
     ]
    },
    {
     "data": {
      "text/plain": [
       "array([[1925,  400],\n",
       "       [ 411,  330]], dtype=int64)"
      ]
     },
     "metadata": {},
     "output_type": "display_data"
    },
    {
     "name": "stdout",
     "output_type": "stream",
     "text": [
      "Cross Val:\n",
      "Acc: 0.7353181076672105\n",
      "Precision: 0.4705272692607895\n",
      "Recall: 0.42426133736813354\n",
      "f1: 0.44570353611320357\n",
      "ROC AUC: 0.6676764263850541\n",
      "\n",
      "Model: ExtraTreeClassifier(max_depth=20, random_state=0)\n",
      "\n"
     ]
    },
    {
     "data": {
      "text/plain": [
       "array([[1925,  400],\n",
       "       [ 411,  330]], dtype=int64)"
      ]
     },
     "metadata": {},
     "output_type": "display_data"
    },
    {
     "name": "stdout",
     "output_type": "stream",
     "text": [
      "Cross Val:\n",
      "Acc: 0.7353181076672105\n",
      "Precision: 0.4705272692607895\n",
      "Recall: 0.42426133736813354\n",
      "f1: 0.44570353611320357\n",
      "ROC AUC: 0.6676764263850541\n",
      "\n",
      "Model: ExtraTreeClassifier(max_depth=25, random_state=0)\n",
      "\n"
     ]
    },
    {
     "data": {
      "text/plain": [
       "array([[1909,  416],\n",
       "       [ 401,  340]], dtype=int64)"
      ]
     },
     "metadata": {},
     "output_type": "display_data"
    },
    {
     "name": "stdout",
     "output_type": "stream",
     "text": [
      "Cross Val:\n",
      "Acc: 0.7190864600326264\n",
      "Precision: 0.43889195951917365\n",
      "Recall: 0.422320640524524\n",
      "f1: 0.430070773757165\n",
      "ROC AUC: 0.6332746365058326\n",
      "\n",
      "Model: ExtraTreeClassifier(max_depth=25, random_state=0)\n",
      "\n"
     ]
    },
    {
     "data": {
      "text/plain": [
       "array([[1909,  416],\n",
       "       [ 401,  340]], dtype=int64)"
      ]
     },
     "metadata": {},
     "output_type": "display_data"
    },
    {
     "name": "stdout",
     "output_type": "stream",
     "text": [
      "Cross Val:\n",
      "Acc: 0.7190864600326264\n",
      "Precision: 0.43889195951917365\n",
      "Recall: 0.422320640524524\n",
      "f1: 0.430070773757165\n",
      "ROC AUC: 0.6332746365058326\n",
      "\n",
      "Model: ExtraTreeClassifier(max_depth=30, random_state=0)\n",
      "\n"
     ]
    },
    {
     "data": {
      "text/plain": [
       "array([[1872,  453],\n",
       "       [ 412,  329]], dtype=int64)"
      ]
     },
     "metadata": {},
     "output_type": "display_data"
    },
    {
     "name": "stdout",
     "output_type": "stream",
     "text": [
      "Cross Val:\n",
      "Acc: 0.7210440456769984\n",
      "Precision: 0.4444944269748749\n",
      "Recall: 0.4372378430630858\n",
      "f1: 0.44048760477570215\n",
      "ROC AUC: 0.6324843596653652\n",
      "\n",
      "Model: ExtraTreeClassifier(max_depth=30, random_state=0)\n",
      "\n"
     ]
    },
    {
     "data": {
      "text/plain": [
       "array([[1872,  453],\n",
       "       [ 412,  329]], dtype=int64)"
      ]
     },
     "metadata": {},
     "output_type": "display_data"
    },
    {
     "name": "stdout",
     "output_type": "stream",
     "text": [
      "Cross Val:\n",
      "Acc: 0.7210440456769984\n",
      "Precision: 0.4444944269748749\n",
      "Recall: 0.4372378430630858\n",
      "f1: 0.44048760477570215\n",
      "ROC AUC: 0.6324843596653652\n",
      "\n",
      "Model: ExtraTreeClassifier(max_depth=35, random_state=0)\n",
      "\n"
     ]
    },
    {
     "data": {
      "text/plain": [
       "array([[1888,  437],\n",
       "       [ 423,  318]], dtype=int64)"
      ]
     },
     "metadata": {},
     "output_type": "display_data"
    },
    {
     "name": "stdout",
     "output_type": "stream",
     "text": [
      "Cross Val:\n",
      "Acc: 0.7153344208809135\n",
      "Precision: 0.4347982327060378\n",
      "Recall: 0.43692577648888326\n",
      "f1: 0.43548675820956173\n",
      "ROC AUC: 0.6254721566600329\n",
      "\n",
      "Model: ExtraTreeClassifier(max_depth=35, random_state=0)\n",
      "\n"
     ]
    },
    {
     "data": {
      "text/plain": [
       "array([[1888,  437],\n",
       "       [ 423,  318]], dtype=int64)"
      ]
     },
     "metadata": {},
     "output_type": "display_data"
    },
    {
     "name": "stdout",
     "output_type": "stream",
     "text": [
      "Cross Val:\n",
      "Acc: 0.7153344208809135\n",
      "Precision: 0.4347982327060378\n",
      "Recall: 0.43692577648888326\n",
      "f1: 0.43548675820956173\n",
      "ROC AUC: 0.6254721566600329\n",
      "\n",
      "Model: ExtraTreeClassifier(max_depth=40, random_state=0)\n",
      "\n"
     ]
    },
    {
     "data": {
      "text/plain": [
       "array([[1876,  449],\n",
       "       [ 413,  328]], dtype=int64)"
      ]
     },
     "metadata": {},
     "output_type": "display_data"
    },
    {
     "name": "stdout",
     "output_type": "stream",
     "text": [
      "Cross Val:\n",
      "Acc: 0.7148450244698206\n",
      "Precision: 0.4356191065436724\n",
      "Recall: 0.4524839238431471\n",
      "f1: 0.44363962761735287\n",
      "ROC AUC: 0.6296877298224401\n",
      "\n",
      "Model: ExtraTreeClassifier(max_depth=40, random_state=0)\n",
      "\n"
     ]
    },
    {
     "data": {
      "text/plain": [
       "array([[1876,  449],\n",
       "       [ 413,  328]], dtype=int64)"
      ]
     },
     "metadata": {},
     "output_type": "display_data"
    },
    {
     "name": "stdout",
     "output_type": "stream",
     "text": [
      "Cross Val:\n",
      "Acc: 0.7148450244698206\n",
      "Precision: 0.4356191065436724\n",
      "Recall: 0.4524839238431471\n",
      "f1: 0.44363962761735287\n",
      "ROC AUC: 0.6296877298224401\n",
      "\n",
      "Model: ExtraTreeClassifier(max_depth=45, random_state=0)\n",
      "\n"
     ]
    },
    {
     "data": {
      "text/plain": [
       "array([[1876,  449],\n",
       "       [ 413,  328]], dtype=int64)"
      ]
     },
     "metadata": {},
     "output_type": "display_data"
    },
    {
     "name": "stdout",
     "output_type": "stream",
     "text": [
      "Cross Val:\n",
      "Acc: 0.7132137030995105\n",
      "Precision: 0.43279934114014046\n",
      "Recall: 0.4508658008658008\n",
      "f1: 0.44140716473972874\n",
      "ROC AUC: 0.6281793639325431\n",
      "\n",
      "Model: ExtraTreeClassifier(max_depth=45, random_state=0)\n",
      "\n"
     ]
    },
    {
     "data": {
      "text/plain": [
       "array([[1876,  449],\n",
       "       [ 413,  328]], dtype=int64)"
      ]
     },
     "metadata": {},
     "output_type": "display_data"
    },
    {
     "name": "stdout",
     "output_type": "stream",
     "text": [
      "Cross Val:\n",
      "Acc: 0.7132137030995105\n",
      "Precision: 0.43279934114014046\n",
      "Recall: 0.4508658008658008\n",
      "f1: 0.44140716473972874\n",
      "ROC AUC: 0.6281793639325431\n",
      "\n",
      "Model: ExtraTreeClassifier(max_depth=5, random_state=0)\n",
      "\n"
     ]
    },
    {
     "name": "stderr",
     "output_type": "stream",
     "text": [
      "C:\\Users\\Emilio\\anaconda3\\envs\\data\\lib\\site-packages\\sklearn\\metrics\\_classification.py:1221: UndefinedMetricWarning: Precision is ill-defined and being set to 0.0 due to no predicted samples. Use `zero_division` parameter to control this behavior.\n",
      "  _warn_prf(average, modifier, msg_start, len(result))\n",
      "C:\\Users\\Emilio\\anaconda3\\envs\\data\\lib\\site-packages\\sklearn\\metrics\\_classification.py:1221: UndefinedMetricWarning: Precision is ill-defined and being set to 0.0 due to no predicted samples. Use `zero_division` parameter to control this behavior.\n",
      "  _warn_prf(average, modifier, msg_start, len(result))\n",
      "C:\\Users\\Emilio\\anaconda3\\envs\\data\\lib\\site-packages\\sklearn\\metrics\\_classification.py:1221: UndefinedMetricWarning: Precision is ill-defined and being set to 0.0 due to no predicted samples. Use `zero_division` parameter to control this behavior.\n",
      "  _warn_prf(average, modifier, msg_start, len(result))\n"
     ]
    },
    {
     "data": {
      "text/plain": [
       "array([[2252,    4],\n",
       "       [ 801,    9]], dtype=int64)"
      ]
     },
     "metadata": {},
     "output_type": "display_data"
    },
    {
     "name": "stdout",
     "output_type": "stream",
     "text": [
      "Cross Val:\n",
      "Acc: 0.7532626427406199\n",
      "Precision: 0.35592692004885856\n",
      "Recall: 0.036492046379617615\n",
      "f1: 0.0578136414447997\n",
      "ROC AUC: 0.6829814738702772\n",
      "\n",
      "Model: ExtraTreeClassifier(max_depth=5, random_state=0)\n",
      "\n"
     ]
    },
    {
     "name": "stderr",
     "output_type": "stream",
     "text": [
      "C:\\Users\\Emilio\\anaconda3\\envs\\data\\lib\\site-packages\\sklearn\\metrics\\_classification.py:1221: UndefinedMetricWarning: Precision is ill-defined and being set to 0.0 due to no predicted samples. Use `zero_division` parameter to control this behavior.\n",
      "  _warn_prf(average, modifier, msg_start, len(result))\n",
      "C:\\Users\\Emilio\\anaconda3\\envs\\data\\lib\\site-packages\\sklearn\\metrics\\_classification.py:1221: UndefinedMetricWarning: Precision is ill-defined and being set to 0.0 due to no predicted samples. Use `zero_division` parameter to control this behavior.\n",
      "  _warn_prf(average, modifier, msg_start, len(result))\n",
      "C:\\Users\\Emilio\\anaconda3\\envs\\data\\lib\\site-packages\\sklearn\\metrics\\_classification.py:1221: UndefinedMetricWarning: Precision is ill-defined and being set to 0.0 due to no predicted samples. Use `zero_division` parameter to control this behavior.\n",
      "  _warn_prf(average, modifier, msg_start, len(result))\n"
     ]
    },
    {
     "data": {
      "text/plain": [
       "array([[2252,    4],\n",
       "       [ 801,    9]], dtype=int64)"
      ]
     },
     "metadata": {},
     "output_type": "display_data"
    },
    {
     "name": "stdout",
     "output_type": "stream",
     "text": [
      "Cross Val:\n",
      "Acc: 0.7532626427406199\n",
      "Precision: 0.35592692004885856\n",
      "Recall: 0.036492046379617615\n",
      "f1: 0.0578136414447997\n",
      "ROC AUC: 0.6829814738702772\n",
      "\n",
      "Model: ExtraTreeClassifier(max_depth=10, random_state=0)\n",
      "\n"
     ]
    },
    {
     "data": {
      "text/plain": [
       "array([[2035,  221],\n",
       "       [ 493,  317]], dtype=int64)"
      ]
     },
     "metadata": {},
     "output_type": "display_data"
    },
    {
     "name": "stdout",
     "output_type": "stream",
     "text": [
      "Cross Val:\n",
      "Acc: 0.7715334420880914\n",
      "Precision: 0.5503814427680177\n",
      "Recall: 0.3762678488922136\n",
      "f1: 0.44511288970253327\n",
      "ROC AUC: 0.7512224208172922\n",
      "\n",
      "Model: ExtraTreeClassifier(max_depth=10, random_state=0)\n",
      "\n"
     ]
    },
    {
     "data": {
      "text/plain": [
       "array([[2035,  221],\n",
       "       [ 493,  317]], dtype=int64)"
      ]
     },
     "metadata": {},
     "output_type": "display_data"
    },
    {
     "name": "stdout",
     "output_type": "stream",
     "text": [
      "Cross Val:\n",
      "Acc: 0.7715334420880914\n",
      "Precision: 0.5503814427680177\n",
      "Recall: 0.3762678488922136\n",
      "f1: 0.44511288970253327\n",
      "ROC AUC: 0.7512224208172922\n",
      "\n",
      "Model: ExtraTreeClassifier(max_depth=15, random_state=0)\n",
      "\n"
     ]
    },
    {
     "data": {
      "text/plain": [
       "array([[2002,  254],\n",
       "       [ 507,  303]], dtype=int64)"
      ]
     },
     "metadata": {},
     "output_type": "display_data"
    },
    {
     "name": "stdout",
     "output_type": "stream",
     "text": [
      "Cross Val:\n",
      "Acc: 0.7563621533442089\n",
      "Precision: 0.5054858766905705\n",
      "Recall: 0.39382301819541926\n",
      "f1: 0.44189975803015286\n",
      "ROC AUC: 0.7032021026198603\n",
      "\n",
      "Model: ExtraTreeClassifier(max_depth=15, random_state=0)\n",
      "\n"
     ]
    },
    {
     "data": {
      "text/plain": [
       "array([[2002,  254],\n",
       "       [ 507,  303]], dtype=int64)"
      ]
     },
     "metadata": {},
     "output_type": "display_data"
    },
    {
     "name": "stdout",
     "output_type": "stream",
     "text": [
      "Cross Val:\n",
      "Acc: 0.7563621533442089\n",
      "Precision: 0.5054858766905705\n",
      "Recall: 0.39382301819541926\n",
      "f1: 0.44189975803015286\n",
      "ROC AUC: 0.7032021026198603\n",
      "\n",
      "Model: ExtraTreeClassifier(max_depth=20, random_state=0)\n",
      "\n"
     ]
    },
    {
     "data": {
      "text/plain": [
       "array([[1915,  341],\n",
       "       [ 430,  380]], dtype=int64)"
      ]
     },
     "metadata": {},
     "output_type": "display_data"
    },
    {
     "name": "stdout",
     "output_type": "stream",
     "text": [
      "Cross Val:\n",
      "Acc: 0.7419249592169658\n",
      "Precision: 0.47155061349026556\n",
      "Recall: 0.4080955314514532\n",
      "f1: 0.43706374250608554\n",
      "ROC AUC: 0.6710073861842305\n",
      "\n",
      "Model: ExtraTreeClassifier(max_depth=20, random_state=0)\n",
      "\n"
     ]
    },
    {
     "data": {
      "text/plain": [
       "array([[1915,  341],\n",
       "       [ 430,  380]], dtype=int64)"
      ]
     },
     "metadata": {},
     "output_type": "display_data"
    },
    {
     "name": "stdout",
     "output_type": "stream",
     "text": [
      "Cross Val:\n",
      "Acc: 0.7419249592169658\n",
      "Precision: 0.47155061349026556\n",
      "Recall: 0.4080955314514532\n",
      "f1: 0.43706374250608554\n",
      "ROC AUC: 0.6710073861842305\n",
      "\n",
      "Model: ExtraTreeClassifier(max_depth=25, random_state=0)\n",
      "\n"
     ]
    },
    {
     "data": {
      "text/plain": [
       "array([[1879,  377],\n",
       "       [ 466,  344]], dtype=int64)"
      ]
     },
     "metadata": {},
     "output_type": "display_data"
    },
    {
     "name": "stdout",
     "output_type": "stream",
     "text": [
      "Cross Val:\n",
      "Acc: 0.7205546492659055\n",
      "Precision: 0.4293796203506156\n",
      "Recall: 0.4137246705243009\n",
      "f1: 0.42127948617796046\n",
      "ROC AUC: 0.6350517218856584\n",
      "\n",
      "Model: ExtraTreeClassifier(max_depth=25, random_state=0)\n",
      "\n"
     ]
    },
    {
     "data": {
      "text/plain": [
       "array([[1879,  377],\n",
       "       [ 466,  344]], dtype=int64)"
      ]
     },
     "metadata": {},
     "output_type": "display_data"
    },
    {
     "name": "stdout",
     "output_type": "stream",
     "text": [
      "Cross Val:\n",
      "Acc: 0.7205546492659055\n",
      "Precision: 0.4293796203506156\n",
      "Recall: 0.4137246705243009\n",
      "f1: 0.42127948617796046\n",
      "ROC AUC: 0.6350517218856584\n",
      "\n",
      "Model: ExtraTreeClassifier(max_depth=30, random_state=0)\n",
      "\n"
     ]
    },
    {
     "data": {
      "text/plain": [
       "array([[1868,  388],\n",
       "       [ 487,  323]], dtype=int64)"
      ]
     },
     "metadata": {},
     "output_type": "display_data"
    },
    {
     "name": "stdout",
     "output_type": "stream",
     "text": [
      "Cross Val:\n",
      "Acc: 0.716231647634584\n",
      "Precision: 0.4234691897118802\n",
      "Recall: 0.426338254383842\n",
      "f1: 0.424840370886218\n",
      "ROC AUC: 0.6231381136647577\n",
      "\n",
      "Model: ExtraTreeClassifier(max_depth=30, random_state=0)\n",
      "\n"
     ]
    },
    {
     "data": {
      "text/plain": [
       "array([[1868,  388],\n",
       "       [ 487,  323]], dtype=int64)"
      ]
     },
     "metadata": {},
     "output_type": "display_data"
    },
    {
     "name": "stdout",
     "output_type": "stream",
     "text": [
      "Cross Val:\n",
      "Acc: 0.716231647634584\n",
      "Precision: 0.4234691897118802\n",
      "Recall: 0.426338254383842\n",
      "f1: 0.424840370886218\n",
      "ROC AUC: 0.6231381136647577\n",
      "\n",
      "Model: ExtraTreeClassifier(max_depth=35, random_state=0)\n",
      "\n"
     ]
    },
    {
     "data": {
      "text/plain": [
       "array([[1860,  396],\n",
       "       [ 461,  349]], dtype=int64)"
      ]
     },
     "metadata": {},
     "output_type": "display_data"
    },
    {
     "name": "stdout",
     "output_type": "stream",
     "text": [
      "Cross Val:\n",
      "Acc: 0.7138662316476345\n",
      "Precision: 0.41897328911753934\n",
      "Recall: 0.42268046907658796\n",
      "f1: 0.4206055683055655\n",
      "ROC AUC: 0.6172761223393444\n",
      "\n",
      "Model: ExtraTreeClassifier(max_depth=35, random_state=0)\n",
      "\n"
     ]
    },
    {
     "data": {
      "text/plain": [
       "array([[1860,  396],\n",
       "       [ 461,  349]], dtype=int64)"
      ]
     },
     "metadata": {},
     "output_type": "display_data"
    },
    {
     "name": "stdout",
     "output_type": "stream",
     "text": [
      "Cross Val:\n",
      "Acc: 0.7138662316476345\n",
      "Precision: 0.41897328911753934\n",
      "Recall: 0.42268046907658796\n",
      "f1: 0.4206055683055655\n",
      "ROC AUC: 0.6172761223393444\n",
      "\n",
      "Model: ExtraTreeClassifier(max_depth=40, random_state=0)\n",
      "\n"
     ]
    },
    {
     "data": {
      "text/plain": [
       "array([[1840,  416],\n",
       "       [ 457,  353]], dtype=int64)"
      ]
     },
     "metadata": {},
     "output_type": "display_data"
    },
    {
     "name": "stdout",
     "output_type": "stream",
     "text": [
      "Cross Val:\n",
      "Acc: 0.715905383360522\n",
      "Precision: 0.42413918389469163\n",
      "Recall: 0.4349552265076676\n",
      "f1: 0.42930798365885814\n",
      "ROC AUC: 0.6234226343483621\n",
      "\n",
      "Model: ExtraTreeClassifier(max_depth=40, random_state=0)\n",
      "\n"
     ]
    },
    {
     "data": {
      "text/plain": [
       "array([[1840,  416],\n",
       "       [ 457,  353]], dtype=int64)"
      ]
     },
     "metadata": {},
     "output_type": "display_data"
    },
    {
     "name": "stdout",
     "output_type": "stream",
     "text": [
      "Cross Val:\n",
      "Acc: 0.715905383360522\n",
      "Precision: 0.42413918389469163\n",
      "Recall: 0.4349552265076676\n",
      "f1: 0.42930798365885814\n",
      "ROC AUC: 0.6234226343483621\n",
      "\n",
      "Model: ExtraTreeClassifier(max_depth=45, random_state=0)\n",
      "\n"
     ]
    },
    {
     "data": {
      "text/plain": [
       "array([[1840,  416],\n",
       "       [ 457,  353]], dtype=int64)"
      ]
     },
     "metadata": {},
     "output_type": "display_data"
    },
    {
     "name": "stdout",
     "output_type": "stream",
     "text": [
      "Cross Val:\n",
      "Acc: 0.715905383360522\n",
      "Precision: 0.42413918389469163\n",
      "Recall: 0.4349552265076676\n",
      "f1: 0.42930798365885814\n",
      "ROC AUC: 0.6234226343483621\n",
      "\n",
      "Model: ExtraTreeClassifier(max_depth=45, random_state=0)\n",
      "\n"
     ]
    },
    {
     "data": {
      "text/plain": [
       "array([[1840,  416],\n",
       "       [ 457,  353]], dtype=int64)"
      ]
     },
     "metadata": {},
     "output_type": "display_data"
    },
    {
     "name": "stdout",
     "output_type": "stream",
     "text": [
      "Cross Val:\n",
      "Acc: 0.715905383360522\n",
      "Precision: 0.42413918389469163\n",
      "Recall: 0.4349552265076676\n",
      "f1: 0.42930798365885814\n",
      "ROC AUC: 0.6234226343483621\n",
      "\n",
      "Model: ExtraTreeClassifier(max_depth=5, random_state=0)\n",
      "\n"
     ]
    },
    {
     "data": {
      "text/plain": [
       "array([[2034,  222],\n",
       "       [ 546,  264]], dtype=int64)"
      ]
     },
     "metadata": {},
     "output_type": "display_data"
    },
    {
     "name": "stdout",
     "output_type": "stream",
     "text": [
      "Cross Val:\n",
      "Acc: 0.7656606851549755\n",
      "Precision: 0.5375754002711366\n",
      "Recall: 0.2903478471320763\n",
      "f1: 0.36182809288071704\n",
      "ROC AUC: 0.7447140202476334\n",
      "\n",
      "Model: ExtraTreeClassifier(max_depth=5, random_state=0)\n",
      "\n"
     ]
    },
    {
     "data": {
      "text/plain": [
       "array([[2034,  222],\n",
       "       [ 546,  264]], dtype=int64)"
      ]
     },
     "metadata": {},
     "output_type": "display_data"
    },
    {
     "name": "stdout",
     "output_type": "stream",
     "text": [
      "Cross Val:\n",
      "Acc: 0.7656606851549755\n",
      "Precision: 0.5375754002711366\n",
      "Recall: 0.2903478471320763\n",
      "f1: 0.36182809288071704\n",
      "ROC AUC: 0.7447140202476334\n",
      "\n",
      "Model: ExtraTreeClassifier(max_depth=10, random_state=0)\n",
      "\n"
     ]
    },
    {
     "data": {
      "text/plain": [
       "array([[2027,  229],\n",
       "       [ 520,  290]], dtype=int64)"
      ]
     },
     "metadata": {},
     "output_type": "display_data"
    },
    {
     "name": "stdout",
     "output_type": "stream",
     "text": [
      "Cross Val:\n",
      "Acc: 0.7738172920065252\n",
      "Precision: 0.5649256465409664\n",
      "Recall: 0.344762491474335\n",
      "f1: 0.4264581400683107\n",
      "ROC AUC: 0.752668650596188\n",
      "\n",
      "Model: ExtraTreeClassifier(max_depth=10, random_state=0)\n",
      "\n"
     ]
    },
    {
     "data": {
      "text/plain": [
       "array([[2027,  229],\n",
       "       [ 520,  290]], dtype=int64)"
      ]
     },
     "metadata": {},
     "output_type": "display_data"
    },
    {
     "name": "stdout",
     "output_type": "stream",
     "text": [
      "Cross Val:\n",
      "Acc: 0.7738172920065252\n",
      "Precision: 0.5649256465409664\n",
      "Recall: 0.344762491474335\n",
      "f1: 0.4264581400683107\n",
      "ROC AUC: 0.752668650596188\n",
      "\n",
      "Model: ExtraTreeClassifier(max_depth=15, random_state=0)\n",
      "\n"
     ]
    },
    {
     "data": {
      "text/plain": [
       "array([[1960,  296],\n",
       "       [ 487,  323]], dtype=int64)"
      ]
     },
     "metadata": {},
     "output_type": "display_data"
    },
    {
     "name": "stdout",
     "output_type": "stream",
     "text": [
      "Cross Val:\n",
      "Acc: 0.765905383360522\n",
      "Precision: 0.530639461589444\n",
      "Recall: 0.4057831510857846\n",
      "f1: 0.45943412949896756\n",
      "ROC AUC: 0.7189723268775324\n",
      "\n",
      "Model: ExtraTreeClassifier(max_depth=15, random_state=0)\n",
      "\n"
     ]
    },
    {
     "data": {
      "text/plain": [
       "array([[1960,  296],\n",
       "       [ 487,  323]], dtype=int64)"
      ]
     },
     "metadata": {},
     "output_type": "display_data"
    },
    {
     "name": "stdout",
     "output_type": "stream",
     "text": [
      "Cross Val:\n",
      "Acc: 0.765905383360522\n",
      "Precision: 0.530639461589444\n",
      "Recall: 0.4057831510857846\n",
      "f1: 0.45943412949896756\n",
      "ROC AUC: 0.7189723268775324\n",
      "\n",
      "Model: ExtraTreeClassifier(max_depth=20, random_state=0)\n",
      "\n"
     ]
    },
    {
     "data": {
      "text/plain": [
       "array([[1888,  368],\n",
       "       [ 449,  361]], dtype=int64)"
      ]
     },
     "metadata": {},
     "output_type": "display_data"
    },
    {
     "name": "stdout",
     "output_type": "stream",
     "text": [
      "Cross Val:\n",
      "Acc: 0.7465742251223491\n",
      "Precision: 0.48282401135580455\n",
      "Recall: 0.42899606169281207\n",
      "f1: 0.4541986213870707\n",
      "ROC AUC: 0.6755679578772911\n",
      "\n",
      "Model: ExtraTreeClassifier(max_depth=20, random_state=0)\n",
      "\n"
     ]
    },
    {
     "data": {
      "text/plain": [
       "array([[1888,  368],\n",
       "       [ 449,  361]], dtype=int64)"
      ]
     },
     "metadata": {},
     "output_type": "display_data"
    },
    {
     "name": "stdout",
     "output_type": "stream",
     "text": [
      "Cross Val:\n",
      "Acc: 0.7465742251223491\n",
      "Precision: 0.48282401135580455\n",
      "Recall: 0.42899606169281207\n",
      "f1: 0.4541986213870707\n",
      "ROC AUC: 0.6755679578772911\n",
      "\n",
      "Model: ExtraTreeClassifier(max_depth=25, random_state=0)\n",
      "\n"
     ]
    },
    {
     "data": {
      "text/plain": [
       "array([[1866,  390],\n",
       "       [ 478,  332]], dtype=int64)"
      ]
     },
     "metadata": {},
     "output_type": "display_data"
    },
    {
     "name": "stdout",
     "output_type": "stream",
     "text": [
      "Cross Val:\n",
      "Acc: 0.730831973898858\n",
      "Precision: 0.4517782653059871\n",
      "Recall: 0.4343061758817188\n",
      "f1: 0.44233991036044273\n",
      "ROC AUC: 0.643543962005613\n",
      "\n",
      "Model: ExtraTreeClassifier(max_depth=25, random_state=0)\n",
      "\n"
     ]
    },
    {
     "data": {
      "text/plain": [
       "array([[1866,  390],\n",
       "       [ 478,  332]], dtype=int64)"
      ]
     },
     "metadata": {},
     "output_type": "display_data"
    },
    {
     "name": "stdout",
     "output_type": "stream",
     "text": [
      "Cross Val:\n",
      "Acc: 0.730831973898858\n",
      "Precision: 0.4517782653059871\n",
      "Recall: 0.4343061758817188\n",
      "f1: 0.44233991036044273\n",
      "ROC AUC: 0.643543962005613\n",
      "\n",
      "Model: ExtraTreeClassifier(max_depth=30, random_state=0)\n",
      "\n"
     ]
    },
    {
     "data": {
      "text/plain": [
       "array([[1845,  411],\n",
       "       [ 486,  324]], dtype=int64)"
      ]
     },
     "metadata": {},
     "output_type": "display_data"
    },
    {
     "name": "stdout",
     "output_type": "stream",
     "text": [
      "Cross Val:\n",
      "Acc: 0.717699836867863\n",
      "Precision: 0.42618306779848314\n",
      "Recall: 0.4276737585531671\n",
      "f1: 0.4267291611102014\n",
      "ROC AUC: 0.625684185294381\n",
      "\n",
      "Model: ExtraTreeClassifier(max_depth=30, random_state=0)\n",
      "\n"
     ]
    },
    {
     "data": {
      "text/plain": [
       "array([[1845,  411],\n",
       "       [ 486,  324]], dtype=int64)"
      ]
     },
     "metadata": {},
     "output_type": "display_data"
    },
    {
     "name": "stdout",
     "output_type": "stream",
     "text": [
      "Cross Val:\n",
      "Acc: 0.717699836867863\n",
      "Precision: 0.42618306779848314\n",
      "Recall: 0.4276737585531671\n",
      "f1: 0.4267291611102014\n",
      "ROC AUC: 0.625684185294381\n",
      "\n",
      "Model: ExtraTreeClassifier(max_depth=35, random_state=0)\n",
      "\n"
     ]
    },
    {
     "data": {
      "text/plain": [
       "array([[1822,  434],\n",
       "       [ 469,  341]], dtype=int64)"
      ]
     },
     "metadata": {},
     "output_type": "display_data"
    },
    {
     "name": "stdout",
     "output_type": "stream",
     "text": [
      "Cross Val:\n",
      "Acc: 0.7267536704730831\n",
      "Precision: 0.44487802017614025\n",
      "Recall: 0.44395062814899566\n",
      "f1: 0.444022384670531\n",
      "ROC AUC: 0.6331127991586948\n",
      "\n",
      "Model: ExtraTreeClassifier(max_depth=35, random_state=0)\n",
      "\n"
     ]
    },
    {
     "data": {
      "text/plain": [
       "array([[1822,  434],\n",
       "       [ 469,  341]], dtype=int64)"
      ]
     },
     "metadata": {},
     "output_type": "display_data"
    },
    {
     "name": "stdout",
     "output_type": "stream",
     "text": [
      "Cross Val:\n",
      "Acc: 0.7267536704730831\n",
      "Precision: 0.44487802017614025\n",
      "Recall: 0.44395062814899566\n",
      "f1: 0.444022384670531\n",
      "ROC AUC: 0.6331127991586948\n",
      "\n",
      "Model: ExtraTreeClassifier(max_depth=40, random_state=0)\n",
      "\n"
     ]
    },
    {
     "data": {
      "text/plain": [
       "array([[1811,  445],\n",
       "       [ 468,  342]], dtype=int64)"
      ]
     },
     "metadata": {},
     "output_type": "display_data"
    },
    {
     "name": "stdout",
     "output_type": "stream",
     "text": [
      "Cross Val:\n",
      "Acc: 0.7214518760195758\n",
      "Precision: 0.4326029957074242\n",
      "Recall: 0.4276935600976876\n",
      "f1: 0.4298920302772157\n",
      "ROC AUC: 0.6251758599017572\n",
      "\n",
      "Model: ExtraTreeClassifier(max_depth=40, random_state=0)\n",
      "\n"
     ]
    },
    {
     "data": {
      "text/plain": [
       "array([[1811,  445],\n",
       "       [ 468,  342]], dtype=int64)"
      ]
     },
     "metadata": {},
     "output_type": "display_data"
    },
    {
     "name": "stdout",
     "output_type": "stream",
     "text": [
      "Cross Val:\n",
      "Acc: 0.7214518760195758\n",
      "Precision: 0.4326029957074242\n",
      "Recall: 0.4276935600976876\n",
      "f1: 0.4298920302772157\n",
      "ROC AUC: 0.6251758599017572\n",
      "\n",
      "Model: ExtraTreeClassifier(max_depth=45, random_state=0)\n",
      "\n"
     ]
    },
    {
     "data": {
      "text/plain": [
       "array([[1811,  445],\n",
       "       [ 468,  342]], dtype=int64)"
      ]
     },
     "metadata": {},
     "output_type": "display_data"
    },
    {
     "name": "stdout",
     "output_type": "stream",
     "text": [
      "Cross Val:\n",
      "Acc: 0.720636215334421\n",
      "Precision: 0.43145107931447946\n",
      "Recall: 0.4280125849816286\n",
      "f1: 0.42950758228829483\n",
      "ROC AUC: 0.6246517223433519\n",
      "\n",
      "Model: ExtraTreeClassifier(max_depth=45, random_state=0)\n",
      "\n"
     ]
    },
    {
     "data": {
      "text/plain": [
       "array([[1811,  445],\n",
       "       [ 468,  342]], dtype=int64)"
      ]
     },
     "metadata": {},
     "output_type": "display_data"
    },
    {
     "name": "stdout",
     "output_type": "stream",
     "text": [
      "Cross Val:\n",
      "Acc: 0.720636215334421\n",
      "Precision: 0.43145107931447946\n",
      "Recall: 0.4280125849816286\n",
      "f1: 0.42950758228829483\n",
      "ROC AUC: 0.6246517223433519\n"
     ]
    }
   ],
   "source": [
    "#Model Test                                   \n",
    "for scale in [True,False]:\n",
    "    for normalize in [True,False]:   \n",
    "        \n",
    "        #Extracting and Cleaning Data\n",
    "        data_cleaned = Data_Cleaning(pd.read_csv('z_train.csv'), \n",
    "                                     scale = scale, \n",
    "                                     normalize = normalize)\n",
    "        \n",
    "        #Train, Test Split\n",
    "        X = data_cleaned.drop(['target','enrollee_id'], axis = 1) \n",
    "        y = data_cleaned['target']\n",
    "        X_train, X_test, y_train, y_test = train_test_split(X, y, \n",
    "                                                            test_size=0.2)\n",
    "\n",
    "        X_train_fs_chi, X_test_fs_chi = select_features(X_train, y_train, X_test, \n",
    "                                                        chi2, \n",
    "                                                        k = k_chi)\n",
    "        X_train_fs_mic, X_test_fs_mic = select_features(X_train, y_train, X_test, \n",
    "                                                        mutual_info_classif, \n",
    "                                                        k = k_mic)\n",
    "                \n",
    "        for max_depth in np.arange(5,50,5):\n",
    "            a = ModelTest(ExtraTreeClassifier(max_depth=max_depth,\n",
    "                                              random_state=0), #Model    \n",
    "                          X_train = X_train_fs_chi, X_test = X_test_fs_chi,\n",
    "                          y_train = y_train, y_test = y_test,\n",
    "                          typ = 'chi',\n",
    "                          k = k_chi)\n",
    "            metricss.append((a, \"scale: \" + str(scale), \"normalize:\" + str(normalize)))\n",
    "\n",
    "            a = ModelTest(ExtraTreeClassifier(max_depth=max_depth,\n",
    "                                              random_state=0), #Model          \n",
    "                          X_train = X_train_fs_mic, X_test = X_test_fs_mic,  #Best\n",
    "                          y_train = y_train, y_test = y_test,\n",
    "                          typ = 'mic',\n",
    "                          k = k_mic)\n",
    "            metricss.append((a, \"scale: \" + str(scale), \"normalize:\" + str(normalize)))"
   ]
  },
  {
   "cell_type": "code",
   "execution_count": 30,
   "metadata": {
    "scrolled": true
   },
   "outputs": [
    {
     "name": "stdout",
     "output_type": "stream",
     "text": [
      "\n",
      "Model: DecisionTreeClassifier(max_depth=5, random_state=0)\n",
      "\n"
     ]
    },
    {
     "data": {
      "text/plain": [
       "array([[2012,  293],\n",
       "       [ 353,  408]], dtype=int64)"
      ]
     },
     "metadata": {},
     "output_type": "display_data"
    },
    {
     "name": "stdout",
     "output_type": "stream",
     "text": [
      "Cross Val:\n",
      "Acc: 0.7753670473083197\n",
      "Precision: 0.5640107440707743\n",
      "Recall: 0.4518979796044368\n",
      "f1: 0.4991164764797656\n",
      "ROC AUC: 0.7741251786748082\n",
      "\n",
      "Model: DecisionTreeClassifier(max_depth=5, random_state=0)\n",
      "\n"
     ]
    },
    {
     "data": {
      "text/plain": [
       "array([[2012,  293],\n",
       "       [ 353,  408]], dtype=int64)"
      ]
     },
     "metadata": {},
     "output_type": "display_data"
    },
    {
     "name": "stdout",
     "output_type": "stream",
     "text": [
      "Cross Val:\n",
      "Acc: 0.7753670473083197\n",
      "Precision: 0.5640107440707743\n",
      "Recall: 0.4518979796044368\n",
      "f1: 0.4991164764797656\n",
      "ROC AUC: 0.7741251786748082\n",
      "\n",
      "Model: DecisionTreeClassifier(max_depth=10, random_state=0)\n",
      "\n"
     ]
    },
    {
     "data": {
      "text/plain": [
       "array([[1931,  374],\n",
       "       [ 311,  450]], dtype=int64)"
      ]
     },
     "metadata": {},
     "output_type": "display_data"
    },
    {
     "name": "stdout",
     "output_type": "stream",
     "text": [
      "Cross Val:\n",
      "Acc: 0.767373572593801\n",
      "Precision: 0.5372132578362188\n",
      "Recall: 0.49428690042792356\n",
      "f1: 0.5146168153000702\n",
      "ROC AUC: 0.7368032543480048\n",
      "\n",
      "Model: DecisionTreeClassifier(max_depth=10, random_state=0)\n",
      "\n"
     ]
    },
    {
     "data": {
      "text/plain": [
       "array([[1931,  374],\n",
       "       [ 311,  450]], dtype=int64)"
      ]
     },
     "metadata": {},
     "output_type": "display_data"
    },
    {
     "name": "stdout",
     "output_type": "stream",
     "text": [
      "Cross Val:\n",
      "Acc: 0.767373572593801\n",
      "Precision: 0.5372132578362188\n",
      "Recall: 0.49428690042792356\n",
      "f1: 0.5146168153000702\n",
      "ROC AUC: 0.7368032543480048\n",
      "\n",
      "Model: DecisionTreeClassifier(max_depth=15, random_state=0)\n",
      "\n"
     ]
    },
    {
     "data": {
      "text/plain": [
       "array([[1922,  383],\n",
       "       [ 387,  374]], dtype=int64)"
      ]
     },
     "metadata": {},
     "output_type": "display_data"
    },
    {
     "name": "stdout",
     "output_type": "stream",
     "text": [
      "Cross Val:\n",
      "Acc: 0.7378466557911909\n",
      "Precision: 0.474584654701276\n",
      "Recall: 0.45382257137382637\n",
      "f1: 0.46357727890000255\n",
      "ROC AUC: 0.6582527961139963\n",
      "\n",
      "Model: DecisionTreeClassifier(max_depth=15, random_state=0)\n",
      "\n"
     ]
    },
    {
     "data": {
      "text/plain": [
       "array([[1922,  383],\n",
       "       [ 387,  374]], dtype=int64)"
      ]
     },
     "metadata": {},
     "output_type": "display_data"
    },
    {
     "name": "stdout",
     "output_type": "stream",
     "text": [
      "Cross Val:\n",
      "Acc: 0.7378466557911909\n",
      "Precision: 0.474584654701276\n",
      "Recall: 0.45382257137382637\n",
      "f1: 0.46357727890000255\n",
      "ROC AUC: 0.6582527961139963\n",
      "\n",
      "Model: DecisionTreeClassifier(max_depth=20, random_state=0)\n",
      "\n"
     ]
    },
    {
     "data": {
      "text/plain": [
       "array([[1885,  420],\n",
       "       [ 408,  353]], dtype=int64)"
      ]
     },
     "metadata": {},
     "output_type": "display_data"
    },
    {
     "name": "stdout",
     "output_type": "stream",
     "text": [
      "Cross Val:\n",
      "Acc: 0.7179445350734095\n",
      "Precision: 0.4367559295566851\n",
      "Recall: 0.44074748248919543\n",
      "f1: 0.43843352581873296\n",
      "ROC AUC: 0.6310884169588757\n",
      "\n",
      "Model: DecisionTreeClassifier(max_depth=20, random_state=0)\n",
      "\n"
     ]
    },
    {
     "data": {
      "text/plain": [
       "array([[1885,  420],\n",
       "       [ 408,  353]], dtype=int64)"
      ]
     },
     "metadata": {},
     "output_type": "display_data"
    },
    {
     "name": "stdout",
     "output_type": "stream",
     "text": [
      "Cross Val:\n",
      "Acc: 0.7179445350734095\n",
      "Precision: 0.4367559295566851\n",
      "Recall: 0.44074748248919543\n",
      "f1: 0.43843352581873296\n",
      "ROC AUC: 0.6310884169588757\n",
      "\n",
      "Model: DecisionTreeClassifier(max_depth=25, random_state=0)\n",
      "\n"
     ]
    },
    {
     "data": {
      "text/plain": [
       "array([[1861,  444],\n",
       "       [ 419,  342]], dtype=int64)"
      ]
     },
     "metadata": {},
     "output_type": "display_data"
    },
    {
     "name": "stdout",
     "output_type": "stream",
     "text": [
      "Cross Val:\n",
      "Acc: 0.7080750407830342\n",
      "Precision: 0.4186519517839936\n",
      "Recall: 0.43127248727938516\n",
      "f1: 0.424458928995094\n",
      "ROC AUC: 0.6242277759435945\n",
      "\n",
      "Model: DecisionTreeClassifier(max_depth=25, random_state=0)\n",
      "\n"
     ]
    },
    {
     "data": {
      "text/plain": [
       "array([[1861,  444],\n",
       "       [ 419,  342]], dtype=int64)"
      ]
     },
     "metadata": {},
     "output_type": "display_data"
    },
    {
     "name": "stdout",
     "output_type": "stream",
     "text": [
      "Cross Val:\n",
      "Acc: 0.7080750407830342\n",
      "Precision: 0.4186519517839936\n",
      "Recall: 0.43127248727938516\n",
      "f1: 0.424458928995094\n",
      "ROC AUC: 0.6242277759435945\n",
      "\n",
      "Model: DecisionTreeClassifier(max_depth=30, random_state=0)\n",
      "\n"
     ]
    },
    {
     "data": {
      "text/plain": [
       "array([[1865,  440],\n",
       "       [ 428,  333]], dtype=int64)"
      ]
     },
     "metadata": {},
     "output_type": "display_data"
    },
    {
     "name": "stdout",
     "output_type": "stream",
     "text": [
      "Cross Val:\n",
      "Acc: 0.7102773246329528\n",
      "Precision: 0.4236414598681882\n",
      "Recall: 0.4404206851035745\n",
      "f1: 0.43151645618905876\n",
      "ROC AUC: 0.62336429201571\n",
      "\n",
      "Model: DecisionTreeClassifier(max_depth=30, random_state=0)\n",
      "\n"
     ]
    },
    {
     "data": {
      "text/plain": [
       "array([[1865,  440],\n",
       "       [ 428,  333]], dtype=int64)"
      ]
     },
     "metadata": {},
     "output_type": "display_data"
    },
    {
     "name": "stdout",
     "output_type": "stream",
     "text": [
      "Cross Val:\n",
      "Acc: 0.7102773246329528\n",
      "Precision: 0.4236414598681882\n",
      "Recall: 0.4404206851035745\n",
      "f1: 0.43151645618905876\n",
      "ROC AUC: 0.62336429201571\n",
      "\n",
      "Model: DecisionTreeClassifier(max_depth=35, random_state=0)\n",
      "\n"
     ]
    },
    {
     "data": {
      "text/plain": [
       "array([[1860,  445],\n",
       "       [ 426,  335]], dtype=int64)"
      ]
     },
     "metadata": {},
     "output_type": "display_data"
    },
    {
     "name": "stdout",
     "output_type": "stream",
     "text": [
      "Cross Val:\n",
      "Acc: 0.7092985318107667\n",
      "Precision: 0.4221831090619735\n",
      "Recall: 0.4394413574333099\n",
      "f1: 0.43027848184195766\n",
      "ROC AUC: 0.6226752522952342\n",
      "\n",
      "Model: DecisionTreeClassifier(max_depth=35, random_state=0)\n",
      "\n"
     ]
    },
    {
     "data": {
      "text/plain": [
       "array([[1860,  445],\n",
       "       [ 426,  335]], dtype=int64)"
      ]
     },
     "metadata": {},
     "output_type": "display_data"
    },
    {
     "name": "stdout",
     "output_type": "stream",
     "text": [
      "Cross Val:\n",
      "Acc: 0.7092985318107667\n",
      "Precision: 0.4221831090619735\n",
      "Recall: 0.4394413574333099\n",
      "f1: 0.43027848184195766\n",
      "ROC AUC: 0.6226752522952342\n",
      "\n",
      "Model: DecisionTreeClassifier(max_depth=40, random_state=0)\n",
      "\n"
     ]
    },
    {
     "data": {
      "text/plain": [
       "array([[1859,  446],\n",
       "       [ 426,  335]], dtype=int64)"
      ]
     },
     "metadata": {},
     "output_type": "display_data"
    },
    {
     "name": "stdout",
     "output_type": "stream",
     "text": [
      "Cross Val:\n",
      "Acc: 0.7091353996737357\n",
      "Precision: 0.42168616954670934\n",
      "Recall: 0.43976815481893083\n",
      "f1: 0.4302036249389637\n",
      "ROC AUC: 0.6218213870395694\n",
      "\n",
      "Model: DecisionTreeClassifier(max_depth=40, random_state=0)\n",
      "\n"
     ]
    },
    {
     "data": {
      "text/plain": [
       "array([[1859,  446],\n",
       "       [ 426,  335]], dtype=int64)"
      ]
     },
     "metadata": {},
     "output_type": "display_data"
    },
    {
     "name": "stdout",
     "output_type": "stream",
     "text": [
      "Cross Val:\n",
      "Acc: 0.7091353996737357\n",
      "Precision: 0.42168616954670934\n",
      "Recall: 0.43976815481893083\n",
      "f1: 0.4302036249389637\n",
      "ROC AUC: 0.6218213870395694\n",
      "\n",
      "Model: DecisionTreeClassifier(max_depth=45, random_state=0)\n",
      "\n"
     ]
    },
    {
     "data": {
      "text/plain": [
       "array([[1859,  446],\n",
       "       [ 426,  335]], dtype=int64)"
      ]
     },
     "metadata": {},
     "output_type": "display_data"
    },
    {
     "name": "stdout",
     "output_type": "stream",
     "text": [
      "Cross Val:\n",
      "Acc: 0.7090538336052201\n",
      "Precision: 0.4215212547526862\n",
      "Recall: 0.439442421919908\n",
      "f1: 0.4299671253206413\n",
      "ROC AUC: 0.6216581661472952\n",
      "\n",
      "Model: DecisionTreeClassifier(max_depth=45, random_state=0)\n",
      "\n"
     ]
    },
    {
     "data": {
      "text/plain": [
       "array([[1859,  446],\n",
       "       [ 426,  335]], dtype=int64)"
      ]
     },
     "metadata": {},
     "output_type": "display_data"
    },
    {
     "name": "stdout",
     "output_type": "stream",
     "text": [
      "Cross Val:\n",
      "Acc: 0.7090538336052201\n",
      "Precision: 0.4215212547526862\n",
      "Recall: 0.439442421919908\n",
      "f1: 0.4299671253206413\n",
      "ROC AUC: 0.6216581661472952\n",
      "\n",
      "Model: DecisionTreeClassifier(max_depth=5, random_state=0)\n",
      "\n"
     ]
    },
    {
     "data": {
      "text/plain": [
       "array([[2117,  190],\n",
       "       [ 478,  281]], dtype=int64)"
      ]
     },
     "metadata": {},
     "output_type": "display_data"
    },
    {
     "name": "stdout",
     "output_type": "stream",
     "text": [
      "Cross Val:\n",
      "Acc: 0.7774061990212071\n",
      "Precision: 0.5724061559840556\n",
      "Recall: 0.44173639053884306\n",
      "f1: 0.49604815020113036\n",
      "ROC AUC: 0.7785303134206614\n",
      "\n",
      "Model: DecisionTreeClassifier(max_depth=5, random_state=0)\n",
      "\n"
     ]
    },
    {
     "data": {
      "text/plain": [
       "array([[2117,  190],\n",
       "       [ 478,  281]], dtype=int64)"
      ]
     },
     "metadata": {},
     "output_type": "display_data"
    },
    {
     "name": "stdout",
     "output_type": "stream",
     "text": [
      "Cross Val:\n",
      "Acc: 0.7774061990212071\n",
      "Precision: 0.5724061559840556\n",
      "Recall: 0.44173639053884306\n",
      "f1: 0.49604815020113036\n",
      "ROC AUC: 0.7785303134206614\n",
      "\n",
      "Model: DecisionTreeClassifier(max_depth=10, random_state=0)\n",
      "\n"
     ]
    },
    {
     "data": {
      "text/plain": [
       "array([[2012,  295],\n",
       "       [ 382,  377]], dtype=int64)"
      ]
     },
     "metadata": {},
     "output_type": "display_data"
    },
    {
     "name": "stdout",
     "output_type": "stream",
     "text": [
      "Cross Val:\n",
      "Acc: 0.770146818923328\n",
      "Precision: 0.5438740786574939\n",
      "Recall: 0.5066583636712014\n",
      "f1: 0.5238944755524356\n",
      "ROC AUC: 0.7364429542000968\n",
      "\n",
      "Model: DecisionTreeClassifier(max_depth=10, random_state=0)\n",
      "\n"
     ]
    },
    {
     "data": {
      "text/plain": [
       "array([[2012,  295],\n",
       "       [ 382,  377]], dtype=int64)"
      ]
     },
     "metadata": {},
     "output_type": "display_data"
    },
    {
     "name": "stdout",
     "output_type": "stream",
     "text": [
      "Cross Val:\n",
      "Acc: 0.770146818923328\n",
      "Precision: 0.5438740786574939\n",
      "Recall: 0.5066583636712014\n",
      "f1: 0.5238944755524356\n",
      "ROC AUC: 0.7364429542000968\n",
      "\n",
      "Model: DecisionTreeClassifier(max_depth=15, random_state=0)\n",
      "\n"
     ]
    },
    {
     "data": {
      "text/plain": [
       "array([[1946,  361],\n",
       "       [ 383,  376]], dtype=int64)"
      ]
     },
     "metadata": {},
     "output_type": "display_data"
    },
    {
     "name": "stdout",
     "output_type": "stream",
     "text": [
      "Cross Val:\n",
      "Acc: 0.7453507340946166\n",
      "Precision: 0.49076573741509943\n",
      "Recall: 0.4675182559451576\n",
      "f1: 0.47845452240239067\n",
      "ROC AUC: 0.6650819280149924\n",
      "\n",
      "Model: DecisionTreeClassifier(max_depth=15, random_state=0)\n",
      "\n"
     ]
    },
    {
     "data": {
      "text/plain": [
       "array([[1946,  361],\n",
       "       [ 383,  376]], dtype=int64)"
      ]
     },
     "metadata": {},
     "output_type": "display_data"
    },
    {
     "name": "stdout",
     "output_type": "stream",
     "text": [
      "Cross Val:\n",
      "Acc: 0.7453507340946166\n",
      "Precision: 0.49076573741509943\n",
      "Recall: 0.4675182559451576\n",
      "f1: 0.47845452240239067\n",
      "ROC AUC: 0.6650819280149924\n",
      "\n",
      "Model: DecisionTreeClassifier(max_depth=20, random_state=0)\n",
      "\n"
     ]
    },
    {
     "data": {
      "text/plain": [
       "array([[1883,  424],\n",
       "       [ 404,  355]], dtype=int64)"
      ]
     },
     "metadata": {},
     "output_type": "display_data"
    },
    {
     "name": "stdout",
     "output_type": "stream",
     "text": [
      "Cross Val:\n",
      "Acc: 0.7222675367047309\n",
      "Precision: 0.4454895082868762\n",
      "Recall: 0.45220987417768405\n",
      "f1: 0.44848003294651545\n",
      "ROC AUC: 0.6322403740183425\n",
      "\n",
      "Model: DecisionTreeClassifier(max_depth=20, random_state=0)\n",
      "\n"
     ]
    },
    {
     "data": {
      "text/plain": [
       "array([[1883,  424],\n",
       "       [ 404,  355]], dtype=int64)"
      ]
     },
     "metadata": {},
     "output_type": "display_data"
    },
    {
     "name": "stdout",
     "output_type": "stream",
     "text": [
      "Cross Val:\n",
      "Acc: 0.7222675367047309\n",
      "Precision: 0.4454895082868762\n",
      "Recall: 0.45220987417768405\n",
      "f1: 0.44848003294651545\n",
      "ROC AUC: 0.6322403740183425\n",
      "\n",
      "Model: DecisionTreeClassifier(max_depth=25, random_state=0)\n",
      "\n"
     ]
    },
    {
     "data": {
      "text/plain": [
       "array([[1885,  422],\n",
       "       [ 440,  319]], dtype=int64)"
      ]
     },
     "metadata": {},
     "output_type": "display_data"
    },
    {
     "name": "stdout",
     "output_type": "stream",
     "text": [
      "Cross Val:\n",
      "Acc: 0.7117455138662316\n",
      "Precision: 0.42600099290143645\n",
      "Recall: 0.43849289987439055\n",
      "f1: 0.43172680767730026\n",
      "ROC AUC: 0.6257628915231893\n",
      "\n",
      "Model: DecisionTreeClassifier(max_depth=25, random_state=0)\n",
      "\n"
     ]
    },
    {
     "data": {
      "text/plain": [
       "array([[1885,  422],\n",
       "       [ 440,  319]], dtype=int64)"
      ]
     },
     "metadata": {},
     "output_type": "display_data"
    },
    {
     "name": "stdout",
     "output_type": "stream",
     "text": [
      "Cross Val:\n",
      "Acc: 0.7117455138662316\n",
      "Precision: 0.42600099290143645\n",
      "Recall: 0.43849289987439055\n",
      "f1: 0.43172680767730026\n",
      "ROC AUC: 0.6257628915231893\n",
      "\n",
      "Model: DecisionTreeClassifier(max_depth=30, random_state=0)\n",
      "\n"
     ]
    },
    {
     "data": {
      "text/plain": [
       "array([[1878,  429],\n",
       "       [ 447,  312]], dtype=int64)"
      ]
     },
     "metadata": {},
     "output_type": "display_data"
    },
    {
     "name": "stdout",
     "output_type": "stream",
     "text": [
      "Cross Val:\n",
      "Acc: 0.7114192495921696\n",
      "Precision: 0.42464555036686746\n",
      "Recall: 0.4342424048881225\n",
      "f1: 0.4292256639784795\n",
      "ROC AUC: 0.6226471711896409\n",
      "\n",
      "Model: DecisionTreeClassifier(max_depth=30, random_state=0)\n",
      "\n"
     ]
    },
    {
     "data": {
      "text/plain": [
       "array([[1878,  429],\n",
       "       [ 447,  312]], dtype=int64)"
      ]
     },
     "metadata": {},
     "output_type": "display_data"
    },
    {
     "name": "stdout",
     "output_type": "stream",
     "text": [
      "Cross Val:\n",
      "Acc: 0.7114192495921696\n",
      "Precision: 0.42464555036686746\n",
      "Recall: 0.4342424048881225\n",
      "f1: 0.4292256639784795\n",
      "ROC AUC: 0.6226471711896409\n",
      "\n",
      "Model: DecisionTreeClassifier(max_depth=35, random_state=0)\n",
      "\n"
     ]
    },
    {
     "data": {
      "text/plain": [
       "array([[1866,  441],\n",
       "       [ 438,  321]], dtype=int64)"
      ]
     },
     "metadata": {},
     "output_type": "display_data"
    },
    {
     "name": "stdout",
     "output_type": "stream",
     "text": [
      "Cross Val:\n",
      "Acc: 0.7112561174551387\n",
      "Precision: 0.4250220148537817\n",
      "Recall: 0.43881863277341343\n",
      "f1: 0.4316831423828279\n",
      "ROC AUC: 0.6221308590301491\n",
      "\n",
      "Model: DecisionTreeClassifier(max_depth=35, random_state=0)\n",
      "\n"
     ]
    },
    {
     "data": {
      "text/plain": [
       "array([[1866,  441],\n",
       "       [ 438,  321]], dtype=int64)"
      ]
     },
     "metadata": {},
     "output_type": "display_data"
    },
    {
     "name": "stdout",
     "output_type": "stream",
     "text": [
      "Cross Val:\n",
      "Acc: 0.7112561174551387\n",
      "Precision: 0.4250220148537817\n",
      "Recall: 0.43881863277341343\n",
      "f1: 0.4316831423828279\n",
      "ROC AUC: 0.6221308590301491\n",
      "\n",
      "Model: DecisionTreeClassifier(max_depth=40, random_state=0)\n",
      "\n"
     ]
    },
    {
     "data": {
      "text/plain": [
       "array([[1866,  441],\n",
       "       [ 434,  325]], dtype=int64)"
      ]
     },
     "metadata": {},
     "output_type": "display_data"
    },
    {
     "name": "stdout",
     "output_type": "stream",
     "text": [
      "Cross Val:\n",
      "Acc: 0.7108482871125611\n",
      "Precision: 0.4241725732331494\n",
      "Recall: 0.4375188946371165\n",
      "f1: 0.43063788886171983\n",
      "ROC AUC: 0.6208337719763968\n",
      "\n",
      "Model: DecisionTreeClassifier(max_depth=40, random_state=0)\n",
      "\n"
     ]
    },
    {
     "data": {
      "text/plain": [
       "array([[1866,  441],\n",
       "       [ 434,  325]], dtype=int64)"
      ]
     },
     "metadata": {},
     "output_type": "display_data"
    },
    {
     "name": "stdout",
     "output_type": "stream",
     "text": [
      "Cross Val:\n",
      "Acc: 0.7108482871125611\n",
      "Precision: 0.4241725732331494\n",
      "Recall: 0.4375188946371165\n",
      "f1: 0.43063788886171983\n",
      "ROC AUC: 0.6208337719763968\n",
      "\n",
      "Model: DecisionTreeClassifier(max_depth=45, random_state=0)\n",
      "\n"
     ]
    },
    {
     "data": {
      "text/plain": [
       "array([[1866,  441],\n",
       "       [ 434,  325]], dtype=int64)"
      ]
     },
     "metadata": {},
     "output_type": "display_data"
    },
    {
     "name": "stdout",
     "output_type": "stream",
     "text": [
      "Cross Val:\n",
      "Acc: 0.7107667210440457\n",
      "Precision: 0.42403949226077103\n",
      "Recall: 0.4375188946371165\n",
      "f1: 0.430568658092489\n",
      "ROC AUC: 0.6207788913284855\n",
      "\n",
      "Model: DecisionTreeClassifier(max_depth=45, random_state=0)\n",
      "\n"
     ]
    },
    {
     "data": {
      "text/plain": [
       "array([[1866,  441],\n",
       "       [ 434,  325]], dtype=int64)"
      ]
     },
     "metadata": {},
     "output_type": "display_data"
    },
    {
     "name": "stdout",
     "output_type": "stream",
     "text": [
      "Cross Val:\n",
      "Acc: 0.7107667210440457\n",
      "Precision: 0.42403949226077103\n",
      "Recall: 0.4375188946371165\n",
      "f1: 0.430568658092489\n",
      "ROC AUC: 0.6207788913284855\n",
      "\n",
      "Model: DecisionTreeClassifier(max_depth=5, random_state=0)\n",
      "\n"
     ]
    },
    {
     "data": {
      "text/plain": [
       "array([[2014,  296],\n",
       "       [ 342,  414]], dtype=int64)"
      ]
     },
     "metadata": {},
     "output_type": "display_data"
    },
    {
     "name": "stdout",
     "output_type": "stream",
     "text": [
      "Cross Val:\n",
      "Acc: 0.7780587275693311\n",
      "Precision: 0.573058247908793\n",
      "Recall: 0.46776628132251813\n",
      "f1: 0.5093594721388046\n",
      "ROC AUC: 0.7745863565751132\n",
      "\n",
      "Model: DecisionTreeClassifier(max_depth=5, random_state=0)\n",
      "\n"
     ]
    },
    {
     "data": {
      "text/plain": [
       "array([[2014,  296],\n",
       "       [ 342,  414]], dtype=int64)"
      ]
     },
     "metadata": {},
     "output_type": "display_data"
    },
    {
     "name": "stdout",
     "output_type": "stream",
     "text": [
      "Cross Val:\n",
      "Acc: 0.7780587275693311\n",
      "Precision: 0.573058247908793\n",
      "Recall: 0.46776628132251813\n",
      "f1: 0.5093594721388046\n",
      "ROC AUC: 0.7745863565751132\n",
      "\n",
      "Model: DecisionTreeClassifier(max_depth=10, random_state=0)\n",
      "\n"
     ]
    },
    {
     "data": {
      "text/plain": [
       "array([[1976,  334],\n",
       "       [ 387,  369]], dtype=int64)"
      ]
     },
     "metadata": {},
     "output_type": "display_data"
    },
    {
     "name": "stdout",
     "output_type": "stream",
     "text": [
      "Cross Val:\n",
      "Acc: 0.7719412724306688\n",
      "Precision: 0.5456022110340755\n",
      "Recall: 0.5332481744054843\n",
      "f1: 0.538536699209088\n",
      "ROC AUC: 0.7478512758352325\n",
      "\n",
      "Model: DecisionTreeClassifier(max_depth=10, random_state=0)\n",
      "\n"
     ]
    },
    {
     "data": {
      "text/plain": [
       "array([[1976,  334],\n",
       "       [ 387,  369]], dtype=int64)"
      ]
     },
     "metadata": {},
     "output_type": "display_data"
    },
    {
     "name": "stdout",
     "output_type": "stream",
     "text": [
      "Cross Val:\n",
      "Acc: 0.7719412724306688\n",
      "Precision: 0.5456022110340755\n",
      "Recall: 0.5332481744054843\n",
      "f1: 0.538536699209088\n",
      "ROC AUC: 0.7478512758352325\n",
      "\n",
      "Model: DecisionTreeClassifier(max_depth=15, random_state=0)\n",
      "\n"
     ]
    },
    {
     "data": {
      "text/plain": [
       "array([[1931,  379],\n",
       "       [ 401,  355]], dtype=int64)"
      ]
     },
     "metadata": {},
     "output_type": "display_data"
    },
    {
     "name": "stdout",
     "output_type": "stream",
     "text": [
      "Cross Val:\n",
      "Acc: 0.7429037520391517\n",
      "Precision: 0.48664641655940766\n",
      "Recall: 0.47880287837176133\n",
      "f1: 0.48234873821609137\n",
      "ROC AUC: 0.672350716911529\n",
      "\n",
      "Model: DecisionTreeClassifier(max_depth=15, random_state=0)\n",
      "\n"
     ]
    },
    {
     "data": {
      "text/plain": [
       "array([[1931,  379],\n",
       "       [ 401,  355]], dtype=int64)"
      ]
     },
     "metadata": {},
     "output_type": "display_data"
    },
    {
     "name": "stdout",
     "output_type": "stream",
     "text": [
      "Cross Val:\n",
      "Acc: 0.7429037520391517\n",
      "Precision: 0.48664641655940766\n",
      "Recall: 0.47880287837176133\n",
      "f1: 0.48234873821609137\n",
      "ROC AUC: 0.672350716911529\n",
      "\n",
      "Model: DecisionTreeClassifier(max_depth=20, random_state=0)\n",
      "\n"
     ]
    },
    {
     "data": {
      "text/plain": [
       "array([[1880,  430],\n",
       "       [ 429,  327]], dtype=int64)"
      ]
     },
     "metadata": {},
     "output_type": "display_data"
    },
    {
     "name": "stdout",
     "output_type": "stream",
     "text": [
      "Cross Val:\n",
      "Acc: 0.7238172920065253\n",
      "Precision: 0.4494068480944735\n",
      "Recall: 0.4556588107555726\n",
      "f1: 0.4520841578329692\n",
      "ROC AUC: 0.64136204150964\n",
      "\n",
      "Model: DecisionTreeClassifier(max_depth=20, random_state=0)\n",
      "\n"
     ]
    },
    {
     "data": {
      "text/plain": [
       "array([[1880,  430],\n",
       "       [ 429,  327]], dtype=int64)"
      ]
     },
     "metadata": {},
     "output_type": "display_data"
    },
    {
     "name": "stdout",
     "output_type": "stream",
     "text": [
      "Cross Val:\n",
      "Acc: 0.7238172920065253\n",
      "Precision: 0.4494068480944735\n",
      "Recall: 0.4556588107555726\n",
      "f1: 0.4520841578329692\n",
      "ROC AUC: 0.64136204150964\n",
      "\n",
      "Model: DecisionTreeClassifier(max_depth=25, random_state=0)\n",
      "\n"
     ]
    },
    {
     "data": {
      "text/plain": [
       "array([[1843,  467],\n",
       "       [ 425,  331]], dtype=int64)"
      ]
     },
     "metadata": {},
     "output_type": "display_data"
    },
    {
     "name": "stdout",
     "output_type": "stream",
     "text": [
      "Cross Val:\n",
      "Acc: 0.7106851549755302\n",
      "Precision: 0.42423948703377085\n",
      "Recall: 0.4403280747695386\n",
      "f1: 0.43162706227443326\n",
      "ROC AUC: 0.6264168250295075\n",
      "\n",
      "Model: DecisionTreeClassifier(max_depth=25, random_state=0)\n",
      "\n"
     ]
    },
    {
     "data": {
      "text/plain": [
       "array([[1843,  467],\n",
       "       [ 425,  331]], dtype=int64)"
      ]
     },
     "metadata": {},
     "output_type": "display_data"
    },
    {
     "name": "stdout",
     "output_type": "stream",
     "text": [
      "Cross Val:\n",
      "Acc: 0.7106851549755302\n",
      "Precision: 0.42423948703377085\n",
      "Recall: 0.4403280747695386\n",
      "f1: 0.43162706227443326\n",
      "ROC AUC: 0.6264168250295075\n",
      "\n",
      "Model: DecisionTreeClassifier(max_depth=30, random_state=0)\n",
      "\n"
     ]
    },
    {
     "data": {
      "text/plain": [
       "array([[1836,  474],\n",
       "       [ 448,  308]], dtype=int64)"
      ]
     },
     "metadata": {},
     "output_type": "display_data"
    },
    {
     "name": "stdout",
     "output_type": "stream",
     "text": [
      "Cross Val:\n",
      "Acc: 0.713621533442088\n",
      "Precision: 0.43004682199000915\n",
      "Recall: 0.44457111834962\n",
      "f1: 0.4367798236892552\n",
      "ROC AUC: 0.6272249227885118\n",
      "\n",
      "Model: DecisionTreeClassifier(max_depth=30, random_state=0)\n",
      "\n"
     ]
    },
    {
     "data": {
      "text/plain": [
       "array([[1836,  474],\n",
       "       [ 448,  308]], dtype=int64)"
      ]
     },
     "metadata": {},
     "output_type": "display_data"
    },
    {
     "name": "stdout",
     "output_type": "stream",
     "text": [
      "Cross Val:\n",
      "Acc: 0.713621533442088\n",
      "Precision: 0.43004682199000915\n",
      "Recall: 0.44457111834962\n",
      "f1: 0.4367798236892552\n",
      "ROC AUC: 0.6272249227885118\n",
      "\n",
      "Model: DecisionTreeClassifier(max_depth=35, random_state=0)\n",
      "\n"
     ]
    },
    {
     "data": {
      "text/plain": [
       "array([[1835,  475],\n",
       "       [ 441,  315]], dtype=int64)"
      ]
     },
     "metadata": {},
     "output_type": "display_data"
    },
    {
     "name": "stdout",
     "output_type": "stream",
     "text": [
      "Cross Val:\n",
      "Acc: 0.7100326264274062\n",
      "Precision: 0.4236162109033774\n",
      "Recall: 0.4409923144067617\n",
      "f1: 0.43167962423310857\n",
      "ROC AUC: 0.6230946550096081\n",
      "\n",
      "Model: DecisionTreeClassifier(max_depth=35, random_state=0)\n",
      "\n"
     ]
    },
    {
     "data": {
      "text/plain": [
       "array([[1835,  475],\n",
       "       [ 441,  315]], dtype=int64)"
      ]
     },
     "metadata": {},
     "output_type": "display_data"
    },
    {
     "name": "stdout",
     "output_type": "stream",
     "text": [
      "Cross Val:\n",
      "Acc: 0.7100326264274062\n",
      "Precision: 0.4236162109033774\n",
      "Recall: 0.4409923144067617\n",
      "f1: 0.43167962423310857\n",
      "ROC AUC: 0.6230946550096081\n",
      "\n",
      "Model: DecisionTreeClassifier(max_depth=40, random_state=0)\n",
      "\n"
     ]
    },
    {
     "data": {
      "text/plain": [
       "array([[1842,  468],\n",
       "       [ 437,  319]], dtype=int64)"
      ]
     },
     "metadata": {},
     "output_type": "display_data"
    },
    {
     "name": "stdout",
     "output_type": "stream",
     "text": [
      "Cross Val:\n",
      "Acc: 0.7084013050570963\n",
      "Precision: 0.4207104786354634\n",
      "Recall: 0.438712184113602\n",
      "f1: 0.4290597829226871\n",
      "ROC AUC: 0.6210903357895149\n",
      "\n",
      "Model: DecisionTreeClassifier(max_depth=40, random_state=0)\n",
      "\n"
     ]
    },
    {
     "data": {
      "text/plain": [
       "array([[1842,  468],\n",
       "       [ 437,  319]], dtype=int64)"
      ]
     },
     "metadata": {},
     "output_type": "display_data"
    },
    {
     "name": "stdout",
     "output_type": "stream",
     "text": [
      "Cross Val:\n",
      "Acc: 0.7084013050570963\n",
      "Precision: 0.4207104786354634\n",
      "Recall: 0.438712184113602\n",
      "f1: 0.4290597829226871\n",
      "ROC AUC: 0.6210903357895149\n",
      "\n",
      "Model: DecisionTreeClassifier(max_depth=45, random_state=0)\n",
      "\n"
     ]
    },
    {
     "data": {
      "text/plain": [
       "array([[1841,  469],\n",
       "       [ 437,  319]], dtype=int64)"
      ]
     },
     "metadata": {},
     "output_type": "display_data"
    },
    {
     "name": "stdout",
     "output_type": "stream",
     "text": [
      "Cross Val:\n",
      "Acc: 0.7086460032626428\n",
      "Precision: 0.4212625014771204\n",
      "Recall: 0.4393636499116476\n",
      "f1: 0.4296389538386441\n",
      "ROC AUC: 0.6214722478664432\n",
      "\n",
      "Model: DecisionTreeClassifier(max_depth=45, random_state=0)\n",
      "\n"
     ]
    },
    {
     "data": {
      "text/plain": [
       "array([[1841,  469],\n",
       "       [ 437,  319]], dtype=int64)"
      ]
     },
     "metadata": {},
     "output_type": "display_data"
    },
    {
     "name": "stdout",
     "output_type": "stream",
     "text": [
      "Cross Val:\n",
      "Acc: 0.7086460032626428\n",
      "Precision: 0.4212625014771204\n",
      "Recall: 0.4393636499116476\n",
      "f1: 0.4296389538386441\n",
      "ROC AUC: 0.6214722478664432\n",
      "\n",
      "Model: DecisionTreeClassifier(max_depth=5, random_state=0)\n",
      "\n"
     ]
    },
    {
     "data": {
      "text/plain": [
       "array([[2086,  223],\n",
       "       [ 447,  310]], dtype=int64)"
      ]
     },
     "metadata": {},
     "output_type": "display_data"
    },
    {
     "name": "stdout",
     "output_type": "stream",
     "text": [
      "Cross Val:\n",
      "Acc: 0.7790375203915172\n",
      "Precision: 0.5824047246312589\n",
      "Recall: 0.4205988801600988\n",
      "f1: 0.485693661230008\n",
      "ROC AUC: 0.7725288975219169\n",
      "\n",
      "Model: DecisionTreeClassifier(max_depth=5, random_state=0)\n",
      "\n"
     ]
    },
    {
     "data": {
      "text/plain": [
       "array([[2086,  223],\n",
       "       [ 447,  310]], dtype=int64)"
      ]
     },
     "metadata": {},
     "output_type": "display_data"
    },
    {
     "name": "stdout",
     "output_type": "stream",
     "text": [
      "Cross Val:\n",
      "Acc: 0.7790375203915172\n",
      "Precision: 0.5824047246312589\n",
      "Recall: 0.4205988801600988\n",
      "f1: 0.485693661230008\n",
      "ROC AUC: 0.7725288975219169\n",
      "\n",
      "Model: DecisionTreeClassifier(max_depth=10, random_state=0)\n",
      "\n"
     ]
    },
    {
     "data": {
      "text/plain": [
       "array([[2007,  302],\n",
       "       [ 395,  362]], dtype=int64)"
      ]
     },
     "metadata": {},
     "output_type": "display_data"
    },
    {
     "name": "stdout",
     "output_type": "stream",
     "text": [
      "Cross Val:\n",
      "Acc: 0.7672920065252855\n",
      "Precision: 0.5363283284236166\n",
      "Recall: 0.5235900875007984\n",
      "f1: 0.5286654840059967\n",
      "ROC AUC: 0.7347195076315721\n",
      "\n",
      "Model: DecisionTreeClassifier(max_depth=10, random_state=0)\n",
      "\n"
     ]
    },
    {
     "data": {
      "text/plain": [
       "array([[2007,  302],\n",
       "       [ 395,  362]], dtype=int64)"
      ]
     },
     "metadata": {},
     "output_type": "display_data"
    },
    {
     "name": "stdout",
     "output_type": "stream",
     "text": [
      "Cross Val:\n",
      "Acc: 0.7672920065252855\n",
      "Precision: 0.5363283284236166\n",
      "Recall: 0.5235900875007984\n",
      "f1: 0.5286654840059967\n",
      "ROC AUC: 0.7347195076315721\n",
      "\n",
      "Model: DecisionTreeClassifier(max_depth=15, random_state=0)\n",
      "\n"
     ]
    },
    {
     "data": {
      "text/plain": [
       "array([[1927,  382],\n",
       "       [ 409,  348]], dtype=int64)"
      ]
     },
     "metadata": {},
     "output_type": "display_data"
    },
    {
     "name": "stdout",
     "output_type": "stream",
     "text": [
      "Cross Val:\n",
      "Acc: 0.7435562805872756\n",
      "Precision: 0.4867297040600884\n",
      "Recall: 0.47602669732388075\n",
      "f1: 0.4807302768525821\n",
      "ROC AUC: 0.6679973691182504\n",
      "\n",
      "Model: DecisionTreeClassifier(max_depth=15, random_state=0)\n",
      "\n"
     ]
    },
    {
     "data": {
      "text/plain": [
       "array([[1927,  382],\n",
       "       [ 409,  348]], dtype=int64)"
      ]
     },
     "metadata": {},
     "output_type": "display_data"
    },
    {
     "name": "stdout",
     "output_type": "stream",
     "text": [
      "Cross Val:\n",
      "Acc: 0.7435562805872756\n",
      "Precision: 0.4867297040600884\n",
      "Recall: 0.47602669732388075\n",
      "f1: 0.4807302768525821\n",
      "ROC AUC: 0.6679973691182504\n",
      "\n",
      "Model: DecisionTreeClassifier(max_depth=20, random_state=0)\n",
      "\n"
     ]
    },
    {
     "data": {
      "text/plain": [
       "array([[1890,  419],\n",
       "       [ 432,  325]], dtype=int64)"
      ]
     },
     "metadata": {},
     "output_type": "display_data"
    },
    {
     "name": "stdout",
     "output_type": "stream",
     "text": [
      "Cross Val:\n",
      "Acc: 0.7179445350734095\n",
      "Precision: 0.43648766642881753\n",
      "Recall: 0.44114985842328247\n",
      "f1: 0.43846052545440656\n",
      "ROC AUC: 0.6327937680358323\n",
      "\n",
      "Model: DecisionTreeClassifier(max_depth=20, random_state=0)\n",
      "\n"
     ]
    },
    {
     "data": {
      "text/plain": [
       "array([[1890,  419],\n",
       "       [ 432,  325]], dtype=int64)"
      ]
     },
     "metadata": {},
     "output_type": "display_data"
    },
    {
     "name": "stdout",
     "output_type": "stream",
     "text": [
      "Cross Val:\n",
      "Acc: 0.7179445350734095\n",
      "Precision: 0.43648766642881753\n",
      "Recall: 0.44114985842328247\n",
      "f1: 0.43846052545440656\n",
      "ROC AUC: 0.6327937680358323\n",
      "\n",
      "Model: DecisionTreeClassifier(max_depth=25, random_state=0)\n",
      "\n"
     ]
    },
    {
     "data": {
      "text/plain": [
       "array([[1855,  454],\n",
       "       [ 422,  335]], dtype=int64)"
      ]
     },
     "metadata": {},
     "output_type": "display_data"
    },
    {
     "name": "stdout",
     "output_type": "stream",
     "text": [
      "Cross Val:\n",
      "Acc: 0.7119902120717783\n",
      "Precision: 0.4267121481858001\n",
      "Recall: 0.43952758084775717\n",
      "f1: 0.4328682336195196\n",
      "ROC AUC: 0.6261326598839254\n",
      "\n",
      "Model: DecisionTreeClassifier(max_depth=25, random_state=0)\n",
      "\n"
     ]
    },
    {
     "data": {
      "text/plain": [
       "array([[1855,  454],\n",
       "       [ 422,  335]], dtype=int64)"
      ]
     },
     "metadata": {},
     "output_type": "display_data"
    },
    {
     "name": "stdout",
     "output_type": "stream",
     "text": [
      "Cross Val:\n",
      "Acc: 0.7119902120717783\n",
      "Precision: 0.4267121481858001\n",
      "Recall: 0.43952758084775717\n",
      "f1: 0.4328682336195196\n",
      "ROC AUC: 0.6261326598839254\n",
      "\n",
      "Model: DecisionTreeClassifier(max_depth=30, random_state=0)\n",
      "\n"
     ]
    },
    {
     "data": {
      "text/plain": [
       "array([[1839,  470],\n",
       "       [ 416,  341]], dtype=int64)"
      ]
     },
     "metadata": {},
     "output_type": "display_data"
    },
    {
     "name": "stdout",
     "output_type": "stream",
     "text": [
      "Cross Val:\n",
      "Acc: 0.7061174551386623\n",
      "Precision: 0.4168349444212084\n",
      "Recall: 0.439208234868323\n",
      "f1: 0.42764604938069334\n",
      "ROC AUC: 0.6204957071471898\n",
      "\n",
      "Model: DecisionTreeClassifier(max_depth=30, random_state=0)\n",
      "\n"
     ]
    },
    {
     "data": {
      "text/plain": [
       "array([[1839,  470],\n",
       "       [ 416,  341]], dtype=int64)"
      ]
     },
     "metadata": {},
     "output_type": "display_data"
    },
    {
     "name": "stdout",
     "output_type": "stream",
     "text": [
      "Cross Val:\n",
      "Acc: 0.7061174551386623\n",
      "Precision: 0.4168349444212084\n",
      "Recall: 0.439208234868323\n",
      "f1: 0.42764604938069334\n",
      "ROC AUC: 0.6204957071471898\n",
      "\n",
      "Model: DecisionTreeClassifier(max_depth=35, random_state=0)\n",
      "\n"
     ]
    },
    {
     "data": {
      "text/plain": [
       "array([[1848,  461],\n",
       "       [ 416,  341]], dtype=int64)"
      ]
     },
     "metadata": {},
     "output_type": "display_data"
    },
    {
     "name": "stdout",
     "output_type": "stream",
     "text": [
      "Cross Val:\n",
      "Acc: 0.7069331158238172\n",
      "Precision: 0.4187213782923818\n",
      "Recall: 0.4444274126588746\n",
      "f1: 0.43110482717148396\n",
      "ROC AUC: 0.6225334140288407\n",
      "\n",
      "Model: DecisionTreeClassifier(max_depth=35, random_state=0)\n",
      "\n"
     ]
    },
    {
     "data": {
      "text/plain": [
       "array([[1848,  461],\n",
       "       [ 416,  341]], dtype=int64)"
      ]
     },
     "metadata": {},
     "output_type": "display_data"
    },
    {
     "name": "stdout",
     "output_type": "stream",
     "text": [
      "Cross Val:\n",
      "Acc: 0.7069331158238172\n",
      "Precision: 0.4187213782923818\n",
      "Recall: 0.4444274126588746\n",
      "f1: 0.43110482717148396\n",
      "ROC AUC: 0.6225334140288407\n",
      "\n",
      "Model: DecisionTreeClassifier(max_depth=40, random_state=0)\n",
      "\n"
     ]
    },
    {
     "data": {
      "text/plain": [
       "array([[1849,  460],\n",
       "       [ 417,  340]], dtype=int64)"
      ]
     },
     "metadata": {},
     "output_type": "display_data"
    },
    {
     "name": "stdout",
     "output_type": "stream",
     "text": [
      "Cross Val:\n",
      "Acc: 0.7064437194127242\n",
      "Precision: 0.41783662462864657\n",
      "Recall: 0.44246449937195287\n",
      "f1: 0.4296917315540901\n",
      "ROC AUC: 0.6211484198612018\n",
      "\n",
      "Model: DecisionTreeClassifier(max_depth=40, random_state=0)\n",
      "\n"
     ]
    },
    {
     "data": {
      "text/plain": [
       "array([[1849,  460],\n",
       "       [ 417,  340]], dtype=int64)"
      ]
     },
     "metadata": {},
     "output_type": "display_data"
    },
    {
     "name": "stdout",
     "output_type": "stream",
     "text": [
      "Cross Val:\n",
      "Acc: 0.7064437194127242\n",
      "Precision: 0.41783662462864657\n",
      "Recall: 0.44246449937195287\n",
      "f1: 0.4296917315540901\n",
      "ROC AUC: 0.6211484198612018\n",
      "\n",
      "Model: DecisionTreeClassifier(max_depth=45, random_state=0)\n",
      "\n"
     ]
    },
    {
     "data": {
      "text/plain": [
       "array([[1849,  460],\n",
       "       [ 417,  340]], dtype=int64)"
      ]
     },
     "metadata": {},
     "output_type": "display_data"
    },
    {
     "name": "stdout",
     "output_type": "stream",
     "text": [
      "Cross Val:\n",
      "Acc: 0.7064437194127242\n",
      "Precision: 0.41783662462864657\n",
      "Recall: 0.44246449937195287\n",
      "f1: 0.4296917315540901\n",
      "ROC AUC: 0.6211484198612018\n",
      "\n",
      "Model: DecisionTreeClassifier(max_depth=45, random_state=0)\n",
      "\n"
     ]
    },
    {
     "data": {
      "text/plain": [
       "array([[1849,  460],\n",
       "       [ 417,  340]], dtype=int64)"
      ]
     },
     "metadata": {},
     "output_type": "display_data"
    },
    {
     "name": "stdout",
     "output_type": "stream",
     "text": [
      "Cross Val:\n",
      "Acc: 0.7064437194127242\n",
      "Precision: 0.41783662462864657\n",
      "Recall: 0.44246449937195287\n",
      "f1: 0.4296917315540901\n",
      "ROC AUC: 0.6211484198612018\n"
     ]
    }
   ],
   "source": [
    "for scale in [True,False]:\n",
    "    for normalize in [True,False]:\n",
    "                     \n",
    "        #Extracting and Cleaning Data\n",
    "        data_cleaned = Data_Cleaning(pd.read_csv('z_train.csv'), \n",
    "                                     scale = scale, \n",
    "                                     normalize = normalize)\n",
    "        \n",
    "        #Train, Test Split\n",
    "        X = data_cleaned.drop(['target','enrollee_id'], axis = 1) \n",
    "        y = data_cleaned['target']\n",
    "        X_train, X_test, y_train, y_test = train_test_split(X, y, \n",
    "                                                            test_size=0.2)\n",
    "\n",
    "        X_train_fs_chi, X_test_fs_chi = select_features(X_train, y_train, X_test, \n",
    "                                                        chi2, \n",
    "                                                        k = k_chi)\n",
    "        X_train_fs_mic, X_test_fs_mic = select_features(X_train, y_train, X_test, \n",
    "                                                        mutual_info_classif, \n",
    "                                                        k = k_mic)\n",
    "             \n",
    "        for max_depth in np.arange(5,50,5):\n",
    "            a = ModelTest(DecisionTreeClassifier(max_depth=max_depth,\n",
    "                                                random_state=0), #Model    \n",
    "                          X_train = X_train_fs_chi, X_test = X_test_fs_chi,\n",
    "                          y_train = y_train, y_test = y_test,\n",
    "                          typ = 'chi',\n",
    "                          k = k_chi)\n",
    "            metricss.append((a, \"scale: \" + str(scale), \"normalize:\" + str(normalize)))\n",
    "\n",
    "            a = ModelTest(DecisionTreeClassifier(max_depth=max_depth,\n",
    "                                                random_state=0), #Model          \n",
    "                          X_train = X_train_fs_mic, X_test = X_test_fs_mic,  #Best\n",
    "                          y_train = y_train, y_test = y_test,\n",
    "                          typ = 'mic',\n",
    "                          k = k_mic)\n",
    "            metricss.append((a, \"scale: \" + str(scale), \"normalize:\" + str(normalize)))     "
   ]
  },
  {
   "cell_type": "code",
   "execution_count": 31,
   "metadata": {
    "scrolled": true
   },
   "outputs": [
    {
     "name": "stdout",
     "output_type": "stream",
     "text": [
      "\n",
      "Model: RandomForestClassifier(max_depth=5, random_state=0)\n",
      "\n"
     ]
    },
    {
     "data": {
      "text/plain": [
       "array([[2107,  178],\n",
       "       [ 524,  257]], dtype=int64)"
      ]
     },
     "metadata": {},
     "output_type": "display_data"
    },
    {
     "name": "stdout",
     "output_type": "stream",
     "text": [
      "Cross Val:\n",
      "Acc: 0.7789559543230016\n",
      "Precision: 0.6025849038170332\n",
      "Recall: 0.3220383951682485\n",
      "f1: 0.419524793020689\n",
      "ROC AUC: 0.7868981132350857\n",
      "\n",
      "Model: RandomForestClassifier(max_depth=5, random_state=0)\n",
      "\n"
     ]
    },
    {
     "data": {
      "text/plain": [
       "array([[2107,  178],\n",
       "       [ 524,  257]], dtype=int64)"
      ]
     },
     "metadata": {},
     "output_type": "display_data"
    },
    {
     "name": "stdout",
     "output_type": "stream",
     "text": [
      "Cross Val:\n",
      "Acc: 0.7789559543230016\n",
      "Precision: 0.6025849038170332\n",
      "Recall: 0.3220383951682485\n",
      "f1: 0.419524793020689\n",
      "ROC AUC: 0.7868981132350857\n",
      "\n",
      "Model: RandomForestClassifier(max_depth=10, random_state=0)\n",
      "\n"
     ]
    },
    {
     "data": {
      "text/plain": [
       "array([[2056,  229],\n",
       "       [ 466,  315]], dtype=int64)"
      ]
     },
     "metadata": {},
     "output_type": "display_data"
    },
    {
     "name": "stdout",
     "output_type": "stream",
     "text": [
      "Cross Val:\n",
      "Acc: 0.7845024469820555\n",
      "Precision: 0.6013670300111388\n",
      "Recall: 0.39238028472821396\n",
      "f1: 0.474504294357388\n",
      "ROC AUC: 0.7927008378174628\n",
      "\n",
      "Model: RandomForestClassifier(max_depth=10, random_state=0)\n",
      "\n"
     ]
    },
    {
     "data": {
      "text/plain": [
       "array([[2056,  229],\n",
       "       [ 466,  315]], dtype=int64)"
      ]
     },
     "metadata": {},
     "output_type": "display_data"
    },
    {
     "name": "stdout",
     "output_type": "stream",
     "text": [
      "Cross Val:\n",
      "Acc: 0.7845024469820555\n",
      "Precision: 0.6013670300111388\n",
      "Recall: 0.39238028472821396\n",
      "f1: 0.474504294357388\n",
      "ROC AUC: 0.7927008378174628\n",
      "\n",
      "Model: RandomForestClassifier(max_depth=15, random_state=0)\n",
      "\n"
     ]
    },
    {
     "data": {
      "text/plain": [
       "array([[1985,  300],\n",
       "       [ 407,  374]], dtype=int64)"
      ]
     },
     "metadata": {},
     "output_type": "display_data"
    },
    {
     "name": "stdout",
     "output_type": "stream",
     "text": [
      "Cross Val:\n",
      "Acc: 0.783768352365416\n",
      "Precision: 0.5835948837881644\n",
      "Recall: 0.4498748921484038\n",
      "f1: 0.507842409242411\n",
      "ROC AUC: 0.7892526169030311\n",
      "\n",
      "Model: RandomForestClassifier(max_depth=15, random_state=0)\n",
      "\n"
     ]
    },
    {
     "data": {
      "text/plain": [
       "array([[1985,  300],\n",
       "       [ 407,  374]], dtype=int64)"
      ]
     },
     "metadata": {},
     "output_type": "display_data"
    },
    {
     "name": "stdout",
     "output_type": "stream",
     "text": [
      "Cross Val:\n",
      "Acc: 0.783768352365416\n",
      "Precision: 0.5835948837881644\n",
      "Recall: 0.4498748921484038\n",
      "f1: 0.507842409242411\n",
      "ROC AUC: 0.7892526169030311\n",
      "\n",
      "Model: RandomForestClassifier(max_depth=20, random_state=0)\n",
      "\n"
     ]
    },
    {
     "data": {
      "text/plain": [
       "array([[1989,  296],\n",
       "       [ 419,  362]], dtype=int64)"
      ]
     },
     "metadata": {},
     "output_type": "display_data"
    },
    {
     "name": "stdout",
     "output_type": "stream",
     "text": [
      "Cross Val:\n",
      "Acc: 0.7796900489396411\n",
      "Precision: 0.5733289118754376\n",
      "Recall: 0.44068701466781707\n",
      "f1: 0.4981068535260804\n",
      "ROC AUC: 0.7762357412399566\n",
      "\n",
      "Model: RandomForestClassifier(max_depth=20, random_state=0)\n",
      "\n"
     ]
    },
    {
     "data": {
      "text/plain": [
       "array([[1989,  296],\n",
       "       [ 419,  362]], dtype=int64)"
      ]
     },
     "metadata": {},
     "output_type": "display_data"
    },
    {
     "name": "stdout",
     "output_type": "stream",
     "text": [
      "Cross Val:\n",
      "Acc: 0.7796900489396411\n",
      "Precision: 0.5733289118754376\n",
      "Recall: 0.44068701466781707\n",
      "f1: 0.4981068535260804\n",
      "ROC AUC: 0.7762357412399566\n",
      "\n",
      "Model: RandomForestClassifier(max_depth=25, random_state=0)\n",
      "\n"
     ]
    },
    {
     "data": {
      "text/plain": [
       "array([[1996,  289],\n",
       "       [ 414,  367]], dtype=int64)"
      ]
     },
     "metadata": {},
     "output_type": "display_data"
    },
    {
     "name": "stdout",
     "output_type": "stream",
     "text": [
      "Cross Val:\n",
      "Acc: 0.7760195758564438\n",
      "Precision: 0.5632900943233796\n",
      "Recall: 0.43509383088869713\n",
      "f1: 0.4908646719239685\n",
      "ROC AUC: 0.7667093893348387\n",
      "\n",
      "Model: RandomForestClassifier(max_depth=25, random_state=0)\n",
      "\n"
     ]
    },
    {
     "data": {
      "text/plain": [
       "array([[1996,  289],\n",
       "       [ 414,  367]], dtype=int64)"
      ]
     },
     "metadata": {},
     "output_type": "display_data"
    },
    {
     "name": "stdout",
     "output_type": "stream",
     "text": [
      "Cross Val:\n",
      "Acc: 0.7760195758564438\n",
      "Precision: 0.5632900943233796\n",
      "Recall: 0.43509383088869713\n",
      "f1: 0.4908646719239685\n",
      "ROC AUC: 0.7667093893348387\n",
      "\n",
      "Model: RandomForestClassifier(max_depth=30, random_state=0)\n",
      "\n"
     ]
    },
    {
     "data": {
      "text/plain": [
       "array([[1985,  300],\n",
       "       [ 426,  355]], dtype=int64)"
      ]
     },
     "metadata": {},
     "output_type": "display_data"
    },
    {
     "name": "stdout",
     "output_type": "stream",
     "text": [
      "Cross Val:\n",
      "Acc: 0.7742251223491027\n",
      "Precision: 0.5581010048821021\n",
      "Recall: 0.43344370146678174\n",
      "f1: 0.4878228147250205\n",
      "ROC AUC: 0.7611878195289702\n",
      "\n",
      "Model: RandomForestClassifier(max_depth=30, random_state=0)\n",
      "\n"
     ]
    },
    {
     "data": {
      "text/plain": [
       "array([[1985,  300],\n",
       "       [ 426,  355]], dtype=int64)"
      ]
     },
     "metadata": {},
     "output_type": "display_data"
    },
    {
     "name": "stdout",
     "output_type": "stream",
     "text": [
      "Cross Val:\n",
      "Acc: 0.7742251223491027\n",
      "Precision: 0.5581010048821021\n",
      "Recall: 0.43344370146678174\n",
      "f1: 0.4878228147250205\n",
      "ROC AUC: 0.7611878195289702\n",
      "\n",
      "Model: RandomForestClassifier(max_depth=35, random_state=0)\n",
      "\n"
     ]
    },
    {
     "data": {
      "text/plain": [
       "array([[1985,  300],\n",
       "       [ 428,  353]], dtype=int64)"
      ]
     },
     "metadata": {},
     "output_type": "display_data"
    },
    {
     "name": "stdout",
     "output_type": "stream",
     "text": [
      "Cross Val:\n",
      "Acc: 0.7716150081566069\n",
      "Precision: 0.5516784830089476\n",
      "Recall: 0.42720556514236413\n",
      "f1: 0.48138574725467365\n",
      "ROC AUC: 0.7593242546715026\n",
      "\n",
      "Model: RandomForestClassifier(max_depth=35, random_state=0)\n",
      "\n"
     ]
    },
    {
     "data": {
      "text/plain": [
       "array([[1985,  300],\n",
       "       [ 428,  353]], dtype=int64)"
      ]
     },
     "metadata": {},
     "output_type": "display_data"
    },
    {
     "name": "stdout",
     "output_type": "stream",
     "text": [
      "Cross Val:\n",
      "Acc: 0.7716150081566069\n",
      "Precision: 0.5516784830089476\n",
      "Recall: 0.42720556514236413\n",
      "f1: 0.48138574725467365\n",
      "ROC AUC: 0.7593242546715026\n",
      "\n",
      "Model: RandomForestClassifier(max_depth=40, random_state=0)\n",
      "\n"
     ]
    },
    {
     "data": {
      "text/plain": [
       "array([[1982,  303],\n",
       "       [ 425,  356]], dtype=int64)"
      ]
     },
     "metadata": {},
     "output_type": "display_data"
    },
    {
     "name": "stdout",
     "output_type": "stream",
     "text": [
      "Cross Val:\n",
      "Acc: 0.7724306688417618\n",
      "Precision: 0.553313774630999\n",
      "Recall: 0.4311496980155306\n",
      "f1: 0.48451069010232894\n",
      "ROC AUC: 0.7593493077802995\n",
      "\n",
      "Model: RandomForestClassifier(max_depth=40, random_state=0)\n",
      "\n"
     ]
    },
    {
     "data": {
      "text/plain": [
       "array([[1982,  303],\n",
       "       [ 425,  356]], dtype=int64)"
      ]
     },
     "metadata": {},
     "output_type": "display_data"
    },
    {
     "name": "stdout",
     "output_type": "stream",
     "text": [
      "Cross Val:\n",
      "Acc: 0.7724306688417618\n",
      "Precision: 0.553313774630999\n",
      "Recall: 0.4311496980155306\n",
      "f1: 0.48451069010232894\n",
      "ROC AUC: 0.7593493077802995\n",
      "\n",
      "Model: RandomForestClassifier(max_depth=45, random_state=0)\n",
      "\n"
     ]
    },
    {
     "data": {
      "text/plain": [
       "array([[1982,  303],\n",
       "       [ 421,  360]], dtype=int64)"
      ]
     },
     "metadata": {},
     "output_type": "display_data"
    },
    {
     "name": "stdout",
     "output_type": "stream",
     "text": [
      "Cross Val:\n",
      "Acc: 0.7725938009787928\n",
      "Precision: 0.5537899820374523\n",
      "Recall: 0.43114861949956856\n",
      "f1: 0.4846918237807684\n",
      "ROC AUC: 0.7593717764329151\n",
      "\n",
      "Model: RandomForestClassifier(max_depth=45, random_state=0)\n",
      "\n"
     ]
    },
    {
     "data": {
      "text/plain": [
       "array([[1982,  303],\n",
       "       [ 421,  360]], dtype=int64)"
      ]
     },
     "metadata": {},
     "output_type": "display_data"
    },
    {
     "name": "stdout",
     "output_type": "stream",
     "text": [
      "Cross Val:\n",
      "Acc: 0.7725938009787928\n",
      "Precision: 0.5537899820374523\n",
      "Recall: 0.43114861949956856\n",
      "f1: 0.4846918237807684\n",
      "ROC AUC: 0.7593717764329151\n",
      "\n",
      "Model: RandomForestClassifier(max_depth=5, random_state=0)\n",
      "\n"
     ]
    },
    {
     "data": {
      "text/plain": [
       "array([[2121,  163],\n",
       "       [ 535,  247]], dtype=int64)"
      ]
     },
     "metadata": {},
     "output_type": "display_data"
    },
    {
     "name": "stdout",
     "output_type": "stream",
     "text": [
      "Cross Val:\n",
      "Acc: 0.7792006525285481\n",
      "Precision: 0.6006891340963685\n",
      "Recall: 0.32843723037100947\n",
      "f1: 0.4235115143476279\n",
      "ROC AUC: 0.7866847196186639\n",
      "\n",
      "Model: RandomForestClassifier(max_depth=5, random_state=0)\n",
      "\n"
     ]
    },
    {
     "data": {
      "text/plain": [
       "array([[2121,  163],\n",
       "       [ 535,  247]], dtype=int64)"
      ]
     },
     "metadata": {},
     "output_type": "display_data"
    },
    {
     "name": "stdout",
     "output_type": "stream",
     "text": [
      "Cross Val:\n",
      "Acc: 0.7792006525285481\n",
      "Precision: 0.6006891340963685\n",
      "Recall: 0.32843723037100947\n",
      "f1: 0.4235115143476279\n",
      "ROC AUC: 0.7866847196186639\n",
      "\n",
      "Model: RandomForestClassifier(max_depth=10, random_state=0)\n",
      "\n"
     ]
    },
    {
     "data": {
      "text/plain": [
       "array([[2070,  214],\n",
       "       [ 483,  299]], dtype=int64)"
      ]
     },
     "metadata": {},
     "output_type": "display_data"
    },
    {
     "name": "stdout",
     "output_type": "stream",
     "text": [
      "Cross Val:\n",
      "Acc: 0.7838499184339315\n",
      "Precision: 0.5967224659203862\n",
      "Recall: 0.39877157031924065\n",
      "f1: 0.47752407337633185\n",
      "ROC AUC: 0.7955568636603565\n",
      "\n",
      "Model: RandomForestClassifier(max_depth=10, random_state=0)\n",
      "\n"
     ]
    },
    {
     "data": {
      "text/plain": [
       "array([[2070,  214],\n",
       "       [ 483,  299]], dtype=int64)"
      ]
     },
     "metadata": {},
     "output_type": "display_data"
    },
    {
     "name": "stdout",
     "output_type": "stream",
     "text": [
      "Cross Val:\n",
      "Acc: 0.7838499184339315\n",
      "Precision: 0.5967224659203862\n",
      "Recall: 0.39877157031924065\n",
      "f1: 0.47752407337633185\n",
      "ROC AUC: 0.7955568636603565\n",
      "\n",
      "Model: RandomForestClassifier(max_depth=15, random_state=0)\n",
      "\n"
     ]
    },
    {
     "data": {
      "text/plain": [
       "array([[2022,  262],\n",
       "       [ 448,  334]], dtype=int64)"
      ]
     },
     "metadata": {},
     "output_type": "display_data"
    },
    {
     "name": "stdout",
     "output_type": "stream",
     "text": [
      "Cross Val:\n",
      "Acc: 0.783931484502447\n",
      "Precision: 0.5862313679147013\n",
      "Recall: 0.4415023727351164\n",
      "f1: 0.5030279483122597\n",
      "ROC AUC: 0.793547381531044\n",
      "\n",
      "Model: RandomForestClassifier(max_depth=15, random_state=0)\n",
      "\n"
     ]
    },
    {
     "data": {
      "text/plain": [
       "array([[2022,  262],\n",
       "       [ 448,  334]], dtype=int64)"
      ]
     },
     "metadata": {},
     "output_type": "display_data"
    },
    {
     "name": "stdout",
     "output_type": "stream",
     "text": [
      "Cross Val:\n",
      "Acc: 0.783931484502447\n",
      "Precision: 0.5862313679147013\n",
      "Recall: 0.4415023727351164\n",
      "f1: 0.5030279483122597\n",
      "ROC AUC: 0.793547381531044\n",
      "\n",
      "Model: RandomForestClassifier(max_depth=20, random_state=0)\n",
      "\n"
     ]
    },
    {
     "data": {
      "text/plain": [
       "array([[2014,  270],\n",
       "       [ 445,  337]], dtype=int64)"
      ]
     },
     "metadata": {},
     "output_type": "display_data"
    },
    {
     "name": "stdout",
     "output_type": "stream",
     "text": [
      "Cross Val:\n",
      "Acc: 0.7813213703099511\n",
      "Precision: 0.5764575957157414\n",
      "Recall: 0.4484037963761864\n",
      "f1: 0.5039949199270657\n",
      "ROC AUC: 0.7840380969465103\n",
      "\n",
      "Model: RandomForestClassifier(max_depth=20, random_state=0)\n",
      "\n"
     ]
    },
    {
     "data": {
      "text/plain": [
       "array([[2014,  270],\n",
       "       [ 445,  337]], dtype=int64)"
      ]
     },
     "metadata": {},
     "output_type": "display_data"
    },
    {
     "name": "stdout",
     "output_type": "stream",
     "text": [
      "Cross Val:\n",
      "Acc: 0.7813213703099511\n",
      "Precision: 0.5764575957157414\n",
      "Recall: 0.4484037963761864\n",
      "f1: 0.5039949199270657\n",
      "ROC AUC: 0.7840380969465103\n",
      "\n",
      "Model: RandomForestClassifier(max_depth=25, random_state=0)\n",
      "\n"
     ]
    },
    {
     "data": {
      "text/plain": [
       "array([[2014,  270],\n",
       "       [ 441,  341]], dtype=int64)"
      ]
     },
     "metadata": {},
     "output_type": "display_data"
    },
    {
     "name": "stdout",
     "output_type": "stream",
     "text": [
      "Cross Val:\n",
      "Acc: 0.7760195758564438\n",
      "Precision: 0.5622854300329679\n",
      "Recall: 0.43918895599654884\n",
      "f1: 0.4928554348607629\n",
      "ROC AUC: 0.7731955677297548\n",
      "\n",
      "Model: RandomForestClassifier(max_depth=25, random_state=0)\n",
      "\n"
     ]
    },
    {
     "data": {
      "text/plain": [
       "array([[2014,  270],\n",
       "       [ 441,  341]], dtype=int64)"
      ]
     },
     "metadata": {},
     "output_type": "display_data"
    },
    {
     "name": "stdout",
     "output_type": "stream",
     "text": [
      "Cross Val:\n",
      "Acc: 0.7760195758564438\n",
      "Precision: 0.5622854300329679\n",
      "Recall: 0.43918895599654884\n",
      "f1: 0.4928554348607629\n",
      "ROC AUC: 0.7731955677297548\n",
      "\n",
      "Model: RandomForestClassifier(max_depth=30, random_state=0)\n",
      "\n"
     ]
    },
    {
     "data": {
      "text/plain": [
       "array([[2001,  283],\n",
       "       [ 436,  346]], dtype=int64)"
      ]
     },
     "metadata": {},
     "output_type": "display_data"
    },
    {
     "name": "stdout",
     "output_type": "stream",
     "text": [
      "Cross Val:\n",
      "Acc: 0.7752039151712887\n",
      "Precision: 0.5600412448326649\n",
      "Recall: 0.43952545297670403\n",
      "f1: 0.49196039373388506\n",
      "ROC AUC: 0.7684115059442534\n",
      "\n",
      "Model: RandomForestClassifier(max_depth=30, random_state=0)\n",
      "\n"
     ]
    },
    {
     "data": {
      "text/plain": [
       "array([[2001,  283],\n",
       "       [ 436,  346]], dtype=int64)"
      ]
     },
     "metadata": {},
     "output_type": "display_data"
    },
    {
     "name": "stdout",
     "output_type": "stream",
     "text": [
      "Cross Val:\n",
      "Acc: 0.7752039151712887\n",
      "Precision: 0.5600412448326649\n",
      "Recall: 0.43952545297670403\n",
      "f1: 0.49196039373388506\n",
      "ROC AUC: 0.7684115059442534\n",
      "\n",
      "Model: RandomForestClassifier(max_depth=35, random_state=0)\n",
      "\n"
     ]
    },
    {
     "data": {
      "text/plain": [
       "array([[2003,  281],\n",
       "       [ 443,  339]], dtype=int64)"
      ]
     },
     "metadata": {},
     "output_type": "display_data"
    },
    {
     "name": "stdout",
     "output_type": "stream",
     "text": [
      "Cross Val:\n",
      "Acc: 0.7743066884176183\n",
      "Precision: 0.5574892628285729\n",
      "Recall: 0.44051121656600517\n",
      "f1: 0.4916613620117417\n",
      "ROC AUC: 0.766240635582027\n",
      "\n",
      "Model: RandomForestClassifier(max_depth=35, random_state=0)\n",
      "\n"
     ]
    },
    {
     "data": {
      "text/plain": [
       "array([[2003,  281],\n",
       "       [ 443,  339]], dtype=int64)"
      ]
     },
     "metadata": {},
     "output_type": "display_data"
    },
    {
     "name": "stdout",
     "output_type": "stream",
     "text": [
      "Cross Val:\n",
      "Acc: 0.7743066884176183\n",
      "Precision: 0.5574892628285729\n",
      "Recall: 0.44051121656600517\n",
      "f1: 0.4916613620117417\n",
      "ROC AUC: 0.766240635582027\n",
      "\n",
      "Model: RandomForestClassifier(max_depth=40, random_state=0)\n",
      "\n"
     ]
    },
    {
     "data": {
      "text/plain": [
       "array([[2005,  279],\n",
       "       [ 444,  338]], dtype=int64)"
      ]
     },
     "metadata": {},
     "output_type": "display_data"
    },
    {
     "name": "stdout",
     "output_type": "stream",
     "text": [
      "Cross Val:\n",
      "Acc: 0.7750407830342577\n",
      "Precision: 0.5593869704293722\n",
      "Recall: 0.44051876617773944\n",
      "f1: 0.4923676463463152\n",
      "ROC AUC: 0.7673572700556346\n",
      "\n",
      "Model: RandomForestClassifier(max_depth=40, random_state=0)\n",
      "\n"
     ]
    },
    {
     "data": {
      "text/plain": [
       "array([[2005,  279],\n",
       "       [ 444,  338]], dtype=int64)"
      ]
     },
     "metadata": {},
     "output_type": "display_data"
    },
    {
     "name": "stdout",
     "output_type": "stream",
     "text": [
      "Cross Val:\n",
      "Acc: 0.7750407830342577\n",
      "Precision: 0.5593869704293722\n",
      "Recall: 0.44051876617773944\n",
      "f1: 0.4923676463463152\n",
      "ROC AUC: 0.7673572700556346\n",
      "\n",
      "Model: RandomForestClassifier(max_depth=45, random_state=0)\n",
      "\n"
     ]
    },
    {
     "data": {
      "text/plain": [
       "array([[2007,  277],\n",
       "       [ 442,  340]], dtype=int64)"
      ]
     },
     "metadata": {},
     "output_type": "display_data"
    },
    {
     "name": "stdout",
     "output_type": "stream",
     "text": [
      "Cross Val:\n",
      "Acc: 0.7755301794453506\n",
      "Precision: 0.5607302542106771\n",
      "Recall: 0.44051876617773944\n",
      "f1: 0.49292133482360667\n",
      "ROC AUC: 0.767394586049123\n",
      "\n",
      "Model: RandomForestClassifier(max_depth=45, random_state=0)\n",
      "\n"
     ]
    },
    {
     "data": {
      "text/plain": [
       "array([[2007,  277],\n",
       "       [ 442,  340]], dtype=int64)"
      ]
     },
     "metadata": {},
     "output_type": "display_data"
    },
    {
     "name": "stdout",
     "output_type": "stream",
     "text": [
      "Cross Val:\n",
      "Acc: 0.7755301794453506\n",
      "Precision: 0.5607302542106771\n",
      "Recall: 0.44051876617773944\n",
      "f1: 0.49292133482360667\n",
      "ROC AUC: 0.767394586049123\n",
      "\n",
      "Model: RandomForestClassifier(max_depth=5, random_state=0)\n",
      "\n"
     ]
    },
    {
     "data": {
      "text/plain": [
       "array([[2121,  176],\n",
       "       [ 524,  245]], dtype=int64)"
      ]
     },
     "metadata": {},
     "output_type": "display_data"
    },
    {
     "name": "stdout",
     "output_type": "stream",
     "text": [
      "Cross Val:\n",
      "Acc: 0.7788743882544862\n",
      "Precision: 0.6080880331941408\n",
      "Recall: 0.3165466623807993\n",
      "f1: 0.41574111019597176\n",
      "ROC AUC: 0.786863516480946\n",
      "\n",
      "Model: RandomForestClassifier(max_depth=5, random_state=0)\n",
      "\n"
     ]
    },
    {
     "data": {
      "text/plain": [
       "array([[2121,  176],\n",
       "       [ 524,  245]], dtype=int64)"
      ]
     },
     "metadata": {},
     "output_type": "display_data"
    },
    {
     "name": "stdout",
     "output_type": "stream",
     "text": [
      "Cross Val:\n",
      "Acc: 0.7788743882544862\n",
      "Precision: 0.6080880331941408\n",
      "Recall: 0.3165466623807993\n",
      "f1: 0.41574111019597176\n",
      "ROC AUC: 0.786863516480946\n",
      "\n",
      "Model: RandomForestClassifier(max_depth=10, random_state=0)\n",
      "\n"
     ]
    },
    {
     "data": {
      "text/plain": [
       "array([[2094,  203],\n",
       "       [ 472,  297]], dtype=int64)"
      ]
     },
     "metadata": {},
     "output_type": "display_data"
    },
    {
     "name": "stdout",
     "output_type": "stream",
     "text": [
      "Cross Val:\n",
      "Acc: 0.7808319738988581\n",
      "Precision: 0.5975490010748984\n",
      "Recall: 0.3708839601414336\n",
      "f1: 0.45703040870297934\n",
      "ROC AUC: 0.7935464679147276\n",
      "\n",
      "Model: RandomForestClassifier(max_depth=10, random_state=0)\n",
      "\n"
     ]
    },
    {
     "data": {
      "text/plain": [
       "array([[2094,  203],\n",
       "       [ 472,  297]], dtype=int64)"
      ]
     },
     "metadata": {},
     "output_type": "display_data"
    },
    {
     "name": "stdout",
     "output_type": "stream",
     "text": [
      "Cross Val:\n",
      "Acc: 0.7808319738988581\n",
      "Precision: 0.5975490010748984\n",
      "Recall: 0.3708839601414336\n",
      "f1: 0.45703040870297934\n",
      "ROC AUC: 0.7935464679147276\n",
      "\n",
      "Model: RandomForestClassifier(max_depth=15, random_state=0)\n",
      "\n"
     ]
    },
    {
     "data": {
      "text/plain": [
       "array([[2039,  258],\n",
       "       [ 427,  342]], dtype=int64)"
      ]
     },
     "metadata": {},
     "output_type": "display_data"
    },
    {
     "name": "stdout",
     "output_type": "stream",
     "text": [
      "Cross Val:\n",
      "Acc: 0.7805057096247962\n",
      "Precision: 0.5807409195467755\n",
      "Recall: 0.4324247294546234\n",
      "f1: 0.49540665392731215\n",
      "ROC AUC: 0.7892865750785585\n",
      "\n",
      "Model: RandomForestClassifier(max_depth=15, random_state=0)\n",
      "\n"
     ]
    },
    {
     "data": {
      "text/plain": [
       "array([[2039,  258],\n",
       "       [ 427,  342]], dtype=int64)"
      ]
     },
     "metadata": {},
     "output_type": "display_data"
    },
    {
     "name": "stdout",
     "output_type": "stream",
     "text": [
      "Cross Val:\n",
      "Acc: 0.7805057096247962\n",
      "Precision: 0.5807409195467755\n",
      "Recall: 0.4324247294546234\n",
      "f1: 0.49540665392731215\n",
      "ROC AUC: 0.7892865750785585\n",
      "\n",
      "Model: RandomForestClassifier(max_depth=20, random_state=0)\n",
      "\n"
     ]
    },
    {
     "data": {
      "text/plain": [
       "array([[2035,  262],\n",
       "       [ 438,  331]], dtype=int64)"
      ]
     },
     "metadata": {},
     "output_type": "display_data"
    },
    {
     "name": "stdout",
     "output_type": "stream",
     "text": [
      "Cross Val:\n",
      "Acc: 0.7752039151712887\n",
      "Precision: 0.5659076343112734\n",
      "Recall: 0.429143897996357\n",
      "f1: 0.48771549556352395\n",
      "ROC AUC: 0.7794122566610571\n",
      "\n",
      "Model: RandomForestClassifier(max_depth=20, random_state=0)\n",
      "\n"
     ]
    },
    {
     "data": {
      "text/plain": [
       "array([[2035,  262],\n",
       "       [ 438,  331]], dtype=int64)"
      ]
     },
     "metadata": {},
     "output_type": "display_data"
    },
    {
     "name": "stdout",
     "output_type": "stream",
     "text": [
      "Cross Val:\n",
      "Acc: 0.7752039151712887\n",
      "Precision: 0.5659076343112734\n",
      "Recall: 0.429143897996357\n",
      "f1: 0.48771549556352395\n",
      "ROC AUC: 0.7794122566610571\n",
      "\n",
      "Model: RandomForestClassifier(max_depth=25, random_state=0)\n",
      "\n"
     ]
    },
    {
     "data": {
      "text/plain": [
       "array([[2029,  268],\n",
       "       [ 438,  331]], dtype=int64)"
      ]
     },
     "metadata": {},
     "output_type": "display_data"
    },
    {
     "name": "stdout",
     "output_type": "stream",
     "text": [
      "Cross Val:\n",
      "Acc: 0.7689233278955955\n",
      "Precision: 0.5490647583692363\n",
      "Recall: 0.4170341797921354\n",
      "f1: 0.4736275501250501\n",
      "ROC AUC: 0.7659396251748456\n",
      "\n",
      "Model: RandomForestClassifier(max_depth=25, random_state=0)\n",
      "\n"
     ]
    },
    {
     "data": {
      "text/plain": [
       "array([[2029,  268],\n",
       "       [ 438,  331]], dtype=int64)"
      ]
     },
     "metadata": {},
     "output_type": "display_data"
    },
    {
     "name": "stdout",
     "output_type": "stream",
     "text": [
      "Cross Val:\n",
      "Acc: 0.7689233278955955\n",
      "Precision: 0.5490647583692363\n",
      "Recall: 0.4170341797921354\n",
      "f1: 0.4736275501250501\n",
      "ROC AUC: 0.7659396251748456\n",
      "\n",
      "Model: RandomForestClassifier(max_depth=30, random_state=0)\n",
      "\n"
     ]
    },
    {
     "data": {
      "text/plain": [
       "array([[2034,  263],\n",
       "       [ 433,  336]], dtype=int64)"
      ]
     },
     "metadata": {},
     "output_type": "display_data"
    },
    {
     "name": "stdout",
     "output_type": "stream",
     "text": [
      "Cross Val:\n",
      "Acc: 0.7687601957585645\n",
      "Precision: 0.5483409345227857\n",
      "Recall: 0.4176759884281582\n",
      "f1: 0.473898605988456\n",
      "ROC AUC: 0.7619188516695664\n",
      "\n",
      "Model: RandomForestClassifier(max_depth=30, random_state=0)\n",
      "\n"
     ]
    },
    {
     "data": {
      "text/plain": [
       "array([[2034,  263],\n",
       "       [ 433,  336]], dtype=int64)"
      ]
     },
     "metadata": {},
     "output_type": "display_data"
    },
    {
     "name": "stdout",
     "output_type": "stream",
     "text": [
      "Cross Val:\n",
      "Acc: 0.7687601957585645\n",
      "Precision: 0.5483409345227857\n",
      "Recall: 0.4176759884281582\n",
      "f1: 0.473898605988456\n",
      "ROC AUC: 0.7619188516695664\n",
      "\n",
      "Model: RandomForestClassifier(max_depth=35, random_state=0)\n",
      "\n"
     ]
    },
    {
     "data": {
      "text/plain": [
       "array([[2034,  263],\n",
       "       [ 431,  338]], dtype=int64)"
      ]
     },
     "metadata": {},
     "output_type": "display_data"
    },
    {
     "name": "stdout",
     "output_type": "stream",
     "text": [
      "Cross Val:\n",
      "Acc: 0.7679445350734094\n",
      "Precision: 0.5451607678774771\n",
      "Recall: 0.42357119897139184\n",
      "f1: 0.4764656914990374\n",
      "ROC AUC: 0.7590373246406281\n",
      "\n",
      "Model: RandomForestClassifier(max_depth=35, random_state=0)\n",
      "\n"
     ]
    },
    {
     "data": {
      "text/plain": [
       "array([[2034,  263],\n",
       "       [ 431,  338]], dtype=int64)"
      ]
     },
     "metadata": {},
     "output_type": "display_data"
    },
    {
     "name": "stdout",
     "output_type": "stream",
     "text": [
      "Cross Val:\n",
      "Acc: 0.7679445350734094\n",
      "Precision: 0.5451607678774771\n",
      "Recall: 0.42357119897139184\n",
      "f1: 0.4764656914990374\n",
      "ROC AUC: 0.7590373246406281\n",
      "\n",
      "Model: RandomForestClassifier(max_depth=40, random_state=0)\n",
      "\n"
     ]
    },
    {
     "data": {
      "text/plain": [
       "array([[2036,  261],\n",
       "       [ 427,  342]], dtype=int64)"
      ]
     },
     "metadata": {},
     "output_type": "display_data"
    },
    {
     "name": "stdout",
     "output_type": "stream",
     "text": [
      "Cross Val:\n",
      "Acc: 0.767536704730832\n",
      "Precision: 0.5444621225363258\n",
      "Recall: 0.4206310939676417\n",
      "f1: 0.4742848520241559\n",
      "ROC AUC: 0.7584427318558411\n",
      "\n",
      "Model: RandomForestClassifier(max_depth=40, random_state=0)\n",
      "\n"
     ]
    },
    {
     "data": {
      "text/plain": [
       "array([[2036,  261],\n",
       "       [ 427,  342]], dtype=int64)"
      ]
     },
     "metadata": {},
     "output_type": "display_data"
    },
    {
     "name": "stdout",
     "output_type": "stream",
     "text": [
      "Cross Val:\n",
      "Acc: 0.767536704730832\n",
      "Precision: 0.5444621225363258\n",
      "Recall: 0.4206310939676417\n",
      "f1: 0.4742848520241559\n",
      "ROC AUC: 0.7584427318558411\n",
      "\n",
      "Model: RandomForestClassifier(max_depth=45, random_state=0)\n",
      "\n"
     ]
    },
    {
     "data": {
      "text/plain": [
       "array([[2034,  263],\n",
       "       [ 428,  341]], dtype=int64)"
      ]
     },
     "metadata": {},
     "output_type": "display_data"
    },
    {
     "name": "stdout",
     "output_type": "stream",
     "text": [
      "Cross Val:\n",
      "Acc: 0.7669657422512235\n",
      "Precision: 0.5429981432198502\n",
      "Recall: 0.4186660237865638\n",
      "f1: 0.4724902681494549\n",
      "ROC AUC: 0.7583976735626431\n",
      "\n",
      "Model: RandomForestClassifier(max_depth=45, random_state=0)\n",
      "\n"
     ]
    },
    {
     "data": {
      "text/plain": [
       "array([[2034,  263],\n",
       "       [ 428,  341]], dtype=int64)"
      ]
     },
     "metadata": {},
     "output_type": "display_data"
    },
    {
     "name": "stdout",
     "output_type": "stream",
     "text": [
      "Cross Val:\n",
      "Acc: 0.7669657422512235\n",
      "Precision: 0.5429981432198502\n",
      "Recall: 0.4186660237865638\n",
      "f1: 0.4724902681494549\n",
      "ROC AUC: 0.7583976735626431\n",
      "\n",
      "Model: RandomForestClassifier(max_depth=5, random_state=0)\n",
      "\n"
     ]
    },
    {
     "data": {
      "text/plain": [
       "array([[2150,  166],\n",
       "       [ 506,  244]], dtype=int64)"
      ]
     },
     "metadata": {},
     "output_type": "display_data"
    },
    {
     "name": "stdout",
     "output_type": "stream",
     "text": [
      "Cross Val:\n",
      "Acc: 0.7773246329526916\n",
      "Precision: 0.606646362445322\n",
      "Recall: 0.31846524810694193\n",
      "f1: 0.41758913066732484\n",
      "ROC AUC: 0.7873591564956137\n",
      "\n",
      "Model: RandomForestClassifier(max_depth=5, random_state=0)\n",
      "\n"
     ]
    },
    {
     "data": {
      "text/plain": [
       "array([[2150,  166],\n",
       "       [ 506,  244]], dtype=int64)"
      ]
     },
     "metadata": {},
     "output_type": "display_data"
    },
    {
     "name": "stdout",
     "output_type": "stream",
     "text": [
      "Cross Val:\n",
      "Acc: 0.7773246329526916\n",
      "Precision: 0.606646362445322\n",
      "Recall: 0.31846524810694193\n",
      "f1: 0.41758913066732484\n",
      "ROC AUC: 0.7873591564956137\n",
      "\n",
      "Model: RandomForestClassifier(max_depth=10, random_state=0)\n",
      "\n"
     ]
    },
    {
     "data": {
      "text/plain": [
       "array([[2103,  213],\n",
       "       [ 465,  285]], dtype=int64)"
      ]
     },
     "metadata": {},
     "output_type": "display_data"
    },
    {
     "name": "stdout",
     "output_type": "stream",
     "text": [
      "Cross Val:\n",
      "Acc: 0.7811582381729201\n",
      "Precision: 0.595333036003814\n",
      "Recall: 0.39751046998604006\n",
      "f1: 0.47649286611023867\n",
      "ROC AUC: 0.7930412795203462\n",
      "\n",
      "Model: RandomForestClassifier(max_depth=10, random_state=0)\n",
      "\n"
     ]
    },
    {
     "data": {
      "text/plain": [
       "array([[2103,  213],\n",
       "       [ 465,  285]], dtype=int64)"
      ]
     },
     "metadata": {},
     "output_type": "display_data"
    },
    {
     "name": "stdout",
     "output_type": "stream",
     "text": [
      "Cross Val:\n",
      "Acc: 0.7811582381729201\n",
      "Precision: 0.595333036003814\n",
      "Recall: 0.39751046998604006\n",
      "f1: 0.47649286611023867\n",
      "ROC AUC: 0.7930412795203462\n",
      "\n",
      "Model: RandomForestClassifier(max_depth=15, random_state=0)\n",
      "\n"
     ]
    },
    {
     "data": {
      "text/plain": [
       "array([[2068,  248],\n",
       "       [ 424,  326]], dtype=int64)"
      ]
     },
     "metadata": {},
     "output_type": "display_data"
    },
    {
     "name": "stdout",
     "output_type": "stream",
     "text": [
      "Cross Val:\n",
      "Acc: 0.783605220228385\n",
      "Precision: 0.5880051630902798\n",
      "Recall: 0.4586573036084437\n",
      "f1: 0.5147856750558365\n",
      "ROC AUC: 0.7917550240329108\n",
      "\n",
      "Model: RandomForestClassifier(max_depth=15, random_state=0)\n",
      "\n"
     ]
    },
    {
     "data": {
      "text/plain": [
       "array([[2068,  248],\n",
       "       [ 424,  326]], dtype=int64)"
      ]
     },
     "metadata": {},
     "output_type": "display_data"
    },
    {
     "name": "stdout",
     "output_type": "stream",
     "text": [
      "Cross Val:\n",
      "Acc: 0.783605220228385\n",
      "Precision: 0.5880051630902798\n",
      "Recall: 0.4586573036084437\n",
      "f1: 0.5147856750558365\n",
      "ROC AUC: 0.7917550240329108\n",
      "\n",
      "Model: RandomForestClassifier(max_depth=20, random_state=0)\n",
      "\n"
     ]
    },
    {
     "data": {
      "text/plain": [
       "array([[2040,  276],\n",
       "       [ 421,  329]], dtype=int64)"
      ]
     },
     "metadata": {},
     "output_type": "display_data"
    },
    {
     "name": "stdout",
     "output_type": "stream",
     "text": [
      "Cross Val:\n",
      "Acc: 0.7813213703099511\n",
      "Precision: 0.58181472912642\n",
      "Recall: 0.45540314734125803\n",
      "f1: 0.510634827131557\n",
      "ROC AUC: 0.7831833732635876\n",
      "\n",
      "Model: RandomForestClassifier(max_depth=20, random_state=0)\n",
      "\n"
     ]
    },
    {
     "data": {
      "text/plain": [
       "array([[2040,  276],\n",
       "       [ 421,  329]], dtype=int64)"
      ]
     },
     "metadata": {},
     "output_type": "display_data"
    },
    {
     "name": "stdout",
     "output_type": "stream",
     "text": [
      "Cross Val:\n",
      "Acc: 0.7813213703099511\n",
      "Precision: 0.58181472912642\n",
      "Recall: 0.45540314734125803\n",
      "f1: 0.510634827131557\n",
      "ROC AUC: 0.7831833732635876\n",
      "\n",
      "Model: RandomForestClassifier(max_depth=25, random_state=0)\n",
      "\n"
     ]
    },
    {
     "data": {
      "text/plain": [
       "array([[2030,  286],\n",
       "       [ 427,  323]], dtype=int64)"
      ]
     },
     "metadata": {},
     "output_type": "display_data"
    },
    {
     "name": "stdout",
     "output_type": "stream",
     "text": [
      "Cross Val:\n",
      "Acc: 0.7767536704730832\n",
      "Precision: 0.5694273606850079\n",
      "Recall: 0.449864630483523\n",
      "f1: 0.5020004202691458\n",
      "ROC AUC: 0.7734122334015041\n",
      "\n",
      "Model: RandomForestClassifier(max_depth=25, random_state=0)\n",
      "\n"
     ]
    },
    {
     "data": {
      "text/plain": [
       "array([[2030,  286],\n",
       "       [ 427,  323]], dtype=int64)"
      ]
     },
     "metadata": {},
     "output_type": "display_data"
    },
    {
     "name": "stdout",
     "output_type": "stream",
     "text": [
      "Cross Val:\n",
      "Acc: 0.7767536704730832\n",
      "Precision: 0.5694273606850079\n",
      "Recall: 0.449864630483523\n",
      "f1: 0.5020004202691458\n",
      "ROC AUC: 0.7734122334015041\n",
      "\n",
      "Model: RandomForestClassifier(max_depth=30, random_state=0)\n",
      "\n"
     ]
    },
    {
     "data": {
      "text/plain": [
       "array([[2029,  287],\n",
       "       [ 433,  317]], dtype=int64)"
      ]
     },
     "metadata": {},
     "output_type": "display_data"
    },
    {
     "name": "stdout",
     "output_type": "stream",
     "text": [
      "Cross Val:\n",
      "Acc: 0.7743882544861338\n",
      "Precision: 0.5638734145769613\n",
      "Recall: 0.44304750623968864\n",
      "f1: 0.4957760198270488\n",
      "ROC AUC: 0.7679797335439329\n",
      "\n",
      "Model: RandomForestClassifier(max_depth=30, random_state=0)\n",
      "\n"
     ]
    },
    {
     "data": {
      "text/plain": [
       "array([[2029,  287],\n",
       "       [ 433,  317]], dtype=int64)"
      ]
     },
     "metadata": {},
     "output_type": "display_data"
    },
    {
     "name": "stdout",
     "output_type": "stream",
     "text": [
      "Cross Val:\n",
      "Acc: 0.7743882544861338\n",
      "Precision: 0.5638734145769613\n",
      "Recall: 0.44304750623968864\n",
      "f1: 0.4957760198270488\n",
      "ROC AUC: 0.7679797335439329\n",
      "\n",
      "Model: RandomForestClassifier(max_depth=35, random_state=0)\n",
      "\n"
     ]
    },
    {
     "data": {
      "text/plain": [
       "array([[2030,  286],\n",
       "       [ 431,  319]], dtype=int64)"
      ]
     },
     "metadata": {},
     "output_type": "display_data"
    },
    {
     "name": "stdout",
     "output_type": "stream",
     "text": [
      "Cross Val:\n",
      "Acc: 0.7737357259380098\n",
      "Precision: 0.5618349574131762\n",
      "Recall: 0.4423939252929481\n",
      "f1: 0.4947259378240593\n",
      "ROC AUC: 0.7657801478978121\n",
      "\n",
      "Model: RandomForestClassifier(max_depth=35, random_state=0)\n",
      "\n"
     ]
    },
    {
     "data": {
      "text/plain": [
       "array([[2030,  286],\n",
       "       [ 431,  319]], dtype=int64)"
      ]
     },
     "metadata": {},
     "output_type": "display_data"
    },
    {
     "name": "stdout",
     "output_type": "stream",
     "text": [
      "Cross Val:\n",
      "Acc: 0.7737357259380098\n",
      "Precision: 0.5618349574131762\n",
      "Recall: 0.4423939252929481\n",
      "f1: 0.4947259378240593\n",
      "ROC AUC: 0.7657801478978121\n",
      "\n",
      "Model: RandomForestClassifier(max_depth=40, random_state=0)\n",
      "\n"
     ]
    },
    {
     "data": {
      "text/plain": [
       "array([[2023,  293],\n",
       "       [ 427,  323]], dtype=int64)"
      ]
     },
     "metadata": {},
     "output_type": "display_data"
    },
    {
     "name": "stdout",
     "output_type": "stream",
     "text": [
      "Cross Val:\n",
      "Acc: 0.7735725938009788\n",
      "Precision: 0.5618752668399682\n",
      "Recall: 0.44012014044587333\n",
      "f1: 0.4932343774684601\n",
      "ROC AUC: 0.7655380904948472\n",
      "\n",
      "Model: RandomForestClassifier(max_depth=40, random_state=0)\n",
      "\n"
     ]
    },
    {
     "data": {
      "text/plain": [
       "array([[2023,  293],\n",
       "       [ 427,  323]], dtype=int64)"
      ]
     },
     "metadata": {},
     "output_type": "display_data"
    },
    {
     "name": "stdout",
     "output_type": "stream",
     "text": [
      "Cross Val:\n",
      "Acc: 0.7735725938009788\n",
      "Precision: 0.5618752668399682\n",
      "Recall: 0.44012014044587333\n",
      "f1: 0.4932343774684601\n",
      "ROC AUC: 0.7655380904948472\n",
      "\n",
      "Model: RandomForestClassifier(max_depth=45, random_state=0)\n",
      "\n"
     ]
    },
    {
     "data": {
      "text/plain": [
       "array([[2024,  292],\n",
       "       [ 427,  323]], dtype=int64)"
      ]
     },
     "metadata": {},
     "output_type": "display_data"
    },
    {
     "name": "stdout",
     "output_type": "stream",
     "text": [
      "Cross Val:\n",
      "Acc: 0.7740619902120718\n",
      "Precision: 0.5630213638959288\n",
      "Recall: 0.44174668979229237\n",
      "f1: 0.4947195953123192\n",
      "ROC AUC: 0.7656232269346905\n",
      "\n",
      "Model: RandomForestClassifier(max_depth=45, random_state=0)\n",
      "\n"
     ]
    },
    {
     "data": {
      "text/plain": [
       "array([[2024,  292],\n",
       "       [ 427,  323]], dtype=int64)"
      ]
     },
     "metadata": {},
     "output_type": "display_data"
    },
    {
     "name": "stdout",
     "output_type": "stream",
     "text": [
      "Cross Val:\n",
      "Acc: 0.7740619902120718\n",
      "Precision: 0.5630213638959288\n",
      "Recall: 0.44174668979229237\n",
      "f1: 0.4947195953123192\n",
      "ROC AUC: 0.7656232269346905\n"
     ]
    }
   ],
   "source": [
    "#Model Test                                   \n",
    "for scale in [True,False]:\n",
    "    for normalize in [True,False]:\n",
    "            \n",
    "        #Extracting and Cleaning Data\n",
    "        data_cleaned = Data_Cleaning(pd.read_csv('z_train.csv'), \n",
    "                                     scale = scale, \n",
    "                                     normalize = normalize)\n",
    "        \n",
    "        #Train, Test Split\n",
    "        X = data_cleaned.drop(['target','enrollee_id'], axis = 1) \n",
    "        y = data_cleaned['target']\n",
    "        X_train, X_test, y_train, y_test = train_test_split(X, y, \n",
    "                                                            test_size=0.2)\n",
    "\n",
    "        X_train_fs_chi, X_test_fs_chi = select_features(X_train, y_train, X_test, \n",
    "                                                        chi2, \n",
    "                                                        k = k_chi)\n",
    "        X_train_fs_mic, X_test_fs_mic = select_features(X_train, y_train, X_test, \n",
    "                                                        mutual_info_classif, \n",
    "                                                        k = k_mic)\n",
    "        \n",
    "        \n",
    "        for max_depth in np.arange(5,50,5):\n",
    "            a = ModelTest(RandomForestClassifier(max_depth=max_depth,\n",
    "                                                random_state=0), #Model    \n",
    "                          X_train = X_train_fs_chi, X_test = X_test_fs_chi,\n",
    "                          y_train = y_train, y_test = y_test,\n",
    "                          typ = 'chi',\n",
    "                          k = k_chi)\n",
    "            metricss.append((a, \"scale: \" + str(scale), \"normalize:\" + str(normalize)))\n",
    "\n",
    "            a = ModelTest(RandomForestClassifier(max_depth=max_depth,\n",
    "                                                random_state=0), #Model          \n",
    "                          X_train = X_train_fs_mic, X_test = X_test_fs_mic,  #Best\n",
    "                          y_train = y_train, y_test = y_test,\n",
    "                          typ = 'mic',\n",
    "                          k = k_mic)\n",
    "            metricss.append((a, \"scale: \" + str(scale), \"normalize:\" + str(normalize)))"
   ]
  },
  {
   "cell_type": "code",
   "execution_count": 32,
   "metadata": {},
   "outputs": [
    {
     "name": "stdout",
     "output_type": "stream",
     "text": [
      "\n",
      "Model: KNeighborsClassifier()\n",
      "\n"
     ]
    },
    {
     "data": {
      "text/plain": [
       "array([[1984,  296],\n",
       "       [ 436,  350]], dtype=int64)"
      ]
     },
     "metadata": {},
     "output_type": "display_data"
    },
    {
     "name": "stdout",
     "output_type": "stream",
     "text": [
      "Cross Val:\n",
      "Acc: 0.7679445350734094\n",
      "Precision: 0.5381946012159002\n",
      "Recall: 0.43779312141740495\n",
      "f1: 0.4825769535351676\n",
      "ROC AUC: 0.7427344444056092\n",
      "\n",
      "Model: KNeighborsClassifier(weights='distance')\n",
      "\n"
     ]
    },
    {
     "data": {
      "text/plain": [
       "array([[1962,  318],\n",
       "       [ 443,  343]], dtype=int64)"
      ]
     },
     "metadata": {},
     "output_type": "display_data"
    },
    {
     "name": "stdout",
     "output_type": "stream",
     "text": [
      "Cross Val:\n",
      "Acc: 0.7624796084828711\n",
      "Precision: 0.5250266150766791\n",
      "Recall: 0.4321901598054542\n",
      "f1: 0.47379359739522175\n",
      "ROC AUC: 0.7323363084414445\n",
      "\n",
      "Model: KNeighborsClassifier(n_neighbors=10)\n",
      "\n"
     ]
    },
    {
     "data": {
      "text/plain": [
       "array([[2074,  206],\n",
       "       [ 512,  274]], dtype=int64)"
      ]
     },
     "metadata": {},
     "output_type": "display_data"
    },
    {
     "name": "stdout",
     "output_type": "stream",
     "text": [
      "Cross Val:\n",
      "Acc: 0.7703099510603588\n",
      "Precision: 0.5587280642715052\n",
      "Recall: 0.3462686729199235\n",
      "f1: 0.427352639754538\n",
      "ROC AUC: 0.7643191774855291\n",
      "\n",
      "Model: KNeighborsClassifier(n_neighbors=10, weights='distance')\n",
      "\n"
     ]
    },
    {
     "data": {
      "text/plain": [
       "array([[2004,  276],\n",
       "       [ 464,  322]], dtype=int64)"
      ]
     },
     "metadata": {},
     "output_type": "display_data"
    },
    {
     "name": "stdout",
     "output_type": "stream",
     "text": [
      "Cross Val:\n",
      "Acc: 0.7699836867862968\n",
      "Precision: 0.5451530602522408\n",
      "Recall: 0.4302186468646864\n",
      "f1: 0.48077667707055943\n",
      "ROC AUC: 0.7505441810703543\n",
      "\n",
      "Model: KNeighborsClassifier(n_neighbors=15)\n",
      "\n"
     ]
    },
    {
     "data": {
      "text/plain": [
       "array([[2025,  255],\n",
       "       [ 436,  350]], dtype=int64)"
      ]
     },
     "metadata": {},
     "output_type": "display_data"
    },
    {
     "name": "stdout",
     "output_type": "stream",
     "text": [
      "Cross Val:\n",
      "Acc: 0.7749592169657422\n",
      "Precision: 0.5593926937135778\n",
      "Recall: 0.4331672311968039\n",
      "f1: 0.4880952870631985\n",
      "ROC AUC: 0.7728553615345508\n",
      "\n",
      "Model: KNeighborsClassifier(n_neighbors=15, weights='distance')\n",
      "\n"
     ]
    },
    {
     "data": {
      "text/plain": [
       "array([[2006,  274],\n",
       "       [ 453,  333]], dtype=int64)"
      ]
     },
     "metadata": {},
     "output_type": "display_data"
    },
    {
     "name": "stdout",
     "output_type": "stream",
     "text": [
      "Cross Val:\n",
      "Acc: 0.7741435562805873\n",
      "Precision: 0.5570307158496179\n",
      "Recall: 0.4321869029008164\n",
      "f1: 0.4865471044974835\n",
      "ROC AUC: 0.7592995979645608\n",
      "\n",
      "Model: KNeighborsClassifier(n_neighbors=20)\n",
      "\n"
     ]
    },
    {
     "data": {
      "text/plain": [
       "array([[2073,  207],\n",
       "       [ 482,  304]], dtype=int64)"
      ]
     },
     "metadata": {},
     "output_type": "display_data"
    },
    {
     "name": "stdout",
     "output_type": "stream",
     "text": [
      "Cross Val:\n",
      "Acc: 0.7724306688417618\n",
      "Precision: 0.5623352064784\n",
      "Recall: 0.3726116032655897\n",
      "f1: 0.4480083475680935\n",
      "ROC AUC: 0.7787448219750378\n",
      "\n",
      "Model: KNeighborsClassifier(n_neighbors=20, weights='distance')\n",
      "\n"
     ]
    },
    {
     "data": {
      "text/plain": [
       "array([[2025,  255],\n",
       "       [ 451,  335]], dtype=int64)"
      ]
     },
     "metadata": {},
     "output_type": "display_data"
    },
    {
     "name": "stdout",
     "output_type": "stream",
     "text": [
      "Cross Val:\n",
      "Acc: 0.7745513866231647\n",
      "Precision: 0.5593608894650586\n",
      "Recall: 0.4239653899600486\n",
      "f1: 0.4822340532823922\n",
      "ROC AUC: 0.764688807692593\n",
      "\n",
      "Model: KNeighborsClassifier(n_neighbors=25)\n",
      "\n"
     ]
    },
    {
     "data": {
      "text/plain": [
       "array([[2052,  228],\n",
       "       [ 447,  339]], dtype=int64)"
      ]
     },
     "metadata": {},
     "output_type": "display_data"
    },
    {
     "name": "stdout",
     "output_type": "stream",
     "text": [
      "Cross Val:\n",
      "Acc: 0.7795269168026102\n",
      "Precision: 0.5728456299156633\n",
      "Recall: 0.4351702275490707\n",
      "f1: 0.49450619129772716\n",
      "ROC AUC: 0.7823966580187648\n",
      "\n",
      "Model: KNeighborsClassifier(n_neighbors=25, weights='distance')\n",
      "\n"
     ]
    },
    {
     "data": {
      "text/plain": [
       "array([[2024,  256],\n",
       "       [ 456,  330]], dtype=int64)"
      ]
     },
     "metadata": {},
     "output_type": "display_data"
    },
    {
     "name": "stdout",
     "output_type": "stream",
     "text": [
      "Cross Val:\n",
      "Acc: 0.7759380097879282\n",
      "Precision: 0.5626861554651093\n",
      "Recall: 0.4289093712002779\n",
      "f1: 0.4866622998837033\n",
      "ROC AUC: 0.7685202417781711\n",
      "\n",
      "Model: KNeighborsClassifier(n_neighbors=30)\n",
      "\n"
     ]
    },
    {
     "data": {
      "text/plain": [
       "array([[2066,  214],\n",
       "       [ 477,  309]], dtype=int64)"
      ]
     },
     "metadata": {},
     "output_type": "display_data"
    },
    {
     "name": "stdout",
     "output_type": "stream",
     "text": [
      "Cross Val:\n",
      "Acc: 0.7758564437194126\n",
      "Precision: 0.5703347643375718\n",
      "Recall: 0.38974183602570783\n",
      "f1: 0.4628609927004196\n",
      "ROC AUC: 0.7853490520037061\n",
      "\n",
      "Model: KNeighborsClassifier(n_neighbors=30, weights='distance')\n",
      "\n"
     ]
    },
    {
     "data": {
      "text/plain": [
       "array([[2032,  248],\n",
       "       [ 459,  327]], dtype=int64)"
      ]
     },
     "metadata": {},
     "output_type": "display_data"
    },
    {
     "name": "stdout",
     "output_type": "stream",
     "text": [
      "Cross Val:\n",
      "Acc: 0.7746329526916803\n",
      "Precision: 0.5598092258087621\n",
      "Recall: 0.4226571999305193\n",
      "f1: 0.4815785699432231\n",
      "ROC AUC: 0.7714671071490621\n",
      "\n",
      "Model: KNeighborsClassifier(n_neighbors=35)\n",
      "\n"
     ]
    },
    {
     "data": {
      "text/plain": [
       "array([[2036,  244],\n",
       "       [ 455,  331]], dtype=int64)"
      ]
     },
     "metadata": {},
     "output_type": "display_data"
    },
    {
     "name": "stdout",
     "output_type": "stream",
     "text": [
      "Cross Val:\n",
      "Acc: 0.780668841761827\n",
      "Precision: 0.5772419311298014\n",
      "Recall: 0.43121634531874237\n",
      "f1: 0.49357514491556476\n",
      "ROC AUC: 0.786355573471412\n",
      "\n",
      "Model: KNeighborsClassifier(n_neighbors=35, weights='distance')\n",
      "\n"
     ]
    },
    {
     "data": {
      "text/plain": [
       "array([[2029,  251],\n",
       "       [ 459,  327]], dtype=int64)"
      ]
     },
     "metadata": {},
     "output_type": "display_data"
    },
    {
     "name": "stdout",
     "output_type": "stream",
     "text": [
      "Cross Val:\n",
      "Acc: 0.7774061990212072\n",
      "Precision: 0.567847584243647\n",
      "Recall: 0.4256177262463089\n",
      "f1: 0.4864624751029691\n",
      "ROC AUC: 0.7726957634589768\n",
      "\n",
      "Model: KNeighborsClassifier(n_neighbors=40)\n",
      "\n"
     ]
    },
    {
     "data": {
      "text/plain": [
       "array([[2063,  217],\n",
       "       [ 477,  309]], dtype=int64)"
      ]
     },
     "metadata": {},
     "output_type": "display_data"
    },
    {
     "name": "stdout",
     "output_type": "stream",
     "text": [
      "Cross Val:\n",
      "Acc: 0.7792006525285481\n",
      "Precision: 0.5793394863585496\n",
      "Recall: 0.39698302067048813\n",
      "f1: 0.47096989684570484\n",
      "ROC AUC: 0.7874262534759151\n",
      "\n",
      "Model: KNeighborsClassifier(n_neighbors=40, weights='distance')\n",
      "\n"
     ]
    },
    {
     "data": {
      "text/plain": [
       "array([[2036,  244],\n",
       "       [ 459,  327]], dtype=int64)"
      ]
     },
     "metadata": {},
     "output_type": "display_data"
    },
    {
     "name": "stdout",
     "output_type": "stream",
     "text": [
      "Cross Val:\n",
      "Acc: 0.7770799347471453\n",
      "Precision: 0.5673350101900229\n",
      "Recall: 0.4210102918186555\n",
      "f1: 0.4831858593612831\n",
      "ROC AUC: 0.7737399141223797\n",
      "\n",
      "Model: KNeighborsClassifier(n_neighbors=45)\n",
      "\n"
     ]
    },
    {
     "data": {
      "text/plain": [
       "array([[2045,  235],\n",
       "       [ 461,  325]], dtype=int64)"
      ]
     },
     "metadata": {},
     "output_type": "display_data"
    },
    {
     "name": "stdout",
     "output_type": "stream",
     "text": [
      "Cross Val:\n",
      "Acc: 0.7801794453507341\n",
      "Precision: 0.5794259062274334\n",
      "Recall: 0.4114675612298072\n",
      "f1: 0.4811023567922537\n",
      "ROC AUC: 0.7890103680900787\n",
      "\n",
      "Model: KNeighborsClassifier(n_neighbors=45, weights='distance')\n",
      "\n"
     ]
    },
    {
     "data": {
      "text/plain": [
       "array([[2039,  241],\n",
       "       [ 459,  327]], dtype=int64)"
      ]
     },
     "metadata": {},
     "output_type": "display_data"
    },
    {
     "name": "stdout",
     "output_type": "stream",
     "text": [
      "Cross Val:\n",
      "Acc: 0.7767536704730833\n",
      "Precision: 0.5666519969351388\n",
      "Recall: 0.4180454229633489\n",
      "f1: 0.4809488442083108\n",
      "ROC AUC: 0.7754610929848802\n",
      "\n",
      "Model: KNeighborsClassifier()\n",
      "\n"
     ]
    },
    {
     "data": {
      "text/plain": [
       "array([[2012,  290],\n",
       "       [ 432,  332]], dtype=int64)"
      ]
     },
     "metadata": {},
     "output_type": "display_data"
    },
    {
     "name": "stdout",
     "output_type": "stream",
     "text": [
      "Cross Val:\n",
      "Acc: 0.7681892332789559\n",
      "Precision: 0.5445109077165933\n",
      "Recall: 0.4454248366013072\n",
      "f1: 0.4894368736951626\n",
      "ROC AUC: 0.746825092355783\n",
      "\n",
      "Model: KNeighborsClassifier(weights='distance')\n",
      "\n"
     ]
    },
    {
     "data": {
      "text/plain": [
       "array([[1998,  304],\n",
       "       [ 447,  317]], dtype=int64)"
      ]
     },
     "metadata": {},
     "output_type": "display_data"
    },
    {
     "name": "stdout",
     "output_type": "stream",
     "text": [
      "Cross Val:\n",
      "Acc: 0.7594616639477977\n",
      "Precision: 0.5225067403155024\n",
      "Recall: 0.4352941176470588\n",
      "f1: 0.4744666027258872\n",
      "ROC AUC: 0.7319229539641944\n",
      "\n",
      "Model: KNeighborsClassifier(n_neighbors=10)\n",
      "\n"
     ]
    },
    {
     "data": {
      "text/plain": [
       "array([[2063,  239],\n",
       "       [ 508,  256]], dtype=int64)"
      ]
     },
     "metadata": {},
     "output_type": "display_data"
    },
    {
     "name": "stdout",
     "output_type": "stream",
     "text": [
      "Cross Val:\n",
      "Acc: 0.7756117455138662\n",
      "Precision: 0.5799055672624343\n",
      "Recall: 0.3715686274509804\n",
      "f1: 0.45261568264981766\n",
      "ROC AUC: 0.7723630647911338\n",
      "\n",
      "Model: KNeighborsClassifier(n_neighbors=10, weights='distance')\n",
      "\n"
     ]
    },
    {
     "data": {
      "text/plain": [
       "array([[1998,  304],\n",
       "       [ 453,  311]], dtype=int64)"
      ]
     },
     "metadata": {},
     "output_type": "display_data"
    },
    {
     "name": "stdout",
     "output_type": "stream",
     "text": [
      "Cross Val:\n",
      "Acc: 0.7674551386623165\n",
      "Precision: 0.5431793078875186\n",
      "Recall: 0.434967320261438\n",
      "f1: 0.48284947952999924\n",
      "ROC AUC: 0.7524866794543905\n",
      "\n",
      "Model: KNeighborsClassifier(n_neighbors=15)\n",
      "\n"
     ]
    },
    {
     "data": {
      "text/plain": [
       "array([[2020,  282],\n",
       "       [ 429,  335]], dtype=int64)"
      ]
     },
     "metadata": {},
     "output_type": "display_data"
    },
    {
     "name": "stdout",
     "output_type": "stream",
     "text": [
      "Cross Val:\n",
      "Acc: 0.7812398042414356\n",
      "Precision: 0.5787712024269366\n",
      "Recall: 0.4568627450980392\n",
      "f1: 0.5101958999539807\n",
      "ROC AUC: 0.7811180377948281\n",
      "\n",
      "Model: KNeighborsClassifier(n_neighbors=15, weights='distance')\n",
      "\n"
     ]
    },
    {
     "data": {
      "text/plain": [
       "array([[2018,  284],\n",
       "       [ 438,  326]], dtype=int64)"
      ]
     },
     "metadata": {},
     "output_type": "display_data"
    },
    {
     "name": "stdout",
     "output_type": "stream",
     "text": [
      "Cross Val:\n",
      "Acc: 0.7734094616639478\n",
      "Precision: 0.5588030169958158\n",
      "Recall: 0.4424836601307189\n",
      "f1: 0.4936196859051985\n",
      "ROC AUC: 0.7612828573458369\n",
      "\n",
      "Model: KNeighborsClassifier(n_neighbors=20)\n",
      "\n"
     ]
    },
    {
     "data": {
      "text/plain": [
       "array([[2064,  238],\n",
       "       [ 463,  301]], dtype=int64)"
      ]
     },
     "metadata": {},
     "output_type": "display_data"
    },
    {
     "name": "stdout",
     "output_type": "stream",
     "text": [
      "Cross Val:\n",
      "Acc: 0.7812398042414356\n",
      "Precision: 0.5909749093441763\n",
      "Recall: 0.40555555555555556\n",
      "f1: 0.48032651320894687\n",
      "ROC AUC: 0.7869728616084115\n",
      "\n",
      "Model: KNeighborsClassifier(n_neighbors=20, weights='distance')\n",
      "\n"
     ]
    },
    {
     "data": {
      "text/plain": [
       "array([[2022,  280],\n",
       "       [ 434,  330]], dtype=int64)"
      ]
     },
     "metadata": {},
     "output_type": "display_data"
    },
    {
     "name": "stdout",
     "output_type": "stream",
     "text": [
      "Cross Val:\n",
      "Acc: 0.7736541598694943\n",
      "Precision: 0.560624622068399\n",
      "Recall: 0.43627450980392163\n",
      "f1: 0.4902853589516919\n",
      "ROC AUC: 0.7671241830065358\n",
      "\n",
      "Model: KNeighborsClassifier(n_neighbors=25)\n",
      "\n"
     ]
    },
    {
     "data": {
      "text/plain": [
       "array([[2030,  272],\n",
       "       [ 433,  331]], dtype=int64)"
      ]
     },
     "metadata": {},
     "output_type": "display_data"
    },
    {
     "name": "stdout",
     "output_type": "stream",
     "text": [
      "Cross Val:\n",
      "Acc: 0.784747145187602\n",
      "Precision: 0.5882437926740558\n",
      "Recall: 0.46111111111111114\n",
      "f1: 0.516413456600959\n",
      "ROC AUC: 0.788213803637397\n",
      "\n",
      "Model: KNeighborsClassifier(n_neighbors=25, weights='distance')\n",
      "\n"
     ]
    },
    {
     "data": {
      "text/plain": [
       "array([[2023,  279],\n",
       "       [ 435,  329]], dtype=int64)"
      ]
     },
     "metadata": {},
     "output_type": "display_data"
    },
    {
     "name": "stdout",
     "output_type": "stream",
     "text": [
      "Cross Val:\n",
      "Acc: 0.7761827079934747\n",
      "Precision: 0.566552699197328\n",
      "Recall: 0.442483660130719\n",
      "f1: 0.49651731447104563\n",
      "ROC AUC: 0.7692426825802785\n",
      "\n",
      "Model: KNeighborsClassifier(n_neighbors=30)\n",
      "\n"
     ]
    },
    {
     "data": {
      "text/plain": [
       "array([[2053,  249],\n",
       "       [ 457,  307]], dtype=int64)"
      ]
     },
     "metadata": {},
     "output_type": "display_data"
    },
    {
     "name": "stdout",
     "output_type": "stream",
     "text": [
      "Cross Val:\n",
      "Acc: 0.7796084828711256\n",
      "Precision: 0.5837432612033482\n",
      "Recall: 0.4094771241830065\n",
      "f1: 0.48093618379349906\n",
      "ROC AUC: 0.789355107985223\n",
      "\n",
      "Model: KNeighborsClassifier(n_neighbors=30, weights='distance')\n",
      "\n"
     ]
    },
    {
     "data": {
      "text/plain": [
       "array([[2028,  274],\n",
       "       [ 436,  328]], dtype=int64)"
      ]
     },
     "metadata": {},
     "output_type": "display_data"
    },
    {
     "name": "stdout",
     "output_type": "stream",
     "text": [
      "Cross Val:\n",
      "Acc: 0.7751223491027732\n",
      "Precision: 0.5641261885896096\n",
      "Recall: 0.43888888888888894\n",
      "f1: 0.4933339344594431\n",
      "ROC AUC: 0.7712405868144361\n",
      "\n",
      "Model: KNeighborsClassifier(n_neighbors=35)\n",
      "\n"
     ]
    },
    {
     "data": {
      "text/plain": [
       "array([[2043,  259],\n",
       "       [ 435,  329]], dtype=int64)"
      ]
     },
     "metadata": {},
     "output_type": "display_data"
    },
    {
     "name": "stdout",
     "output_type": "stream",
     "text": [
      "Cross Val:\n",
      "Acc: 0.7794453507340947\n",
      "Precision: 0.5767019475066989\n",
      "Recall: 0.4401960784313726\n",
      "f1: 0.49875731060873923\n",
      "ROC AUC: 0.7897255967604433\n",
      "\n",
      "Model: KNeighborsClassifier(n_neighbors=35, weights='distance')\n",
      "\n"
     ]
    },
    {
     "data": {
      "text/plain": [
       "array([[2027,  275],\n",
       "       [ 429,  335]], dtype=int64)"
      ]
     },
     "metadata": {},
     "output_type": "display_data"
    },
    {
     "name": "stdout",
     "output_type": "stream",
     "text": [
      "Cross Val:\n",
      "Acc: 0.7748776508972267\n",
      "Precision: 0.5640701463733645\n",
      "Recall: 0.43464052287581695\n",
      "f1: 0.49047888091782144\n",
      "ROC AUC: 0.7725229113384484\n",
      "\n",
      "Model: KNeighborsClassifier(n_neighbors=40)\n",
      "\n"
     ]
    },
    {
     "data": {
      "text/plain": [
       "array([[2063,  239],\n",
       "       [ 459,  305]], dtype=int64)"
      ]
     },
     "metadata": {},
     "output_type": "display_data"
    },
    {
     "name": "stdout",
     "output_type": "stream",
     "text": [
      "Cross Val:\n",
      "Acc: 0.7777324632952692\n",
      "Precision: 0.5803291557980944\n",
      "Recall: 0.39836601307189545\n",
      "f1: 0.47190192284685734\n",
      "ROC AUC: 0.7902030051150895\n",
      "\n",
      "Model: KNeighborsClassifier(n_neighbors=40, weights='distance')\n",
      "\n"
     ]
    },
    {
     "data": {
      "text/plain": [
       "array([[2028,  274],\n",
       "       [ 431,  333]], dtype=int64)"
      ]
     },
     "metadata": {},
     "output_type": "display_data"
    },
    {
     "name": "stdout",
     "output_type": "stream",
     "text": [
      "Cross Val:\n",
      "Acc: 0.7733278955954322\n",
      "Precision: 0.5612296910880212\n",
      "Recall: 0.42320261437908496\n",
      "f1: 0.4819821215922036\n",
      "ROC AUC: 0.7735723927252061\n",
      "\n",
      "Model: KNeighborsClassifier(n_neighbors=45)\n",
      "\n"
     ]
    },
    {
     "data": {
      "text/plain": [
       "array([[2047,  255],\n",
       "       [ 438,  326]], dtype=int64)"
      ]
     },
     "metadata": {},
     "output_type": "display_data"
    },
    {
     "name": "stdout",
     "output_type": "stream",
     "text": [
      "Cross Val:\n",
      "Acc: 0.7798531810766721\n",
      "Precision: 0.5811670547395357\n",
      "Recall: 0.42712418300653593\n",
      "f1: 0.49178659568360067\n",
      "ROC AUC: 0.7907031472009094\n",
      "\n",
      "Model: KNeighborsClassifier(n_neighbors=45, weights='distance')\n",
      "\n"
     ]
    },
    {
     "data": {
      "text/plain": [
       "array([[2033,  269],\n",
       "       [ 434,  330]], dtype=int64)"
      ]
     },
     "metadata": {},
     "output_type": "display_data"
    },
    {
     "name": "stdout",
     "output_type": "stream",
     "text": [
      "Cross Val:\n",
      "Acc: 0.7730831973898857\n",
      "Precision: 0.5619881146886853\n",
      "Recall: 0.4163398692810457\n",
      "f1: 0.47771935878167315\n",
      "ROC AUC: 0.7742314933219665\n",
      "\n",
      "Model: KNeighborsClassifier()\n",
      "\n"
     ]
    },
    {
     "data": {
      "text/plain": [
       "array([[2036,  278],\n",
       "       [ 512,  240]], dtype=int64)"
      ]
     },
     "metadata": {},
     "output_type": "display_data"
    },
    {
     "name": "stdout",
     "output_type": "stream",
     "text": [
      "Cross Val:\n",
      "Acc: 0.7486949429037519\n",
      "Precision: 0.49877637787281925\n",
      "Recall: 0.352873429502094\n",
      "f1: 0.412854056959011\n",
      "ROC AUC: 0.7011835049237101\n",
      "\n",
      "Model: KNeighborsClassifier(weights='distance')\n",
      "\n"
     ]
    },
    {
     "data": {
      "text/plain": [
       "array([[2030,  284],\n",
       "       [ 509,  243]], dtype=int64)"
      ]
     },
     "metadata": {},
     "output_type": "display_data"
    },
    {
     "name": "stdout",
     "output_type": "stream",
     "text": [
      "Cross Val:\n",
      "Acc: 0.7483686786296901\n",
      "Precision: 0.49816392517149016\n",
      "Recall: 0.35091903210795716\n",
      "f1: 0.4112098802903036\n",
      "ROC AUC: 0.7027702822072736\n",
      "\n",
      "Model: KNeighborsClassifier(n_neighbors=10)\n",
      "\n"
     ]
    },
    {
     "data": {
      "text/plain": [
       "array([[2169,  145],\n",
       "       [ 588,  164]], dtype=int64)"
      ]
     },
     "metadata": {},
     "output_type": "display_data"
    },
    {
     "name": "stdout",
     "output_type": "stream",
     "text": [
      "Cross Val:\n",
      "Acc: 0.7597879282218596\n",
      "Precision: 0.5556635259757028\n",
      "Recall: 0.20996975337366214\n",
      "f1: 0.30443704095198754\n",
      "ROC AUC: 0.7180629866223759\n",
      "\n",
      "Model: KNeighborsClassifier(n_neighbors=10, weights='distance')\n",
      "\n"
     ]
    },
    {
     "data": {
      "text/plain": [
       "array([[2089,  225],\n",
       "       [ 528,  224]], dtype=int64)"
      ]
     },
     "metadata": {},
     "output_type": "display_data"
    },
    {
     "name": "stdout",
     "output_type": "stream",
     "text": [
      "Cross Val:\n",
      "Acc: 0.7584828711256117\n",
      "Precision: 0.534268932385584\n",
      "Recall: 0.29232518296036214\n",
      "f1: 0.37744876373600167\n",
      "ROC AUC: 0.719530727051149\n",
      "\n",
      "Model: KNeighborsClassifier(n_neighbors=15)\n",
      "\n"
     ]
    },
    {
     "data": {
      "text/plain": [
       "array([[2148,  166],\n",
       "       [ 555,  197]], dtype=int64)"
      ]
     },
     "metadata": {},
     "output_type": "display_data"
    },
    {
     "name": "stdout",
     "output_type": "stream",
     "text": [
      "Cross Val:\n",
      "Acc: 0.7632137030995106\n",
      "Precision: 0.5664050062611112\n",
      "Recall: 0.24284550953932063\n",
      "f1: 0.3394252209710329\n",
      "ROC AUC: 0.7235427620697912\n",
      "\n",
      "Model: KNeighborsClassifier(n_neighbors=15, weights='distance')\n",
      "\n"
     ]
    },
    {
     "data": {
      "text/plain": [
       "array([[2131,  183],\n",
       "       [ 553,  199]], dtype=int64)"
      ]
     },
     "metadata": {},
     "output_type": "display_data"
    },
    {
     "name": "stdout",
     "output_type": "stream",
     "text": [
      "Cross Val:\n",
      "Acc: 0.7628058727569331\n",
      "Precision: 0.5610918296989564\n",
      "Recall: 0.25520538093827994\n",
      "f1: 0.3504976616604744\n",
      "ROC AUC: 0.7246424617473284\n",
      "\n",
      "Model: KNeighborsClassifier(n_neighbors=20)\n",
      "\n"
     ]
    },
    {
     "data": {
      "text/plain": [
       "array([[2203,  111],\n",
       "       [ 605,  147]], dtype=int64)"
      ]
     },
     "metadata": {},
     "output_type": "display_data"
    },
    {
     "name": "stdout",
     "output_type": "stream",
     "text": [
      "Cross Val:\n",
      "Acc: 0.7659053833605219\n",
      "Precision: 0.6100335118186256\n",
      "Recall: 0.1855609374339016\n",
      "f1: 0.28390715255134724\n",
      "ROC AUC: 0.7247205745300838\n",
      "\n",
      "Model: KNeighborsClassifier(n_neighbors=20, weights='distance')\n",
      "\n"
     ]
    },
    {
     "data": {
      "text/plain": [
       "array([[2170,  144],\n",
       "       [ 574,  178]], dtype=int64)"
      ]
     },
     "metadata": {},
     "output_type": "display_data"
    },
    {
     "name": "stdout",
     "output_type": "stream",
     "text": [
      "Cross Val:\n",
      "Acc: 0.7634584013050572\n",
      "Precision: 0.5721564805064789\n",
      "Recall: 0.23113287364101692\n",
      "f1: 0.328503314785697\n",
      "ROC AUC: 0.7258783382951003\n",
      "\n",
      "Model: KNeighborsClassifier(n_neighbors=25)\n",
      "\n"
     ]
    },
    {
     "data": {
      "text/plain": [
       "array([[2198,  116],\n",
       "       [ 595,  157]], dtype=int64)"
      ]
     },
     "metadata": {},
     "output_type": "display_data"
    },
    {
     "name": "stdout",
     "output_type": "stream",
     "text": [
      "Cross Val:\n",
      "Acc: 0.7647634584013051\n",
      "Precision: 0.5917338598005729\n",
      "Recall: 0.2031304200685308\n",
      "f1: 0.301792697646664\n",
      "ROC AUC: 0.7248420602025993\n",
      "\n",
      "Model: KNeighborsClassifier(n_neighbors=25, weights='distance')\n",
      "\n"
     ]
    },
    {
     "data": {
      "text/plain": [
       "array([[2185,  129],\n",
       "       [ 578,  174]], dtype=int64)"
      ]
     },
     "metadata": {},
     "output_type": "display_data"
    },
    {
     "name": "stdout",
     "output_type": "stream",
     "text": [
      "Cross Val:\n",
      "Acc: 0.7649265905383361\n",
      "Precision: 0.5862736585977546\n",
      "Recall: 0.21582448496129275\n",
      "f1: 0.3147388117276782\n",
      "ROC AUC: 0.7261023950384697\n",
      "\n",
      "Model: KNeighborsClassifier(n_neighbors=30)\n",
      "\n"
     ]
    },
    {
     "data": {
      "text/plain": [
       "array([[2228,   86],\n",
       "       [ 634,  118]], dtype=int64)"
      ]
     },
     "metadata": {},
     "output_type": "display_data"
    },
    {
     "name": "stdout",
     "output_type": "stream",
     "text": [
      "Cross Val:\n",
      "Acc: 0.7640293637846656\n",
      "Precision: 0.6174055530600683\n",
      "Recall: 0.15560831676466857\n",
      "f1: 0.24794916327149621\n",
      "ROC AUC: 0.7249218122060374\n",
      "\n",
      "Model: KNeighborsClassifier(n_neighbors=30, weights='distance')\n",
      "\n"
     ]
    },
    {
     "data": {
      "text/plain": [
       "array([[2200,  114],\n",
       "       [ 599,  153]], dtype=int64)"
      ]
     },
     "metadata": {},
     "output_type": "display_data"
    },
    {
     "name": "stdout",
     "output_type": "stream",
     "text": [
      "Cross Val:\n",
      "Acc: 0.7659869494290374\n",
      "Precision: 0.6048559685704842\n",
      "Recall: 0.19694361013579254\n",
      "f1: 0.2965294318150936\n",
      "ROC AUC: 0.7265955671899229\n",
      "\n",
      "Model: KNeighborsClassifier(n_neighbors=35)\n",
      "\n"
     ]
    },
    {
     "data": {
      "text/plain": [
       "array([[2224,   90],\n",
       "       [ 619,  133]], dtype=int64)"
      ]
     },
     "metadata": {},
     "output_type": "display_data"
    },
    {
     "name": "stdout",
     "output_type": "stream",
     "text": [
      "Cross Val:\n",
      "Acc: 0.7625611745513867\n",
      "Precision: 0.6035045769608705\n",
      "Recall: 0.15917445746435974\n",
      "f1: 0.2511558820602032\n",
      "ROC AUC: 0.7212398049752424\n",
      "\n",
      "Model: KNeighborsClassifier(n_neighbors=35, weights='distance')\n",
      "\n"
     ]
    },
    {
     "data": {
      "text/plain": [
       "array([[2204,  110],\n",
       "       [ 607,  145]], dtype=int64)"
      ]
     },
     "metadata": {},
     "output_type": "display_data"
    },
    {
     "name": "stdout",
     "output_type": "stream",
     "text": [
      "Cross Val:\n",
      "Acc: 0.7640293637846656\n",
      "Precision: 0.6015096441387603\n",
      "Recall: 0.17968293921062656\n",
      "f1: 0.2760526602775018\n",
      "ROC AUC: 0.7243256242166305\n",
      "\n",
      "Model: KNeighborsClassifier(n_neighbors=40)\n",
      "\n"
     ]
    },
    {
     "data": {
      "text/plain": [
       "array([[2239,   75],\n",
       "       [ 652,  100]], dtype=int64)"
      ]
     },
     "metadata": {},
     "output_type": "display_data"
    },
    {
     "name": "stdout",
     "output_type": "stream",
     "text": [
      "Cross Val:\n",
      "Acc: 0.7616639477977162\n",
      "Precision: 0.6184269302250798\n",
      "Recall: 0.13249185667752444\n",
      "f1: 0.21759614713648073\n",
      "ROC AUC: 0.7208146010952458\n",
      "\n",
      "Model: KNeighborsClassifier(n_neighbors=40, weights='distance')\n",
      "\n"
     ]
    },
    {
     "data": {
      "text/plain": [
       "array([[2213,  101],\n",
       "       [ 617,  135]], dtype=int64)"
      ]
     },
     "metadata": {},
     "output_type": "display_data"
    },
    {
     "name": "stdout",
     "output_type": "stream",
     "text": [
      "Cross Val:\n",
      "Acc: 0.764763458401305\n",
      "Precision: 0.611136428851878\n",
      "Recall: 0.17350141714962564\n",
      "f1: 0.26957314682181577\n",
      "ROC AUC: 0.7238350604037074\n",
      "\n",
      "Model: KNeighborsClassifier(n_neighbors=45)\n",
      "\n"
     ]
    },
    {
     "data": {
      "text/plain": [
       "array([[2234,   80],\n",
       "       [ 645,  107]], dtype=int64)"
      ]
     },
     "metadata": {},
     "output_type": "display_data"
    },
    {
     "name": "stdout",
     "output_type": "stream",
     "text": [
      "Cross Val:\n",
      "Acc: 0.7637030995106036\n",
      "Precision: 0.6293532182301714\n",
      "Recall: 0.14094822115994754\n",
      "f1: 0.22978401965880954\n",
      "ROC AUC: 0.7194319082856503\n",
      "\n",
      "Model: KNeighborsClassifier(n_neighbors=45, weights='distance')\n",
      "\n"
     ]
    },
    {
     "data": {
      "text/plain": [
       "array([[2224,   90],\n",
       "       [ 626,  126]], dtype=int64)"
      ]
     },
     "metadata": {},
     "output_type": "display_data"
    },
    {
     "name": "stdout",
     "output_type": "stream",
     "text": [
      "Cross Val:\n",
      "Acc: 0.7633768352365415\n",
      "Precision: 0.6108848829920221\n",
      "Recall: 0.15884766699098946\n",
      "f1: 0.2515623824125212\n",
      "ROC AUC: 0.7228377010721398\n",
      "\n",
      "Model: KNeighborsClassifier()\n",
      "\n"
     ]
    },
    {
     "data": {
      "text/plain": [
       "array([[2007,  275],\n",
       "       [ 494,  290]], dtype=int64)"
      ]
     },
     "metadata": {},
     "output_type": "display_data"
    },
    {
     "name": "stdout",
     "output_type": "stream",
     "text": [
      "Cross Val:\n",
      "Acc: 0.7495106035889071\n",
      "Precision: 0.49211892113089356\n",
      "Recall: 0.33980263157894736\n",
      "f1: 0.4018573948422648\n",
      "ROC AUC: 0.6977102123530083\n",
      "\n",
      "Model: KNeighborsClassifier(weights='distance')\n",
      "\n"
     ]
    },
    {
     "data": {
      "text/plain": [
       "array([[2002,  280],\n",
       "       [ 496,  288]], dtype=int64)"
      ]
     },
     "metadata": {},
     "output_type": "display_data"
    },
    {
     "name": "stdout",
     "output_type": "stream",
     "text": [
      "Cross Val:\n",
      "Acc: 0.7477977161500815\n",
      "Precision: 0.48717876653382863\n",
      "Recall: 0.33782894736842106\n",
      "f1: 0.3988687558091038\n",
      "ROC AUC: 0.7002026487041901\n",
      "\n",
      "Model: KNeighborsClassifier(n_neighbors=10)\n",
      "\n"
     ]
    },
    {
     "data": {
      "text/plain": [
       "array([[2128,  154],\n",
       "       [ 611,  173]], dtype=int64)"
      ]
     },
     "metadata": {},
     "output_type": "display_data"
    },
    {
     "name": "stdout",
     "output_type": "stream",
     "text": [
      "Cross Val:\n",
      "Acc: 0.7664763458401305\n",
      "Precision: 0.5780856451517656\n",
      "Recall: 0.21809210526315792\n",
      "f1: 0.316483596961895\n",
      "ROC AUC: 0.7189756607489439\n",
      "\n",
      "Model: KNeighborsClassifier(n_neighbors=10, weights='distance')\n",
      "\n"
     ]
    },
    {
     "data": {
      "text/plain": [
       "array([[2062,  220],\n",
       "       [ 534,  250]], dtype=int64)"
      ]
     },
     "metadata": {},
     "output_type": "display_data"
    },
    {
     "name": "stdout",
     "output_type": "stream",
     "text": [
      "Cross Val:\n",
      "Acc: 0.7630505709624795\n",
      "Precision: 0.5407658949996004\n",
      "Recall: 0.2973684210526316\n",
      "f1: 0.38335319811466584\n",
      "ROC AUC: 0.7193140626783879\n",
      "\n",
      "Model: KNeighborsClassifier(n_neighbors=15)\n",
      "\n"
     ]
    },
    {
     "data": {
      "text/plain": [
       "array([[2112,  170],\n",
       "       [ 576,  208]], dtype=int64)"
      ]
     },
     "metadata": {},
     "output_type": "display_data"
    },
    {
     "name": "stdout",
     "output_type": "stream",
     "text": [
      "Cross Val:\n",
      "Acc: 0.7692495921696574\n",
      "Precision: 0.5813208838625054\n",
      "Recall: 0.2516447368421052\n",
      "f1: 0.3507695607323994\n",
      "ROC AUC: 0.7258164816189063\n",
      "\n",
      "Model: KNeighborsClassifier(n_neighbors=15, weights='distance')\n",
      "\n"
     ]
    },
    {
     "data": {
      "text/plain": [
       "array([[2100,  182],\n",
       "       [ 561,  223]], dtype=int64)"
      ]
     },
     "metadata": {},
     "output_type": "display_data"
    },
    {
     "name": "stdout",
     "output_type": "stream",
     "text": [
      "Cross Val:\n",
      "Acc: 0.7689233278955954\n",
      "Precision: 0.5757588942174021\n",
      "Recall: 0.2621710526315789\n",
      "f1: 0.35972990528665605\n",
      "ROC AUC: 0.7257585055371618\n",
      "\n",
      "Model: KNeighborsClassifier(n_neighbors=20)\n",
      "\n"
     ]
    },
    {
     "data": {
      "text/plain": [
       "array([[2165,  117],\n",
       "       [ 633,  151]], dtype=int64)"
      ]
     },
     "metadata": {},
     "output_type": "display_data"
    },
    {
     "name": "stdout",
     "output_type": "stream",
     "text": [
      "Cross Val:\n",
      "Acc: 0.7691680261011419\n",
      "Precision: 0.6121079559328061\n",
      "Recall: 0.18881578947368421\n",
      "f1: 0.28814342717582164\n",
      "ROC AUC: 0.7275397091562963\n",
      "\n",
      "Model: KNeighborsClassifier(n_neighbors=20, weights='distance')\n",
      "\n"
     ]
    },
    {
     "data": {
      "text/plain": [
       "array([[2121,  161],\n",
       "       [ 589,  195]], dtype=int64)"
      ]
     },
     "metadata": {},
     "output_type": "display_data"
    },
    {
     "name": "stdout",
     "output_type": "stream",
     "text": [
      "Cross Val:\n",
      "Acc: 0.7694942903752039\n",
      "Precision: 0.5864776635330142\n",
      "Recall: 0.24013157894736845\n",
      "f1: 0.3403812691515297\n",
      "ROC AUC: 0.7274496232446626\n",
      "\n",
      "Model: KNeighborsClassifier(n_neighbors=25)\n",
      "\n"
     ]
    },
    {
     "data": {
      "text/plain": [
       "array([[2154,  128],\n",
       "       [ 623,  161]], dtype=int64)"
      ]
     },
     "metadata": {},
     "output_type": "display_data"
    },
    {
     "name": "stdout",
     "output_type": "stream",
     "text": [
      "Cross Val:\n",
      "Acc: 0.7694127243066886\n",
      "Precision: 0.6059011371983407\n",
      "Recall: 0.20065789473684212\n",
      "f1: 0.30102522856410563\n",
      "ROC AUC: 0.7293089607831944\n",
      "\n",
      "Model: KNeighborsClassifier(n_neighbors=25, weights='distance')\n",
      "\n"
     ]
    },
    {
     "data": {
      "text/plain": [
       "array([[2134,  148],\n",
       "       [ 605,  179]], dtype=int64)"
      ]
     },
     "metadata": {},
     "output_type": "display_data"
    },
    {
     "name": "stdout",
     "output_type": "stream",
     "text": [
      "Cross Val:\n",
      "Acc: 0.7699021207177813\n",
      "Precision: 0.5995753319465986\n",
      "Recall: 0.21743421052631579\n",
      "f1: 0.3185308463454115\n",
      "ROC AUC: 0.72905672023062\n",
      "\n",
      "Model: KNeighborsClassifier(n_neighbors=30)\n",
      "\n"
     ]
    },
    {
     "data": {
      "text/plain": [
       "array([[2189,   93],\n",
       "       [ 652,  132]], dtype=int64)"
      ]
     },
     "metadata": {},
     "output_type": "display_data"
    },
    {
     "name": "stdout",
     "output_type": "stream",
     "text": [
      "Cross Val:\n",
      "Acc: 0.7665579119086461\n",
      "Precision: 0.6161576455648643\n",
      "Recall: 0.15657894736842104\n",
      "f1: 0.24909793195217628\n",
      "ROC AUC: 0.7287470387601324\n",
      "\n",
      "Model: KNeighborsClassifier(n_neighbors=30, weights='distance')\n",
      "\n"
     ]
    },
    {
     "data": {
      "text/plain": [
       "array([[2155,  127],\n",
       "       [ 610,  174]], dtype=int64)"
      ]
     },
     "metadata": {},
     "output_type": "display_data"
    },
    {
     "name": "stdout",
     "output_type": "stream",
     "text": [
      "Cross Val:\n",
      "Acc: 0.7686786296900489\n",
      "Precision: 0.6015886894696092\n",
      "Recall: 0.19967105263157894\n",
      "f1: 0.2994078714925449\n",
      "ROC AUC: 0.7285788189291015\n",
      "\n",
      "Model: KNeighborsClassifier(n_neighbors=35)\n",
      "\n"
     ]
    },
    {
     "data": {
      "text/plain": [
       "array([[2187,   95],\n",
       "       [ 655,  129]], dtype=int64)"
      ]
     },
     "metadata": {},
     "output_type": "display_data"
    },
    {
     "name": "stdout",
     "output_type": "stream",
     "text": [
      "Cross Val:\n",
      "Acc: 0.7676998368678628\n",
      "Precision: 0.6164704788001767\n",
      "Recall: 0.16776315789473684\n",
      "f1: 0.2632098753761996\n",
      "ROC AUC: 0.7285319028998745\n",
      "\n",
      "Model: KNeighborsClassifier(n_neighbors=35, weights='distance')\n",
      "\n"
     ]
    },
    {
     "data": {
      "text/plain": [
       "array([[2167,  115],\n",
       "       [ 632,  152]], dtype=int64)"
      ]
     },
     "metadata": {},
     "output_type": "display_data"
    },
    {
     "name": "stdout",
     "output_type": "stream",
     "text": [
      "Cross Val:\n",
      "Acc: 0.7692495921696575\n",
      "Precision: 0.6135230050269714\n",
      "Recall: 0.18618421052631579\n",
      "f1: 0.28525184732587566\n",
      "ROC AUC: 0.7288160748943943\n",
      "\n",
      "Model: KNeighborsClassifier(n_neighbors=40)\n",
      "\n"
     ]
    },
    {
     "data": {
      "text/plain": [
       "array([[2212,   70],\n",
       "       [ 678,  106]], dtype=int64)"
      ]
     },
     "metadata": {},
     "output_type": "display_data"
    },
    {
     "name": "stdout",
     "output_type": "stream",
     "text": [
      "Cross Val:\n",
      "Acc: 0.7632952691680261\n",
      "Precision: 0.6070478648584341\n",
      "Recall: 0.12828947368421054\n",
      "f1: 0.21154583386972964\n",
      "ROC AUC: 0.7267264385203791\n",
      "\n",
      "Model: KNeighborsClassifier(n_neighbors=40, weights='distance')\n",
      "\n"
     ]
    },
    {
     "data": {
      "text/plain": [
       "array([[2176,  106],\n",
       "       [ 647,  137]], dtype=int64)"
      ]
     },
     "metadata": {},
     "output_type": "display_data"
    },
    {
     "name": "stdout",
     "output_type": "stream",
     "text": [
      "Cross Val:\n",
      "Acc: 0.7677814029363785\n",
      "Precision: 0.610995077690363\n",
      "Recall: 0.1730263157894737\n",
      "f1: 0.26934276524501016\n",
      "ROC AUC: 0.72762372987784\n",
      "\n",
      "Model: KNeighborsClassifier(n_neighbors=45)\n",
      "\n"
     ]
    },
    {
     "data": {
      "text/plain": [
       "array([[2198,   84],\n",
       "       [ 670,  114]], dtype=int64)"
      ]
     },
     "metadata": {},
     "output_type": "display_data"
    },
    {
     "name": "stdout",
     "output_type": "stream",
     "text": [
      "Cross Val:\n",
      "Acc: 0.7644371941272431\n",
      "Precision: 0.6121354528353289\n",
      "Recall: 0.13684210526315788\n",
      "f1: 0.22347950217415663\n",
      "ROC AUC: 0.72466784164859\n",
      "\n",
      "Model: KNeighborsClassifier(n_neighbors=45, weights='distance')\n",
      "\n"
     ]
    },
    {
     "data": {
      "text/plain": [
       "array([[2178,  104],\n",
       "       [ 651,  133]], dtype=int64)"
      ]
     },
     "metadata": {},
     "output_type": "display_data"
    },
    {
     "name": "stdout",
     "output_type": "stream",
     "text": [
      "Cross Val:\n",
      "Acc: 0.7660685154975531\n",
      "Precision: 0.6058274533140533\n",
      "Recall: 0.15953947368421056\n",
      "f1: 0.2523272688066387\n",
      "ROC AUC: 0.7261836040073067\n"
     ]
    }
   ],
   "source": [
    "#Model Test                                   \n",
    "for scale in [True,False]:\n",
    "    for normalize in [True,False]:\n",
    "        \n",
    "                    \n",
    "        #Extracting and Cleaning Data\n",
    "        data_cleaned = Data_Cleaning(pd.read_csv('z_train.csv'), \n",
    "                                     scale = scale, \n",
    "                                     normalize = normalize)\n",
    "        \n",
    "        #Train, Test Split\n",
    "        X = data_cleaned.drop(['target','enrollee_id'], axis = 1) \n",
    "        y = data_cleaned['target']\n",
    "        X_train, X_test, y_train, y_test = train_test_split(X, y, \n",
    "                                                            test_size=0.2)\n",
    "\n",
    "        X_train_fs_chi, X_test_fs_chi = select_features(X_train, y_train, X_test, \n",
    "                                                        chi2, \n",
    "                                                        k = k_chi)\n",
    "        X_train_fs_mic, X_test_fs_mic = select_features(X_train, y_train, X_test, \n",
    "                                                        mutual_info_classif, \n",
    "                                                        k = k_mic)\n",
    "        \n",
    "        \n",
    "        for n_neighbors in np.arange(5,50,5):\n",
    "            a = ModelTest(KNeighborsClassifier(n_neighbors=n_neighbors,\n",
    "                                               weights='uniform'), #Model    \n",
    "                          X_train = X_train_fs_chi, X_test = X_test_fs_chi,\n",
    "                          y_train = y_train, y_test = y_test,\n",
    "                          typ = 'chi',\n",
    "                          k = k_chi)\n",
    "            metricss.append((a, \"scale: \" + str(scale), \"normalize:\" + str(normalize)))\n",
    "\n",
    "            a = ModelTest(KNeighborsClassifier(n_neighbors=n_neighbors,\n",
    "                                               weights='distance'), #Model          \n",
    "                          X_train = X_train_fs_mic, X_test = X_test_fs_mic,  #Best\n",
    "                          y_train = y_train, y_test = y_test,\n",
    "                          typ = 'mic',\n",
    "                          k = k_mic)\n",
    "            metricss.append((a, \"scale: \" + str(scale), \"normalize:\" + str(normalize)))"
   ]
  },
  {
   "cell_type": "code",
   "execution_count": 33,
   "metadata": {
    "scrolled": true
   },
   "outputs": [
    {
     "name": "stdout",
     "output_type": "stream",
     "text": [
      "\n",
      "Model: SVC(class_weight='balanced')\n",
      "\n"
     ]
    },
    {
     "data": {
      "text/plain": [
       "array([[1719,  581],\n",
       "       [ 183,  583]], dtype=int64)"
      ]
     },
     "metadata": {},
     "output_type": "display_data"
    },
    {
     "name": "stdout",
     "output_type": "stream",
     "text": [
      "Cross Val:\n",
      "Acc: 0.7357259380097879\n",
      "Precision: 0.481536498023322\n",
      "Recall: 0.7527815279117112\n",
      "f1: 0.5871558201582324\n",
      "ROC AUC: 0.7872326389595449\n",
      "\n",
      "Model: SVC()\n",
      "\n"
     ]
    },
    {
     "data": {
      "text/plain": [
       "array([[2133,  167],\n",
       "       [ 486,  280]], dtype=int64)"
      ]
     },
     "metadata": {},
     "output_type": "display_data"
    },
    {
     "name": "stdout",
     "output_type": "stream",
     "text": [
      "Cross Val:\n",
      "Acc: 0.7760195758564438\n",
      "Precision: 0.5913533949672326\n",
      "Recall: 0.33028715311261114\n",
      "f1: 0.4236657616412532\n",
      "ROC AUC: 0.7622039933254945\n",
      "\n",
      "Model: SVC(class_weight='balanced')\n",
      "\n"
     ]
    },
    {
     "data": {
      "text/plain": [
       "array([[1733,  614],\n",
       "       [ 172,  547]], dtype=int64)"
      ]
     },
     "metadata": {},
     "output_type": "display_data"
    },
    {
     "name": "stdout",
     "output_type": "stream",
     "text": [
      "Cross Val:\n",
      "Acc: 0.7274061990212072\n",
      "Precision: 0.4763920127825168\n",
      "Recall: 0.7613650036303289\n",
      "f1: 0.5859385641006494\n",
      "ROC AUC: 0.7860981274148251\n",
      "\n",
      "Model: SVC()\n",
      "\n"
     ]
    },
    {
     "data": {
      "text/plain": [
       "array([[2167,  180],\n",
       "       [ 473,  246]], dtype=int64)"
      ]
     },
     "metadata": {},
     "output_type": "display_data"
    },
    {
     "name": "stdout",
     "output_type": "stream",
     "text": [
      "Cross Val:\n",
      "Acc: 0.7761011419249593\n",
      "Precision: 0.6039336284801338\n",
      "Recall: 0.3365843792137745\n",
      "f1: 0.4318889238077019\n",
      "ROC AUC: 0.7641147444250824\n",
      "\n",
      "Model: SVC(class_weight='balanced')\n",
      "\n"
     ]
    },
    {
     "data": {
      "text/plain": [
       "array([[1683,  607],\n",
       "       [ 321,  455]], dtype=int64)"
      ]
     },
     "metadata": {},
     "output_type": "display_data"
    },
    {
     "name": "stdout",
     "output_type": "stream",
     "text": [
      "Cross Val:\n",
      "Acc: 0.6889885807504077\n",
      "Precision: 0.4124795270977867\n",
      "Recall: 0.5908757549611734\n",
      "f1: 0.4857193488283998\n",
      "ROC AUC: 0.7113176128441699\n"
     ]
    },
    {
     "name": "stderr",
     "output_type": "stream",
     "text": [
      "C:\\Users\\Emilio\\anaconda3\\envs\\data\\lib\\site-packages\\sklearn\\metrics\\_classification.py:1221: UndefinedMetricWarning: Precision is ill-defined and being set to 0.0 due to no predicted samples. Use `zero_division` parameter to control this behavior.\n",
      "  _warn_prf(average, modifier, msg_start, len(result))\n",
      "C:\\Users\\Emilio\\anaconda3\\envs\\data\\lib\\site-packages\\sklearn\\metrics\\_classification.py:1221: UndefinedMetricWarning: Precision is ill-defined and being set to 0.0 due to no predicted samples. Use `zero_division` parameter to control this behavior.\n",
      "  _warn_prf(average, modifier, msg_start, len(result))\n",
      "C:\\Users\\Emilio\\anaconda3\\envs\\data\\lib\\site-packages\\sklearn\\metrics\\_classification.py:1221: UndefinedMetricWarning: Precision is ill-defined and being set to 0.0 due to no predicted samples. Use `zero_division` parameter to control this behavior.\n",
      "  _warn_prf(average, modifier, msg_start, len(result))\n",
      "C:\\Users\\Emilio\\anaconda3\\envs\\data\\lib\\site-packages\\sklearn\\metrics\\_classification.py:1221: UndefinedMetricWarning: Precision is ill-defined and being set to 0.0 due to no predicted samples. Use `zero_division` parameter to control this behavior.\n",
      "  _warn_prf(average, modifier, msg_start, len(result))\n",
      "C:\\Users\\Emilio\\anaconda3\\envs\\data\\lib\\site-packages\\sklearn\\metrics\\_classification.py:1221: UndefinedMetricWarning: Precision is ill-defined and being set to 0.0 due to no predicted samples. Use `zero_division` parameter to control this behavior.\n",
      "  _warn_prf(average, modifier, msg_start, len(result))\n",
      "C:\\Users\\Emilio\\anaconda3\\envs\\data\\lib\\site-packages\\sklearn\\metrics\\_classification.py:1221: UndefinedMetricWarning: Precision is ill-defined and being set to 0.0 due to no predicted samples. Use `zero_division` parameter to control this behavior.\n",
      "  _warn_prf(average, modifier, msg_start, len(result))\n",
      "C:\\Users\\Emilio\\anaconda3\\envs\\data\\lib\\site-packages\\sklearn\\metrics\\_classification.py:1221: UndefinedMetricWarning: Precision is ill-defined and being set to 0.0 due to no predicted samples. Use `zero_division` parameter to control this behavior.\n",
      "  _warn_prf(average, modifier, msg_start, len(result))\n",
      "C:\\Users\\Emilio\\anaconda3\\envs\\data\\lib\\site-packages\\sklearn\\metrics\\_classification.py:1221: UndefinedMetricWarning: Precision is ill-defined and being set to 0.0 due to no predicted samples. Use `zero_division` parameter to control this behavior.\n",
      "  _warn_prf(average, modifier, msg_start, len(result))\n",
      "C:\\Users\\Emilio\\anaconda3\\envs\\data\\lib\\site-packages\\sklearn\\metrics\\_classification.py:1221: UndefinedMetricWarning: Precision is ill-defined and being set to 0.0 due to no predicted samples. Use `zero_division` parameter to control this behavior.\n",
      "  _warn_prf(average, modifier, msg_start, len(result))\n",
      "C:\\Users\\Emilio\\anaconda3\\envs\\data\\lib\\site-packages\\sklearn\\metrics\\_classification.py:1221: UndefinedMetricWarning: Precision is ill-defined and being set to 0.0 due to no predicted samples. Use `zero_division` parameter to control this behavior.\n",
      "  _warn_prf(average, modifier, msg_start, len(result))\n"
     ]
    },
    {
     "name": "stdout",
     "output_type": "stream",
     "text": [
      "\n",
      "Model: SVC()\n",
      "\n"
     ]
    },
    {
     "data": {
      "text/plain": [
       "array([[2290,    0],\n",
       "       [ 776,    0]], dtype=int64)"
      ]
     },
     "metadata": {},
     "output_type": "display_data"
    },
    {
     "name": "stdout",
     "output_type": "stream",
     "text": [
      "Cross Val:\n",
      "Acc: 0.7513866231647635\n",
      "Precision: 0.0\n",
      "Recall: 0.0\n",
      "f1: 0.0\n",
      "ROC AUC: 0.7290386220873912\n",
      "\n",
      "Model: SVC(class_weight='balanced')\n",
      "\n"
     ]
    },
    {
     "data": {
      "text/plain": [
       "array([[1686,  644],\n",
       "       [ 310,  426]], dtype=int64)"
      ]
     },
     "metadata": {},
     "output_type": "display_data"
    },
    {
     "name": "stdout",
     "output_type": "stream",
     "text": [
      "Cross Val:\n",
      "Acc: 0.6902936378466558\n",
      "Precision: 0.4196430048433988\n",
      "Recall: 0.5991121338208718\n",
      "f1: 0.49327112531482287\n",
      "ROC AUC: 0.7123710753874924\n"
     ]
    },
    {
     "name": "stderr",
     "output_type": "stream",
     "text": [
      "C:\\Users\\Emilio\\anaconda3\\envs\\data\\lib\\site-packages\\sklearn\\metrics\\_classification.py:1221: UndefinedMetricWarning: Precision is ill-defined and being set to 0.0 due to no predicted samples. Use `zero_division` parameter to control this behavior.\n",
      "  _warn_prf(average, modifier, msg_start, len(result))\n",
      "C:\\Users\\Emilio\\anaconda3\\envs\\data\\lib\\site-packages\\sklearn\\metrics\\_classification.py:1221: UndefinedMetricWarning: Precision is ill-defined and being set to 0.0 due to no predicted samples. Use `zero_division` parameter to control this behavior.\n",
      "  _warn_prf(average, modifier, msg_start, len(result))\n",
      "C:\\Users\\Emilio\\anaconda3\\envs\\data\\lib\\site-packages\\sklearn\\metrics\\_classification.py:1221: UndefinedMetricWarning: Precision is ill-defined and being set to 0.0 due to no predicted samples. Use `zero_division` parameter to control this behavior.\n",
      "  _warn_prf(average, modifier, msg_start, len(result))\n",
      "C:\\Users\\Emilio\\anaconda3\\envs\\data\\lib\\site-packages\\sklearn\\metrics\\_classification.py:1221: UndefinedMetricWarning: Precision is ill-defined and being set to 0.0 due to no predicted samples. Use `zero_division` parameter to control this behavior.\n",
      "  _warn_prf(average, modifier, msg_start, len(result))\n",
      "C:\\Users\\Emilio\\anaconda3\\envs\\data\\lib\\site-packages\\sklearn\\metrics\\_classification.py:1221: UndefinedMetricWarning: Precision is ill-defined and being set to 0.0 due to no predicted samples. Use `zero_division` parameter to control this behavior.\n",
      "  _warn_prf(average, modifier, msg_start, len(result))\n",
      "C:\\Users\\Emilio\\anaconda3\\envs\\data\\lib\\site-packages\\sklearn\\metrics\\_classification.py:1221: UndefinedMetricWarning: Precision is ill-defined and being set to 0.0 due to no predicted samples. Use `zero_division` parameter to control this behavior.\n",
      "  _warn_prf(average, modifier, msg_start, len(result))\n",
      "C:\\Users\\Emilio\\anaconda3\\envs\\data\\lib\\site-packages\\sklearn\\metrics\\_classification.py:1221: UndefinedMetricWarning: Precision is ill-defined and being set to 0.0 due to no predicted samples. Use `zero_division` parameter to control this behavior.\n",
      "  _warn_prf(average, modifier, msg_start, len(result))\n",
      "C:\\Users\\Emilio\\anaconda3\\envs\\data\\lib\\site-packages\\sklearn\\metrics\\_classification.py:1221: UndefinedMetricWarning: Precision is ill-defined and being set to 0.0 due to no predicted samples. Use `zero_division` parameter to control this behavior.\n",
      "  _warn_prf(average, modifier, msg_start, len(result))\n",
      "C:\\Users\\Emilio\\anaconda3\\envs\\data\\lib\\site-packages\\sklearn\\metrics\\_classification.py:1221: UndefinedMetricWarning: Precision is ill-defined and being set to 0.0 due to no predicted samples. Use `zero_division` parameter to control this behavior.\n",
      "  _warn_prf(average, modifier, msg_start, len(result))\n",
      "C:\\Users\\Emilio\\anaconda3\\envs\\data\\lib\\site-packages\\sklearn\\metrics\\_classification.py:1221: UndefinedMetricWarning: Precision is ill-defined and being set to 0.0 due to no predicted samples. Use `zero_division` parameter to control this behavior.\n",
      "  _warn_prf(average, modifier, msg_start, len(result))\n"
     ]
    },
    {
     "name": "stdout",
     "output_type": "stream",
     "text": [
      "\n",
      "Model: SVC()\n",
      "\n"
     ]
    },
    {
     "data": {
      "text/plain": [
       "array([[2330,    0],\n",
       "       [ 736,    0]], dtype=int64)"
      ]
     },
     "metadata": {},
     "output_type": "display_data"
    },
    {
     "name": "stdout",
     "output_type": "stream",
     "text": [
      "Cross Val:\n",
      "Acc: 0.7481239804241435\n",
      "Precision: 0.0\n",
      "Recall: 0.0\n",
      "f1: 0.0\n",
      "ROC AUC: 0.7310918217427747\n"
     ]
    }
   ],
   "source": [
    "#Model Test                                   \n",
    "for scale in [True,False]:\n",
    "    for normalize in [True,False]:\n",
    "        \n",
    "                    \n",
    "        #Extracting and Cleaning Data\n",
    "        data_cleaned = Data_Cleaning(pd.read_csv('z_train.csv'), \n",
    "                                     scale = scale, \n",
    "                                     normalize = normalize)\n",
    "        \n",
    "        #Train, Test Split\n",
    "        X = data_cleaned.drop(['target','enrollee_id'], axis = 1) \n",
    "        y = data_cleaned['target']\n",
    "        X_train, X_test, y_train, y_test = train_test_split(X, y, \n",
    "                                                            test_size=0.2)\n",
    "\n",
    "        X_train_fs_chi, X_test_fs_chi = select_features(X_train, y_train, X_test, \n",
    "                                                        chi2, \n",
    "                                                        k = k_chi)\n",
    "        X_train_fs_mic, X_test_fs_mic = select_features(X_train, y_train, X_test, \n",
    "                                                        mutual_info_classif, \n",
    "                                                        k = k_mic)\n",
    "        \n",
    "        \n",
    "        a = ModelTest(SVC(class_weight ='balanced'), #Model    \n",
    "                       X_train = X_train_fs_chi, X_test = X_test_fs_chi,\n",
    "                       y_train = y_train, y_test = y_test,\n",
    "                       typ = 'chi',\n",
    "                       k = k_chi)\n",
    "        metricss.append((a, \"scale: \" + str(scale), \"normalize:\" + str(normalize)))\n",
    "\n",
    "        a = ModelTest(SVC(), #Model          \n",
    "                       X_train = X_train_fs_mic, X_test = X_test_fs_mic,  #Best\n",
    "                       y_train = y_train, y_test = y_test,\n",
    "                       typ = 'mic',\n",
    "                       k = k_mic)\n",
    "        metricss.append((a, \"scale: \" + str(scale), \"normalize:\" + str(normalize)))\n"
   ]
  },
  {
   "cell_type": "code",
   "execution_count": 34,
   "metadata": {},
   "outputs": [
    {
     "name": "stdout",
     "output_type": "stream",
     "text": [
      "((0.5959887343069786, 'GaussianNB() set = chi k = all'), 'scale: True', 'normalize:True')\n",
      "((0.597091923661177, 'DecisionTreeClassifier(max_depth=5, random_state=0) set = chi k = all'), 'scale: True', 'normalize:True')\n",
      "((0.5996245769526478, 'DecisionTreeClassifier(max_depth=10, random_state=0) set = chi k = all'), 'scale: True', 'normalize:True')\n",
      "((0.6068930870840078, 'DecisionTreeClassifier(max_depth=10, random_state=0) set = chi k = all'), 'scale: True', 'normalize:False')\n",
      "((0.6169305526234096, 'DecisionTreeClassifier(max_depth=10, random_state=0) set = chi k = all'), 'scale: False', 'normalize:True')\n",
      "((0.6566813213149404, \"SVC(class_weight='balanced') set = chi k = all\"), 'scale: True', 'normalize:True')\n"
     ]
    }
   ],
   "source": [
    "#Best Models\n",
    "\n",
    "temp = 0.001\n",
    "for metric in metricss:\n",
    "    if metric[0][0] > temp:\n",
    "        print(metric)\n",
    "        temp = metric[0][0]  "
   ]
  },
  {
   "cell_type": "markdown",
   "metadata": {},
   "source": [
    "# Model Train"
   ]
  },
  {
   "cell_type": "code",
   "execution_count": 35,
   "metadata": {},
   "outputs": [],
   "source": [
    "def ModelTrain(model, score_func, k,scale, normalize,):\n",
    "    \"\"\" \n",
    "        Functions that trains a model and return a df with \"enroll_id \"and \"target\"\n",
    "    \"\"\"\n",
    "    data_train = Data_Cleaning(pd.read_csv('z_train.csv'), \n",
    "                              scale=scale,\n",
    "                              normalize=normalize)\n",
    "    data_test = Data_Cleaning(pd.read_csv('z_test.csv'), \n",
    "                             scale=scale,\n",
    "                             normalize=normalize)\n",
    "    \n",
    "    #Cleaning\n",
    "    X_train = data_train.drop(['target','enrollee_id'], axis = 1) \n",
    "    y_train = data_train['target']\n",
    "    X_test = data_test.drop('enrollee_id', axis = 1)\n",
    "    \n",
    "    X_train, X_test = select_features(X_train, y_train, X_test, \n",
    "                                      score_func=score_func, \n",
    "                                      k = k)\n",
    "    #Training\n",
    "    model.fit(X_train,y_train)\n",
    "    y_pred = model.predict(X_test)\n",
    "    \n",
    "    #RSaving Submission DF\n",
    "    df_predicted = pd.DataFrame({'enrollee_id':data_test['enrollee_id'], \n",
    "                                 'target':y_pred})\n",
    "    df_predicted.to_csv('submission.csv', index=False) "
   ]
  },
  {
   "cell_type": "code",
   "execution_count": 36,
   "metadata": {},
   "outputs": [],
   "source": [
    "ModelTrain(SVC(class_weight='balanced'),\n",
    "           chi2,\n",
    "           'all',\n",
    "           True,\n",
    "           True)"
   ]
  },
  {
   "cell_type": "code",
   "execution_count": null,
   "metadata": {},
   "outputs": [],
   "source": []
  }
 ],
 "metadata": {
  "kernelspec": {
   "display_name": "Python 3",
   "language": "python",
   "name": "python3"
  },
  "language_info": {
   "codemirror_mode": {
    "name": "ipython",
    "version": 3
   },
   "file_extension": ".py",
   "mimetype": "text/x-python",
   "name": "python",
   "nbconvert_exporter": "python",
   "pygments_lexer": "ipython3",
   "version": "3.8.5"
  }
 },
 "nbformat": 4,
 "nbformat_minor": 4
}
