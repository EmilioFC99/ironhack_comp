{
 "cells": [
  {
   "cell_type": "markdown",
   "metadata": {},
   "source": [
    "# Data Cleaning\n",
    "* Rare Encoding 'city' (top 8 labels)\n",
    "* Creating groups for 'experience' and converting it to ordinal.\n",
    "* Converting the rest to ordinal for Null filling.\n",
    "\n",
    "# Feature Selection\n",
    " * chi_squared\n",
    " * mutual_info_classif\n",
    "\n",
    "# Model Test\n",
    " * GaussianNB\n",
    " * Logistic Regression\n",
    " * Extreme Tree Classifier\n",
    " * Decision Tree Classifier\n",
    " * Random Forest\n",
    " * KNeighbors\n",
    " * SVC\\\n",
    " \n",
    "# Model Train\n",
    " For deployment"
   ]
  },
  {
   "cell_type": "code",
   "execution_count": 3,
   "metadata": {},
   "outputs": [],
   "source": [
    "# imports\n",
    "import pandas as pd\n",
    "import numpy as np\n",
    "import matplotlib.pyplot as plt\n",
    "import seaborn as sns\n",
    "\n",
    "from feature_engine.encoding import RareLabelEncoder, OneHotEncoder\n",
    "from feature_engine.discretisation import EqualFrequencyDiscretiser\n",
    "from sklearn.preprocessing import RobustScaler\n",
    "\n",
    "from sklearn.experimental import enable_iterative_imputer\n",
    "from sklearn.impute import IterativeImputer\n",
    "\n",
    "from sklearn.feature_selection import SelectKBest\n",
    "from sklearn.feature_selection import chi2\n",
    "from sklearn.feature_selection import mutual_info_classif\n",
    "\n",
    "\n",
    "from sklearn.naive_bayes import GaussianNB\n",
    "from sklearn.linear_model import LogisticRegression\n",
    "from sklearn.tree import ExtraTreeClassifier, DecisionTreeClassifier\n",
    "from sklearn.ensemble import RandomForestClassifier\n",
    "from sklearn.neighbors import KNeighborsClassifier\n",
    "from sklearn.svm import SVC\n",
    "\n",
    "from sklearn.model_selection import train_test_split, KFold, cross_validate\n",
    "\n",
    "from sklearn import metrics\n",
    "from scipy import stats"
   ]
  },
  {
   "cell_type": "markdown",
   "metadata": {},
   "source": [
    "# Data Cleaning"
   ]
  },
  {
   "cell_type": "code",
   "execution_count": 14,
   "metadata": {},
   "outputs": [],
   "source": [
    "def Data_Cleaning(data_, scale = False, normalize = False):\n",
    "    \"\"\"\n",
    "    Function that takes the dataset \n",
    "    and convert categorical features to ordinal,\n",
    "    fill nulls, standardize data and create dummies.\n",
    "    \"\"\"\n",
    "    data = data_.copy()\n",
    "    \n",
    "    \n",
    "    cat = 'gender'\n",
    "    data[cat].replace({\"Male\":1, \n",
    "                       \"Female\":2, \n",
    "                       \"Other\":3},\n",
    "                      inplace=True)\n",
    "    \n",
    "    \n",
    "    cat = 'enrolled_university'\n",
    "    data[cat].isnull().mean()*100\n",
    "    data[cat].replace({\"no_enrollment\":0, \n",
    "                       'Full time course':2, \n",
    "                       'Part time course':1}, \n",
    "                      inplace = True)\n",
    "    \n",
    "    \n",
    "    cat = 'education_level'\n",
    "    data[cat].replace({\"Primary School\": 0, \n",
    "                       \"High School\": 1, \n",
    "                       \"Graduate\": 2, \n",
    "                       \"Masters\": 3, \n",
    "                       \"Phd\": 4},\n",
    "                      inplace =True)\n",
    "    \n",
    "    \n",
    "    cat= \"major_discipline\"\n",
    "    data[cat].replace({'STEM':0, \n",
    "                       'Business Degree':1, \n",
    "                       'Humanities': 2,\n",
    "                       'Arts':3, \n",
    "                       'No Major':4 ,\n",
    "                       'Other':5},\n",
    "                      inplace = True)\n",
    "    \n",
    "    \n",
    "    cat = 'experience'\n",
    "    def Create_Groups(x):\n",
    "        if x in ['<1','1','2','3','4']:\n",
    "            return '0-5'\n",
    "        elif x in ['5','6','7','8','9']:\n",
    "            return '5-10'\n",
    "        elif x in ['10','11','12','13','14']:\n",
    "            return '10-15'\n",
    "        elif x in ['15','16','17','18','19']:\n",
    "            return '15-20'\n",
    "        elif x in ['20','>20']:\n",
    "            return '20+'\n",
    "        else: return x\n",
    "        \n",
    "    data[cat] = data[cat].apply(Create_Groups)\n",
    "    data[cat].replace({'0-5': 0, \n",
    "                       '5-10':1, \n",
    "                       '10-15':2, \n",
    "                       '15-20':3,\n",
    "                       '20+':4},\n",
    "                      inplace=True)\n",
    "    \n",
    "    \n",
    "    cat = 'last_new_job'\n",
    "    data[cat].replace({'never':0,\n",
    "                       '1':1, \n",
    "                       '2':2, \n",
    "                       '3':3, \n",
    "                       '4':4,\n",
    "                       '>4':5}, \n",
    "                      inplace = True)\n",
    "    \n",
    "    \n",
    "    cat = 'company_size'\n",
    "    data[cat].replace({'<10':0, \n",
    "                       '10/49':1, \n",
    "                       '50-99':2, \n",
    "                       '100-500':3, \n",
    "                       '500-999':4,\n",
    "                       '1000-4999':5,\n",
    "                       '5000-9999':6, \n",
    "                       '10000+':7},\n",
    "                      inplace=True)\n",
    "    \n",
    "    \n",
    "    cat = 'company_type'\n",
    "    data[cat].replace({'Pvt Ltd':0, \n",
    "                       'Funded Startup':1,\n",
    "                       'Early Stage Startup':2,\n",
    "                       'Public Sector':3,\n",
    "                       'NGO':4,\n",
    "                       'Other':5},\n",
    "                      inplace=True)\n",
    "\n",
    "    cat = 'city'\n",
    "    rare_encoder = RareLabelEncoder(tol=0.02,\n",
    "                                    n_categories=8,\n",
    "                                    variables=cat,\n",
    "                                    replace_with='Other')\n",
    "    rare_encoder.fit(data)\n",
    "    data = rare_encoder.transform(data)\n",
    "    data[cat].replace({'city_103':0, \n",
    "                       'city_21':1,\n",
    "                       'city_16':2,\n",
    "                       'city_114':3,\n",
    "                       'city_160':4,\n",
    "                       'city_136':5,\n",
    "                       'city_67':6,\n",
    "                       'Other':7},\n",
    "                      inplace=True)\n",
    "\n",
    "    \n",
    "    cat = 'city_development_index'\n",
    "    bins = 6\n",
    "    disc = EqualFrequencyDiscretiser(q=bins)\n",
    "    disc.fit(pd.DataFrame(data[cat]))\n",
    "    data[cat] = disc.transform(pd.DataFrame(data[cat]))\n",
    "    \n",
    "    cat = 'relevent_experience'\n",
    "    data[cat] = data[cat].apply(lambda x: 1 if 'Has' in x else 0) \n",
    "    \n",
    "    \n",
    "\n",
    "    null_columns = data.isnull().mean()*100\n",
    "    null_columns = null_columns[null_columns > 0].index.to_list()\n",
    "    #null_columns = ['gender', 'enrolled_university', \n",
    "    #'education_level', 'major_discipline', 'experience', \n",
    "    #'company_size', 'company_type', 'last_new_job']\n",
    "    \n",
    "    #Using IterativeImputer to fill nulls\n",
    "    imputer = IterativeImputer(max_iter=200,random_state=0)\n",
    "    for col in null_columns:\n",
    "        data[col] = imputer.fit_transform(data[[col]])\n",
    "        data[col] = round(data[col])\n",
    "    \n",
    "    if scale:\n",
    "        cat = 'training_hours'\n",
    "        if normalize:\n",
    "            data[cat] =  data[cat] ** (1/3)\n",
    "        scaler = RobustScaler().fit(data[[cat]])\n",
    "        data[cat] = scaler.transform(data[[cat]])\n",
    "        data[cat] =  data[cat] + data[cat].max()\n",
    "    return data"
   ]
  },
  {
   "cell_type": "code",
   "execution_count": 15,
   "metadata": {
    "scrolled": false
   },
   "outputs": [],
   "source": [
    "data_cleaned = Data_Cleaning(pd.read_csv('z_train.csv'), scale =True, normalize = True)"
   ]
  },
  {
   "cell_type": "markdown",
   "metadata": {},
   "source": [
    "# Feature Selection"
   ]
  },
  {
   "cell_type": "code",
   "execution_count": 16,
   "metadata": {},
   "outputs": [],
   "source": [
    "X = data_cleaned.drop(['target','enrollee_id'], axis = 1) \n",
    "y = data_cleaned['target']\n",
    "\n",
    "X_train, X_test, y_train, y_test = train_test_split(X, y, \n",
    "                                                    test_size=0.2)"
   ]
  },
  {
   "cell_type": "code",
   "execution_count": 17,
   "metadata": {
    "scrolled": true
   },
   "outputs": [
    {
     "data": {
      "image/png": "[encoded data removed]",
      "text/plain": [
       "<Figure size 1440x1080 with 1 Axes>"
      ]
     },
     "metadata": {
      "needs_background": "light"
     },
     "output_type": "display_data"
    },
    {
     "data": {
      "image/png": "[encoded data removed]",
      "text/plain": [
       "<Figure size 1440x1080 with 1 Axes>"
      ]
     },
     "metadata": {
      "needs_background": "light"
     },
     "output_type": "display_data"
    },
    {
     "data": {
      "text/plain": [
       "(array([[7.        , 1.        , 1.        , ..., 1.        , 0.        ,\n",
       "         1.98067192],\n",
       "        [0.        , 3.        , 1.        , ..., 1.        , 1.        ,\n",
       "         0.89110777],\n",
       "        [0.        , 3.        , 1.        , ..., 1.        , 2.        ,\n",
       "         2.8100112 ],\n",
       "        ...,\n",
       "        [2.        , 2.        , 1.        , ..., 0.        , 3.        ,\n",
       "         1.6157293 ],\n",
       "        [2.        , 2.        , 3.        , ..., 0.        , 5.        ,\n",
       "         2.66106258],\n",
       "        [0.        , 3.        , 1.        , ..., 1.        , 1.        ,\n",
       "         2.43791585]]),\n",
       " array([[0.        , 3.        , 1.        , ..., 0.        , 1.        ,\n",
       "         3.34518372],\n",
       "        [1.        , 0.        , 1.        , ..., 0.        , 2.        ,\n",
       "         2.4027524 ],\n",
       "        [7.        , 1.        , 1.        , ..., 0.        , 1.        ,\n",
       "         1.24860074],\n",
       "        ...,\n",
       "        [0.        , 3.        , 1.        , ..., 0.        , 0.        ,\n",
       "         2.5380812 ],\n",
       "        [7.        , 1.        , 1.        , ..., 1.        , 0.        ,\n",
       "         1.70956105],\n",
       "        [4.        , 3.        , 1.        , ..., 0.        , 2.        ,\n",
       "         1.45300409]]),\n",
       " SelectKBest(k='all',\n",
       "             score_func=<function mutual_info_classif at 0x000001E561367040>))"
      ]
     },
     "execution_count": 17,
     "metadata": {},
     "output_type": "execute_result"
    }
   ],
   "source": [
    "def select_features_viz(X_train, y_train, X_test, score_func, k = 'all'):\n",
    "    fs = SelectKBest(score_func=score_func, k=k) #12 -15\n",
    "    fs.fit(X_train, y_train)\n",
    "    X_train_fs = fs.transform(X_train)\n",
    "    X_test_fs = fs.transform(X_test)\n",
    "    \n",
    "    plt.figure(figsize=(20,15))\n",
    "    plt.bar(X_train.columns, fs.scores_)\n",
    "    plt.xticks(rotation=90)\n",
    "    plt.title(f\"{str(score_func)}\")\n",
    "    plt.show()\n",
    "    return X_train_fs, X_test_fs, fs\n",
    "\n",
    "select_features_viz(X_train, y_train, X_test, \n",
    "                    score_func=chi2) # k 17\n",
    "\n",
    "select_features_viz(X_train, y_train, X_test, \n",
    "                    score_func=mutual_info_classif) # k = 23"
   ]
  },
  {
   "cell_type": "code",
   "execution_count": 18,
   "metadata": {},
   "outputs": [],
   "source": [
    "def select_features(X_train, y_train, X_test, score_func, k = 'all'):\n",
    "    fs = SelectKBest(score_func=score_func, k=k)\n",
    "    fs.fit(X_train, y_train)\n",
    "    X_train_fs = fs.transform(X_train)\n",
    "    X_test_fs = fs.transform(X_test)  \n",
    "    return X_train_fs, X_test_fs"
   ]
  },
  {
   "cell_type": "markdown",
   "metadata": {},
   "source": [
    "# Model Test"
   ]
  },
  {
   "cell_type": "code",
   "execution_count": 27,
   "metadata": {},
   "outputs": [],
   "source": [
    "def ModelTest(model, X_train, X_test, y_train, y_test, typ, k):\n",
    "    model.fit(X_train, y_train)\n",
    "    y_pred = model.predict(X_test)\n",
    "\n",
    "    cross_val = cross_validate(model,X_train,y_train, \n",
    "                               scoring=('accuracy','precision','recall','f1','roc_auc'),\n",
    "                               cv=10)\n",
    "\n",
    "    print(f\"\\nModel: {str(model)}\\n\")\n",
    "    display(metrics.confusion_matrix(y_test,y_pred))\n",
    "    print(f\"Cross Val:\")\n",
    "    acc= cross_val.get('test_accuracy').mean()\n",
    "    print(f\"Acc: {acc}\")\n",
    "    precision = cross_val.get('test_precision').mean()\n",
    "    print(f\"Precision: {precision}\")\n",
    "    recall = cross_val.get('test_recall').mean()\n",
    "    print(f\"Recall: {recall}\")\n",
    "    f1 = cross_val.get('test_f1').mean()\n",
    "    print(f\"f1: {f1}\")\n",
    "    roc_auc = cross_val.get('test_roc_auc').mean()\n",
    "    print(f\"ROC AUC: {roc_auc}\")\n",
    "    return  ((acc+precision + recall)/3, f\"{str(model)} set = {typ} k = {str(k)}\" )"
   ]
  },
  {
   "cell_type": "code",
   "execution_count": 28,
   "metadata": {
    "scrolled": true
   },
   "outputs": [
    {
     "name": "stdout",
     "output_type": "stream",
     "text": [
      "\n",
      "Model: GaussianNB()\n",
      "\n"
     ]
    },
    {
     "data": {
      "text/plain": [
       "array([[1924,  398],\n",
       "       [ 391,  353]], dtype=int64)"
      ]
     },
     "metadata": {},
     "output_type": "display_data"
    },
    {
     "name": "stdout",
     "output_type": "stream",
     "text": [
      "Cross Val:\n",
      "Acc: 0.7480424143556281\n",
      "Precision: 0.4984646820369659\n",
      "Recall: 0.43636363636363634\n",
      "f1: 0.46507733821622743\n",
      "ROC AUC: 0.711111111111111\n",
      "\n",
      "Model: GaussianNB()\n",
      "\n"
     ]
    },
    {
     "data": {
      "text/plain": [
       "array([[1985,  337],\n",
       "       [ 407,  337]], dtype=int64)"
      ]
     },
     "metadata": {},
     "output_type": "display_data"
    },
    {
     "name": "stdout",
     "output_type": "stream",
     "text": [
      "Cross Val:\n",
      "Acc: 0.7621533442088092\n",
      "Precision: 0.5337235199104617\n",
      "Recall: 0.4233766233766233\n",
      "f1: 0.4718887654837891\n",
      "ROC AUC: 0.7298614647879353\n",
      "\n",
      "Model: GaussianNB()\n",
      "\n"
     ]
    },
    {
     "data": {
      "text/plain": [
       "array([[1944,  339],\n",
       "       [ 446,  337]], dtype=int64)"
      ]
     },
     "metadata": {},
     "output_type": "display_data"
    },
    {
     "name": "stdout",
     "output_type": "stream",
     "text": [
      "Cross Val:\n",
      "Acc: 0.751141924959217\n",
      "Precision: 0.4991141855554441\n",
      "Recall: 0.4495211389128559\n",
      "f1: 0.47266873966997885\n",
      "ROC AUC: 0.7123938822808855\n",
      "\n",
      "Model: GaussianNB()\n",
      "\n"
     ]
    },
    {
     "data": {
      "text/plain": [
       "array([[1959,  324],\n",
       "       [ 439,  344]], dtype=int64)"
      ]
     },
     "metadata": {},
     "output_type": "display_data"
    },
    {
     "name": "stdout",
     "output_type": "stream",
     "text": [
      "Cross Val:\n",
      "Acc: 0.7513866231647635\n",
      "Precision: 0.4996902918426899\n",
      "Recall: 0.4475388265746333\n",
      "f1: 0.471790712582467\n",
      "ROC AUC: 0.7224455311933282\n",
      "\n",
      "Model: GaussianNB()\n",
      "\n"
     ]
    },
    {
     "data": {
      "text/plain": [
       "array([[2000,  305],\n",
       "       [ 434,  327]], dtype=int64)"
      ]
     },
     "metadata": {},
     "output_type": "display_data"
    },
    {
     "name": "stdout",
     "output_type": "stream",
     "text": [
      "Cross Val:\n",
      "Acc: 0.7588907014681892\n",
      "Precision: 0.521031490979588\n",
      "Recall: 0.43747844414638826\n",
      "f1: 0.4754582308543721\n",
      "ROC AUC: 0.7131281924626407\n",
      "\n",
      "Model: GaussianNB()\n",
      "\n"
     ]
    },
    {
     "data": {
      "text/plain": [
       "array([[1976,  329],\n",
       "       [ 437,  324]], dtype=int64)"
      ]
     },
     "metadata": {},
     "output_type": "display_data"
    },
    {
     "name": "stdout",
     "output_type": "stream",
     "text": [
      "Cross Val:\n",
      "Acc: 0.7551386623164763\n",
      "Precision: 0.5124388428006474\n",
      "Recall: 0.4312661003597965\n",
      "f1: 0.46808589646682935\n",
      "ROC AUC: 0.7267342333205172\n",
      "\n",
      "Model: GaussianNB()\n",
      "\n"
     ]
    },
    {
     "data": {
      "text/plain": [
       "array([[1990,  324],\n",
       "       [ 428,  324]], dtype=int64)"
      ]
     },
     "metadata": {},
     "output_type": "display_data"
    },
    {
     "name": "stdout",
     "output_type": "stream",
     "text": [
      "Cross Val:\n",
      "Acc: 0.7622349102773247\n",
      "Precision: 0.5304745525411623\n",
      "Recall: 0.44173294132577523\n",
      "f1: 0.4818791081772017\n",
      "ROC AUC: 0.7138362084869192\n",
      "\n",
      "Model: GaussianNB()\n",
      "\n"
     ]
    },
    {
     "data": {
      "text/plain": [
       "array([[1973,  341],\n",
       "       [ 406,  346]], dtype=int64)"
      ]
     },
     "metadata": {},
     "output_type": "display_data"
    },
    {
     "name": "stdout",
     "output_type": "stream",
     "text": [
      "Cross Val:\n",
      "Acc: 0.7484502446982055\n",
      "Precision: 0.4979837938936605\n",
      "Recall: 0.4397774863572909\n",
      "f1: 0.4669626664676884\n",
      "ROC AUC: 0.7206165876093933\n",
      "((0.5609569109187434, 'GaussianNB() set = chi k = 17'), 'scale: True', 'normalize:True')\n",
      "((0.5730844958319649, 'GaussianNB() set = mic k = 23'), 'scale: True', 'normalize:True')\n",
      "((0.5781474680480874, 'GaussianNB() set = chi k = 17'), 'scale: False', 'normalize:False')\n"
     ]
    }
   ],
   "source": [
    "metricss = []\n",
    "\n",
    "for scale in [True,False]:\n",
    "    for normalize in [True,False]:\n",
    "        \n",
    "        #Extracting and Cleaning Data\n",
    "        data_cleaned = Data_Cleaning(pd.read_csv('z_train.csv'), \n",
    "                                     scale = scale, \n",
    "                                     normalize = normalize)\n",
    "        \n",
    "        #Train, Test Split\n",
    "        X = data_cleaned.drop(['target','enrollee_id'], axis = 1) \n",
    "        y = data_cleaned['target']\n",
    "        X_train, X_test, y_train, y_test = train_test_split(X, y, \n",
    "                                                            test_size=0.2)\n",
    "\n",
    "        X_train_fs_chi, X_test_fs_chi = select_features(X_train, y_train, X_test, \n",
    "                                                        chi2, \n",
    "                                                        k = 7)\n",
    "        X_train_fs_mic, X_test_fs_mic = select_features(X_train, y_train, X_test, \n",
    "                                                        mutual_info_classif, \n",
    "                                                        k = 10)\n",
    "        \n",
    "        #Model Training\n",
    "        a = ModelTest(GaussianNB(), #Model    \n",
    "                      X_train = X_train_fs_chi, X_test = X_test_fs_chi,\n",
    "                      y_train = y_train, y_test = y_test,\n",
    "                      typ = 'chi',\n",
    "                      k = 17)\n",
    "        metricss.append((a, \"scale: \" + str(scale), \"normalize:\" + str(normalize)))\n",
    "\n",
    "        a = ModelTest(GaussianNB(), #Model          \n",
    "                      X_train = X_train_fs_mic, X_test = X_test_fs_mic,  #Best\n",
    "                      y_train = y_train, y_test = y_test,\n",
    "                      typ = 'mic',\n",
    "                      k = 23)\n",
    "        metricss.append((a, \"scale: \" + str(scale), \"normalize:\" + str(normalize)))\n",
    "        \n",
    "temp = 0.001\n",
    "for metric in metricss:\n",
    "    if metric[0][0] > temp:\n",
    "        print(metric)\n",
    "        temp = metric[0][0]  "
   ]
  },
  {
   "cell_type": "code",
   "execution_count": 29,
   "metadata": {
    "scrolled": true
   },
   "outputs": [
    {
     "name": "stdout",
     "output_type": "stream",
     "text": [
      "\n",
      "Model: LogisticRegression(max_iter=1000, random_state=0)\n",
      "\n"
     ]
    },
    {
     "data": {
      "text/plain": [
       "array([[2143,  152],\n",
       "       [ 571,  200]], dtype=int64)"
      ]
     },
     "metadata": {},
     "output_type": "display_data"
    },
    {
     "name": "stdout",
     "output_type": "stream",
     "text": [
      "Cross Val:\n",
      "Acc: 0.7743066884176183\n",
      "Precision: 0.6027489954013869\n",
      "Recall: 0.27677274188363865\n",
      "f1: 0.37869115278479193\n",
      "ROC AUC: 0.7331838778216425\n",
      "\n",
      "Model: LogisticRegression(max_iter=1000, random_state=0)\n",
      "\n"
     ]
    },
    {
     "data": {
      "text/plain": [
       "array([[2139,  156],\n",
       "       [ 570,  201]], dtype=int64)"
      ]
     },
     "metadata": {},
     "output_type": "display_data"
    },
    {
     "name": "stdout",
     "output_type": "stream",
     "text": [
      "Cross Val:\n",
      "Acc: 0.7748776508972266\n",
      "Precision: 0.6071395978441126\n",
      "Recall: 0.2754601950069645\n",
      "f1: 0.37824572021782166\n",
      "ROC AUC: 0.7332428099867294\n",
      "\n",
      "Model: LogisticRegression(max_iter=1000, random_state=0)\n",
      "\n"
     ]
    },
    {
     "data": {
      "text/plain": [
       "array([[2142,  133],\n",
       "       [ 595,  196]], dtype=int64)"
      ]
     },
     "metadata": {},
     "output_type": "display_data"
    },
    {
     "name": "stdout",
     "output_type": "stream",
     "text": [
      "Cross Val:\n",
      "Acc: 0.7707177814029363\n",
      "Precision: 0.591208774980972\n",
      "Recall: 0.23839673441028314\n",
      "f1: 0.33938554666754694\n",
      "ROC AUC: 0.738273784117016\n",
      "\n",
      "Model: LogisticRegression(max_iter=1000, random_state=0)\n",
      "\n"
     ]
    },
    {
     "data": {
      "text/plain": [
       "array([[2136,  139],\n",
       "       [ 585,  206]], dtype=int64)"
      ]
     },
     "metadata": {},
     "output_type": "display_data"
    },
    {
     "name": "stdout",
     "output_type": "stream",
     "text": [
      "Cross Val:\n",
      "Acc: 0.7738988580750408\n",
      "Precision: 0.6009158741191947\n",
      "Recall: 0.2575201928087546\n",
      "f1: 0.36011599282583284\n",
      "ROC AUC: 0.7384692986397566\n",
      "\n",
      "Model: LogisticRegression(max_iter=1000, random_state=0)\n",
      "\n"
     ]
    },
    {
     "data": {
      "text/plain": [
       "array([[2158,  136],\n",
       "       [ 551,  221]], dtype=int64)"
      ]
     },
     "metadata": {},
     "output_type": "display_data"
    },
    {
     "name": "stdout",
     "output_type": "stream",
     "text": [
      "Cross Val:\n",
      "Acc: 0.7759380097879282\n",
      "Precision: 0.5996278842801349\n",
      "Recall: 0.30011464695167683\n",
      "f1: 0.3997640071123985\n",
      "ROC AUC: 0.7263879312113434\n",
      "\n",
      "Model: LogisticRegression(max_iter=1000, random_state=0)\n",
      "\n"
     ]
    },
    {
     "data": {
      "text/plain": [
       "array([[2164,  130],\n",
       "       [ 564,  208]], dtype=int64)"
      ]
     },
     "metadata": {},
     "output_type": "display_data"
    },
    {
     "name": "stdout",
     "output_type": "stream",
     "text": [
      "Cross Val:\n",
      "Acc: 0.7727569331158238\n",
      "Precision: 0.5942089714236258\n",
      "Recall: 0.2732433301189328\n",
      "f1: 0.373898696939206\n",
      "ROC AUC: 0.7321214505555534\n",
      "\n",
      "Model: LogisticRegression(max_iter=1000, random_state=0)\n",
      "\n"
     ]
    },
    {
     "data": {
      "text/plain": [
       "array([[2146,  149],\n",
       "       [ 549,  222]], dtype=int64)"
      ]
     },
     "metadata": {},
     "output_type": "display_data"
    },
    {
     "name": "stdout",
     "output_type": "stream",
     "text": [
      "Cross Val:\n",
      "Acc: 0.7769168026101141\n",
      "Precision: 0.6085552302255112\n",
      "Recall: 0.29742205078752815\n",
      "f1: 0.39838002152745833\n",
      "ROC AUC: 0.7263333067363429\n",
      "\n",
      "Model: LogisticRegression(max_iter=1000, random_state=0)\n",
      "\n"
     ]
    },
    {
     "data": {
      "text/plain": [
       "array([[2152,  143],\n",
       "       [ 572,  199]], dtype=int64)"
      ]
     },
     "metadata": {},
     "output_type": "display_data"
    },
    {
     "name": "stdout",
     "output_type": "stream",
     "text": [
      "Cross Val:\n",
      "Acc: 0.7736541598694944\n",
      "Precision: 0.6038525910671309\n",
      "Recall: 0.26859423550841105\n",
      "f1: 0.3710917751308084\n",
      "ROC AUC: 0.7337243312391399\n",
      "((0.5609569109187434, 'GaussianNB() set = chi k = 17'), 'scale: True', 'normalize:True')\n",
      "((0.5730844958319649, 'GaussianNB() set = mic k = 23'), 'scale: True', 'normalize:True')\n",
      "((0.5781474680480874, 'GaussianNB() set = chi k = 17'), 'scale: False', 'normalize:False')\n"
     ]
    }
   ],
   "source": [
    "#Model Test                                   \n",
    "for scale in [True,False]:\n",
    "    for normalize in [True,False]:\n",
    "        \n",
    "        #Extracting and Cleaning Data\n",
    "        data_cleaned = Data_Cleaning(pd.read_csv('z_train.csv'), \n",
    "                                     scale = scale, \n",
    "                                     normalize = normalize)\n",
    "        \n",
    "        #Train, Test Split\n",
    "        X = data_cleaned.drop(['target','enrollee_id'], axis = 1) \n",
    "        y = data_cleaned['target']\n",
    "        X_train, X_test, y_train, y_test = train_test_split(X, y, \n",
    "                                                            test_size=0.2)\n",
    "\n",
    "        X_train_fs_chi, X_test_fs_chi = select_features(X_train, y_train, X_test, \n",
    "                                                        chi2, \n",
    "                                                        k = 7)\n",
    "        X_train_fs_mic, X_test_fs_mic = select_features(X_train, y_train, X_test, \n",
    "                                                        mutual_info_classif, \n",
    "                                                        k = 10)\n",
    "        \n",
    "        #Model Training   \n",
    "    \n",
    "        a = ModelTest(LogisticRegression(max_iter=1000,random_state=0), #Model    \n",
    "                      X_train = X_train_fs_chi, X_test = X_test_fs_chi,\n",
    "                      y_train = y_train, y_test = y_test,\n",
    "                      typ = 'chi',\n",
    "                      k = 17)\n",
    "        metricss.append((a, \"scale: \" + str(scale), \"normalize:\" + str(normalize)))\n",
    "\n",
    "        a = ModelTest(LogisticRegression(max_iter=1000, random_state=0), #Model          \n",
    "                      X_train = X_train_fs_mic, X_test = X_test_fs_mic,  #Best\n",
    "                      y_train = y_train, y_test = y_test,\n",
    "                      typ = 'mic',\n",
    "                      k = 23)\n",
    "        metricss.append((a, \"scale: \" + str(scale), \"normalize:\" + str(normalize)))\n",
    "        \n",
    "temp = 0.001\n",
    "for metric in metricss:\n",
    "    if metric[0][0] > temp:\n",
    "        print(metric)\n",
    "        temp = metric[0][0]  "
   ]
  },
  {
   "cell_type": "code",
   "execution_count": 30,
   "metadata": {
    "scrolled": true
   },
   "outputs": [
    {
     "name": "stdout",
     "output_type": "stream",
     "text": [
      "\n",
      "Model: ExtraTreeClassifier(max_depth=5, random_state=0)\n",
      "\n"
     ]
    },
    {
     "data": {
      "text/plain": [
       "array([[2160,  134],\n",
       "       [ 571,  201]], dtype=int64)"
      ]
     },
     "metadata": {},
     "output_type": "display_data"
    },
    {
     "name": "stdout",
     "output_type": "stream",
     "text": [
      "Cross Val:\n",
      "Acc: 0.7756933115823819\n",
      "Precision: 0.5978289457478154\n",
      "Recall: 0.2962187935283403\n",
      "f1: 0.3937712415571593\n",
      "ROC AUC: 0.6981940043763524\n",
      "\n",
      "Model: ExtraTreeClassifier(max_depth=5, random_state=0)\n",
      "\n"
     ]
    },
    {
     "data": {
      "text/plain": [
       "array([[2115,  179],\n",
       "       [ 522,  250]], dtype=int64)"
      ]
     },
     "metadata": {},
     "output_type": "display_data"
    },
    {
     "name": "stdout",
     "output_type": "stream",
     "text": [
      "Cross Val:\n",
      "Acc: 0.780016313213703\n",
      "Precision: 0.6027898560144636\n",
      "Recall: 0.3410939676417015\n",
      "f1: 0.43533396058124635\n",
      "ROC AUC: 0.7373374800112862\n",
      "\n",
      "Model: ExtraTreeClassifier(max_depth=10, random_state=0)\n",
      "\n"
     ]
    },
    {
     "data": {
      "text/plain": [
       "array([[2097,  197],\n",
       "       [ 516,  256]], dtype=int64)"
      ]
     },
     "metadata": {},
     "output_type": "display_data"
    },
    {
     "name": "stdout",
     "output_type": "stream",
     "text": [
      "Cross Val:\n",
      "Acc: 0.7710440456769984\n",
      "Precision: 0.5622636717522869\n",
      "Recall: 0.3636633451194685\n",
      "f1: 0.4410896500671968\n",
      "ROC AUC: 0.7361764001598899\n",
      "\n",
      "Model: ExtraTreeClassifier(max_depth=10, random_state=0)\n",
      "\n"
     ]
    },
    {
     "data": {
      "text/plain": [
       "array([[1992,  302],\n",
       "       [ 386,  386]], dtype=int64)"
      ]
     },
     "metadata": {},
     "output_type": "display_data"
    },
    {
     "name": "stdout",
     "output_type": "stream",
     "text": [
      "Cross Val:\n",
      "Acc: 0.7747145187601958\n",
      "Precision: 0.5677752759549844\n",
      "Recall: 0.4033515482695811\n",
      "f1: 0.47105314849364055\n",
      "ROC AUC: 0.749874408250155\n",
      "\n",
      "Model: ExtraTreeClassifier(max_depth=15, random_state=0)\n",
      "\n"
     ]
    },
    {
     "data": {
      "text/plain": [
       "array([[1994,  300],\n",
       "       [ 451,  321]], dtype=int64)"
      ]
     },
     "metadata": {},
     "output_type": "display_data"
    },
    {
     "name": "stdout",
     "output_type": "stream",
     "text": [
      "Cross Val:\n",
      "Acc: 0.7578303425774878\n",
      "Precision: 0.5190499928671208\n",
      "Recall: 0.387611700417872\n",
      "f1: 0.4435299844177122\n",
      "ROC AUC: 0.7144276238964905\n",
      "\n",
      "Model: ExtraTreeClassifier(max_depth=15, random_state=0)\n",
      "\n"
     ]
    },
    {
     "data": {
      "text/plain": [
       "array([[1979,  315],\n",
       "       [ 424,  348]], dtype=int64)"
      ]
     },
     "metadata": {},
     "output_type": "display_data"
    },
    {
     "name": "stdout",
     "output_type": "stream",
     "text": [
      "Cross Val:\n",
      "Acc: 0.7517128874388256\n",
      "Precision: 0.501356044390271\n",
      "Recall: 0.4256284153005464\n",
      "f1: 0.45926296307206016\n",
      "ROC AUC: 0.7020607290875083\n",
      "\n",
      "Model: ExtraTreeClassifier(max_depth=20, random_state=0)\n",
      "\n"
     ]
    },
    {
     "data": {
      "text/plain": [
       "array([[1982,  312],\n",
       "       [ 451,  321]], dtype=int64)"
      ]
     },
     "metadata": {},
     "output_type": "display_data"
    },
    {
     "name": "stdout",
     "output_type": "stream",
     "text": [
      "Cross Val:\n",
      "Acc: 0.7560358890701468\n",
      "Precision: 0.5139154862429905\n",
      "Recall: 0.39744562305796644\n",
      "f1: 0.44767882384939145\n",
      "ROC AUC: 0.7096078089852926\n",
      "\n",
      "Model: ExtraTreeClassifier(max_depth=20, random_state=0)\n",
      "\n"
     ]
    },
    {
     "data": {
      "text/plain": [
       "array([[1912,  382],\n",
       "       [ 421,  351]], dtype=int64)"
      ]
     },
     "metadata": {},
     "output_type": "display_data"
    },
    {
     "name": "stdout",
     "output_type": "stream",
     "text": [
      "Cross Val:\n",
      "Acc: 0.7407830342577488\n",
      "Precision: 0.47650142939246615\n",
      "Recall: 0.4197224900889318\n",
      "f1: 0.4459418254371272\n",
      "ROC AUC: 0.6868527511489211\n",
      "\n",
      "Model: ExtraTreeClassifier(max_depth=25, random_state=0)\n",
      "\n"
     ]
    },
    {
     "data": {
      "text/plain": [
       "array([[1981,  313],\n",
       "       [ 457,  315]], dtype=int64)"
      ]
     },
     "metadata": {},
     "output_type": "display_data"
    },
    {
     "name": "stdout",
     "output_type": "stream",
     "text": [
      "Cross Val:\n",
      "Acc: 0.7557911908646002\n",
      "Precision: 0.5133624191682585\n",
      "Recall: 0.39580735026250935\n",
      "f1: 0.44640287609598206\n",
      "ROC AUC: 0.7087349329338541\n",
      "\n",
      "Model: ExtraTreeClassifier(max_depth=25, random_state=0)\n",
      "\n"
     ]
    },
    {
     "data": {
      "text/plain": [
       "array([[1895,  399],\n",
       "       [ 415,  357]], dtype=int64)"
      ]
     },
     "metadata": {},
     "output_type": "display_data"
    },
    {
     "name": "stdout",
     "output_type": "stream",
     "text": [
      "Cross Val:\n",
      "Acc: 0.7328711256117455\n",
      "Precision: 0.4585352152377265\n",
      "Recall: 0.4115257687774564\n",
      "f1: 0.4332763219450893\n",
      "ROC AUC: 0.677199420983782\n",
      "\n",
      "Model: ExtraTreeClassifier(max_depth=30, random_state=0)\n",
      "\n"
     ]
    },
    {
     "data": {
      "text/plain": [
       "array([[1981,  313],\n",
       "       [ 457,  315]], dtype=int64)"
      ]
     },
     "metadata": {},
     "output_type": "display_data"
    },
    {
     "name": "stdout",
     "output_type": "stream",
     "text": [
      "Cross Val:\n",
      "Acc: 0.7557911908646002\n",
      "Precision: 0.5133624191682585\n",
      "Recall: 0.39580735026250935\n",
      "f1: 0.44640287609598206\n",
      "ROC AUC: 0.7087349329338541\n",
      "\n",
      "Model: ExtraTreeClassifier(max_depth=30, random_state=0)\n",
      "\n"
     ]
    },
    {
     "data": {
      "text/plain": [
       "array([[1906,  388],\n",
       "       [ 422,  350]], dtype=int64)"
      ]
     },
     "metadata": {},
     "output_type": "display_data"
    },
    {
     "name": "stdout",
     "output_type": "stream",
     "text": [
      "Cross Val:\n",
      "Acc: 0.7358075040783033\n",
      "Precision: 0.46526043359342034\n",
      "Recall: 0.42070288224579455\n",
      "f1: 0.4415704702830909\n",
      "ROC AUC: 0.6829174869017695\n",
      "\n",
      "Model: ExtraTreeClassifier(max_depth=35, random_state=0)\n",
      "\n"
     ]
    },
    {
     "data": {
      "text/plain": [
       "array([[1981,  313],\n",
       "       [ 457,  315]], dtype=int64)"
      ]
     },
     "metadata": {},
     "output_type": "display_data"
    },
    {
     "name": "stdout",
     "output_type": "stream",
     "text": [
      "Cross Val:\n",
      "Acc: 0.7557911908646002\n",
      "Precision: 0.5133624191682585\n",
      "Recall: 0.39580735026250935\n",
      "f1: 0.44640287609598206\n",
      "ROC AUC: 0.7087349329338541\n",
      "\n",
      "Model: ExtraTreeClassifier(max_depth=35, random_state=0)\n",
      "\n"
     ]
    },
    {
     "data": {
      "text/plain": [
       "array([[1906,  388],\n",
       "       [ 422,  350]], dtype=int64)"
      ]
     },
     "metadata": {},
     "output_type": "display_data"
    },
    {
     "name": "stdout",
     "output_type": "stream",
     "text": [
      "Cross Val:\n",
      "Acc: 0.7358075040783033\n",
      "Precision: 0.46526043359342034\n",
      "Recall: 0.42070288224579455\n",
      "f1: 0.4415704702830909\n",
      "ROC AUC: 0.6829174869017695\n",
      "\n",
      "Model: ExtraTreeClassifier(max_depth=40, random_state=0)\n",
      "\n"
     ]
    },
    {
     "data": {
      "text/plain": [
       "array([[1981,  313],\n",
       "       [ 457,  315]], dtype=int64)"
      ]
     },
     "metadata": {},
     "output_type": "display_data"
    },
    {
     "name": "stdout",
     "output_type": "stream",
     "text": [
      "Cross Val:\n",
      "Acc: 0.7557911908646002\n",
      "Precision: 0.5133624191682585\n",
      "Recall: 0.39580735026250935\n",
      "f1: 0.44640287609598206\n",
      "ROC AUC: 0.7087349329338541\n",
      "\n",
      "Model: ExtraTreeClassifier(max_depth=40, random_state=0)\n",
      "\n"
     ]
    },
    {
     "data": {
      "text/plain": [
       "array([[1906,  388],\n",
       "       [ 422,  350]], dtype=int64)"
      ]
     },
     "metadata": {},
     "output_type": "display_data"
    },
    {
     "name": "stdout",
     "output_type": "stream",
     "text": [
      "Cross Val:\n",
      "Acc: 0.7358075040783033\n",
      "Precision: 0.46526043359342034\n",
      "Recall: 0.42070288224579455\n",
      "f1: 0.4415704702830909\n",
      "ROC AUC: 0.6829174869017695\n",
      "\n",
      "Model: ExtraTreeClassifier(max_depth=45, random_state=0)\n",
      "\n"
     ]
    },
    {
     "data": {
      "text/plain": [
       "array([[1981,  313],\n",
       "       [ 457,  315]], dtype=int64)"
      ]
     },
     "metadata": {},
     "output_type": "display_data"
    },
    {
     "name": "stdout",
     "output_type": "stream",
     "text": [
      "Cross Val:\n",
      "Acc: 0.7557911908646002\n",
      "Precision: 0.5133624191682585\n",
      "Recall: 0.39580735026250935\n",
      "f1: 0.44640287609598206\n",
      "ROC AUC: 0.7087349329338541\n",
      "\n",
      "Model: ExtraTreeClassifier(max_depth=45, random_state=0)\n",
      "\n"
     ]
    },
    {
     "data": {
      "text/plain": [
       "array([[1906,  388],\n",
       "       [ 422,  350]], dtype=int64)"
      ]
     },
     "metadata": {},
     "output_type": "display_data"
    },
    {
     "name": "stdout",
     "output_type": "stream",
     "text": [
      "Cross Val:\n",
      "Acc: 0.7358075040783033\n",
      "Precision: 0.46526043359342034\n",
      "Recall: 0.42070288224579455\n",
      "f1: 0.4415704702830909\n",
      "ROC AUC: 0.6829174869017695\n",
      "\n",
      "Model: ExtraTreeClassifier(max_depth=50, random_state=0)\n",
      "\n"
     ]
    },
    {
     "data": {
      "text/plain": [
       "array([[1981,  313],\n",
       "       [ 457,  315]], dtype=int64)"
      ]
     },
     "metadata": {},
     "output_type": "display_data"
    },
    {
     "name": "stdout",
     "output_type": "stream",
     "text": [
      "Cross Val:\n",
      "Acc: 0.7557911908646002\n",
      "Precision: 0.5133624191682585\n",
      "Recall: 0.39580735026250935\n",
      "f1: 0.44640287609598206\n",
      "ROC AUC: 0.7087349329338541\n",
      "\n",
      "Model: ExtraTreeClassifier(max_depth=50, random_state=0)\n",
      "\n"
     ]
    },
    {
     "data": {
      "text/plain": [
       "array([[1906,  388],\n",
       "       [ 422,  350]], dtype=int64)"
      ]
     },
     "metadata": {},
     "output_type": "display_data"
    },
    {
     "name": "stdout",
     "output_type": "stream",
     "text": [
      "Cross Val:\n",
      "Acc: 0.7358075040783033\n",
      "Precision: 0.46526043359342034\n",
      "Recall: 0.42070288224579455\n",
      "f1: 0.4415704702830909\n",
      "ROC AUC: 0.6829174869017695\n",
      "\n",
      "Model: ExtraTreeClassifier(max_depth=55, random_state=0)\n",
      "\n"
     ]
    },
    {
     "data": {
      "text/plain": [
       "array([[1981,  313],\n",
       "       [ 457,  315]], dtype=int64)"
      ]
     },
     "metadata": {},
     "output_type": "display_data"
    },
    {
     "name": "stdout",
     "output_type": "stream",
     "text": [
      "Cross Val:\n",
      "Acc: 0.7557911908646002\n",
      "Precision: 0.5133624191682585\n",
      "Recall: 0.39580735026250935\n",
      "f1: 0.44640287609598206\n",
      "ROC AUC: 0.7087349329338541\n",
      "\n",
      "Model: ExtraTreeClassifier(max_depth=55, random_state=0)\n",
      "\n"
     ]
    },
    {
     "data": {
      "text/plain": [
       "array([[1906,  388],\n",
       "       [ 422,  350]], dtype=int64)"
      ]
     },
     "metadata": {},
     "output_type": "display_data"
    },
    {
     "name": "stdout",
     "output_type": "stream",
     "text": [
      "Cross Val:\n",
      "Acc: 0.7358075040783033\n",
      "Precision: 0.46526043359342034\n",
      "Recall: 0.42070288224579455\n",
      "f1: 0.4415704702830909\n",
      "ROC AUC: 0.6829174869017695\n",
      "\n",
      "Model: ExtraTreeClassifier(max_depth=60, random_state=0)\n",
      "\n"
     ]
    },
    {
     "data": {
      "text/plain": [
       "array([[1981,  313],\n",
       "       [ 457,  315]], dtype=int64)"
      ]
     },
     "metadata": {},
     "output_type": "display_data"
    },
    {
     "name": "stdout",
     "output_type": "stream",
     "text": [
      "Cross Val:\n",
      "Acc: 0.7557911908646002\n",
      "Precision: 0.5133624191682585\n",
      "Recall: 0.39580735026250935\n",
      "f1: 0.44640287609598206\n",
      "ROC AUC: 0.7087349329338541\n",
      "\n",
      "Model: ExtraTreeClassifier(max_depth=60, random_state=0)\n",
      "\n"
     ]
    },
    {
     "data": {
      "text/plain": [
       "array([[1906,  388],\n",
       "       [ 422,  350]], dtype=int64)"
      ]
     },
     "metadata": {},
     "output_type": "display_data"
    },
    {
     "name": "stdout",
     "output_type": "stream",
     "text": [
      "Cross Val:\n",
      "Acc: 0.7358075040783033\n",
      "Precision: 0.46526043359342034\n",
      "Recall: 0.42070288224579455\n",
      "f1: 0.4415704702830909\n",
      "ROC AUC: 0.6829174869017695\n",
      "\n",
      "Model: ExtraTreeClassifier(max_depth=65, random_state=0)\n",
      "\n"
     ]
    },
    {
     "data": {
      "text/plain": [
       "array([[1981,  313],\n",
       "       [ 457,  315]], dtype=int64)"
      ]
     },
     "metadata": {},
     "output_type": "display_data"
    },
    {
     "name": "stdout",
     "output_type": "stream",
     "text": [
      "Cross Val:\n",
      "Acc: 0.7557911908646002\n",
      "Precision: 0.5133624191682585\n",
      "Recall: 0.39580735026250935\n",
      "f1: 0.44640287609598206\n",
      "ROC AUC: 0.7087349329338541\n",
      "\n",
      "Model: ExtraTreeClassifier(max_depth=65, random_state=0)\n",
      "\n"
     ]
    },
    {
     "data": {
      "text/plain": [
       "array([[1906,  388],\n",
       "       [ 422,  350]], dtype=int64)"
      ]
     },
     "metadata": {},
     "output_type": "display_data"
    },
    {
     "name": "stdout",
     "output_type": "stream",
     "text": [
      "Cross Val:\n",
      "Acc: 0.7358075040783033\n",
      "Precision: 0.46526043359342034\n",
      "Recall: 0.42070288224579455\n",
      "f1: 0.4415704702830909\n",
      "ROC AUC: 0.6829174869017695\n",
      "\n",
      "Model: ExtraTreeClassifier(max_depth=70, random_state=0)\n",
      "\n"
     ]
    },
    {
     "data": {
      "text/plain": [
       "array([[1981,  313],\n",
       "       [ 457,  315]], dtype=int64)"
      ]
     },
     "metadata": {},
     "output_type": "display_data"
    },
    {
     "name": "stdout",
     "output_type": "stream",
     "text": [
      "Cross Val:\n",
      "Acc: 0.7557911908646002\n",
      "Precision: 0.5133624191682585\n",
      "Recall: 0.39580735026250935\n",
      "f1: 0.44640287609598206\n",
      "ROC AUC: 0.7087349329338541\n",
      "\n",
      "Model: ExtraTreeClassifier(max_depth=70, random_state=0)\n",
      "\n"
     ]
    },
    {
     "data": {
      "text/plain": [
       "array([[1906,  388],\n",
       "       [ 422,  350]], dtype=int64)"
      ]
     },
     "metadata": {},
     "output_type": "display_data"
    },
    {
     "name": "stdout",
     "output_type": "stream",
     "text": [
      "Cross Val:\n",
      "Acc: 0.7358075040783033\n",
      "Precision: 0.46526043359342034\n",
      "Recall: 0.42070288224579455\n",
      "f1: 0.4415704702830909\n",
      "ROC AUC: 0.6829174869017695\n",
      "\n",
      "Model: ExtraTreeClassifier(max_depth=75, random_state=0)\n",
      "\n"
     ]
    },
    {
     "data": {
      "text/plain": [
       "array([[1981,  313],\n",
       "       [ 457,  315]], dtype=int64)"
      ]
     },
     "metadata": {},
     "output_type": "display_data"
    },
    {
     "name": "stdout",
     "output_type": "stream",
     "text": [
      "Cross Val:\n",
      "Acc: 0.7557911908646002\n",
      "Precision: 0.5133624191682585\n",
      "Recall: 0.39580735026250935\n",
      "f1: 0.44640287609598206\n",
      "ROC AUC: 0.7087349329338541\n",
      "\n",
      "Model: ExtraTreeClassifier(max_depth=75, random_state=0)\n",
      "\n"
     ]
    },
    {
     "data": {
      "text/plain": [
       "array([[1906,  388],\n",
       "       [ 422,  350]], dtype=int64)"
      ]
     },
     "metadata": {},
     "output_type": "display_data"
    },
    {
     "name": "stdout",
     "output_type": "stream",
     "text": [
      "Cross Val:\n",
      "Acc: 0.7358075040783033\n",
      "Precision: 0.46526043359342034\n",
      "Recall: 0.42070288224579455\n",
      "f1: 0.4415704702830909\n",
      "ROC AUC: 0.6829174869017695\n",
      "\n",
      "Model: ExtraTreeClassifier(max_depth=80, random_state=0)\n",
      "\n"
     ]
    },
    {
     "data": {
      "text/plain": [
       "array([[1981,  313],\n",
       "       [ 457,  315]], dtype=int64)"
      ]
     },
     "metadata": {},
     "output_type": "display_data"
    },
    {
     "name": "stdout",
     "output_type": "stream",
     "text": [
      "Cross Val:\n",
      "Acc: 0.7557911908646002\n",
      "Precision: 0.5133624191682585\n",
      "Recall: 0.39580735026250935\n",
      "f1: 0.44640287609598206\n",
      "ROC AUC: 0.7087349329338541\n",
      "\n",
      "Model: ExtraTreeClassifier(max_depth=80, random_state=0)\n",
      "\n"
     ]
    },
    {
     "data": {
      "text/plain": [
       "array([[1906,  388],\n",
       "       [ 422,  350]], dtype=int64)"
      ]
     },
     "metadata": {},
     "output_type": "display_data"
    },
    {
     "name": "stdout",
     "output_type": "stream",
     "text": [
      "Cross Val:\n",
      "Acc: 0.7358075040783033\n",
      "Precision: 0.46526043359342034\n",
      "Recall: 0.42070288224579455\n",
      "f1: 0.4415704702830909\n",
      "ROC AUC: 0.6829174869017695\n",
      "\n",
      "Model: ExtraTreeClassifier(max_depth=85, random_state=0)\n",
      "\n"
     ]
    },
    {
     "data": {
      "text/plain": [
       "array([[1981,  313],\n",
       "       [ 457,  315]], dtype=int64)"
      ]
     },
     "metadata": {},
     "output_type": "display_data"
    },
    {
     "name": "stdout",
     "output_type": "stream",
     "text": [
      "Cross Val:\n",
      "Acc: 0.7557911908646002\n",
      "Precision: 0.5133624191682585\n",
      "Recall: 0.39580735026250935\n",
      "f1: 0.44640287609598206\n",
      "ROC AUC: 0.7087349329338541\n",
      "\n",
      "Model: ExtraTreeClassifier(max_depth=85, random_state=0)\n",
      "\n"
     ]
    },
    {
     "data": {
      "text/plain": [
       "array([[1906,  388],\n",
       "       [ 422,  350]], dtype=int64)"
      ]
     },
     "metadata": {},
     "output_type": "display_data"
    },
    {
     "name": "stdout",
     "output_type": "stream",
     "text": [
      "Cross Val:\n",
      "Acc: 0.7358075040783033\n",
      "Precision: 0.46526043359342034\n",
      "Recall: 0.42070288224579455\n",
      "f1: 0.4415704702830909\n",
      "ROC AUC: 0.6829174869017695\n",
      "\n",
      "Model: ExtraTreeClassifier(max_depth=90, random_state=0)\n",
      "\n"
     ]
    },
    {
     "data": {
      "text/plain": [
       "array([[1981,  313],\n",
       "       [ 457,  315]], dtype=int64)"
      ]
     },
     "metadata": {},
     "output_type": "display_data"
    },
    {
     "name": "stdout",
     "output_type": "stream",
     "text": [
      "Cross Val:\n",
      "Acc: 0.7557911908646002\n",
      "Precision: 0.5133624191682585\n",
      "Recall: 0.39580735026250935\n",
      "f1: 0.44640287609598206\n",
      "ROC AUC: 0.7087349329338541\n",
      "\n",
      "Model: ExtraTreeClassifier(max_depth=90, random_state=0)\n",
      "\n"
     ]
    },
    {
     "data": {
      "text/plain": [
       "array([[1906,  388],\n",
       "       [ 422,  350]], dtype=int64)"
      ]
     },
     "metadata": {},
     "output_type": "display_data"
    },
    {
     "name": "stdout",
     "output_type": "stream",
     "text": [
      "Cross Val:\n",
      "Acc: 0.7358075040783033\n",
      "Precision: 0.46526043359342034\n",
      "Recall: 0.42070288224579455\n",
      "f1: 0.4415704702830909\n",
      "ROC AUC: 0.6829174869017695\n",
      "\n",
      "Model: ExtraTreeClassifier(max_depth=95, random_state=0)\n",
      "\n"
     ]
    },
    {
     "data": {
      "text/plain": [
       "array([[1981,  313],\n",
       "       [ 457,  315]], dtype=int64)"
      ]
     },
     "metadata": {},
     "output_type": "display_data"
    },
    {
     "name": "stdout",
     "output_type": "stream",
     "text": [
      "Cross Val:\n",
      "Acc: 0.7557911908646002\n",
      "Precision: 0.5133624191682585\n",
      "Recall: 0.39580735026250935\n",
      "f1: 0.44640287609598206\n",
      "ROC AUC: 0.7087349329338541\n",
      "\n",
      "Model: ExtraTreeClassifier(max_depth=95, random_state=0)\n",
      "\n"
     ]
    },
    {
     "data": {
      "text/plain": [
       "array([[1906,  388],\n",
       "       [ 422,  350]], dtype=int64)"
      ]
     },
     "metadata": {},
     "output_type": "display_data"
    },
    {
     "name": "stdout",
     "output_type": "stream",
     "text": [
      "Cross Val:\n",
      "Acc: 0.7358075040783033\n",
      "Precision: 0.46526043359342034\n",
      "Recall: 0.42070288224579455\n",
      "f1: 0.4415704702830909\n",
      "ROC AUC: 0.6829174869017695\n",
      "\n",
      "Model: ExtraTreeClassifier(max_depth=5, random_state=0)\n",
      "\n"
     ]
    },
    {
     "data": {
      "text/plain": [
       "array([[2222,   91],\n",
       "       [ 587,  166]], dtype=int64)"
      ]
     },
     "metadata": {},
     "output_type": "display_data"
    },
    {
     "name": "stdout",
     "output_type": "stream",
     "text": [
      "Cross Val:\n",
      "Acc: 0.7646003262642741\n",
      "Precision: 0.5842598283011388\n",
      "Recall: 0.21068996150429373\n",
      "f1: 0.306273047233128\n",
      "ROC AUC: 0.7040162437149355\n",
      "\n",
      "Model: ExtraTreeClassifier(max_depth=5, random_state=0)\n",
      "\n"
     ]
    },
    {
     "data": {
      "text/plain": [
       "array([[2142,  171],\n",
       "       [ 457,  296]], dtype=int64)"
      ]
     },
     "metadata": {},
     "output_type": "display_data"
    },
    {
     "name": "stdout",
     "output_type": "stream",
     "text": [
      "Cross Val:\n",
      "Acc: 0.7784665579119087\n",
      "Precision: 0.5961058273175933\n",
      "Recall: 0.3585028977537121\n",
      "f1: 0.4473486120840124\n",
      "ROC AUC: 0.7458357135682192\n",
      "\n",
      "Model: ExtraTreeClassifier(max_depth=10, random_state=0)\n",
      "\n"
     ]
    },
    {
     "data": {
      "text/plain": [
       "array([[2138,  175],\n",
       "       [ 502,  251]], dtype=int64)"
      ]
     },
     "metadata": {},
     "output_type": "display_data"
    },
    {
     "name": "stdout",
     "output_type": "stream",
     "text": [
      "Cross Val:\n",
      "Acc: 0.7680261011419249\n",
      "Precision: 0.5576254190715584\n",
      "Recall: 0.3617549388722028\n",
      "f1: 0.4377794244299073\n",
      "ROC AUC: 0.7349247330083821\n",
      "\n",
      "Model: ExtraTreeClassifier(max_depth=10, random_state=0)\n",
      "\n"
     ]
    },
    {
     "data": {
      "text/plain": [
       "array([[2062,  251],\n",
       "       [ 450,  303]], dtype=int64)"
      ]
     },
     "metadata": {},
     "output_type": "display_data"
    },
    {
     "name": "stdout",
     "output_type": "stream",
     "text": [
      "Cross Val:\n",
      "Acc: 0.7679445350734094\n",
      "Precision: 0.5578408102790349\n",
      "Recall: 0.3614376665679598\n",
      "f1: 0.4378441416977948\n",
      "ROC AUC: 0.7404050603609019\n",
      "\n",
      "Model: ExtraTreeClassifier(max_depth=15, random_state=0)\n",
      "\n"
     ]
    },
    {
     "data": {
      "text/plain": [
       "array([[2053,  260],\n",
       "       [ 453,  300]], dtype=int64)"
      ]
     },
     "metadata": {},
     "output_type": "display_data"
    },
    {
     "name": "stdout",
     "output_type": "stream",
     "text": [
      "Cross Val:\n",
      "Acc: 0.7549755301794454\n",
      "Precision: 0.5141607592245817\n",
      "Recall: 0.3891154448157706\n",
      "f1: 0.4424353570361291\n",
      "ROC AUC: 0.710086631389921\n",
      "\n",
      "Model: ExtraTreeClassifier(max_depth=15, random_state=0)\n",
      "\n"
     ]
    },
    {
     "data": {
      "text/plain": [
       "array([[2012,  301],\n",
       "       [ 430,  323]], dtype=int64)"
      ]
     },
     "metadata": {},
     "output_type": "display_data"
    },
    {
     "name": "stdout",
     "output_type": "stream",
     "text": [
      "Cross Val:\n",
      "Acc: 0.7469820554649266\n",
      "Precision: 0.4945073887396833\n",
      "Recall: 0.42004526418207194\n",
      "f1: 0.45362296654329637\n",
      "ROC AUC: 0.693267807490471\n",
      "\n",
      "Model: ExtraTreeClassifier(max_depth=20, random_state=0)\n",
      "\n"
     ]
    },
    {
     "data": {
      "text/plain": [
       "array([[2028,  285],\n",
       "       [ 437,  316]], dtype=int64)"
      ]
     },
     "metadata": {},
     "output_type": "display_data"
    },
    {
     "name": "stdout",
     "output_type": "stream",
     "text": [
      "Cross Val:\n",
      "Acc: 0.7507340946166395\n",
      "Precision: 0.5028544684669944\n",
      "Recall: 0.3943187106053555\n",
      "f1: 0.44160422891474205\n",
      "ROC AUC: 0.7030492238190185\n",
      "\n",
      "Model: ExtraTreeClassifier(max_depth=20, random_state=0)\n",
      "\n"
     ]
    },
    {
     "data": {
      "text/plain": [
       "array([[1930,  383],\n",
       "       [ 473,  280]], dtype=int64)"
      ]
     },
     "metadata": {},
     "output_type": "display_data"
    },
    {
     "name": "stdout",
     "output_type": "stream",
     "text": [
      "Cross Val:\n",
      "Acc: 0.7256117455138662\n",
      "Precision: 0.44813012543814523\n",
      "Recall: 0.41190405685519693\n",
      "f1: 0.42863068612475663\n",
      "ROC AUC: 0.6443795184852776\n",
      "\n",
      "Model: ExtraTreeClassifier(max_depth=25, random_state=0)\n",
      "\n"
     ]
    },
    {
     "data": {
      "text/plain": [
       "array([[2023,  290],\n",
       "       [ 436,  317]], dtype=int64)"
      ]
     },
     "metadata": {},
     "output_type": "display_data"
    },
    {
     "name": "stdout",
     "output_type": "stream",
     "text": [
      "Cross Val:\n",
      "Acc: 0.7511419249592169\n",
      "Precision: 0.5040200446370917\n",
      "Recall: 0.39399297770633274\n",
      "f1: 0.4418645355834584\n",
      "ROC AUC: 0.7031764687708674\n",
      "\n",
      "Model: ExtraTreeClassifier(max_depth=25, random_state=0)\n",
      "\n"
     ]
    },
    {
     "data": {
      "text/plain": [
       "array([[1872,  441],\n",
       "       [ 435,  318]], dtype=int64)"
      ]
     },
     "metadata": {},
     "output_type": "display_data"
    },
    {
     "name": "stdout",
     "output_type": "stream",
     "text": [
      "Cross Val:\n",
      "Acc: 0.7081566068515498\n",
      "Precision: 0.41431958863384616\n",
      "Recall: 0.4005139811328736\n",
      "f1: 0.40711089681769996\n",
      "ROC AUC: 0.6138071023840675\n",
      "\n",
      "Model: ExtraTreeClassifier(max_depth=30, random_state=0)\n",
      "\n"
     ]
    },
    {
     "data": {
      "text/plain": [
       "array([[2023,  290],\n",
       "       [ 436,  317]], dtype=int64)"
      ]
     },
     "metadata": {},
     "output_type": "display_data"
    },
    {
     "name": "stdout",
     "output_type": "stream",
     "text": [
      "Cross Val:\n",
      "Acc: 0.7511419249592169\n",
      "Precision: 0.5040200446370917\n",
      "Recall: 0.39399297770633274\n",
      "f1: 0.4418645355834584\n",
      "ROC AUC: 0.7031764687708674\n",
      "\n",
      "Model: ExtraTreeClassifier(max_depth=30, random_state=0)\n",
      "\n"
     ]
    },
    {
     "data": {
      "text/plain": [
       "array([[1860,  453],\n",
       "       [ 426,  327]], dtype=int64)"
      ]
     },
     "metadata": {},
     "output_type": "display_data"
    },
    {
     "name": "stdout",
     "output_type": "stream",
     "text": [
      "Cross Val:\n",
      "Acc: 0.7039151712887439\n",
      "Precision: 0.40992603624071694\n",
      "Recall: 0.41971741613435426\n",
      "f1: 0.41444500682050894\n",
      "ROC AUC: 0.6156233331212262\n",
      "\n",
      "Model: ExtraTreeClassifier(max_depth=35, random_state=0)\n",
      "\n"
     ]
    },
    {
     "data": {
      "text/plain": [
       "array([[2023,  290],\n",
       "       [ 436,  317]], dtype=int64)"
      ]
     },
     "metadata": {},
     "output_type": "display_data"
    },
    {
     "name": "stdout",
     "output_type": "stream",
     "text": [
      "Cross Val:\n",
      "Acc: 0.7511419249592169\n",
      "Precision: 0.5040200446370917\n",
      "Recall: 0.39399297770633274\n",
      "f1: 0.4418645355834584\n",
      "ROC AUC: 0.7031764687708674\n",
      "\n",
      "Model: ExtraTreeClassifier(max_depth=35, random_state=0)\n",
      "\n"
     ]
    },
    {
     "data": {
      "text/plain": [
       "array([[1876,  437],\n",
       "       [ 434,  319]], dtype=int64)"
      ]
     },
     "metadata": {},
     "output_type": "display_data"
    },
    {
     "name": "stdout",
     "output_type": "stream",
     "text": [
      "Cross Val:\n",
      "Acc: 0.7066068515497553\n",
      "Precision: 0.4164382243562545\n",
      "Recall: 0.4291721308007953\n",
      "f1: 0.42231306776123223\n",
      "ROC AUC: 0.6187877258755816\n",
      "\n",
      "Model: ExtraTreeClassifier(max_depth=40, random_state=0)\n",
      "\n"
     ]
    },
    {
     "data": {
      "text/plain": [
       "array([[2023,  290],\n",
       "       [ 436,  317]], dtype=int64)"
      ]
     },
     "metadata": {},
     "output_type": "display_data"
    },
    {
     "name": "stdout",
     "output_type": "stream",
     "text": [
      "Cross Val:\n",
      "Acc: 0.7511419249592169\n",
      "Precision: 0.5040200446370917\n",
      "Recall: 0.39399297770633274\n",
      "f1: 0.4418645355834584\n",
      "ROC AUC: 0.7031764687708674\n",
      "\n",
      "Model: ExtraTreeClassifier(max_depth=40, random_state=0)\n",
      "\n"
     ]
    },
    {
     "data": {
      "text/plain": [
       "array([[1876,  437],\n",
       "       [ 434,  319]], dtype=int64)"
      ]
     },
     "metadata": {},
     "output_type": "display_data"
    },
    {
     "name": "stdout",
     "output_type": "stream",
     "text": [
      "Cross Val:\n",
      "Acc: 0.7066068515497553\n",
      "Precision: 0.4164382243562545\n",
      "Recall: 0.4291721308007953\n",
      "f1: 0.42231306776123223\n",
      "ROC AUC: 0.6187877258755816\n",
      "\n",
      "Model: ExtraTreeClassifier(max_depth=45, random_state=0)\n",
      "\n"
     ]
    },
    {
     "data": {
      "text/plain": [
       "array([[2023,  290],\n",
       "       [ 436,  317]], dtype=int64)"
      ]
     },
     "metadata": {},
     "output_type": "display_data"
    },
    {
     "name": "stdout",
     "output_type": "stream",
     "text": [
      "Cross Val:\n",
      "Acc: 0.7511419249592169\n",
      "Precision: 0.5040200446370917\n",
      "Recall: 0.39399297770633274\n",
      "f1: 0.4418645355834584\n",
      "ROC AUC: 0.7031764687708674\n",
      "\n",
      "Model: ExtraTreeClassifier(max_depth=45, random_state=0)\n",
      "\n"
     ]
    },
    {
     "data": {
      "text/plain": [
       "array([[1876,  437],\n",
       "       [ 434,  319]], dtype=int64)"
      ]
     },
     "metadata": {},
     "output_type": "display_data"
    },
    {
     "name": "stdout",
     "output_type": "stream",
     "text": [
      "Cross Val:\n",
      "Acc: 0.7066068515497553\n",
      "Precision: 0.4164382243562545\n",
      "Recall: 0.4291721308007953\n",
      "f1: 0.42231306776123223\n",
      "ROC AUC: 0.6187877258755816\n",
      "\n",
      "Model: ExtraTreeClassifier(max_depth=50, random_state=0)\n",
      "\n"
     ]
    },
    {
     "data": {
      "text/plain": [
       "array([[2023,  290],\n",
       "       [ 436,  317]], dtype=int64)"
      ]
     },
     "metadata": {},
     "output_type": "display_data"
    },
    {
     "name": "stdout",
     "output_type": "stream",
     "text": [
      "Cross Val:\n",
      "Acc: 0.7511419249592169\n",
      "Precision: 0.5040200446370917\n",
      "Recall: 0.39399297770633274\n",
      "f1: 0.4418645355834584\n",
      "ROC AUC: 0.7031764687708674\n",
      "\n",
      "Model: ExtraTreeClassifier(max_depth=50, random_state=0)\n",
      "\n"
     ]
    },
    {
     "data": {
      "text/plain": [
       "array([[1876,  437],\n",
       "       [ 434,  319]], dtype=int64)"
      ]
     },
     "metadata": {},
     "output_type": "display_data"
    },
    {
     "name": "stdout",
     "output_type": "stream",
     "text": [
      "Cross Val:\n",
      "Acc: 0.7066068515497553\n",
      "Precision: 0.4164382243562545\n",
      "Recall: 0.4291721308007953\n",
      "f1: 0.42231306776123223\n",
      "ROC AUC: 0.6187877258755816\n",
      "\n",
      "Model: ExtraTreeClassifier(max_depth=55, random_state=0)\n",
      "\n"
     ]
    },
    {
     "data": {
      "text/plain": [
       "array([[2023,  290],\n",
       "       [ 436,  317]], dtype=int64)"
      ]
     },
     "metadata": {},
     "output_type": "display_data"
    },
    {
     "name": "stdout",
     "output_type": "stream",
     "text": [
      "Cross Val:\n",
      "Acc: 0.7511419249592169\n",
      "Precision: 0.5040200446370917\n",
      "Recall: 0.39399297770633274\n",
      "f1: 0.4418645355834584\n",
      "ROC AUC: 0.7031764687708674\n",
      "\n",
      "Model: ExtraTreeClassifier(max_depth=55, random_state=0)\n",
      "\n"
     ]
    },
    {
     "data": {
      "text/plain": [
       "array([[1876,  437],\n",
       "       [ 434,  319]], dtype=int64)"
      ]
     },
     "metadata": {},
     "output_type": "display_data"
    },
    {
     "name": "stdout",
     "output_type": "stream",
     "text": [
      "Cross Val:\n",
      "Acc: 0.7066068515497553\n",
      "Precision: 0.4164382243562545\n",
      "Recall: 0.4291721308007953\n",
      "f1: 0.42231306776123223\n",
      "ROC AUC: 0.6187877258755816\n",
      "\n",
      "Model: ExtraTreeClassifier(max_depth=60, random_state=0)\n",
      "\n"
     ]
    },
    {
     "data": {
      "text/plain": [
       "array([[2023,  290],\n",
       "       [ 436,  317]], dtype=int64)"
      ]
     },
     "metadata": {},
     "output_type": "display_data"
    },
    {
     "name": "stdout",
     "output_type": "stream",
     "text": [
      "Cross Val:\n",
      "Acc: 0.7511419249592169\n",
      "Precision: 0.5040200446370917\n",
      "Recall: 0.39399297770633274\n",
      "f1: 0.4418645355834584\n",
      "ROC AUC: 0.7031764687708674\n",
      "\n",
      "Model: ExtraTreeClassifier(max_depth=60, random_state=0)\n",
      "\n"
     ]
    },
    {
     "data": {
      "text/plain": [
       "array([[1876,  437],\n",
       "       [ 434,  319]], dtype=int64)"
      ]
     },
     "metadata": {},
     "output_type": "display_data"
    },
    {
     "name": "stdout",
     "output_type": "stream",
     "text": [
      "Cross Val:\n",
      "Acc: 0.7066068515497553\n",
      "Precision: 0.4164382243562545\n",
      "Recall: 0.4291721308007953\n",
      "f1: 0.42231306776123223\n",
      "ROC AUC: 0.6187877258755816\n",
      "\n",
      "Model: ExtraTreeClassifier(max_depth=65, random_state=0)\n",
      "\n"
     ]
    },
    {
     "data": {
      "text/plain": [
       "array([[2023,  290],\n",
       "       [ 436,  317]], dtype=int64)"
      ]
     },
     "metadata": {},
     "output_type": "display_data"
    },
    {
     "name": "stdout",
     "output_type": "stream",
     "text": [
      "Cross Val:\n",
      "Acc: 0.7511419249592169\n",
      "Precision: 0.5040200446370917\n",
      "Recall: 0.39399297770633274\n",
      "f1: 0.4418645355834584\n",
      "ROC AUC: 0.7031764687708674\n",
      "\n",
      "Model: ExtraTreeClassifier(max_depth=65, random_state=0)\n",
      "\n"
     ]
    },
    {
     "data": {
      "text/plain": [
       "array([[1876,  437],\n",
       "       [ 434,  319]], dtype=int64)"
      ]
     },
     "metadata": {},
     "output_type": "display_data"
    },
    {
     "name": "stdout",
     "output_type": "stream",
     "text": [
      "Cross Val:\n",
      "Acc: 0.7066068515497553\n",
      "Precision: 0.4164382243562545\n",
      "Recall: 0.4291721308007953\n",
      "f1: 0.42231306776123223\n",
      "ROC AUC: 0.6187877258755816\n",
      "\n",
      "Model: ExtraTreeClassifier(max_depth=70, random_state=0)\n",
      "\n"
     ]
    },
    {
     "data": {
      "text/plain": [
       "array([[2023,  290],\n",
       "       [ 436,  317]], dtype=int64)"
      ]
     },
     "metadata": {},
     "output_type": "display_data"
    },
    {
     "name": "stdout",
     "output_type": "stream",
     "text": [
      "Cross Val:\n",
      "Acc: 0.7511419249592169\n",
      "Precision: 0.5040200446370917\n",
      "Recall: 0.39399297770633274\n",
      "f1: 0.4418645355834584\n",
      "ROC AUC: 0.7031764687708674\n",
      "\n",
      "Model: ExtraTreeClassifier(max_depth=70, random_state=0)\n",
      "\n"
     ]
    },
    {
     "data": {
      "text/plain": [
       "array([[1876,  437],\n",
       "       [ 434,  319]], dtype=int64)"
      ]
     },
     "metadata": {},
     "output_type": "display_data"
    },
    {
     "name": "stdout",
     "output_type": "stream",
     "text": [
      "Cross Val:\n",
      "Acc: 0.7066068515497553\n",
      "Precision: 0.4164382243562545\n",
      "Recall: 0.4291721308007953\n",
      "f1: 0.42231306776123223\n",
      "ROC AUC: 0.6187877258755816\n",
      "\n",
      "Model: ExtraTreeClassifier(max_depth=75, random_state=0)\n",
      "\n"
     ]
    },
    {
     "data": {
      "text/plain": [
       "array([[2023,  290],\n",
       "       [ 436,  317]], dtype=int64)"
      ]
     },
     "metadata": {},
     "output_type": "display_data"
    },
    {
     "name": "stdout",
     "output_type": "stream",
     "text": [
      "Cross Val:\n",
      "Acc: 0.7511419249592169\n",
      "Precision: 0.5040200446370917\n",
      "Recall: 0.39399297770633274\n",
      "f1: 0.4418645355834584\n",
      "ROC AUC: 0.7031764687708674\n",
      "\n",
      "Model: ExtraTreeClassifier(max_depth=75, random_state=0)\n",
      "\n"
     ]
    },
    {
     "data": {
      "text/plain": [
       "array([[1876,  437],\n",
       "       [ 434,  319]], dtype=int64)"
      ]
     },
     "metadata": {},
     "output_type": "display_data"
    },
    {
     "name": "stdout",
     "output_type": "stream",
     "text": [
      "Cross Val:\n",
      "Acc: 0.7066068515497553\n",
      "Precision: 0.4164382243562545\n",
      "Recall: 0.4291721308007953\n",
      "f1: 0.42231306776123223\n",
      "ROC AUC: 0.6187877258755816\n",
      "\n",
      "Model: ExtraTreeClassifier(max_depth=80, random_state=0)\n",
      "\n"
     ]
    },
    {
     "data": {
      "text/plain": [
       "array([[2023,  290],\n",
       "       [ 436,  317]], dtype=int64)"
      ]
     },
     "metadata": {},
     "output_type": "display_data"
    },
    {
     "name": "stdout",
     "output_type": "stream",
     "text": [
      "Cross Val:\n",
      "Acc: 0.7511419249592169\n",
      "Precision: 0.5040200446370917\n",
      "Recall: 0.39399297770633274\n",
      "f1: 0.4418645355834584\n",
      "ROC AUC: 0.7031764687708674\n",
      "\n",
      "Model: ExtraTreeClassifier(max_depth=80, random_state=0)\n",
      "\n"
     ]
    },
    {
     "data": {
      "text/plain": [
       "array([[1876,  437],\n",
       "       [ 434,  319]], dtype=int64)"
      ]
     },
     "metadata": {},
     "output_type": "display_data"
    },
    {
     "name": "stdout",
     "output_type": "stream",
     "text": [
      "Cross Val:\n",
      "Acc: 0.7066068515497553\n",
      "Precision: 0.4164382243562545\n",
      "Recall: 0.4291721308007953\n",
      "f1: 0.42231306776123223\n",
      "ROC AUC: 0.6187877258755816\n",
      "\n",
      "Model: ExtraTreeClassifier(max_depth=85, random_state=0)\n",
      "\n"
     ]
    },
    {
     "data": {
      "text/plain": [
       "array([[2023,  290],\n",
       "       [ 436,  317]], dtype=int64)"
      ]
     },
     "metadata": {},
     "output_type": "display_data"
    },
    {
     "name": "stdout",
     "output_type": "stream",
     "text": [
      "Cross Val:\n",
      "Acc: 0.7511419249592169\n",
      "Precision: 0.5040200446370917\n",
      "Recall: 0.39399297770633274\n",
      "f1: 0.4418645355834584\n",
      "ROC AUC: 0.7031764687708674\n",
      "\n",
      "Model: ExtraTreeClassifier(max_depth=85, random_state=0)\n",
      "\n"
     ]
    },
    {
     "data": {
      "text/plain": [
       "array([[1876,  437],\n",
       "       [ 434,  319]], dtype=int64)"
      ]
     },
     "metadata": {},
     "output_type": "display_data"
    },
    {
     "name": "stdout",
     "output_type": "stream",
     "text": [
      "Cross Val:\n",
      "Acc: 0.7066068515497553\n",
      "Precision: 0.4164382243562545\n",
      "Recall: 0.4291721308007953\n",
      "f1: 0.42231306776123223\n",
      "ROC AUC: 0.6187877258755816\n",
      "\n",
      "Model: ExtraTreeClassifier(max_depth=90, random_state=0)\n",
      "\n"
     ]
    },
    {
     "data": {
      "text/plain": [
       "array([[2023,  290],\n",
       "       [ 436,  317]], dtype=int64)"
      ]
     },
     "metadata": {},
     "output_type": "display_data"
    },
    {
     "name": "stdout",
     "output_type": "stream",
     "text": [
      "Cross Val:\n",
      "Acc: 0.7511419249592169\n",
      "Precision: 0.5040200446370917\n",
      "Recall: 0.39399297770633274\n",
      "f1: 0.4418645355834584\n",
      "ROC AUC: 0.7031764687708674\n",
      "\n",
      "Model: ExtraTreeClassifier(max_depth=90, random_state=0)\n",
      "\n"
     ]
    },
    {
     "data": {
      "text/plain": [
       "array([[1876,  437],\n",
       "       [ 434,  319]], dtype=int64)"
      ]
     },
     "metadata": {},
     "output_type": "display_data"
    },
    {
     "name": "stdout",
     "output_type": "stream",
     "text": [
      "Cross Val:\n",
      "Acc: 0.7066068515497553\n",
      "Precision: 0.4164382243562545\n",
      "Recall: 0.4291721308007953\n",
      "f1: 0.42231306776123223\n",
      "ROC AUC: 0.6187877258755816\n",
      "\n",
      "Model: ExtraTreeClassifier(max_depth=95, random_state=0)\n",
      "\n"
     ]
    },
    {
     "data": {
      "text/plain": [
       "array([[2023,  290],\n",
       "       [ 436,  317]], dtype=int64)"
      ]
     },
     "metadata": {},
     "output_type": "display_data"
    },
    {
     "name": "stdout",
     "output_type": "stream",
     "text": [
      "Cross Val:\n",
      "Acc: 0.7511419249592169\n",
      "Precision: 0.5040200446370917\n",
      "Recall: 0.39399297770633274\n",
      "f1: 0.4418645355834584\n",
      "ROC AUC: 0.7031764687708674\n",
      "\n",
      "Model: ExtraTreeClassifier(max_depth=95, random_state=0)\n",
      "\n"
     ]
    },
    {
     "data": {
      "text/plain": [
       "array([[1876,  437],\n",
       "       [ 434,  319]], dtype=int64)"
      ]
     },
     "metadata": {},
     "output_type": "display_data"
    },
    {
     "name": "stdout",
     "output_type": "stream",
     "text": [
      "Cross Val:\n",
      "Acc: 0.7066068515497553\n",
      "Precision: 0.4164382243562545\n",
      "Recall: 0.4291721308007953\n",
      "f1: 0.42231306776123223\n",
      "ROC AUC: 0.6187877258755816\n",
      "\n",
      "Model: ExtraTreeClassifier(max_depth=5, random_state=0)\n",
      "\n"
     ]
    },
    {
     "data": {
      "text/plain": [
       "array([[2106,  194],\n",
       "       [ 467,  299]], dtype=int64)"
      ]
     },
     "metadata": {},
     "output_type": "display_data"
    },
    {
     "name": "stdout",
     "output_type": "stream",
     "text": [
      "Cross Val:\n",
      "Acc: 0.7770799347471452\n",
      "Precision: 0.5883443563901305\n",
      "Recall: 0.35380799314261224\n",
      "f1: 0.44094281179588446\n",
      "ROC AUC: 0.7484452814264327\n",
      "\n",
      "Model: ExtraTreeClassifier(max_depth=5, random_state=0)\n",
      "\n"
     ]
    },
    {
     "data": {
      "text/plain": [
       "array([[2126,  174],\n",
       "       [ 484,  282]], dtype=int64)"
      ]
     },
     "metadata": {},
     "output_type": "display_data"
    },
    {
     "name": "stdout",
     "output_type": "stream",
     "text": [
      "Cross Val:\n",
      "Acc: 0.7758564437194126\n",
      "Precision: 0.5910244568415058\n",
      "Recall: 0.33059573556198435\n",
      "f1: 0.42328920623877203\n",
      "ROC AUC: 0.7297578827413915\n",
      "\n",
      "Model: ExtraTreeClassifier(max_depth=10, random_state=0)\n",
      "\n"
     ]
    },
    {
     "data": {
      "text/plain": [
       "array([[2071,  229],\n",
       "       [ 456,  310]], dtype=int64)"
      ]
     },
     "metadata": {},
     "output_type": "display_data"
    },
    {
     "name": "stdout",
     "output_type": "stream",
     "text": [
      "Cross Val:\n",
      "Acc: 0.7695758564437194\n",
      "Precision: 0.5592988887802682\n",
      "Recall: 0.3616768456016287\n",
      "f1: 0.4387644653799786\n",
      "ROC AUC: 0.7376303161014577\n",
      "\n",
      "Model: ExtraTreeClassifier(max_depth=10, random_state=0)\n",
      "\n"
     ]
    },
    {
     "data": {
      "text/plain": [
       "array([[2082,  218],\n",
       "       [ 435,  331]], dtype=int64)"
      ]
     },
     "metadata": {},
     "output_type": "display_data"
    },
    {
     "name": "stdout",
     "output_type": "stream",
     "text": [
      "Cross Val:\n",
      "Acc: 0.7740619902120719\n",
      "Precision: 0.5676156924810489\n",
      "Recall: 0.39699774991964\n",
      "f1: 0.46560966498571077\n",
      "ROC AUC: 0.7456412707307627\n",
      "\n",
      "Model: ExtraTreeClassifier(max_depth=15, random_state=0)\n",
      "\n"
     ]
    },
    {
     "data": {
      "text/plain": [
       "array([[2016,  284],\n",
       "       [ 474,  292]], dtype=int64)"
      ]
     },
     "metadata": {},
     "output_type": "display_data"
    },
    {
     "name": "stdout",
     "output_type": "stream",
     "text": [
      "Cross Val:\n",
      "Acc: 0.7455954323001631\n",
      "Precision: 0.48662913773528355\n",
      "Recall: 0.36460623593699776\n",
      "f1: 0.41661866853576957\n",
      "ROC AUC: 0.6696281942071353\n",
      "\n",
      "Model: ExtraTreeClassifier(max_depth=15, random_state=0)\n",
      "\n"
     ]
    },
    {
     "data": {
      "text/plain": [
       "array([[2003,  297],\n",
       "       [ 426,  340]], dtype=int64)"
      ]
     },
     "metadata": {},
     "output_type": "display_data"
    },
    {
     "name": "stdout",
     "output_type": "stream",
     "text": [
      "Cross Val:\n",
      "Acc: 0.7527732463295268\n",
      "Precision: 0.50704347140431\n",
      "Recall: 0.3956841315761277\n",
      "f1: 0.44345190842807075\n",
      "ROC AUC: 0.6990381941547076\n",
      "\n",
      "Model: ExtraTreeClassifier(max_depth=20, random_state=0)\n",
      "\n"
     ]
    },
    {
     "data": {
      "text/plain": [
       "array([[1949,  351],\n",
       "       [ 485,  281]], dtype=int64)"
      ]
     },
     "metadata": {},
     "output_type": "display_data"
    },
    {
     "name": "stdout",
     "output_type": "stream",
     "text": [
      "Cross Val:\n",
      "Acc: 0.716721044045677\n",
      "Precision: 0.4249522337879862\n",
      "Recall: 0.38031822565091616\n",
      "f1: 0.40099166168585654\n",
      "ROC AUC: 0.6209574449024241\n",
      "\n",
      "Model: ExtraTreeClassifier(max_depth=20, random_state=0)\n",
      "\n"
     ]
    },
    {
     "data": {
      "text/plain": [
       "array([[1978,  322],\n",
       "       [ 463,  303]], dtype=int64)"
      ]
     },
     "metadata": {},
     "output_type": "display_data"
    },
    {
     "name": "stdout",
     "output_type": "stream",
     "text": [
      "Cross Val:\n",
      "Acc: 0.7312398042414355\n",
      "Precision: 0.45598437194111696\n",
      "Recall: 0.40254580520732886\n",
      "f1: 0.42708601807433366\n",
      "ROC AUC: 0.658411277595146\n",
      "\n",
      "Model: ExtraTreeClassifier(max_depth=25, random_state=0)\n",
      "\n"
     ]
    },
    {
     "data": {
      "text/plain": [
       "array([[1902,  398],\n",
       "       [ 466,  300]], dtype=int64)"
      ]
     },
     "metadata": {},
     "output_type": "display_data"
    },
    {
     "name": "stdout",
     "output_type": "stream",
     "text": [
      "Cross Val:\n",
      "Acc: 0.7017944535073408\n",
      "Precision: 0.399621633200203\n",
      "Recall: 0.3819522125790206\n",
      "f1: 0.3898326149766161\n",
      "ROC AUC: 0.6063463643659021\n",
      "\n",
      "Model: ExtraTreeClassifier(max_depth=25, random_state=0)\n",
      "\n"
     ]
    },
    {
     "data": {
      "text/plain": [
       "array([[1873,  427],\n",
       "       [ 442,  324]], dtype=int64)"
      ]
     },
     "metadata": {},
     "output_type": "display_data"
    },
    {
     "name": "stdout",
     "output_type": "stream",
     "text": [
      "Cross Val:\n",
      "Acc: 0.716394779771615\n",
      "Precision: 0.43064355575927243\n",
      "Recall: 0.42282867245258765\n",
      "f1: 0.42645656228255413\n",
      "ROC AUC: 0.6384345056714678\n",
      "\n",
      "Model: ExtraTreeClassifier(max_depth=30, random_state=0)\n",
      "\n"
     ]
    },
    {
     "data": {
      "text/plain": [
       "array([[1904,  396],\n",
       "       [ 458,  308]], dtype=int64)"
      ]
     },
     "metadata": {},
     "output_type": "display_data"
    },
    {
     "name": "stdout",
     "output_type": "stream",
     "text": [
      "Cross Val:\n",
      "Acc: 0.7038336052202284\n",
      "Precision: 0.40296004672387326\n",
      "Recall: 0.38783777992071145\n",
      "f1: 0.3947457279881973\n",
      "ROC AUC: 0.611243788402037\n",
      "\n",
      "Model: ExtraTreeClassifier(max_depth=30, random_state=0)\n",
      "\n"
     ]
    },
    {
     "data": {
      "text/plain": [
       "array([[1861,  439],\n",
       "       [ 446,  320]], dtype=int64)"
      ]
     },
     "metadata": {},
     "output_type": "display_data"
    },
    {
     "name": "stdout",
     "output_type": "stream",
     "text": [
      "Cross Val:\n",
      "Acc: 0.7133768352365416\n",
      "Precision: 0.4254636241286997\n",
      "Recall: 0.4244680167148827\n",
      "f1: 0.4245585369466697\n",
      "ROC AUC: 0.6250972939707433\n",
      "\n",
      "Model: ExtraTreeClassifier(max_depth=35, random_state=0)\n",
      "\n"
     ]
    },
    {
     "data": {
      "text/plain": [
       "array([[1904,  396],\n",
       "       [ 458,  308]], dtype=int64)"
      ]
     },
     "metadata": {},
     "output_type": "display_data"
    },
    {
     "name": "stdout",
     "output_type": "stream",
     "text": [
      "Cross Val:\n",
      "Acc: 0.7013866231647634\n",
      "Precision: 0.3976247200034504\n",
      "Recall: 0.3842408657452052\n",
      "f1: 0.3901879790679246\n",
      "ROC AUC: 0.6082793629997629\n",
      "\n",
      "Model: ExtraTreeClassifier(max_depth=35, random_state=0)\n",
      "\n"
     ]
    },
    {
     "data": {
      "text/plain": [
       "array([[1860,  440],\n",
       "       [ 437,  329]], dtype=int64)"
      ]
     },
     "metadata": {},
     "output_type": "display_data"
    },
    {
     "name": "stdout",
     "output_type": "stream",
     "text": [
      "Cross Val:\n",
      "Acc: 0.7111745513866231\n",
      "Precision: 0.4220314872895826\n",
      "Recall: 0.43034179792135435\n",
      "f1: 0.42584643107562875\n",
      "ROC AUC: 0.6254740247781524\n",
      "\n",
      "Model: ExtraTreeClassifier(max_depth=40, random_state=0)\n",
      "\n"
     ]
    },
    {
     "data": {
      "text/plain": [
       "array([[1904,  396],\n",
       "       [ 458,  308]], dtype=int64)"
      ]
     },
     "metadata": {},
     "output_type": "display_data"
    },
    {
     "name": "stdout",
     "output_type": "stream",
     "text": [
      "Cross Val:\n",
      "Acc: 0.7013866231647634\n",
      "Precision: 0.3976247200034504\n",
      "Recall: 0.3842408657452052\n",
      "f1: 0.3901879790679246\n",
      "ROC AUC: 0.6082793629997629\n",
      "\n",
      "Model: ExtraTreeClassifier(max_depth=40, random_state=0)\n",
      "\n"
     ]
    },
    {
     "data": {
      "text/plain": [
       "array([[1859,  441],\n",
       "       [ 436,  330]], dtype=int64)"
      ]
     },
     "metadata": {},
     "output_type": "display_data"
    },
    {
     "name": "stdout",
     "output_type": "stream",
     "text": [
      "Cross Val:\n",
      "Acc: 0.7111745513866232\n",
      "Precision: 0.4217751932489363\n",
      "Recall: 0.4293603342976535\n",
      "f1: 0.4252665049809746\n",
      "ROC AUC: 0.624754621982979\n",
      "\n",
      "Model: ExtraTreeClassifier(max_depth=45, random_state=0)\n",
      "\n"
     ]
    },
    {
     "data": {
      "text/plain": [
       "array([[1904,  396],\n",
       "       [ 458,  308]], dtype=int64)"
      ]
     },
     "metadata": {},
     "output_type": "display_data"
    },
    {
     "name": "stdout",
     "output_type": "stream",
     "text": [
      "Cross Val:\n",
      "Acc: 0.7013866231647634\n",
      "Precision: 0.3976247200034504\n",
      "Recall: 0.3842408657452052\n",
      "f1: 0.3901879790679246\n",
      "ROC AUC: 0.6082793629997629\n",
      "\n",
      "Model: ExtraTreeClassifier(max_depth=45, random_state=0)\n",
      "\n"
     ]
    },
    {
     "data": {
      "text/plain": [
       "array([[1859,  441],\n",
       "       [ 436,  330]], dtype=int64)"
      ]
     },
     "metadata": {},
     "output_type": "display_data"
    },
    {
     "name": "stdout",
     "output_type": "stream",
     "text": [
      "Cross Val:\n",
      "Acc: 0.7111745513866232\n",
      "Precision: 0.4217751932489363\n",
      "Recall: 0.4293603342976535\n",
      "f1: 0.4252665049809746\n",
      "ROC AUC: 0.624754621982979\n",
      "\n",
      "Model: ExtraTreeClassifier(max_depth=50, random_state=0)\n",
      "\n"
     ]
    },
    {
     "data": {
      "text/plain": [
       "array([[1904,  396],\n",
       "       [ 458,  308]], dtype=int64)"
      ]
     },
     "metadata": {},
     "output_type": "display_data"
    },
    {
     "name": "stdout",
     "output_type": "stream",
     "text": [
      "Cross Val:\n",
      "Acc: 0.7013866231647634\n",
      "Precision: 0.3976247200034504\n",
      "Recall: 0.3842408657452052\n",
      "f1: 0.3901879790679246\n",
      "ROC AUC: 0.6082793629997629\n",
      "\n",
      "Model: ExtraTreeClassifier(max_depth=50, random_state=0)\n",
      "\n"
     ]
    },
    {
     "data": {
      "text/plain": [
       "array([[1859,  441],\n",
       "       [ 436,  330]], dtype=int64)"
      ]
     },
     "metadata": {},
     "output_type": "display_data"
    },
    {
     "name": "stdout",
     "output_type": "stream",
     "text": [
      "Cross Val:\n",
      "Acc: 0.7111745513866232\n",
      "Precision: 0.4217751932489363\n",
      "Recall: 0.4293603342976535\n",
      "f1: 0.4252665049809746\n",
      "ROC AUC: 0.624754621982979\n",
      "\n",
      "Model: ExtraTreeClassifier(max_depth=55, random_state=0)\n",
      "\n"
     ]
    },
    {
     "data": {
      "text/plain": [
       "array([[1904,  396],\n",
       "       [ 458,  308]], dtype=int64)"
      ]
     },
     "metadata": {},
     "output_type": "display_data"
    },
    {
     "name": "stdout",
     "output_type": "stream",
     "text": [
      "Cross Val:\n",
      "Acc: 0.7013866231647634\n",
      "Precision: 0.3976247200034504\n",
      "Recall: 0.3842408657452052\n",
      "f1: 0.3901879790679246\n",
      "ROC AUC: 0.6082793629997629\n",
      "\n",
      "Model: ExtraTreeClassifier(max_depth=55, random_state=0)\n",
      "\n"
     ]
    },
    {
     "data": {
      "text/plain": [
       "array([[1859,  441],\n",
       "       [ 436,  330]], dtype=int64)"
      ]
     },
     "metadata": {},
     "output_type": "display_data"
    },
    {
     "name": "stdout",
     "output_type": "stream",
     "text": [
      "Cross Val:\n",
      "Acc: 0.7111745513866232\n",
      "Precision: 0.4217751932489363\n",
      "Recall: 0.4293603342976535\n",
      "f1: 0.4252665049809746\n",
      "ROC AUC: 0.624754621982979\n",
      "\n",
      "Model: ExtraTreeClassifier(max_depth=60, random_state=0)\n",
      "\n"
     ]
    },
    {
     "data": {
      "text/plain": [
       "array([[1904,  396],\n",
       "       [ 458,  308]], dtype=int64)"
      ]
     },
     "metadata": {},
     "output_type": "display_data"
    },
    {
     "name": "stdout",
     "output_type": "stream",
     "text": [
      "Cross Val:\n",
      "Acc: 0.7013866231647634\n",
      "Precision: 0.3976247200034504\n",
      "Recall: 0.3842408657452052\n",
      "f1: 0.3901879790679246\n",
      "ROC AUC: 0.6082793629997629\n",
      "\n",
      "Model: ExtraTreeClassifier(max_depth=60, random_state=0)\n",
      "\n"
     ]
    },
    {
     "data": {
      "text/plain": [
       "array([[1859,  441],\n",
       "       [ 436,  330]], dtype=int64)"
      ]
     },
     "metadata": {},
     "output_type": "display_data"
    },
    {
     "name": "stdout",
     "output_type": "stream",
     "text": [
      "Cross Val:\n",
      "Acc: 0.7111745513866232\n",
      "Precision: 0.4217751932489363\n",
      "Recall: 0.4293603342976535\n",
      "f1: 0.4252665049809746\n",
      "ROC AUC: 0.624754621982979\n",
      "\n",
      "Model: ExtraTreeClassifier(max_depth=65, random_state=0)\n",
      "\n"
     ]
    },
    {
     "data": {
      "text/plain": [
       "array([[1904,  396],\n",
       "       [ 458,  308]], dtype=int64)"
      ]
     },
     "metadata": {},
     "output_type": "display_data"
    },
    {
     "name": "stdout",
     "output_type": "stream",
     "text": [
      "Cross Val:\n",
      "Acc: 0.7013866231647634\n",
      "Precision: 0.3976247200034504\n",
      "Recall: 0.3842408657452052\n",
      "f1: 0.3901879790679246\n",
      "ROC AUC: 0.6082793629997629\n",
      "\n",
      "Model: ExtraTreeClassifier(max_depth=65, random_state=0)\n",
      "\n"
     ]
    },
    {
     "data": {
      "text/plain": [
       "array([[1859,  441],\n",
       "       [ 436,  330]], dtype=int64)"
      ]
     },
     "metadata": {},
     "output_type": "display_data"
    },
    {
     "name": "stdout",
     "output_type": "stream",
     "text": [
      "Cross Val:\n",
      "Acc: 0.7111745513866232\n",
      "Precision: 0.4217751932489363\n",
      "Recall: 0.4293603342976535\n",
      "f1: 0.4252665049809746\n",
      "ROC AUC: 0.624754621982979\n",
      "\n",
      "Model: ExtraTreeClassifier(max_depth=70, random_state=0)\n",
      "\n"
     ]
    },
    {
     "data": {
      "text/plain": [
       "array([[1904,  396],\n",
       "       [ 458,  308]], dtype=int64)"
      ]
     },
     "metadata": {},
     "output_type": "display_data"
    },
    {
     "name": "stdout",
     "output_type": "stream",
     "text": [
      "Cross Val:\n",
      "Acc: 0.7013866231647634\n",
      "Precision: 0.3976247200034504\n",
      "Recall: 0.3842408657452052\n",
      "f1: 0.3901879790679246\n",
      "ROC AUC: 0.6082793629997629\n",
      "\n",
      "Model: ExtraTreeClassifier(max_depth=70, random_state=0)\n",
      "\n"
     ]
    },
    {
     "data": {
      "text/plain": [
       "array([[1859,  441],\n",
       "       [ 436,  330]], dtype=int64)"
      ]
     },
     "metadata": {},
     "output_type": "display_data"
    },
    {
     "name": "stdout",
     "output_type": "stream",
     "text": [
      "Cross Val:\n",
      "Acc: 0.7111745513866232\n",
      "Precision: 0.4217751932489363\n",
      "Recall: 0.4293603342976535\n",
      "f1: 0.4252665049809746\n",
      "ROC AUC: 0.624754621982979\n",
      "\n",
      "Model: ExtraTreeClassifier(max_depth=75, random_state=0)\n",
      "\n"
     ]
    },
    {
     "data": {
      "text/plain": [
       "array([[1904,  396],\n",
       "       [ 458,  308]], dtype=int64)"
      ]
     },
     "metadata": {},
     "output_type": "display_data"
    },
    {
     "name": "stdout",
     "output_type": "stream",
     "text": [
      "Cross Val:\n",
      "Acc: 0.7013866231647634\n",
      "Precision: 0.3976247200034504\n",
      "Recall: 0.3842408657452052\n",
      "f1: 0.3901879790679246\n",
      "ROC AUC: 0.6082793629997629\n",
      "\n",
      "Model: ExtraTreeClassifier(max_depth=75, random_state=0)\n",
      "\n"
     ]
    },
    {
     "data": {
      "text/plain": [
       "array([[1859,  441],\n",
       "       [ 436,  330]], dtype=int64)"
      ]
     },
     "metadata": {},
     "output_type": "display_data"
    },
    {
     "name": "stdout",
     "output_type": "stream",
     "text": [
      "Cross Val:\n",
      "Acc: 0.7111745513866232\n",
      "Precision: 0.4217751932489363\n",
      "Recall: 0.4293603342976535\n",
      "f1: 0.4252665049809746\n",
      "ROC AUC: 0.624754621982979\n",
      "\n",
      "Model: ExtraTreeClassifier(max_depth=80, random_state=0)\n",
      "\n"
     ]
    },
    {
     "data": {
      "text/plain": [
       "array([[1904,  396],\n",
       "       [ 458,  308]], dtype=int64)"
      ]
     },
     "metadata": {},
     "output_type": "display_data"
    },
    {
     "name": "stdout",
     "output_type": "stream",
     "text": [
      "Cross Val:\n",
      "Acc: 0.7013866231647634\n",
      "Precision: 0.3976247200034504\n",
      "Recall: 0.3842408657452052\n",
      "f1: 0.3901879790679246\n",
      "ROC AUC: 0.6082793629997629\n",
      "\n",
      "Model: ExtraTreeClassifier(max_depth=80, random_state=0)\n",
      "\n"
     ]
    },
    {
     "data": {
      "text/plain": [
       "array([[1859,  441],\n",
       "       [ 436,  330]], dtype=int64)"
      ]
     },
     "metadata": {},
     "output_type": "display_data"
    },
    {
     "name": "stdout",
     "output_type": "stream",
     "text": [
      "Cross Val:\n",
      "Acc: 0.7111745513866232\n",
      "Precision: 0.4217751932489363\n",
      "Recall: 0.4293603342976535\n",
      "f1: 0.4252665049809746\n",
      "ROC AUC: 0.624754621982979\n",
      "\n",
      "Model: ExtraTreeClassifier(max_depth=85, random_state=0)\n",
      "\n"
     ]
    },
    {
     "data": {
      "text/plain": [
       "array([[1904,  396],\n",
       "       [ 458,  308]], dtype=int64)"
      ]
     },
     "metadata": {},
     "output_type": "display_data"
    },
    {
     "name": "stdout",
     "output_type": "stream",
     "text": [
      "Cross Val:\n",
      "Acc: 0.7013866231647634\n",
      "Precision: 0.3976247200034504\n",
      "Recall: 0.3842408657452052\n",
      "f1: 0.3901879790679246\n",
      "ROC AUC: 0.6082793629997629\n",
      "\n",
      "Model: ExtraTreeClassifier(max_depth=85, random_state=0)\n",
      "\n"
     ]
    },
    {
     "data": {
      "text/plain": [
       "array([[1859,  441],\n",
       "       [ 436,  330]], dtype=int64)"
      ]
     },
     "metadata": {},
     "output_type": "display_data"
    },
    {
     "name": "stdout",
     "output_type": "stream",
     "text": [
      "Cross Val:\n",
      "Acc: 0.7111745513866232\n",
      "Precision: 0.4217751932489363\n",
      "Recall: 0.4293603342976535\n",
      "f1: 0.4252665049809746\n",
      "ROC AUC: 0.624754621982979\n",
      "\n",
      "Model: ExtraTreeClassifier(max_depth=90, random_state=0)\n",
      "\n"
     ]
    },
    {
     "data": {
      "text/plain": [
       "array([[1904,  396],\n",
       "       [ 458,  308]], dtype=int64)"
      ]
     },
     "metadata": {},
     "output_type": "display_data"
    },
    {
     "name": "stdout",
     "output_type": "stream",
     "text": [
      "Cross Val:\n",
      "Acc: 0.7013866231647634\n",
      "Precision: 0.3976247200034504\n",
      "Recall: 0.3842408657452052\n",
      "f1: 0.3901879790679246\n",
      "ROC AUC: 0.6082793629997629\n",
      "\n",
      "Model: ExtraTreeClassifier(max_depth=90, random_state=0)\n",
      "\n"
     ]
    },
    {
     "data": {
      "text/plain": [
       "array([[1859,  441],\n",
       "       [ 436,  330]], dtype=int64)"
      ]
     },
     "metadata": {},
     "output_type": "display_data"
    },
    {
     "name": "stdout",
     "output_type": "stream",
     "text": [
      "Cross Val:\n",
      "Acc: 0.7111745513866232\n",
      "Precision: 0.4217751932489363\n",
      "Recall: 0.4293603342976535\n",
      "f1: 0.4252665049809746\n",
      "ROC AUC: 0.624754621982979\n",
      "\n",
      "Model: ExtraTreeClassifier(max_depth=95, random_state=0)\n",
      "\n"
     ]
    },
    {
     "data": {
      "text/plain": [
       "array([[1904,  396],\n",
       "       [ 458,  308]], dtype=int64)"
      ]
     },
     "metadata": {},
     "output_type": "display_data"
    },
    {
     "name": "stdout",
     "output_type": "stream",
     "text": [
      "Cross Val:\n",
      "Acc: 0.7013866231647634\n",
      "Precision: 0.3976247200034504\n",
      "Recall: 0.3842408657452052\n",
      "f1: 0.3901879790679246\n",
      "ROC AUC: 0.6082793629997629\n",
      "\n",
      "Model: ExtraTreeClassifier(max_depth=95, random_state=0)\n",
      "\n"
     ]
    },
    {
     "data": {
      "text/plain": [
       "array([[1859,  441],\n",
       "       [ 436,  330]], dtype=int64)"
      ]
     },
     "metadata": {},
     "output_type": "display_data"
    },
    {
     "name": "stdout",
     "output_type": "stream",
     "text": [
      "Cross Val:\n",
      "Acc: 0.7111745513866232\n",
      "Precision: 0.4217751932489363\n",
      "Recall: 0.4293603342976535\n",
      "f1: 0.4252665049809746\n",
      "ROC AUC: 0.624754621982979\n",
      "\n",
      "Model: ExtraTreeClassifier(max_depth=5, random_state=0)\n",
      "\n"
     ]
    },
    {
     "data": {
      "text/plain": [
       "array([[2120,  190],\n",
       "       [ 471,  285]], dtype=int64)"
      ]
     },
     "metadata": {},
     "output_type": "display_data"
    },
    {
     "name": "stdout",
     "output_type": "stream",
     "text": [
      "Cross Val:\n",
      "Acc: 0.7759380097879282\n",
      "Precision: 0.589190807209915\n",
      "Recall: 0.35300930361286753\n",
      "f1: 0.4403930559329551\n",
      "ROC AUC: 0.7543574144637125\n",
      "\n",
      "Model: ExtraTreeClassifier(max_depth=5, random_state=0)\n",
      "\n"
     ]
    },
    {
     "data": {
      "text/plain": [
       "array([[2219,   91],\n",
       "       [ 615,  141]], dtype=int64)"
      ]
     },
     "metadata": {},
     "output_type": "display_data"
    },
    {
     "name": "stdout",
     "output_type": "stream",
     "text": [
      "Cross Val:\n",
      "Acc: 0.7557096247960848\n",
      "Precision: 0.6320015366299045\n",
      "Recall: 0.12415852334419111\n",
      "f1: 0.19314449030813724\n",
      "ROC AUC: 0.7169916577338076\n",
      "\n",
      "Model: ExtraTreeClassifier(max_depth=10, random_state=0)\n",
      "\n"
     ]
    },
    {
     "data": {
      "text/plain": [
       "array([[2083,  227],\n",
       "       [ 461,  295]], dtype=int64)"
      ]
     },
     "metadata": {},
     "output_type": "display_data"
    },
    {
     "name": "stdout",
     "output_type": "stream",
     "text": [
      "Cross Val:\n",
      "Acc: 0.7738988580750409\n",
      "Precision: 0.5723651277502751\n",
      "Recall: 0.3885418662579038\n",
      "f1: 0.4620697720428021\n",
      "ROC AUC: 0.7564602067406065\n",
      "\n",
      "Model: ExtraTreeClassifier(max_depth=10, random_state=0)\n",
      "\n"
     ]
    },
    {
     "data": {
      "text/plain": [
       "array([[2060,  250],\n",
       "       [ 463,  293]], dtype=int64)"
      ]
     },
     "metadata": {},
     "output_type": "display_data"
    },
    {
     "name": "stdout",
     "output_type": "stream",
     "text": [
      "Cross Val:\n",
      "Acc: 0.769004893964111\n",
      "Precision: 0.5535737500242605\n",
      "Recall: 0.4035255796129527\n",
      "f1: 0.4663792052202447\n",
      "ROC AUC: 0.7557366888232273\n",
      "\n",
      "Model: ExtraTreeClassifier(max_depth=15, random_state=0)\n",
      "\n"
     ]
    },
    {
     "data": {
      "text/plain": [
       "array([[2007,  303],\n",
       "       [ 475,  281]], dtype=int64)"
      ]
     },
     "metadata": {},
     "output_type": "display_data"
    },
    {
     "name": "stdout",
     "output_type": "stream",
     "text": [
      "Cross Val:\n",
      "Acc: 0.7520391517128875\n",
      "Precision: 0.5072452411867763\n",
      "Recall: 0.38819803708671313\n",
      "f1: 0.43924503881524535\n",
      "ROC AUC: 0.6852398344647244\n",
      "\n",
      "Model: ExtraTreeClassifier(max_depth=15, random_state=0)\n",
      "\n"
     ]
    },
    {
     "data": {
      "text/plain": [
       "array([[2001,  309],\n",
       "       [ 446,  310]], dtype=int64)"
      ]
     },
     "metadata": {},
     "output_type": "display_data"
    },
    {
     "name": "stdout",
     "output_type": "stream",
     "text": [
      "Cross Val:\n",
      "Acc: 0.7516313213703099\n",
      "Precision: 0.505232810689125\n",
      "Recall: 0.4475314555789742\n",
      "f1: 0.47423475137544147\n",
      "ROC AUC: 0.697954488422673\n",
      "\n",
      "Model: ExtraTreeClassifier(max_depth=20, random_state=0)\n",
      "\n"
     ]
    },
    {
     "data": {
      "text/plain": [
       "array([[1885,  425],\n",
       "       [ 457,  299]], dtype=int64)"
      ]
     },
     "metadata": {},
     "output_type": "display_data"
    },
    {
     "name": "stdout",
     "output_type": "stream",
     "text": [
      "Cross Val:\n",
      "Acc: 0.7179445350734095\n",
      "Precision: 0.4291030651414708\n",
      "Recall: 0.38233910285069517\n",
      "f1: 0.404144525641397\n",
      "ROC AUC: 0.6266594006838269\n",
      "\n",
      "Model: ExtraTreeClassifier(max_depth=20, random_state=0)\n",
      "\n"
     ]
    },
    {
     "data": {
      "text/plain": [
       "array([[1924,  386],\n",
       "       [ 427,  329]], dtype=int64)"
      ]
     },
     "metadata": {},
     "output_type": "display_data"
    },
    {
     "name": "stdout",
     "output_type": "stream",
     "text": [
      "Cross Val:\n",
      "Acc: 0.7246329526916803\n",
      "Precision: 0.4481244283210376\n",
      "Recall: 0.4318803091269081\n",
      "f1: 0.4395812428436299\n",
      "ROC AUC: 0.649361674012853\n",
      "\n",
      "Model: ExtraTreeClassifier(max_depth=25, random_state=0)\n",
      "\n"
     ]
    },
    {
     "data": {
      "text/plain": [
       "array([[1857,  453],\n",
       "       [ 463,  293]], dtype=int64)"
      ]
     },
     "metadata": {},
     "output_type": "display_data"
    },
    {
     "name": "stdout",
     "output_type": "stream",
     "text": [
      "Cross Val:\n",
      "Acc: 0.7067699836867863\n",
      "Precision: 0.4111429352851169\n",
      "Recall: 0.3966692214345021\n",
      "f1: 0.40364712289303484\n",
      "ROC AUC: 0.6130178399290444\n",
      "\n",
      "Model: ExtraTreeClassifier(max_depth=25, random_state=0)\n",
      "\n"
     ]
    },
    {
     "data": {
      "text/plain": [
       "array([[1877,  433],\n",
       "       [ 424,  332]], dtype=int64)"
      ]
     },
     "metadata": {},
     "output_type": "display_data"
    },
    {
     "name": "stdout",
     "output_type": "stream",
     "text": [
      "Cross Val:\n",
      "Acc: 0.715415986949429\n",
      "Precision: 0.4320118148352373\n",
      "Recall: 0.4354591130697664\n",
      "f1: 0.43324258520133985\n",
      "ROC AUC: 0.6312880688159075\n",
      "\n",
      "Model: ExtraTreeClassifier(max_depth=30, random_state=0)\n",
      "\n"
     ]
    },
    {
     "data": {
      "text/plain": [
       "array([[1870,  440],\n",
       "       [ 466,  290]], dtype=int64)"
      ]
     },
     "metadata": {},
     "output_type": "display_data"
    },
    {
     "name": "stdout",
     "output_type": "stream",
     "text": [
      "Cross Val:\n",
      "Acc: 0.7122349102773247\n",
      "Precision: 0.42134360083244776\n",
      "Recall: 0.3982968214430181\n",
      "f1: 0.40920173383946457\n",
      "ROC AUC: 0.6171086537160755\n",
      "\n",
      "Model: ExtraTreeClassifier(max_depth=30, random_state=0)\n",
      "\n"
     ]
    },
    {
     "data": {
      "text/plain": [
       "array([[1840,  470],\n",
       "       [ 410,  346]], dtype=int64)"
      ]
     },
     "metadata": {},
     "output_type": "display_data"
    },
    {
     "name": "stdout",
     "output_type": "stream",
     "text": [
      "Cross Val:\n",
      "Acc: 0.715252854812398\n",
      "Precision: 0.4330808461969652\n",
      "Recall: 0.44033765514892165\n",
      "f1: 0.43636458495042385\n",
      "ROC AUC: 0.6268458572525919\n",
      "\n",
      "Model: ExtraTreeClassifier(max_depth=35, random_state=0)\n",
      "\n"
     ]
    },
    {
     "data": {
      "text/plain": [
       "array([[1870,  440],\n",
       "       [ 466,  290]], dtype=int64)"
      ]
     },
     "metadata": {},
     "output_type": "display_data"
    },
    {
     "name": "stdout",
     "output_type": "stream",
     "text": [
      "Cross Val:\n",
      "Acc: 0.7099510603588908\n",
      "Precision: 0.41642804181178705\n",
      "Recall: 0.39406229375572166\n",
      "f1: 0.40464736972093585\n",
      "ROC AUC: 0.614019507816801\n",
      "\n",
      "Model: ExtraTreeClassifier(max_depth=35, random_state=0)\n",
      "\n"
     ]
    },
    {
     "data": {
      "text/plain": [
       "array([[1885,  425],\n",
       "       [ 414,  342]], dtype=int64)"
      ]
     },
     "metadata": {},
     "output_type": "display_data"
    },
    {
     "name": "stdout",
     "output_type": "stream",
     "text": [
      "Cross Val:\n",
      "Acc: 0.7150081566068516\n",
      "Precision: 0.43177900644816997\n",
      "Recall: 0.4390411104724191\n",
      "f1: 0.43510428785800814\n",
      "ROC AUC: 0.6270006158025005\n",
      "\n",
      "Model: ExtraTreeClassifier(max_depth=40, random_state=0)\n",
      "\n"
     ]
    },
    {
     "data": {
      "text/plain": [
       "array([[1870,  440],\n",
       "       [ 466,  290]], dtype=int64)"
      ]
     },
     "metadata": {},
     "output_type": "display_data"
    },
    {
     "name": "stdout",
     "output_type": "stream",
     "text": [
      "Cross Val:\n",
      "Acc: 0.7099510603588908\n",
      "Precision: 0.41642804181178705\n",
      "Recall: 0.39406229375572166\n",
      "f1: 0.40464736972093585\n",
      "ROC AUC: 0.614019507816801\n",
      "\n",
      "Model: ExtraTreeClassifier(max_depth=40, random_state=0)\n",
      "\n"
     ]
    },
    {
     "data": {
      "text/plain": [
       "array([[1885,  425],\n",
       "       [ 414,  342]], dtype=int64)"
      ]
     },
     "metadata": {},
     "output_type": "display_data"
    },
    {
     "name": "stdout",
     "output_type": "stream",
     "text": [
      "Cross Val:\n",
      "Acc: 0.7150081566068516\n",
      "Precision: 0.43177900644816997\n",
      "Recall: 0.4390411104724191\n",
      "f1: 0.43510428785800814\n",
      "ROC AUC: 0.6270006158025005\n",
      "\n",
      "Model: ExtraTreeClassifier(max_depth=45, random_state=0)\n",
      "\n"
     ]
    },
    {
     "data": {
      "text/plain": [
       "array([[1870,  440],\n",
       "       [ 466,  290]], dtype=int64)"
      ]
     },
     "metadata": {},
     "output_type": "display_data"
    },
    {
     "name": "stdout",
     "output_type": "stream",
     "text": [
      "Cross Val:\n",
      "Acc: 0.7099510603588908\n",
      "Precision: 0.41642804181178705\n",
      "Recall: 0.39406229375572166\n",
      "f1: 0.40464736972093585\n",
      "ROC AUC: 0.614019507816801\n",
      "\n",
      "Model: ExtraTreeClassifier(max_depth=45, random_state=0)\n",
      "\n"
     ]
    },
    {
     "data": {
      "text/plain": [
       "array([[1885,  425],\n",
       "       [ 414,  342]], dtype=int64)"
      ]
     },
     "metadata": {},
     "output_type": "display_data"
    },
    {
     "name": "stdout",
     "output_type": "stream",
     "text": [
      "Cross Val:\n",
      "Acc: 0.7150081566068516\n",
      "Precision: 0.43177900644816997\n",
      "Recall: 0.4390411104724191\n",
      "f1: 0.43510428785800814\n",
      "ROC AUC: 0.6270006158025005\n",
      "\n",
      "Model: ExtraTreeClassifier(max_depth=50, random_state=0)\n",
      "\n"
     ]
    },
    {
     "data": {
      "text/plain": [
       "array([[1870,  440],\n",
       "       [ 466,  290]], dtype=int64)"
      ]
     },
     "metadata": {},
     "output_type": "display_data"
    },
    {
     "name": "stdout",
     "output_type": "stream",
     "text": [
      "Cross Val:\n",
      "Acc: 0.7099510603588908\n",
      "Precision: 0.41642804181178705\n",
      "Recall: 0.39406229375572166\n",
      "f1: 0.40464736972093585\n",
      "ROC AUC: 0.614019507816801\n",
      "\n",
      "Model: ExtraTreeClassifier(max_depth=50, random_state=0)\n",
      "\n"
     ]
    },
    {
     "data": {
      "text/plain": [
       "array([[1885,  425],\n",
       "       [ 414,  342]], dtype=int64)"
      ]
     },
     "metadata": {},
     "output_type": "display_data"
    },
    {
     "name": "stdout",
     "output_type": "stream",
     "text": [
      "Cross Val:\n",
      "Acc: 0.7150081566068516\n",
      "Precision: 0.43177900644816997\n",
      "Recall: 0.4390411104724191\n",
      "f1: 0.43510428785800814\n",
      "ROC AUC: 0.6270006158025005\n",
      "\n",
      "Model: ExtraTreeClassifier(max_depth=55, random_state=0)\n",
      "\n"
     ]
    },
    {
     "data": {
      "text/plain": [
       "array([[1870,  440],\n",
       "       [ 466,  290]], dtype=int64)"
      ]
     },
     "metadata": {},
     "output_type": "display_data"
    },
    {
     "name": "stdout",
     "output_type": "stream",
     "text": [
      "Cross Val:\n",
      "Acc: 0.7099510603588908\n",
      "Precision: 0.41642804181178705\n",
      "Recall: 0.39406229375572166\n",
      "f1: 0.40464736972093585\n",
      "ROC AUC: 0.614019507816801\n",
      "\n",
      "Model: ExtraTreeClassifier(max_depth=55, random_state=0)\n",
      "\n"
     ]
    },
    {
     "data": {
      "text/plain": [
       "array([[1885,  425],\n",
       "       [ 414,  342]], dtype=int64)"
      ]
     },
     "metadata": {},
     "output_type": "display_data"
    },
    {
     "name": "stdout",
     "output_type": "stream",
     "text": [
      "Cross Val:\n",
      "Acc: 0.7150081566068516\n",
      "Precision: 0.43177900644816997\n",
      "Recall: 0.4390411104724191\n",
      "f1: 0.43510428785800814\n",
      "ROC AUC: 0.6270006158025005\n",
      "\n",
      "Model: ExtraTreeClassifier(max_depth=60, random_state=0)\n",
      "\n"
     ]
    },
    {
     "data": {
      "text/plain": [
       "array([[1870,  440],\n",
       "       [ 466,  290]], dtype=int64)"
      ]
     },
     "metadata": {},
     "output_type": "display_data"
    },
    {
     "name": "stdout",
     "output_type": "stream",
     "text": [
      "Cross Val:\n",
      "Acc: 0.7099510603588908\n",
      "Precision: 0.41642804181178705\n",
      "Recall: 0.39406229375572166\n",
      "f1: 0.40464736972093585\n",
      "ROC AUC: 0.614019507816801\n",
      "\n",
      "Model: ExtraTreeClassifier(max_depth=60, random_state=0)\n",
      "\n"
     ]
    },
    {
     "data": {
      "text/plain": [
       "array([[1885,  425],\n",
       "       [ 414,  342]], dtype=int64)"
      ]
     },
     "metadata": {},
     "output_type": "display_data"
    },
    {
     "name": "stdout",
     "output_type": "stream",
     "text": [
      "Cross Val:\n",
      "Acc: 0.7150081566068516\n",
      "Precision: 0.43177900644816997\n",
      "Recall: 0.4390411104724191\n",
      "f1: 0.43510428785800814\n",
      "ROC AUC: 0.6270006158025005\n",
      "\n",
      "Model: ExtraTreeClassifier(max_depth=65, random_state=0)\n",
      "\n"
     ]
    },
    {
     "data": {
      "text/plain": [
       "array([[1870,  440],\n",
       "       [ 466,  290]], dtype=int64)"
      ]
     },
     "metadata": {},
     "output_type": "display_data"
    },
    {
     "name": "stdout",
     "output_type": "stream",
     "text": [
      "Cross Val:\n",
      "Acc: 0.7099510603588908\n",
      "Precision: 0.41642804181178705\n",
      "Recall: 0.39406229375572166\n",
      "f1: 0.40464736972093585\n",
      "ROC AUC: 0.614019507816801\n",
      "\n",
      "Model: ExtraTreeClassifier(max_depth=65, random_state=0)\n",
      "\n"
     ]
    },
    {
     "data": {
      "text/plain": [
       "array([[1885,  425],\n",
       "       [ 414,  342]], dtype=int64)"
      ]
     },
     "metadata": {},
     "output_type": "display_data"
    },
    {
     "name": "stdout",
     "output_type": "stream",
     "text": [
      "Cross Val:\n",
      "Acc: 0.7150081566068516\n",
      "Precision: 0.43177900644816997\n",
      "Recall: 0.4390411104724191\n",
      "f1: 0.43510428785800814\n",
      "ROC AUC: 0.6270006158025005\n",
      "\n",
      "Model: ExtraTreeClassifier(max_depth=70, random_state=0)\n",
      "\n"
     ]
    },
    {
     "data": {
      "text/plain": [
       "array([[1870,  440],\n",
       "       [ 466,  290]], dtype=int64)"
      ]
     },
     "metadata": {},
     "output_type": "display_data"
    },
    {
     "name": "stdout",
     "output_type": "stream",
     "text": [
      "Cross Val:\n",
      "Acc: 0.7099510603588908\n",
      "Precision: 0.41642804181178705\n",
      "Recall: 0.39406229375572166\n",
      "f1: 0.40464736972093585\n",
      "ROC AUC: 0.614019507816801\n",
      "\n",
      "Model: ExtraTreeClassifier(max_depth=70, random_state=0)\n",
      "\n"
     ]
    },
    {
     "data": {
      "text/plain": [
       "array([[1885,  425],\n",
       "       [ 414,  342]], dtype=int64)"
      ]
     },
     "metadata": {},
     "output_type": "display_data"
    },
    {
     "name": "stdout",
     "output_type": "stream",
     "text": [
      "Cross Val:\n",
      "Acc: 0.7150081566068516\n",
      "Precision: 0.43177900644816997\n",
      "Recall: 0.4390411104724191\n",
      "f1: 0.43510428785800814\n",
      "ROC AUC: 0.6270006158025005\n",
      "\n",
      "Model: ExtraTreeClassifier(max_depth=75, random_state=0)\n",
      "\n"
     ]
    },
    {
     "data": {
      "text/plain": [
       "array([[1870,  440],\n",
       "       [ 466,  290]], dtype=int64)"
      ]
     },
     "metadata": {},
     "output_type": "display_data"
    },
    {
     "name": "stdout",
     "output_type": "stream",
     "text": [
      "Cross Val:\n",
      "Acc: 0.7099510603588908\n",
      "Precision: 0.41642804181178705\n",
      "Recall: 0.39406229375572166\n",
      "f1: 0.40464736972093585\n",
      "ROC AUC: 0.614019507816801\n",
      "\n",
      "Model: ExtraTreeClassifier(max_depth=75, random_state=0)\n",
      "\n"
     ]
    },
    {
     "data": {
      "text/plain": [
       "array([[1885,  425],\n",
       "       [ 414,  342]], dtype=int64)"
      ]
     },
     "metadata": {},
     "output_type": "display_data"
    },
    {
     "name": "stdout",
     "output_type": "stream",
     "text": [
      "Cross Val:\n",
      "Acc: 0.7150081566068516\n",
      "Precision: 0.43177900644816997\n",
      "Recall: 0.4390411104724191\n",
      "f1: 0.43510428785800814\n",
      "ROC AUC: 0.6270006158025005\n",
      "\n",
      "Model: ExtraTreeClassifier(max_depth=80, random_state=0)\n",
      "\n"
     ]
    },
    {
     "data": {
      "text/plain": [
       "array([[1870,  440],\n",
       "       [ 466,  290]], dtype=int64)"
      ]
     },
     "metadata": {},
     "output_type": "display_data"
    },
    {
     "name": "stdout",
     "output_type": "stream",
     "text": [
      "Cross Val:\n",
      "Acc: 0.7099510603588908\n",
      "Precision: 0.41642804181178705\n",
      "Recall: 0.39406229375572166\n",
      "f1: 0.40464736972093585\n",
      "ROC AUC: 0.614019507816801\n",
      "\n",
      "Model: ExtraTreeClassifier(max_depth=80, random_state=0)\n",
      "\n"
     ]
    },
    {
     "data": {
      "text/plain": [
       "array([[1885,  425],\n",
       "       [ 414,  342]], dtype=int64)"
      ]
     },
     "metadata": {},
     "output_type": "display_data"
    },
    {
     "name": "stdout",
     "output_type": "stream",
     "text": [
      "Cross Val:\n",
      "Acc: 0.7150081566068516\n",
      "Precision: 0.43177900644816997\n",
      "Recall: 0.4390411104724191\n",
      "f1: 0.43510428785800814\n",
      "ROC AUC: 0.6270006158025005\n",
      "\n",
      "Model: ExtraTreeClassifier(max_depth=85, random_state=0)\n",
      "\n"
     ]
    },
    {
     "data": {
      "text/plain": [
       "array([[1870,  440],\n",
       "       [ 466,  290]], dtype=int64)"
      ]
     },
     "metadata": {},
     "output_type": "display_data"
    },
    {
     "name": "stdout",
     "output_type": "stream",
     "text": [
      "Cross Val:\n",
      "Acc: 0.7099510603588908\n",
      "Precision: 0.41642804181178705\n",
      "Recall: 0.39406229375572166\n",
      "f1: 0.40464736972093585\n",
      "ROC AUC: 0.614019507816801\n",
      "\n",
      "Model: ExtraTreeClassifier(max_depth=85, random_state=0)\n",
      "\n"
     ]
    },
    {
     "data": {
      "text/plain": [
       "array([[1885,  425],\n",
       "       [ 414,  342]], dtype=int64)"
      ]
     },
     "metadata": {},
     "output_type": "display_data"
    },
    {
     "name": "stdout",
     "output_type": "stream",
     "text": [
      "Cross Val:\n",
      "Acc: 0.7150081566068516\n",
      "Precision: 0.43177900644816997\n",
      "Recall: 0.4390411104724191\n",
      "f1: 0.43510428785800814\n",
      "ROC AUC: 0.6270006158025005\n",
      "\n",
      "Model: ExtraTreeClassifier(max_depth=90, random_state=0)\n",
      "\n"
     ]
    },
    {
     "data": {
      "text/plain": [
       "array([[1870,  440],\n",
       "       [ 466,  290]], dtype=int64)"
      ]
     },
     "metadata": {},
     "output_type": "display_data"
    },
    {
     "name": "stdout",
     "output_type": "stream",
     "text": [
      "Cross Val:\n",
      "Acc: 0.7099510603588908\n",
      "Precision: 0.41642804181178705\n",
      "Recall: 0.39406229375572166\n",
      "f1: 0.40464736972093585\n",
      "ROC AUC: 0.614019507816801\n",
      "\n",
      "Model: ExtraTreeClassifier(max_depth=90, random_state=0)\n",
      "\n"
     ]
    },
    {
     "data": {
      "text/plain": [
       "array([[1885,  425],\n",
       "       [ 414,  342]], dtype=int64)"
      ]
     },
     "metadata": {},
     "output_type": "display_data"
    },
    {
     "name": "stdout",
     "output_type": "stream",
     "text": [
      "Cross Val:\n",
      "Acc: 0.7150081566068516\n",
      "Precision: 0.43177900644816997\n",
      "Recall: 0.4390411104724191\n",
      "f1: 0.43510428785800814\n",
      "ROC AUC: 0.6270006158025005\n",
      "\n",
      "Model: ExtraTreeClassifier(max_depth=95, random_state=0)\n",
      "\n"
     ]
    },
    {
     "data": {
      "text/plain": [
       "array([[1870,  440],\n",
       "       [ 466,  290]], dtype=int64)"
      ]
     },
     "metadata": {},
     "output_type": "display_data"
    },
    {
     "name": "stdout",
     "output_type": "stream",
     "text": [
      "Cross Val:\n",
      "Acc: 0.7099510603588908\n",
      "Precision: 0.41642804181178705\n",
      "Recall: 0.39406229375572166\n",
      "f1: 0.40464736972093585\n",
      "ROC AUC: 0.614019507816801\n",
      "\n",
      "Model: ExtraTreeClassifier(max_depth=95, random_state=0)\n",
      "\n"
     ]
    },
    {
     "data": {
      "text/plain": [
       "array([[1885,  425],\n",
       "       [ 414,  342]], dtype=int64)"
      ]
     },
     "metadata": {},
     "output_type": "display_data"
    },
    {
     "name": "stdout",
     "output_type": "stream",
     "text": [
      "Cross Val:\n",
      "Acc: 0.7150081566068516\n",
      "Precision: 0.43177900644816997\n",
      "Recall: 0.4390411104724191\n",
      "f1: 0.43510428785800814\n",
      "ROC AUC: 0.6270006158025005\n",
      "((0.5609569109187434, 'GaussianNB() set = chi k = 17'), 'scale: True', 'normalize:True')\n",
      "((0.5730844958319649, 'GaussianNB() set = mic k = 23'), 'scale: True', 'normalize:True')\n",
      "((0.5781474680480874, 'GaussianNB() set = chi k = 17'), 'scale: False', 'normalize:False')\n",
      "((0.5819471143282539, 'ExtraTreeClassifier(max_depth=10, random_state=0) set = mic k = 10'), 'scale: True', 'normalize:True')\n"
     ]
    }
   ],
   "source": [
    "#Model Test                                   \n",
    "for scale in [True,False]:\n",
    "    for normalize in [True,False]:   \n",
    "        \n",
    "        #Extracting and Cleaning Data\n",
    "        data_cleaned = Data_Cleaning(pd.read_csv('z_train.csv'), \n",
    "                                     scale = scale, \n",
    "                                     normalize = normalize)\n",
    "        \n",
    "        #Train, Test Split\n",
    "        X = data_cleaned.drop(['target','enrollee_id'], axis = 1) \n",
    "        y = data_cleaned['target']\n",
    "        X_train, X_test, y_train, y_test = train_test_split(X, y, \n",
    "                                                            test_size=0.2)\n",
    "\n",
    "        X_train_fs_chi, X_test_fs_chi = select_features(X_train, y_train, X_test, \n",
    "                                                        chi2, \n",
    "                                                        k = 7)\n",
    "        X_train_fs_mic, X_test_fs_mic = select_features(X_train, y_train, X_test, \n",
    "                                                        mutual_info_classif, \n",
    "                                                        k = 10)\n",
    "                \n",
    "        for max_depth in np.arange(5,100,5):\n",
    "            a = ModelTest(ExtraTreeClassifier(max_depth=max_depth,\n",
    "                                              random_state=0), #Model    \n",
    "                          X_train = X_train_fs_chi, X_test = X_test_fs_chi,\n",
    "                          y_train = y_train, y_test = y_test,\n",
    "                          typ = 'chi',\n",
    "                          k = 7)\n",
    "            metricss.append((a, \"scale: \" + str(scale), \"normalize:\" + str(normalize)))\n",
    "\n",
    "            a = ModelTest(ExtraTreeClassifier(max_depth=max_depth,\n",
    "                                              random_state=0), #Model          \n",
    "                          X_train = X_train_fs_mic, X_test = X_test_fs_mic,  #Best\n",
    "                          y_train = y_train, y_test = y_test,\n",
    "                          typ = 'mic',\n",
    "                          k = 10)\n",
    "            metricss.append((a, \"scale: \" + str(scale), \"normalize:\" + str(normalize)))\n",
    "        \n",
    "temp = 0.001\n",
    "for metric in metricss:\n",
    "    if metric[0][0] > temp:\n",
    "        print(metric)\n",
    "        temp = metric[0][0]  "
   ]
  },
  {
   "cell_type": "code",
   "execution_count": 31,
   "metadata": {
    "scrolled": true
   },
   "outputs": [
    {
     "name": "stdout",
     "output_type": "stream",
     "text": [
      "\n",
      "Model: DecisionTreeClassifier(max_depth=5, random_state=0)\n",
      "\n"
     ]
    },
    {
     "data": {
      "text/plain": [
       "array([[2093,  206],\n",
       "       [ 463,  304]], dtype=int64)"
      ]
     },
     "metadata": {},
     "output_type": "display_data"
    },
    {
     "name": "stdout",
     "output_type": "stream",
     "text": [
      "Cross Val:\n",
      "Acc: 0.7849918433931484\n",
      "Precision: 0.6013025180787054\n",
      "Recall: 0.4075859852137576\n",
      "f1: 0.4855676667862047\n",
      "ROC AUC: 0.772471406044384\n",
      "\n",
      "Model: DecisionTreeClassifier(max_depth=5, random_state=0)\n",
      "\n"
     ]
    },
    {
     "data": {
      "text/plain": [
       "array([[2086,  213],\n",
       "       [ 457,  310]], dtype=int64)"
      ]
     },
     "metadata": {},
     "output_type": "display_data"
    },
    {
     "name": "stdout",
     "output_type": "stream",
     "text": [
      "Cross Val:\n",
      "Acc: 0.7843393148450246\n",
      "Precision: 0.5988871539825183\n",
      "Recall: 0.40791171113254043\n",
      "f1: 0.4849353167177063\n",
      "ROC AUC: 0.7730310112392791\n",
      "\n",
      "Model: DecisionTreeClassifier(max_depth=10, random_state=0)\n",
      "\n"
     ]
    },
    {
     "data": {
      "text/plain": [
       "array([[2032,  267],\n",
       "       [ 450,  317]], dtype=int64)"
      ]
     },
     "metadata": {},
     "output_type": "display_data"
    },
    {
     "name": "stdout",
     "output_type": "stream",
     "text": [
      "Cross Val:\n",
      "Acc: 0.7680261011419249\n",
      "Precision: 0.5479062768272145\n",
      "Recall: 0.3980981463623701\n",
      "f1: 0.4605258773691592\n",
      "ROC AUC: 0.7481951405621549\n",
      "\n",
      "Model: DecisionTreeClassifier(max_depth=10, random_state=0)\n",
      "\n"
     ]
    },
    {
     "data": {
      "text/plain": [
       "array([[1963,  336],\n",
       "       [ 353,  414]], dtype=int64)"
      ]
     },
     "metadata": {},
     "output_type": "display_data"
    },
    {
     "name": "stdout",
     "output_type": "stream",
     "text": [
      "Cross Val:\n",
      "Acc: 0.7768352365415987\n",
      "Precision: 0.5550365415682059\n",
      "Recall: 0.5266430943962284\n",
      "f1: 0.5390282628940488\n",
      "ROC AUC: 0.7641250640854315\n",
      "\n",
      "Model: DecisionTreeClassifier(max_depth=15, random_state=0)\n",
      "\n"
     ]
    },
    {
     "data": {
      "text/plain": [
       "array([[2004,  295],\n",
       "       [ 458,  309]], dtype=int64)"
      ]
     },
     "metadata": {},
     "output_type": "display_data"
    },
    {
     "name": "stdout",
     "output_type": "stream",
     "text": [
      "Cross Val:\n",
      "Acc: 0.7541598694942904\n",
      "Precision: 0.5090581411029302\n",
      "Recall: 0.3942012214721954\n",
      "f1: 0.4439524805004103\n",
      "ROC AUC: 0.7185118884033221\n",
      "\n",
      "Model: DecisionTreeClassifier(max_depth=15, random_state=0)\n",
      "\n"
     ]
    },
    {
     "data": {
      "text/plain": [
       "array([[1994,  305],\n",
       "       [ 436,  331]], dtype=int64)"
      ]
     },
     "metadata": {},
     "output_type": "display_data"
    },
    {
     "name": "stdout",
     "output_type": "stream",
     "text": [
      "Cross Val:\n",
      "Acc: 0.7584828711256117\n",
      "Precision: 0.5164130892214394\n",
      "Recall: 0.4795253401907211\n",
      "f1: 0.49691227966944035\n",
      "ROC AUC: 0.7207850285362074\n",
      "\n",
      "Model: DecisionTreeClassifier(max_depth=20, random_state=0)\n",
      "\n"
     ]
    },
    {
     "data": {
      "text/plain": [
       "array([[1988,  311],\n",
       "       [ 452,  315]], dtype=int64)"
      ]
     },
     "metadata": {},
     "output_type": "display_data"
    },
    {
     "name": "stdout",
     "output_type": "stream",
     "text": [
      "Cross Val:\n",
      "Acc: 0.7530995106035889\n",
      "Precision: 0.5062151750716739\n",
      "Recall: 0.39223186542376515\n",
      "f1: 0.44172377758205333\n",
      "ROC AUC: 0.7149725672205836\n",
      "\n",
      "Model: DecisionTreeClassifier(max_depth=20, random_state=0)\n",
      "\n"
     ]
    },
    {
     "data": {
      "text/plain": [
       "array([[1966,  333],\n",
       "       [ 426,  341]], dtype=int64)"
      ]
     },
     "metadata": {},
     "output_type": "display_data"
    },
    {
     "name": "stdout",
     "output_type": "stream",
     "text": [
      "Cross Val:\n",
      "Acc: 0.7500815660685155\n",
      "Precision: 0.49868734497577866\n",
      "Recall: 0.4494396228436729\n",
      "f1: 0.4725618859790722\n",
      "ROC AUC: 0.7032616241329537\n",
      "\n",
      "Model: DecisionTreeClassifier(max_depth=25, random_state=0)\n",
      "\n"
     ]
    },
    {
     "data": {
      "text/plain": [
       "array([[1989,  310],\n",
       "       [ 452,  315]], dtype=int64)"
      ]
     },
     "metadata": {},
     "output_type": "display_data"
    },
    {
     "name": "stdout",
     "output_type": "stream",
     "text": [
      "Cross Val:\n",
      "Acc: 0.7532626427406199\n",
      "Precision: 0.5066869977462394\n",
      "Recall: 0.39223293689060323\n",
      "f1: 0.4418989245195576\n",
      "ROC AUC: 0.7148879576167566\n",
      "\n",
      "Model: DecisionTreeClassifier(max_depth=25, random_state=0)\n",
      "\n"
     ]
    },
    {
     "data": {
      "text/plain": [
       "array([[1961,  338],\n",
       "       [ 424,  343]], dtype=int64)"
      ]
     },
     "metadata": {},
     "output_type": "display_data"
    },
    {
     "name": "stdout",
     "output_type": "stream",
     "text": [
      "Cross Val:\n",
      "Acc: 0.7505709624796084\n",
      "Precision: 0.5001466700007329\n",
      "Recall: 0.4530418943533697\n",
      "f1: 0.47512391036050994\n",
      "ROC AUC: 0.7034124365046643\n",
      "\n",
      "Model: DecisionTreeClassifier(max_depth=30, random_state=0)\n",
      "\n"
     ]
    },
    {
     "data": {
      "text/plain": [
       "array([[1989,  310],\n",
       "       [ 452,  315]], dtype=int64)"
      ]
     },
     "metadata": {},
     "output_type": "display_data"
    },
    {
     "name": "stdout",
     "output_type": "stream",
     "text": [
      "Cross Val:\n",
      "Acc: 0.7532626427406199\n",
      "Precision: 0.5066869977462394\n",
      "Recall: 0.39223293689060323\n",
      "f1: 0.4418989245195576\n",
      "ROC AUC: 0.7148879576167566\n",
      "\n",
      "Model: DecisionTreeClassifier(max_depth=30, random_state=0)\n",
      "\n"
     ]
    },
    {
     "data": {
      "text/plain": [
       "array([[1963,  336],\n",
       "       [ 426,  341]], dtype=int64)"
      ]
     },
     "metadata": {},
     "output_type": "display_data"
    },
    {
     "name": "stdout",
     "output_type": "stream",
     "text": [
      "Cross Val:\n",
      "Acc: 0.7507340946166395\n",
      "Precision: 0.5005012799298109\n",
      "Recall: 0.4530418943533697\n",
      "f1: 0.4752864327073326\n",
      "ROC AUC: 0.7034561278942636\n",
      "\n",
      "Model: DecisionTreeClassifier(max_depth=35, random_state=0)\n",
      "\n"
     ]
    },
    {
     "data": {
      "text/plain": [
       "array([[1989,  310],\n",
       "       [ 452,  315]], dtype=int64)"
      ]
     },
     "metadata": {},
     "output_type": "display_data"
    },
    {
     "name": "stdout",
     "output_type": "stream",
     "text": [
      "Cross Val:\n",
      "Acc: 0.7532626427406199\n",
      "Precision: 0.5066869977462394\n",
      "Recall: 0.39223293689060323\n",
      "f1: 0.4418989245195576\n",
      "ROC AUC: 0.7148879576167566\n",
      "\n",
      "Model: DecisionTreeClassifier(max_depth=35, random_state=0)\n",
      "\n"
     ]
    },
    {
     "data": {
      "text/plain": [
       "array([[1963,  336],\n",
       "       [ 426,  341]], dtype=int64)"
      ]
     },
     "metadata": {},
     "output_type": "display_data"
    },
    {
     "name": "stdout",
     "output_type": "stream",
     "text": [
      "Cross Val:\n",
      "Acc: 0.7507340946166395\n",
      "Precision: 0.5005012799298109\n",
      "Recall: 0.4530418943533697\n",
      "f1: 0.4752864327073326\n",
      "ROC AUC: 0.7034561278942636\n",
      "\n",
      "Model: DecisionTreeClassifier(max_depth=40, random_state=0)\n",
      "\n"
     ]
    },
    {
     "data": {
      "text/plain": [
       "array([[1989,  310],\n",
       "       [ 452,  315]], dtype=int64)"
      ]
     },
     "metadata": {},
     "output_type": "display_data"
    },
    {
     "name": "stdout",
     "output_type": "stream",
     "text": [
      "Cross Val:\n",
      "Acc: 0.7532626427406199\n",
      "Precision: 0.5066869977462394\n",
      "Recall: 0.39223293689060323\n",
      "f1: 0.4418989245195576\n",
      "ROC AUC: 0.7148879576167566\n",
      "\n",
      "Model: DecisionTreeClassifier(max_depth=40, random_state=0)\n",
      "\n"
     ]
    },
    {
     "data": {
      "text/plain": [
       "array([[1963,  336],\n",
       "       [ 426,  341]], dtype=int64)"
      ]
     },
     "metadata": {},
     "output_type": "display_data"
    },
    {
     "name": "stdout",
     "output_type": "stream",
     "text": [
      "Cross Val:\n",
      "Acc: 0.7507340946166395\n",
      "Precision: 0.5005012799298109\n",
      "Recall: 0.4530418943533697\n",
      "f1: 0.4752864327073326\n",
      "ROC AUC: 0.7034561278942636\n",
      "\n",
      "Model: DecisionTreeClassifier(max_depth=45, random_state=0)\n",
      "\n"
     ]
    },
    {
     "data": {
      "text/plain": [
       "array([[1989,  310],\n",
       "       [ 452,  315]], dtype=int64)"
      ]
     },
     "metadata": {},
     "output_type": "display_data"
    },
    {
     "name": "stdout",
     "output_type": "stream",
     "text": [
      "Cross Val:\n",
      "Acc: 0.7532626427406199\n",
      "Precision: 0.5066869977462394\n",
      "Recall: 0.39223293689060323\n",
      "f1: 0.4418989245195576\n",
      "ROC AUC: 0.7148879576167566\n",
      "\n",
      "Model: DecisionTreeClassifier(max_depth=45, random_state=0)\n",
      "\n"
     ]
    },
    {
     "data": {
      "text/plain": [
       "array([[1963,  336],\n",
       "       [ 426,  341]], dtype=int64)"
      ]
     },
     "metadata": {},
     "output_type": "display_data"
    },
    {
     "name": "stdout",
     "output_type": "stream",
     "text": [
      "Cross Val:\n",
      "Acc: 0.7507340946166395\n",
      "Precision: 0.5005012799298109\n",
      "Recall: 0.4530418943533697\n",
      "f1: 0.4752864327073326\n",
      "ROC AUC: 0.7034561278942636\n",
      "\n",
      "Model: DecisionTreeClassifier(max_depth=50, random_state=0)\n",
      "\n"
     ]
    },
    {
     "data": {
      "text/plain": [
       "array([[1989,  310],\n",
       "       [ 452,  315]], dtype=int64)"
      ]
     },
     "metadata": {},
     "output_type": "display_data"
    },
    {
     "name": "stdout",
     "output_type": "stream",
     "text": [
      "Cross Val:\n",
      "Acc: 0.7532626427406199\n",
      "Precision: 0.5066869977462394\n",
      "Recall: 0.39223293689060323\n",
      "f1: 0.4418989245195576\n",
      "ROC AUC: 0.7148879576167566\n",
      "\n",
      "Model: DecisionTreeClassifier(max_depth=50, random_state=0)\n",
      "\n"
     ]
    },
    {
     "data": {
      "text/plain": [
       "array([[1963,  336],\n",
       "       [ 426,  341]], dtype=int64)"
      ]
     },
     "metadata": {},
     "output_type": "display_data"
    },
    {
     "name": "stdout",
     "output_type": "stream",
     "text": [
      "Cross Val:\n",
      "Acc: 0.7507340946166395\n",
      "Precision: 0.5005012799298109\n",
      "Recall: 0.4530418943533697\n",
      "f1: 0.4752864327073326\n",
      "ROC AUC: 0.7034561278942636\n",
      "\n",
      "Model: DecisionTreeClassifier(max_depth=55, random_state=0)\n",
      "\n"
     ]
    },
    {
     "data": {
      "text/plain": [
       "array([[1989,  310],\n",
       "       [ 452,  315]], dtype=int64)"
      ]
     },
     "metadata": {},
     "output_type": "display_data"
    },
    {
     "name": "stdout",
     "output_type": "stream",
     "text": [
      "Cross Val:\n",
      "Acc: 0.7532626427406199\n",
      "Precision: 0.5066869977462394\n",
      "Recall: 0.39223293689060323\n",
      "f1: 0.4418989245195576\n",
      "ROC AUC: 0.7148879576167566\n",
      "\n",
      "Model: DecisionTreeClassifier(max_depth=55, random_state=0)\n",
      "\n"
     ]
    },
    {
     "data": {
      "text/plain": [
       "array([[1963,  336],\n",
       "       [ 426,  341]], dtype=int64)"
      ]
     },
     "metadata": {},
     "output_type": "display_data"
    },
    {
     "name": "stdout",
     "output_type": "stream",
     "text": [
      "Cross Val:\n",
      "Acc: 0.7507340946166395\n",
      "Precision: 0.5005012799298109\n",
      "Recall: 0.4530418943533697\n",
      "f1: 0.4752864327073326\n",
      "ROC AUC: 0.7034561278942636\n",
      "\n",
      "Model: DecisionTreeClassifier(max_depth=60, random_state=0)\n",
      "\n"
     ]
    },
    {
     "data": {
      "text/plain": [
       "array([[1989,  310],\n",
       "       [ 452,  315]], dtype=int64)"
      ]
     },
     "metadata": {},
     "output_type": "display_data"
    },
    {
     "name": "stdout",
     "output_type": "stream",
     "text": [
      "Cross Val:\n",
      "Acc: 0.7532626427406199\n",
      "Precision: 0.5066869977462394\n",
      "Recall: 0.39223293689060323\n",
      "f1: 0.4418989245195576\n",
      "ROC AUC: 0.7148879576167566\n",
      "\n",
      "Model: DecisionTreeClassifier(max_depth=60, random_state=0)\n",
      "\n"
     ]
    },
    {
     "data": {
      "text/plain": [
       "array([[1963,  336],\n",
       "       [ 426,  341]], dtype=int64)"
      ]
     },
     "metadata": {},
     "output_type": "display_data"
    },
    {
     "name": "stdout",
     "output_type": "stream",
     "text": [
      "Cross Val:\n",
      "Acc: 0.7507340946166395\n",
      "Precision: 0.5005012799298109\n",
      "Recall: 0.4530418943533697\n",
      "f1: 0.4752864327073326\n",
      "ROC AUC: 0.7034561278942636\n",
      "\n",
      "Model: DecisionTreeClassifier(max_depth=65, random_state=0)\n",
      "\n"
     ]
    },
    {
     "data": {
      "text/plain": [
       "array([[1989,  310],\n",
       "       [ 452,  315]], dtype=int64)"
      ]
     },
     "metadata": {},
     "output_type": "display_data"
    },
    {
     "name": "stdout",
     "output_type": "stream",
     "text": [
      "Cross Val:\n",
      "Acc: 0.7532626427406199\n",
      "Precision: 0.5066869977462394\n",
      "Recall: 0.39223293689060323\n",
      "f1: 0.4418989245195576\n",
      "ROC AUC: 0.7148879576167566\n",
      "\n",
      "Model: DecisionTreeClassifier(max_depth=65, random_state=0)\n",
      "\n"
     ]
    },
    {
     "data": {
      "text/plain": [
       "array([[1963,  336],\n",
       "       [ 426,  341]], dtype=int64)"
      ]
     },
     "metadata": {},
     "output_type": "display_data"
    },
    {
     "name": "stdout",
     "output_type": "stream",
     "text": [
      "Cross Val:\n",
      "Acc: 0.7507340946166395\n",
      "Precision: 0.5005012799298109\n",
      "Recall: 0.4530418943533697\n",
      "f1: 0.4752864327073326\n",
      "ROC AUC: 0.7034561278942636\n",
      "\n",
      "Model: DecisionTreeClassifier(max_depth=70, random_state=0)\n",
      "\n"
     ]
    },
    {
     "data": {
      "text/plain": [
       "array([[1989,  310],\n",
       "       [ 452,  315]], dtype=int64)"
      ]
     },
     "metadata": {},
     "output_type": "display_data"
    },
    {
     "name": "stdout",
     "output_type": "stream",
     "text": [
      "Cross Val:\n",
      "Acc: 0.7532626427406199\n",
      "Precision: 0.5066869977462394\n",
      "Recall: 0.39223293689060323\n",
      "f1: 0.4418989245195576\n",
      "ROC AUC: 0.7148879576167566\n",
      "\n",
      "Model: DecisionTreeClassifier(max_depth=70, random_state=0)\n",
      "\n"
     ]
    },
    {
     "data": {
      "text/plain": [
       "array([[1963,  336],\n",
       "       [ 426,  341]], dtype=int64)"
      ]
     },
     "metadata": {},
     "output_type": "display_data"
    },
    {
     "name": "stdout",
     "output_type": "stream",
     "text": [
      "Cross Val:\n",
      "Acc: 0.7507340946166395\n",
      "Precision: 0.5005012799298109\n",
      "Recall: 0.4530418943533697\n",
      "f1: 0.4752864327073326\n",
      "ROC AUC: 0.7034561278942636\n",
      "\n",
      "Model: DecisionTreeClassifier(max_depth=75, random_state=0)\n",
      "\n"
     ]
    },
    {
     "data": {
      "text/plain": [
       "array([[1989,  310],\n",
       "       [ 452,  315]], dtype=int64)"
      ]
     },
     "metadata": {},
     "output_type": "display_data"
    },
    {
     "name": "stdout",
     "output_type": "stream",
     "text": [
      "Cross Val:\n",
      "Acc: 0.7532626427406199\n",
      "Precision: 0.5066869977462394\n",
      "Recall: 0.39223293689060323\n",
      "f1: 0.4418989245195576\n",
      "ROC AUC: 0.7148879576167566\n",
      "\n",
      "Model: DecisionTreeClassifier(max_depth=75, random_state=0)\n",
      "\n"
     ]
    },
    {
     "data": {
      "text/plain": [
       "array([[1963,  336],\n",
       "       [ 426,  341]], dtype=int64)"
      ]
     },
     "metadata": {},
     "output_type": "display_data"
    },
    {
     "name": "stdout",
     "output_type": "stream",
     "text": [
      "Cross Val:\n",
      "Acc: 0.7507340946166395\n",
      "Precision: 0.5005012799298109\n",
      "Recall: 0.4530418943533697\n",
      "f1: 0.4752864327073326\n",
      "ROC AUC: 0.7034561278942636\n",
      "\n",
      "Model: DecisionTreeClassifier(max_depth=80, random_state=0)\n",
      "\n"
     ]
    },
    {
     "data": {
      "text/plain": [
       "array([[1989,  310],\n",
       "       [ 452,  315]], dtype=int64)"
      ]
     },
     "metadata": {},
     "output_type": "display_data"
    },
    {
     "name": "stdout",
     "output_type": "stream",
     "text": [
      "Cross Val:\n",
      "Acc: 0.7532626427406199\n",
      "Precision: 0.5066869977462394\n",
      "Recall: 0.39223293689060323\n",
      "f1: 0.4418989245195576\n",
      "ROC AUC: 0.7148879576167566\n",
      "\n",
      "Model: DecisionTreeClassifier(max_depth=80, random_state=0)\n",
      "\n"
     ]
    },
    {
     "data": {
      "text/plain": [
       "array([[1963,  336],\n",
       "       [ 426,  341]], dtype=int64)"
      ]
     },
     "metadata": {},
     "output_type": "display_data"
    },
    {
     "name": "stdout",
     "output_type": "stream",
     "text": [
      "Cross Val:\n",
      "Acc: 0.7507340946166395\n",
      "Precision: 0.5005012799298109\n",
      "Recall: 0.4530418943533697\n",
      "f1: 0.4752864327073326\n",
      "ROC AUC: 0.7034561278942636\n",
      "\n",
      "Model: DecisionTreeClassifier(max_depth=85, random_state=0)\n",
      "\n"
     ]
    },
    {
     "data": {
      "text/plain": [
       "array([[1989,  310],\n",
       "       [ 452,  315]], dtype=int64)"
      ]
     },
     "metadata": {},
     "output_type": "display_data"
    },
    {
     "name": "stdout",
     "output_type": "stream",
     "text": [
      "Cross Val:\n",
      "Acc: 0.7532626427406199\n",
      "Precision: 0.5066869977462394\n",
      "Recall: 0.39223293689060323\n",
      "f1: 0.4418989245195576\n",
      "ROC AUC: 0.7148879576167566\n",
      "\n",
      "Model: DecisionTreeClassifier(max_depth=85, random_state=0)\n",
      "\n"
     ]
    },
    {
     "data": {
      "text/plain": [
       "array([[1963,  336],\n",
       "       [ 426,  341]], dtype=int64)"
      ]
     },
     "metadata": {},
     "output_type": "display_data"
    },
    {
     "name": "stdout",
     "output_type": "stream",
     "text": [
      "Cross Val:\n",
      "Acc: 0.7507340946166395\n",
      "Precision: 0.5005012799298109\n",
      "Recall: 0.4530418943533697\n",
      "f1: 0.4752864327073326\n",
      "ROC AUC: 0.7034561278942636\n",
      "\n",
      "Model: DecisionTreeClassifier(max_depth=90, random_state=0)\n",
      "\n"
     ]
    },
    {
     "data": {
      "text/plain": [
       "array([[1989,  310],\n",
       "       [ 452,  315]], dtype=int64)"
      ]
     },
     "metadata": {},
     "output_type": "display_data"
    },
    {
     "name": "stdout",
     "output_type": "stream",
     "text": [
      "Cross Val:\n",
      "Acc: 0.7532626427406199\n",
      "Precision: 0.5066869977462394\n",
      "Recall: 0.39223293689060323\n",
      "f1: 0.4418989245195576\n",
      "ROC AUC: 0.7148879576167566\n",
      "\n",
      "Model: DecisionTreeClassifier(max_depth=90, random_state=0)\n",
      "\n"
     ]
    },
    {
     "data": {
      "text/plain": [
       "array([[1963,  336],\n",
       "       [ 426,  341]], dtype=int64)"
      ]
     },
     "metadata": {},
     "output_type": "display_data"
    },
    {
     "name": "stdout",
     "output_type": "stream",
     "text": [
      "Cross Val:\n",
      "Acc: 0.7507340946166395\n",
      "Precision: 0.5005012799298109\n",
      "Recall: 0.4530418943533697\n",
      "f1: 0.4752864327073326\n",
      "ROC AUC: 0.7034561278942636\n",
      "\n",
      "Model: DecisionTreeClassifier(max_depth=95, random_state=0)\n",
      "\n"
     ]
    },
    {
     "data": {
      "text/plain": [
       "array([[1989,  310],\n",
       "       [ 452,  315]], dtype=int64)"
      ]
     },
     "metadata": {},
     "output_type": "display_data"
    },
    {
     "name": "stdout",
     "output_type": "stream",
     "text": [
      "Cross Val:\n",
      "Acc: 0.7532626427406199\n",
      "Precision: 0.5066869977462394\n",
      "Recall: 0.39223293689060323\n",
      "f1: 0.4418989245195576\n",
      "ROC AUC: 0.7148879576167566\n",
      "\n",
      "Model: DecisionTreeClassifier(max_depth=95, random_state=0)\n",
      "\n"
     ]
    },
    {
     "data": {
      "text/plain": [
       "array([[1963,  336],\n",
       "       [ 426,  341]], dtype=int64)"
      ]
     },
     "metadata": {},
     "output_type": "display_data"
    },
    {
     "name": "stdout",
     "output_type": "stream",
     "text": [
      "Cross Val:\n",
      "Acc: 0.7507340946166395\n",
      "Precision: 0.5005012799298109\n",
      "Recall: 0.4530418943533697\n",
      "f1: 0.4752864327073326\n",
      "ROC AUC: 0.7034561278942636\n",
      "\n",
      "Model: DecisionTreeClassifier(max_depth=5, random_state=0)\n",
      "\n"
     ]
    },
    {
     "data": {
      "text/plain": [
       "array([[2084,  180],\n",
       "       [ 486,  316]], dtype=int64)"
      ]
     },
     "metadata": {},
     "output_type": "display_data"
    },
    {
     "name": "stdout",
     "output_type": "stream",
     "text": [
      "Cross Val:\n",
      "Acc: 0.7827079934747145\n",
      "Precision: 0.58618268059779\n",
      "Recall: 0.4023637794243\n",
      "f1: 0.47652994062463644\n",
      "ROC AUC: 0.7700746349265645\n",
      "\n",
      "Model: DecisionTreeClassifier(max_depth=5, random_state=0)\n",
      "\n"
     ]
    },
    {
     "data": {
      "text/plain": [
       "array([[2080,  184],\n",
       "       [ 492,  310]], dtype=int64)"
      ]
     },
     "metadata": {},
     "output_type": "display_data"
    },
    {
     "name": "stdout",
     "output_type": "stream",
     "text": [
      "Cross Val:\n",
      "Acc: 0.784094616639478\n",
      "Precision: 0.5910575532939146\n",
      "Recall: 0.4023605009507573\n",
      "f1: 0.4781314081971706\n",
      "ROC AUC: 0.7738189157790597\n",
      "\n",
      "Model: DecisionTreeClassifier(max_depth=10, random_state=0)\n",
      "\n"
     ]
    },
    {
     "data": {
      "text/plain": [
       "array([[2055,  209],\n",
       "       [ 473,  329]], dtype=int64)"
      ]
     },
     "metadata": {},
     "output_type": "display_data"
    },
    {
     "name": "stdout",
     "output_type": "stream",
     "text": [
      "Cross Val:\n",
      "Acc: 0.7667210440456771\n",
      "Precision: 0.5359918216034243\n",
      "Recall: 0.40701156208336065\n",
      "f1: 0.462085908555109\n",
      "ROC AUC: 0.7466942406184212\n",
      "\n",
      "Model: DecisionTreeClassifier(max_depth=10, random_state=0)\n",
      "\n"
     ]
    },
    {
     "data": {
      "text/plain": [
       "array([[1995,  269],\n",
       "       [ 459,  343]], dtype=int64)"
      ]
     },
     "metadata": {},
     "output_type": "display_data"
    },
    {
     "name": "stdout",
     "output_type": "stream",
     "text": [
      "Cross Val:\n",
      "Acc: 0.7646818923327896\n",
      "Precision: 0.5279858106517044\n",
      "Recall: 0.4288298035101524\n",
      "f1: 0.4721795517370001\n",
      "ROC AUC: 0.7367384363982082\n",
      "\n",
      "Model: DecisionTreeClassifier(max_depth=15, random_state=0)\n",
      "\n"
     ]
    },
    {
     "data": {
      "text/plain": [
       "array([[2026,  238],\n",
       "       [ 493,  309]], dtype=int64)"
      ]
     },
     "metadata": {},
     "output_type": "display_data"
    },
    {
     "name": "stdout",
     "output_type": "stream",
     "text": [
      "Cross Val:\n",
      "Acc: 0.7535073409461666\n",
      "Precision: 0.5001462794923441\n",
      "Recall: 0.3745819946233034\n",
      "f1: 0.4279547421049972\n",
      "ROC AUC: 0.7111413104778757\n",
      "\n",
      "Model: DecisionTreeClassifier(max_depth=15, random_state=0)\n",
      "\n"
     ]
    },
    {
     "data": {
      "text/plain": [
       "array([[1947,  317],\n",
       "       [ 472,  330]], dtype=int64)"
      ]
     },
     "metadata": {},
     "output_type": "display_data"
    },
    {
     "name": "stdout",
     "output_type": "stream",
     "text": [
      "Cross Val:\n",
      "Acc: 0.7362969004893964\n",
      "Precision: 0.46159496971913117\n",
      "Recall: 0.41625904312285533\n",
      "f1: 0.43680830046136626\n",
      "ROC AUC: 0.6605764559190841\n",
      "\n",
      "Model: DecisionTreeClassifier(max_depth=20, random_state=0)\n",
      "\n"
     ]
    },
    {
     "data": {
      "text/plain": [
       "array([[2021,  243],\n",
       "       [ 492,  310]], dtype=int64)"
      ]
     },
     "metadata": {},
     "output_type": "display_data"
    },
    {
     "name": "stdout",
     "output_type": "stream",
     "text": [
      "Cross Val:\n",
      "Acc: 0.753588907014682\n",
      "Precision: 0.5002389811571144\n",
      "Recall: 0.3785489476099928\n",
      "f1: 0.4305496118249338\n",
      "ROC AUC: 0.7086127631921443\n",
      "\n",
      "Model: DecisionTreeClassifier(max_depth=20, random_state=0)\n",
      "\n"
     ]
    },
    {
     "data": {
      "text/plain": [
       "array([[1889,  375],\n",
       "       [ 480,  322]], dtype=int64)"
      ]
     },
     "metadata": {},
     "output_type": "display_data"
    },
    {
     "name": "stdout",
     "output_type": "stream",
     "text": [
      "Cross Val:\n",
      "Acc: 0.7145187601957586\n",
      "Precision: 0.41602776335696834\n",
      "Recall: 0.3927655017157345\n",
      "f1: 0.4037162001548255\n",
      "ROC AUC: 0.622669452665933\n",
      "\n",
      "Model: DecisionTreeClassifier(max_depth=25, random_state=0)\n",
      "\n"
     ]
    },
    {
     "data": {
      "text/plain": [
       "array([[2021,  243],\n",
       "       [ 491,  311]], dtype=int64)"
      ]
     },
     "metadata": {},
     "output_type": "display_data"
    },
    {
     "name": "stdout",
     "output_type": "stream",
     "text": [
      "Cross Val:\n",
      "Acc: 0.753588907014682\n",
      "Precision: 0.5002389811571144\n",
      "Recall: 0.3785489476099928\n",
      "f1: 0.4305496118249338\n",
      "ROC AUC: 0.7086127631921443\n",
      "\n",
      "Model: DecisionTreeClassifier(max_depth=25, random_state=0)\n",
      "\n"
     ]
    },
    {
     "data": {
      "text/plain": [
       "array([[1861,  403],\n",
       "       [ 487,  315]], dtype=int64)"
      ]
     },
     "metadata": {},
     "output_type": "display_data"
    },
    {
     "name": "stdout",
     "output_type": "stream",
     "text": [
      "Cross Val:\n",
      "Acc: 0.7030179445350735\n",
      "Precision: 0.3963378587306108\n",
      "Recall: 0.391120800821804\n",
      "f1: 0.3934637595248885\n",
      "ROC AUC: 0.6130946919981997\n",
      "\n",
      "Model: DecisionTreeClassifier(max_depth=30, random_state=0)\n",
      "\n"
     ]
    },
    {
     "data": {
      "text/plain": [
       "array([[2021,  243],\n",
       "       [ 491,  311]], dtype=int64)"
      ]
     },
     "metadata": {},
     "output_type": "display_data"
    },
    {
     "name": "stdout",
     "output_type": "stream",
     "text": [
      "Cross Val:\n",
      "Acc: 0.753588907014682\n",
      "Precision: 0.5002389811571144\n",
      "Recall: 0.3785489476099928\n",
      "f1: 0.4305496118249338\n",
      "ROC AUC: 0.7086127631921443\n",
      "\n",
      "Model: DecisionTreeClassifier(max_depth=30, random_state=0)\n",
      "\n"
     ]
    },
    {
     "data": {
      "text/plain": [
       "array([[1859,  405],\n",
       "       [ 490,  312]], dtype=int64)"
      ]
     },
     "metadata": {},
     "output_type": "display_data"
    },
    {
     "name": "stdout",
     "output_type": "stream",
     "text": [
      "Cross Val:\n",
      "Acc: 0.7028548123980423\n",
      "Precision: 0.39720542024052\n",
      "Recall: 0.3970646733547526\n",
      "f1: 0.39691757920082166\n",
      "ROC AUC: 0.6128392567441185\n",
      "\n",
      "Model: DecisionTreeClassifier(max_depth=35, random_state=0)\n",
      "\n"
     ]
    },
    {
     "data": {
      "text/plain": [
       "array([[2021,  243],\n",
       "       [ 491,  311]], dtype=int64)"
      ]
     },
     "metadata": {},
     "output_type": "display_data"
    },
    {
     "name": "stdout",
     "output_type": "stream",
     "text": [
      "Cross Val:\n",
      "Acc: 0.753588907014682\n",
      "Precision: 0.5002389811571144\n",
      "Recall: 0.3785489476099928\n",
      "f1: 0.4305496118249338\n",
      "ROC AUC: 0.7086127631921443\n",
      "\n",
      "Model: DecisionTreeClassifier(max_depth=35, random_state=0)\n",
      "\n"
     ]
    },
    {
     "data": {
      "text/plain": [
       "array([[1857,  407],\n",
       "       [ 479,  323]], dtype=int64)"
      ]
     },
     "metadata": {},
     "output_type": "display_data"
    },
    {
     "name": "stdout",
     "output_type": "stream",
     "text": [
      "Cross Val:\n",
      "Acc: 0.7020391517128873\n",
      "Precision: 0.3953514094913009\n",
      "Recall: 0.39475007103359344\n",
      "f1: 0.3948460756606768\n",
      "ROC AUC: 0.6099799660522647\n",
      "\n",
      "Model: DecisionTreeClassifier(max_depth=40, random_state=0)\n",
      "\n"
     ]
    },
    {
     "data": {
      "text/plain": [
       "array([[2021,  243],\n",
       "       [ 491,  311]], dtype=int64)"
      ]
     },
     "metadata": {},
     "output_type": "display_data"
    },
    {
     "name": "stdout",
     "output_type": "stream",
     "text": [
      "Cross Val:\n",
      "Acc: 0.753588907014682\n",
      "Precision: 0.5002389811571144\n",
      "Recall: 0.3785489476099928\n",
      "f1: 0.4305496118249338\n",
      "ROC AUC: 0.7086127631921443\n",
      "\n",
      "Model: DecisionTreeClassifier(max_depth=40, random_state=0)\n",
      "\n"
     ]
    },
    {
     "data": {
      "text/plain": [
       "array([[1857,  407],\n",
       "       [ 479,  323]], dtype=int64)"
      ]
     },
     "metadata": {},
     "output_type": "display_data"
    },
    {
     "name": "stdout",
     "output_type": "stream",
     "text": [
      "Cross Val:\n",
      "Acc: 0.7017944535073409\n",
      "Precision: 0.3949366135101834\n",
      "Recall: 0.3944200380302931\n",
      "f1: 0.39447988709589926\n",
      "ROC AUC: 0.6100530668397899\n",
      "\n",
      "Model: DecisionTreeClassifier(max_depth=45, random_state=0)\n",
      "\n"
     ]
    },
    {
     "data": {
      "text/plain": [
       "array([[2021,  243],\n",
       "       [ 491,  311]], dtype=int64)"
      ]
     },
     "metadata": {},
     "output_type": "display_data"
    },
    {
     "name": "stdout",
     "output_type": "stream",
     "text": [
      "Cross Val:\n",
      "Acc: 0.753588907014682\n",
      "Precision: 0.5002389811571144\n",
      "Recall: 0.3785489476099928\n",
      "f1: 0.4305496118249338\n",
      "ROC AUC: 0.7086127631921443\n",
      "\n",
      "Model: DecisionTreeClassifier(max_depth=45, random_state=0)\n",
      "\n"
     ]
    },
    {
     "data": {
      "text/plain": [
       "array([[1857,  407],\n",
       "       [ 479,  323]], dtype=int64)"
      ]
     },
     "metadata": {},
     "output_type": "display_data"
    },
    {
     "name": "stdout",
     "output_type": "stream",
     "text": [
      "Cross Val:\n",
      "Acc: 0.70163132137031\n",
      "Precision: 0.3949972666009282\n",
      "Recall: 0.39574454134155135\n",
      "f1: 0.39516154828671674\n",
      "ROC AUC: 0.6102781177270924\n",
      "\n",
      "Model: DecisionTreeClassifier(max_depth=50, random_state=0)\n",
      "\n"
     ]
    },
    {
     "data": {
      "text/plain": [
       "array([[2021,  243],\n",
       "       [ 491,  311]], dtype=int64)"
      ]
     },
     "metadata": {},
     "output_type": "display_data"
    },
    {
     "name": "stdout",
     "output_type": "stream",
     "text": [
      "Cross Val:\n",
      "Acc: 0.753588907014682\n",
      "Precision: 0.5002389811571144\n",
      "Recall: 0.3785489476099928\n",
      "f1: 0.4305496118249338\n",
      "ROC AUC: 0.7086127631921443\n",
      "\n",
      "Model: DecisionTreeClassifier(max_depth=50, random_state=0)\n",
      "\n"
     ]
    },
    {
     "data": {
      "text/plain": [
       "array([[1857,  407],\n",
       "       [ 479,  323]], dtype=int64)"
      ]
     },
     "metadata": {},
     "output_type": "display_data"
    },
    {
     "name": "stdout",
     "output_type": "stream",
     "text": [
      "Cross Val:\n",
      "Acc: 0.70163132137031\n",
      "Precision: 0.3949972666009282\n",
      "Recall: 0.39574454134155135\n",
      "f1: 0.39516154828671674\n",
      "ROC AUC: 0.6102781177270924\n",
      "\n",
      "Model: DecisionTreeClassifier(max_depth=55, random_state=0)\n",
      "\n"
     ]
    },
    {
     "data": {
      "text/plain": [
       "array([[2021,  243],\n",
       "       [ 491,  311]], dtype=int64)"
      ]
     },
     "metadata": {},
     "output_type": "display_data"
    },
    {
     "name": "stdout",
     "output_type": "stream",
     "text": [
      "Cross Val:\n",
      "Acc: 0.753588907014682\n",
      "Precision: 0.5002389811571144\n",
      "Recall: 0.3785489476099928\n",
      "f1: 0.4305496118249338\n",
      "ROC AUC: 0.7086127631921443\n",
      "\n",
      "Model: DecisionTreeClassifier(max_depth=55, random_state=0)\n",
      "\n"
     ]
    },
    {
     "data": {
      "text/plain": [
       "array([[1857,  407],\n",
       "       [ 479,  323]], dtype=int64)"
      ]
     },
     "metadata": {},
     "output_type": "display_data"
    },
    {
     "name": "stdout",
     "output_type": "stream",
     "text": [
      "Cross Val:\n",
      "Acc: 0.70163132137031\n",
      "Precision: 0.3949972666009282\n",
      "Recall: 0.39574454134155135\n",
      "f1: 0.39516154828671674\n",
      "ROC AUC: 0.6102781177270924\n",
      "\n",
      "Model: DecisionTreeClassifier(max_depth=60, random_state=0)\n",
      "\n"
     ]
    },
    {
     "data": {
      "text/plain": [
       "array([[2021,  243],\n",
       "       [ 491,  311]], dtype=int64)"
      ]
     },
     "metadata": {},
     "output_type": "display_data"
    },
    {
     "name": "stdout",
     "output_type": "stream",
     "text": [
      "Cross Val:\n",
      "Acc: 0.753588907014682\n",
      "Precision: 0.5002389811571144\n",
      "Recall: 0.3785489476099928\n",
      "f1: 0.4305496118249338\n",
      "ROC AUC: 0.7086127631921443\n",
      "\n",
      "Model: DecisionTreeClassifier(max_depth=60, random_state=0)\n",
      "\n"
     ]
    },
    {
     "data": {
      "text/plain": [
       "array([[1857,  407],\n",
       "       [ 479,  323]], dtype=int64)"
      ]
     },
     "metadata": {},
     "output_type": "display_data"
    },
    {
     "name": "stdout",
     "output_type": "stream",
     "text": [
      "Cross Val:\n",
      "Acc: 0.70163132137031\n",
      "Precision: 0.3949972666009282\n",
      "Recall: 0.39574454134155135\n",
      "f1: 0.39516154828671674\n",
      "ROC AUC: 0.6102781177270924\n",
      "\n",
      "Model: DecisionTreeClassifier(max_depth=65, random_state=0)\n",
      "\n"
     ]
    },
    {
     "data": {
      "text/plain": [
       "array([[2021,  243],\n",
       "       [ 491,  311]], dtype=int64)"
      ]
     },
     "metadata": {},
     "output_type": "display_data"
    },
    {
     "name": "stdout",
     "output_type": "stream",
     "text": [
      "Cross Val:\n",
      "Acc: 0.753588907014682\n",
      "Precision: 0.5002389811571144\n",
      "Recall: 0.3785489476099928\n",
      "f1: 0.4305496118249338\n",
      "ROC AUC: 0.7086127631921443\n",
      "\n",
      "Model: DecisionTreeClassifier(max_depth=65, random_state=0)\n",
      "\n"
     ]
    },
    {
     "data": {
      "text/plain": [
       "array([[1857,  407],\n",
       "       [ 479,  323]], dtype=int64)"
      ]
     },
     "metadata": {},
     "output_type": "display_data"
    },
    {
     "name": "stdout",
     "output_type": "stream",
     "text": [
      "Cross Val:\n",
      "Acc: 0.70163132137031\n",
      "Precision: 0.3949972666009282\n",
      "Recall: 0.39574454134155135\n",
      "f1: 0.39516154828671674\n",
      "ROC AUC: 0.6102781177270924\n",
      "\n",
      "Model: DecisionTreeClassifier(max_depth=70, random_state=0)\n",
      "\n"
     ]
    },
    {
     "data": {
      "text/plain": [
       "array([[2021,  243],\n",
       "       [ 491,  311]], dtype=int64)"
      ]
     },
     "metadata": {},
     "output_type": "display_data"
    },
    {
     "name": "stdout",
     "output_type": "stream",
     "text": [
      "Cross Val:\n",
      "Acc: 0.753588907014682\n",
      "Precision: 0.5002389811571144\n",
      "Recall: 0.3785489476099928\n",
      "f1: 0.4305496118249338\n",
      "ROC AUC: 0.7086127631921443\n",
      "\n",
      "Model: DecisionTreeClassifier(max_depth=70, random_state=0)\n",
      "\n"
     ]
    },
    {
     "data": {
      "text/plain": [
       "array([[1857,  407],\n",
       "       [ 479,  323]], dtype=int64)"
      ]
     },
     "metadata": {},
     "output_type": "display_data"
    },
    {
     "name": "stdout",
     "output_type": "stream",
     "text": [
      "Cross Val:\n",
      "Acc: 0.70163132137031\n",
      "Precision: 0.3949972666009282\n",
      "Recall: 0.39574454134155135\n",
      "f1: 0.39516154828671674\n",
      "ROC AUC: 0.6102781177270924\n",
      "\n",
      "Model: DecisionTreeClassifier(max_depth=75, random_state=0)\n",
      "\n"
     ]
    },
    {
     "data": {
      "text/plain": [
       "array([[2021,  243],\n",
       "       [ 491,  311]], dtype=int64)"
      ]
     },
     "metadata": {},
     "output_type": "display_data"
    },
    {
     "name": "stdout",
     "output_type": "stream",
     "text": [
      "Cross Val:\n",
      "Acc: 0.753588907014682\n",
      "Precision: 0.5002389811571144\n",
      "Recall: 0.3785489476099928\n",
      "f1: 0.4305496118249338\n",
      "ROC AUC: 0.7086127631921443\n",
      "\n",
      "Model: DecisionTreeClassifier(max_depth=75, random_state=0)\n",
      "\n"
     ]
    },
    {
     "data": {
      "text/plain": [
       "array([[1857,  407],\n",
       "       [ 479,  323]], dtype=int64)"
      ]
     },
     "metadata": {},
     "output_type": "display_data"
    },
    {
     "name": "stdout",
     "output_type": "stream",
     "text": [
      "Cross Val:\n",
      "Acc: 0.70163132137031\n",
      "Precision: 0.3949972666009282\n",
      "Recall: 0.39574454134155135\n",
      "f1: 0.39516154828671674\n",
      "ROC AUC: 0.6102781177270924\n",
      "\n",
      "Model: DecisionTreeClassifier(max_depth=80, random_state=0)\n",
      "\n"
     ]
    },
    {
     "data": {
      "text/plain": [
       "array([[2021,  243],\n",
       "       [ 491,  311]], dtype=int64)"
      ]
     },
     "metadata": {},
     "output_type": "display_data"
    },
    {
     "name": "stdout",
     "output_type": "stream",
     "text": [
      "Cross Val:\n",
      "Acc: 0.753588907014682\n",
      "Precision: 0.5002389811571144\n",
      "Recall: 0.3785489476099928\n",
      "f1: 0.4305496118249338\n",
      "ROC AUC: 0.7086127631921443\n",
      "\n",
      "Model: DecisionTreeClassifier(max_depth=80, random_state=0)\n",
      "\n"
     ]
    },
    {
     "data": {
      "text/plain": [
       "array([[1857,  407],\n",
       "       [ 479,  323]], dtype=int64)"
      ]
     },
     "metadata": {},
     "output_type": "display_data"
    },
    {
     "name": "stdout",
     "output_type": "stream",
     "text": [
      "Cross Val:\n",
      "Acc: 0.70163132137031\n",
      "Precision: 0.3949972666009282\n",
      "Recall: 0.39574454134155135\n",
      "f1: 0.39516154828671674\n",
      "ROC AUC: 0.6102781177270924\n",
      "\n",
      "Model: DecisionTreeClassifier(max_depth=85, random_state=0)\n",
      "\n"
     ]
    },
    {
     "data": {
      "text/plain": [
       "array([[2021,  243],\n",
       "       [ 491,  311]], dtype=int64)"
      ]
     },
     "metadata": {},
     "output_type": "display_data"
    },
    {
     "name": "stdout",
     "output_type": "stream",
     "text": [
      "Cross Val:\n",
      "Acc: 0.753588907014682\n",
      "Precision: 0.5002389811571144\n",
      "Recall: 0.3785489476099928\n",
      "f1: 0.4305496118249338\n",
      "ROC AUC: 0.7086127631921443\n",
      "\n",
      "Model: DecisionTreeClassifier(max_depth=85, random_state=0)\n",
      "\n"
     ]
    },
    {
     "data": {
      "text/plain": [
       "array([[1857,  407],\n",
       "       [ 479,  323]], dtype=int64)"
      ]
     },
     "metadata": {},
     "output_type": "display_data"
    },
    {
     "name": "stdout",
     "output_type": "stream",
     "text": [
      "Cross Val:\n",
      "Acc: 0.70163132137031\n",
      "Precision: 0.3949972666009282\n",
      "Recall: 0.39574454134155135\n",
      "f1: 0.39516154828671674\n",
      "ROC AUC: 0.6102781177270924\n",
      "\n",
      "Model: DecisionTreeClassifier(max_depth=90, random_state=0)\n",
      "\n"
     ]
    },
    {
     "data": {
      "text/plain": [
       "array([[2021,  243],\n",
       "       [ 491,  311]], dtype=int64)"
      ]
     },
     "metadata": {},
     "output_type": "display_data"
    },
    {
     "name": "stdout",
     "output_type": "stream",
     "text": [
      "Cross Val:\n",
      "Acc: 0.753588907014682\n",
      "Precision: 0.5002389811571144\n",
      "Recall: 0.3785489476099928\n",
      "f1: 0.4305496118249338\n",
      "ROC AUC: 0.7086127631921443\n",
      "\n",
      "Model: DecisionTreeClassifier(max_depth=90, random_state=0)\n",
      "\n"
     ]
    },
    {
     "data": {
      "text/plain": [
       "array([[1857,  407],\n",
       "       [ 479,  323]], dtype=int64)"
      ]
     },
     "metadata": {},
     "output_type": "display_data"
    },
    {
     "name": "stdout",
     "output_type": "stream",
     "text": [
      "Cross Val:\n",
      "Acc: 0.70163132137031\n",
      "Precision: 0.3949972666009282\n",
      "Recall: 0.39574454134155135\n",
      "f1: 0.39516154828671674\n",
      "ROC AUC: 0.6102781177270924\n",
      "\n",
      "Model: DecisionTreeClassifier(max_depth=95, random_state=0)\n",
      "\n"
     ]
    },
    {
     "data": {
      "text/plain": [
       "array([[2021,  243],\n",
       "       [ 491,  311]], dtype=int64)"
      ]
     },
     "metadata": {},
     "output_type": "display_data"
    },
    {
     "name": "stdout",
     "output_type": "stream",
     "text": [
      "Cross Val:\n",
      "Acc: 0.753588907014682\n",
      "Precision: 0.5002389811571144\n",
      "Recall: 0.3785489476099928\n",
      "f1: 0.4305496118249338\n",
      "ROC AUC: 0.7086127631921443\n",
      "\n",
      "Model: DecisionTreeClassifier(max_depth=95, random_state=0)\n",
      "\n"
     ]
    },
    {
     "data": {
      "text/plain": [
       "array([[1857,  407],\n",
       "       [ 479,  323]], dtype=int64)"
      ]
     },
     "metadata": {},
     "output_type": "display_data"
    },
    {
     "name": "stdout",
     "output_type": "stream",
     "text": [
      "Cross Val:\n",
      "Acc: 0.70163132137031\n",
      "Precision: 0.3949972666009282\n",
      "Recall: 0.39574454134155135\n",
      "f1: 0.39516154828671674\n",
      "ROC AUC: 0.6102781177270924\n",
      "\n",
      "Model: DecisionTreeClassifier(max_depth=5, random_state=0)\n",
      "\n"
     ]
    },
    {
     "data": {
      "text/plain": [
       "array([[2082,  206],\n",
       "       [ 460,  318]], dtype=int64)"
      ]
     },
     "metadata": {},
     "output_type": "display_data"
    },
    {
     "name": "stdout",
     "output_type": "stream",
     "text": [
      "Cross Val:\n",
      "Acc: 0.782137030995106\n",
      "Precision: 0.5884360168643945\n",
      "Recall: 0.4093949525452977\n",
      "f1: 0.4823162487610409\n",
      "ROC AUC: 0.7654937075097388\n",
      "\n",
      "Model: DecisionTreeClassifier(max_depth=5, random_state=0)\n",
      "\n"
     ]
    },
    {
     "data": {
      "text/plain": [
       "array([[2085,  203],\n",
       "       [ 472,  306]], dtype=int64)"
      ]
     },
     "metadata": {},
     "output_type": "display_data"
    },
    {
     "name": "stdout",
     "output_type": "stream",
     "text": [
      "Cross Val:\n",
      "Acc: 0.783768352365416\n",
      "Precision: 0.5961570759676089\n",
      "Recall: 0.4011798964624676\n",
      "f1: 0.4791102714882204\n",
      "ROC AUC: 0.7746469742186814\n",
      "\n",
      "Model: DecisionTreeClassifier(max_depth=10, random_state=0)\n",
      "\n"
     ]
    },
    {
     "data": {
      "text/plain": [
       "array([[2003,  285],\n",
       "       [ 437,  341]], dtype=int64)"
      ]
     },
     "metadata": {},
     "output_type": "display_data"
    },
    {
     "name": "stdout",
     "output_type": "stream",
     "text": [
      "Cross Val:\n",
      "Acc: 0.7627243066884176\n",
      "Precision: 0.5279852672433385\n",
      "Recall: 0.421192838654012\n",
      "f1: 0.46744503804190546\n",
      "ROC AUC: 0.7316333091994807\n",
      "\n",
      "Model: DecisionTreeClassifier(max_depth=10, random_state=0)\n",
      "\n"
     ]
    },
    {
     "data": {
      "text/plain": [
       "array([[1993,  295],\n",
       "       [ 384,  394]], dtype=int64)"
      ]
     },
     "metadata": {},
     "output_type": "display_data"
    },
    {
     "name": "stdout",
     "output_type": "stream",
     "text": [
      "Cross Val:\n",
      "Acc: 0.771288743882545\n",
      "Precision: 0.543944652353822\n",
      "Recall: 0.49309965487489216\n",
      "f1: 0.5165599602177326\n",
      "ROC AUC: 0.758977872577824\n",
      "\n",
      "Model: DecisionTreeClassifier(max_depth=15, random_state=0)\n",
      "\n"
     ]
    },
    {
     "data": {
      "text/plain": [
       "array([[1971,  317],\n",
       "       [ 482,  296]], dtype=int64)"
      ]
     },
     "metadata": {},
     "output_type": "display_data"
    },
    {
     "name": "stdout",
     "output_type": "stream",
     "text": [
      "Cross Val:\n",
      "Acc: 0.7311582381729201\n",
      "Precision: 0.4537754641724712\n",
      "Recall: 0.40677415875754963\n",
      "f1: 0.4287387035764431\n",
      "ROC AUC: 0.6581287506023119\n",
      "\n",
      "Model: DecisionTreeClassifier(max_depth=15, random_state=0)\n",
      "\n"
     ]
    },
    {
     "data": {
      "text/plain": [
       "array([[1939,  349],\n",
       "       [ 411,  367]], dtype=int64)"
      ]
     },
     "metadata": {},
     "output_type": "display_data"
    },
    {
     "name": "stdout",
     "output_type": "stream",
     "text": [
      "Cross Val:\n",
      "Acc: 0.7615008156606852\n",
      "Precision: 0.5213811764442196\n",
      "Recall: 0.4829281708369284\n",
      "f1: 0.5012948748757877\n",
      "ROC AUC: 0.7178207696943354\n",
      "\n",
      "Model: DecisionTreeClassifier(max_depth=20, random_state=0)\n",
      "\n"
     ]
    },
    {
     "data": {
      "text/plain": [
       "array([[1903,  385],\n",
       "       [ 479,  299]], dtype=int64)"
      ]
     },
     "metadata": {},
     "output_type": "display_data"
    },
    {
     "name": "stdout",
     "output_type": "stream",
     "text": [
      "Cross Val:\n",
      "Acc: 0.7051386623164764\n",
      "Precision: 0.40531343474418496\n",
      "Recall: 0.398213977566868\n",
      "f1: 0.40146743198416246\n",
      "ROC AUC: 0.618545691938339\n",
      "\n",
      "Model: DecisionTreeClassifier(max_depth=20, random_state=0)\n",
      "\n"
     ]
    },
    {
     "data": {
      "text/plain": [
       "array([[1916,  372],\n",
       "       [ 408,  370]], dtype=int64)"
      ]
     },
     "metadata": {},
     "output_type": "display_data"
    },
    {
     "name": "stdout",
     "output_type": "stream",
     "text": [
      "Cross Val:\n",
      "Acc: 0.750326264274062\n",
      "Precision: 0.49743188552381906\n",
      "Recall: 0.4458315358067299\n",
      "f1: 0.47007783610398785\n",
      "ROC AUC: 0.701459643233201\n",
      "\n",
      "Model: DecisionTreeClassifier(max_depth=25, random_state=0)\n",
      "\n"
     ]
    },
    {
     "data": {
      "text/plain": [
       "array([[1867,  421],\n",
       "       [ 476,  302]], dtype=int64)"
      ]
     },
     "metadata": {},
     "output_type": "display_data"
    },
    {
     "name": "stdout",
     "output_type": "stream",
     "text": [
      "Cross Val:\n",
      "Acc: 0.700815660685155\n",
      "Precision: 0.39860845521117066\n",
      "Recall: 0.39985008628127694\n",
      "f1: 0.3989654961039938\n",
      "ROC AUC: 0.6106984246167554\n",
      "\n",
      "Model: DecisionTreeClassifier(max_depth=25, random_state=0)\n",
      "\n"
     ]
    },
    {
     "data": {
      "text/plain": [
       "array([[1917,  371],\n",
       "       [ 402,  376]], dtype=int64)"
      ]
     },
     "metadata": {},
     "output_type": "display_data"
    },
    {
     "name": "stdout",
     "output_type": "stream",
     "text": [
      "Cross Val:\n",
      "Acc: 0.7495106035889071\n",
      "Precision: 0.4954553974840987\n",
      "Recall: 0.444851164797239\n",
      "f1: 0.46868566643453596\n",
      "ROC AUC: 0.7012970201864995\n",
      "\n",
      "Model: DecisionTreeClassifier(max_depth=30, random_state=0)\n",
      "\n"
     ]
    },
    {
     "data": {
      "text/plain": [
       "array([[1859,  429],\n",
       "       [ 475,  303]], dtype=int64)"
      ]
     },
     "metadata": {},
     "output_type": "display_data"
    },
    {
     "name": "stdout",
     "output_type": "stream",
     "text": [
      "Cross Val:\n",
      "Acc: 0.6995921696574225\n",
      "Precision: 0.3963408831408933\n",
      "Recall: 0.39984577221742884\n",
      "f1: 0.39793103900569615\n",
      "ROC AUC: 0.6088860750030535\n",
      "\n",
      "Model: DecisionTreeClassifier(max_depth=30, random_state=0)\n",
      "\n"
     ]
    },
    {
     "data": {
      "text/plain": [
       "array([[1916,  372],\n",
       "       [ 401,  377]], dtype=int64)"
      ]
     },
     "metadata": {},
     "output_type": "display_data"
    },
    {
     "name": "stdout",
     "output_type": "stream",
     "text": [
      "Cross Val:\n",
      "Acc: 0.7488580750407831\n",
      "Precision: 0.49401559126479544\n",
      "Recall: 0.4448479292493529\n",
      "f1: 0.46805976393703635\n",
      "ROC AUC: 0.7006865249339949\n",
      "\n",
      "Model: DecisionTreeClassifier(max_depth=35, random_state=0)\n",
      "\n"
     ]
    },
    {
     "data": {
      "text/plain": [
       "array([[1865,  423],\n",
       "       [ 479,  299]], dtype=int64)"
      ]
     },
     "metadata": {},
     "output_type": "display_data"
    },
    {
     "name": "stdout",
     "output_type": "stream",
     "text": [
      "Cross Val:\n",
      "Acc: 0.6984502446982055\n",
      "Precision: 0.39427207915692153\n",
      "Recall: 0.39820858498705786\n",
      "f1: 0.39606071637462015\n",
      "ROC AUC: 0.6076485194198075\n",
      "\n",
      "Model: DecisionTreeClassifier(max_depth=35, random_state=0)\n",
      "\n"
     ]
    },
    {
     "data": {
      "text/plain": [
       "array([[1916,  372],\n",
       "       [ 401,  377]], dtype=int64)"
      ]
     },
     "metadata": {},
     "output_type": "display_data"
    },
    {
     "name": "stdout",
     "output_type": "stream",
     "text": [
      "Cross Val:\n",
      "Acc: 0.7488580750407831\n",
      "Precision: 0.49401559126479544\n",
      "Recall: 0.4448479292493529\n",
      "f1: 0.46805976393703635\n",
      "ROC AUC: 0.7006865249339949\n",
      "\n",
      "Model: DecisionTreeClassifier(max_depth=40, random_state=0)\n",
      "\n"
     ]
    },
    {
     "data": {
      "text/plain": [
       "array([[1865,  423],\n",
       "       [ 479,  299]], dtype=int64)"
      ]
     },
     "metadata": {},
     "output_type": "display_data"
    },
    {
     "name": "stdout",
     "output_type": "stream",
     "text": [
      "Cross Val:\n",
      "Acc: 0.6982055464926591\n",
      "Precision: 0.3936316624637366\n",
      "Recall: 0.3968927955133736\n",
      "f1: 0.3950723221213846\n",
      "ROC AUC: 0.60687533267521\n",
      "\n",
      "Model: DecisionTreeClassifier(max_depth=40, random_state=0)\n",
      "\n"
     ]
    },
    {
     "data": {
      "text/plain": [
       "array([[1916,  372],\n",
       "       [ 401,  377]], dtype=int64)"
      ]
     },
     "metadata": {},
     "output_type": "display_data"
    },
    {
     "name": "stdout",
     "output_type": "stream",
     "text": [
      "Cross Val:\n",
      "Acc: 0.7488580750407831\n",
      "Precision: 0.49401559126479544\n",
      "Recall: 0.4448479292493529\n",
      "f1: 0.46805976393703635\n",
      "ROC AUC: 0.7006865249339949\n",
      "\n",
      "Model: DecisionTreeClassifier(max_depth=45, random_state=0)\n",
      "\n"
     ]
    },
    {
     "data": {
      "text/plain": [
       "array([[1865,  423],\n",
       "       [ 479,  299]], dtype=int64)"
      ]
     },
     "metadata": {},
     "output_type": "display_data"
    },
    {
     "name": "stdout",
     "output_type": "stream",
     "text": [
      "Cross Val:\n",
      "Acc: 0.6982055464926591\n",
      "Precision: 0.3936316624637366\n",
      "Recall: 0.3968927955133736\n",
      "f1: 0.3950723221213846\n",
      "ROC AUC: 0.60687533267521\n",
      "\n",
      "Model: DecisionTreeClassifier(max_depth=45, random_state=0)\n",
      "\n"
     ]
    },
    {
     "data": {
      "text/plain": [
       "array([[1916,  372],\n",
       "       [ 401,  377]], dtype=int64)"
      ]
     },
     "metadata": {},
     "output_type": "display_data"
    },
    {
     "name": "stdout",
     "output_type": "stream",
     "text": [
      "Cross Val:\n",
      "Acc: 0.7488580750407831\n",
      "Precision: 0.49401559126479544\n",
      "Recall: 0.4448479292493529\n",
      "f1: 0.46805976393703635\n",
      "ROC AUC: 0.7006865249339949\n",
      "\n",
      "Model: DecisionTreeClassifier(max_depth=50, random_state=0)\n",
      "\n"
     ]
    },
    {
     "data": {
      "text/plain": [
       "array([[1865,  423],\n",
       "       [ 479,  299]], dtype=int64)"
      ]
     },
     "metadata": {},
     "output_type": "display_data"
    },
    {
     "name": "stdout",
     "output_type": "stream",
     "text": [
      "Cross Val:\n",
      "Acc: 0.6982055464926591\n",
      "Precision: 0.3936316624637366\n",
      "Recall: 0.3968927955133736\n",
      "f1: 0.3950723221213846\n",
      "ROC AUC: 0.60687533267521\n",
      "\n",
      "Model: DecisionTreeClassifier(max_depth=50, random_state=0)\n",
      "\n"
     ]
    },
    {
     "data": {
      "text/plain": [
       "array([[1916,  372],\n",
       "       [ 401,  377]], dtype=int64)"
      ]
     },
     "metadata": {},
     "output_type": "display_data"
    },
    {
     "name": "stdout",
     "output_type": "stream",
     "text": [
      "Cross Val:\n",
      "Acc: 0.7488580750407831\n",
      "Precision: 0.49401559126479544\n",
      "Recall: 0.4448479292493529\n",
      "f1: 0.46805976393703635\n",
      "ROC AUC: 0.7006865249339949\n",
      "\n",
      "Model: DecisionTreeClassifier(max_depth=55, random_state=0)\n",
      "\n"
     ]
    },
    {
     "data": {
      "text/plain": [
       "array([[1865,  423],\n",
       "       [ 479,  299]], dtype=int64)"
      ]
     },
     "metadata": {},
     "output_type": "display_data"
    },
    {
     "name": "stdout",
     "output_type": "stream",
     "text": [
      "Cross Val:\n",
      "Acc: 0.6982055464926591\n",
      "Precision: 0.3936316624637366\n",
      "Recall: 0.3968927955133736\n",
      "f1: 0.3950723221213846\n",
      "ROC AUC: 0.60687533267521\n",
      "\n",
      "Model: DecisionTreeClassifier(max_depth=55, random_state=0)\n",
      "\n"
     ]
    },
    {
     "data": {
      "text/plain": [
       "array([[1916,  372],\n",
       "       [ 401,  377]], dtype=int64)"
      ]
     },
     "metadata": {},
     "output_type": "display_data"
    },
    {
     "name": "stdout",
     "output_type": "stream",
     "text": [
      "Cross Val:\n",
      "Acc: 0.7488580750407831\n",
      "Precision: 0.49401559126479544\n",
      "Recall: 0.4448479292493529\n",
      "f1: 0.46805976393703635\n",
      "ROC AUC: 0.7006865249339949\n",
      "\n",
      "Model: DecisionTreeClassifier(max_depth=60, random_state=0)\n",
      "\n"
     ]
    },
    {
     "data": {
      "text/plain": [
       "array([[1865,  423],\n",
       "       [ 479,  299]], dtype=int64)"
      ]
     },
     "metadata": {},
     "output_type": "display_data"
    },
    {
     "name": "stdout",
     "output_type": "stream",
     "text": [
      "Cross Val:\n",
      "Acc: 0.6982055464926591\n",
      "Precision: 0.3936316624637366\n",
      "Recall: 0.3968927955133736\n",
      "f1: 0.3950723221213846\n",
      "ROC AUC: 0.60687533267521\n",
      "\n",
      "Model: DecisionTreeClassifier(max_depth=60, random_state=0)\n",
      "\n"
     ]
    },
    {
     "data": {
      "text/plain": [
       "array([[1916,  372],\n",
       "       [ 401,  377]], dtype=int64)"
      ]
     },
     "metadata": {},
     "output_type": "display_data"
    },
    {
     "name": "stdout",
     "output_type": "stream",
     "text": [
      "Cross Val:\n",
      "Acc: 0.7488580750407831\n",
      "Precision: 0.49401559126479544\n",
      "Recall: 0.4448479292493529\n",
      "f1: 0.46805976393703635\n",
      "ROC AUC: 0.7006865249339949\n",
      "\n",
      "Model: DecisionTreeClassifier(max_depth=65, random_state=0)\n",
      "\n"
     ]
    },
    {
     "data": {
      "text/plain": [
       "array([[1865,  423],\n",
       "       [ 479,  299]], dtype=int64)"
      ]
     },
     "metadata": {},
     "output_type": "display_data"
    },
    {
     "name": "stdout",
     "output_type": "stream",
     "text": [
      "Cross Val:\n",
      "Acc: 0.6982055464926591\n",
      "Precision: 0.3936316624637366\n",
      "Recall: 0.3968927955133736\n",
      "f1: 0.3950723221213846\n",
      "ROC AUC: 0.60687533267521\n",
      "\n",
      "Model: DecisionTreeClassifier(max_depth=65, random_state=0)\n",
      "\n"
     ]
    },
    {
     "data": {
      "text/plain": [
       "array([[1916,  372],\n",
       "       [ 401,  377]], dtype=int64)"
      ]
     },
     "metadata": {},
     "output_type": "display_data"
    },
    {
     "name": "stdout",
     "output_type": "stream",
     "text": [
      "Cross Val:\n",
      "Acc: 0.7488580750407831\n",
      "Precision: 0.49401559126479544\n",
      "Recall: 0.4448479292493529\n",
      "f1: 0.46805976393703635\n",
      "ROC AUC: 0.7006865249339949\n",
      "\n",
      "Model: DecisionTreeClassifier(max_depth=70, random_state=0)\n",
      "\n"
     ]
    },
    {
     "data": {
      "text/plain": [
       "array([[1865,  423],\n",
       "       [ 479,  299]], dtype=int64)"
      ]
     },
     "metadata": {},
     "output_type": "display_data"
    },
    {
     "name": "stdout",
     "output_type": "stream",
     "text": [
      "Cross Val:\n",
      "Acc: 0.6982055464926591\n",
      "Precision: 0.3936316624637366\n",
      "Recall: 0.3968927955133736\n",
      "f1: 0.3950723221213846\n",
      "ROC AUC: 0.60687533267521\n",
      "\n",
      "Model: DecisionTreeClassifier(max_depth=70, random_state=0)\n",
      "\n"
     ]
    },
    {
     "data": {
      "text/plain": [
       "array([[1916,  372],\n",
       "       [ 401,  377]], dtype=int64)"
      ]
     },
     "metadata": {},
     "output_type": "display_data"
    },
    {
     "name": "stdout",
     "output_type": "stream",
     "text": [
      "Cross Val:\n",
      "Acc: 0.7488580750407831\n",
      "Precision: 0.49401559126479544\n",
      "Recall: 0.4448479292493529\n",
      "f1: 0.46805976393703635\n",
      "ROC AUC: 0.7006865249339949\n",
      "\n",
      "Model: DecisionTreeClassifier(max_depth=75, random_state=0)\n",
      "\n"
     ]
    },
    {
     "data": {
      "text/plain": [
       "array([[1865,  423],\n",
       "       [ 479,  299]], dtype=int64)"
      ]
     },
     "metadata": {},
     "output_type": "display_data"
    },
    {
     "name": "stdout",
     "output_type": "stream",
     "text": [
      "Cross Val:\n",
      "Acc: 0.6982055464926591\n",
      "Precision: 0.3936316624637366\n",
      "Recall: 0.3968927955133736\n",
      "f1: 0.3950723221213846\n",
      "ROC AUC: 0.60687533267521\n",
      "\n",
      "Model: DecisionTreeClassifier(max_depth=75, random_state=0)\n",
      "\n"
     ]
    },
    {
     "data": {
      "text/plain": [
       "array([[1916,  372],\n",
       "       [ 401,  377]], dtype=int64)"
      ]
     },
     "metadata": {},
     "output_type": "display_data"
    },
    {
     "name": "stdout",
     "output_type": "stream",
     "text": [
      "Cross Val:\n",
      "Acc: 0.7488580750407831\n",
      "Precision: 0.49401559126479544\n",
      "Recall: 0.4448479292493529\n",
      "f1: 0.46805976393703635\n",
      "ROC AUC: 0.7006865249339949\n",
      "\n",
      "Model: DecisionTreeClassifier(max_depth=80, random_state=0)\n",
      "\n"
     ]
    },
    {
     "data": {
      "text/plain": [
       "array([[1865,  423],\n",
       "       [ 479,  299]], dtype=int64)"
      ]
     },
     "metadata": {},
     "output_type": "display_data"
    },
    {
     "name": "stdout",
     "output_type": "stream",
     "text": [
      "Cross Val:\n",
      "Acc: 0.6982055464926591\n",
      "Precision: 0.3936316624637366\n",
      "Recall: 0.3968927955133736\n",
      "f1: 0.3950723221213846\n",
      "ROC AUC: 0.60687533267521\n",
      "\n",
      "Model: DecisionTreeClassifier(max_depth=80, random_state=0)\n",
      "\n"
     ]
    },
    {
     "data": {
      "text/plain": [
       "array([[1916,  372],\n",
       "       [ 401,  377]], dtype=int64)"
      ]
     },
     "metadata": {},
     "output_type": "display_data"
    },
    {
     "name": "stdout",
     "output_type": "stream",
     "text": [
      "Cross Val:\n",
      "Acc: 0.7488580750407831\n",
      "Precision: 0.49401559126479544\n",
      "Recall: 0.4448479292493529\n",
      "f1: 0.46805976393703635\n",
      "ROC AUC: 0.7006865249339949\n",
      "\n",
      "Model: DecisionTreeClassifier(max_depth=85, random_state=0)\n",
      "\n"
     ]
    },
    {
     "data": {
      "text/plain": [
       "array([[1865,  423],\n",
       "       [ 479,  299]], dtype=int64)"
      ]
     },
     "metadata": {},
     "output_type": "display_data"
    },
    {
     "name": "stdout",
     "output_type": "stream",
     "text": [
      "Cross Val:\n",
      "Acc: 0.6982055464926591\n",
      "Precision: 0.3936316624637366\n",
      "Recall: 0.3968927955133736\n",
      "f1: 0.3950723221213846\n",
      "ROC AUC: 0.60687533267521\n",
      "\n",
      "Model: DecisionTreeClassifier(max_depth=85, random_state=0)\n",
      "\n"
     ]
    },
    {
     "data": {
      "text/plain": [
       "array([[1916,  372],\n",
       "       [ 401,  377]], dtype=int64)"
      ]
     },
     "metadata": {},
     "output_type": "display_data"
    },
    {
     "name": "stdout",
     "output_type": "stream",
     "text": [
      "Cross Val:\n",
      "Acc: 0.7488580750407831\n",
      "Precision: 0.49401559126479544\n",
      "Recall: 0.4448479292493529\n",
      "f1: 0.46805976393703635\n",
      "ROC AUC: 0.7006865249339949\n",
      "\n",
      "Model: DecisionTreeClassifier(max_depth=90, random_state=0)\n",
      "\n"
     ]
    },
    {
     "data": {
      "text/plain": [
       "array([[1865,  423],\n",
       "       [ 479,  299]], dtype=int64)"
      ]
     },
     "metadata": {},
     "output_type": "display_data"
    },
    {
     "name": "stdout",
     "output_type": "stream",
     "text": [
      "Cross Val:\n",
      "Acc: 0.6982055464926591\n",
      "Precision: 0.3936316624637366\n",
      "Recall: 0.3968927955133736\n",
      "f1: 0.3950723221213846\n",
      "ROC AUC: 0.60687533267521\n",
      "\n",
      "Model: DecisionTreeClassifier(max_depth=90, random_state=0)\n",
      "\n"
     ]
    },
    {
     "data": {
      "text/plain": [
       "array([[1916,  372],\n",
       "       [ 401,  377]], dtype=int64)"
      ]
     },
     "metadata": {},
     "output_type": "display_data"
    },
    {
     "name": "stdout",
     "output_type": "stream",
     "text": [
      "Cross Val:\n",
      "Acc: 0.7488580750407831\n",
      "Precision: 0.49401559126479544\n",
      "Recall: 0.4448479292493529\n",
      "f1: 0.46805976393703635\n",
      "ROC AUC: 0.7006865249339949\n",
      "\n",
      "Model: DecisionTreeClassifier(max_depth=95, random_state=0)\n",
      "\n"
     ]
    },
    {
     "data": {
      "text/plain": [
       "array([[1865,  423],\n",
       "       [ 479,  299]], dtype=int64)"
      ]
     },
     "metadata": {},
     "output_type": "display_data"
    },
    {
     "name": "stdout",
     "output_type": "stream",
     "text": [
      "Cross Val:\n",
      "Acc: 0.6982055464926591\n",
      "Precision: 0.3936316624637366\n",
      "Recall: 0.3968927955133736\n",
      "f1: 0.3950723221213846\n",
      "ROC AUC: 0.60687533267521\n",
      "\n",
      "Model: DecisionTreeClassifier(max_depth=95, random_state=0)\n",
      "\n"
     ]
    },
    {
     "data": {
      "text/plain": [
       "array([[1916,  372],\n",
       "       [ 401,  377]], dtype=int64)"
      ]
     },
     "metadata": {},
     "output_type": "display_data"
    },
    {
     "name": "stdout",
     "output_type": "stream",
     "text": [
      "Cross Val:\n",
      "Acc: 0.7488580750407831\n",
      "Precision: 0.49401559126479544\n",
      "Recall: 0.4448479292493529\n",
      "f1: 0.46805976393703635\n",
      "ROC AUC: 0.7006865249339949\n",
      "\n",
      "Model: DecisionTreeClassifier(max_depth=5, random_state=0)\n",
      "\n"
     ]
    },
    {
     "data": {
      "text/plain": [
       "array([[2117,  173],\n",
       "       [ 473,  303]], dtype=int64)"
      ]
     },
     "metadata": {},
     "output_type": "display_data"
    },
    {
     "name": "stdout",
     "output_type": "stream",
     "text": [
      "Cross Val:\n",
      "Acc: 0.7793637846655791\n",
      "Precision: 0.5851873608148879\n",
      "Recall: 0.3871365401207938\n",
      "f1: 0.46551544482987756\n",
      "ROC AUC: 0.7285005320211098\n",
      "\n",
      "Model: DecisionTreeClassifier(max_depth=5, random_state=0)\n",
      "\n"
     ]
    },
    {
     "data": {
      "text/plain": [
       "array([[2126,  164],\n",
       "       [ 500,  276]], dtype=int64)"
      ]
     },
     "metadata": {},
     "output_type": "display_data"
    },
    {
     "name": "stdout",
     "output_type": "stream",
     "text": [
      "Cross Val:\n",
      "Acc: 0.7825448613376834\n",
      "Precision: 0.5978726557249282\n",
      "Recall: 0.3858229076790336\n",
      "f1: 0.46875081198507546\n",
      "ROC AUC: 0.7667766376942826\n",
      "\n",
      "Model: DecisionTreeClassifier(max_depth=10, random_state=0)\n",
      "\n"
     ]
    },
    {
     "data": {
      "text/plain": [
       "array([[2058,  232],\n",
       "       [ 463,  313]], dtype=int64)"
      ]
     },
     "metadata": {},
     "output_type": "display_data"
    },
    {
     "name": "stdout",
     "output_type": "stream",
     "text": [
      "Cross Val:\n",
      "Acc: 0.7597063621533442\n",
      "Precision: 0.5236402243407701\n",
      "Recall: 0.3657819240724763\n",
      "f1: 0.4303006155326175\n",
      "ROC AUC: 0.6784392907093713\n",
      "\n",
      "Model: DecisionTreeClassifier(max_depth=10, random_state=0)\n",
      "\n"
     ]
    },
    {
     "data": {
      "text/plain": [
       "array([[1994,  296],\n",
       "       [ 371,  405]], dtype=int64)"
      ]
     },
     "metadata": {},
     "output_type": "display_data"
    },
    {
     "name": "stdout",
     "output_type": "stream",
     "text": [
      "Cross Val:\n",
      "Acc: 0.7708809135399675\n",
      "Precision: 0.5431474930678422\n",
      "Recall: 0.49867666091458157\n",
      "f1: 0.5191724041462502\n",
      "ROC AUC: 0.7503973623655216\n",
      "\n",
      "Model: DecisionTreeClassifier(max_depth=15, random_state=0)\n",
      "\n"
     ]
    },
    {
     "data": {
      "text/plain": [
       "array([[2017,  273],\n",
       "       [ 511,  265]], dtype=int64)"
      ]
     },
     "metadata": {},
     "output_type": "display_data"
    },
    {
     "name": "stdout",
     "output_type": "stream",
     "text": [
      "Cross Val:\n",
      "Acc: 0.7250407830342578\n",
      "Precision: 0.4341643780363144\n",
      "Recall: 0.34217428817946505\n",
      "f1: 0.3823270818651442\n",
      "ROC AUC: 0.6083242083529352\n",
      "\n",
      "Model: DecisionTreeClassifier(max_depth=15, random_state=0)\n",
      "\n"
     ]
    },
    {
     "data": {
      "text/plain": [
       "array([[1948,  342],\n",
       "       [ 412,  364]], dtype=int64)"
      ]
     },
     "metadata": {},
     "output_type": "display_data"
    },
    {
     "name": "stdout",
     "output_type": "stream",
     "text": [
      "Cross Val:\n",
      "Acc: 0.7508972267536704\n",
      "Precision: 0.49906011279362933\n",
      "Recall: 0.48753559102674726\n",
      "f1: 0.4927610702416871\n",
      "ROC AUC: 0.6978088255265159\n",
      "\n",
      "Model: DecisionTreeClassifier(max_depth=20, random_state=0)\n",
      "\n"
     ]
    },
    {
     "data": {
      "text/plain": [
       "array([[1921,  369],\n",
       "       [ 499,  277]], dtype=int64)"
      ]
     },
     "metadata": {},
     "output_type": "display_data"
    },
    {
     "name": "stdout",
     "output_type": "stream",
     "text": [
      "Cross Val:\n",
      "Acc: 0.6934747145187602\n",
      "Precision: 0.37113499566144775\n",
      "Recall: 0.3349590163934426\n",
      "f1: 0.3518757801630267\n",
      "ROC AUC: 0.5807874329542022\n",
      "\n",
      "Model: DecisionTreeClassifier(max_depth=20, random_state=0)\n",
      "\n"
     ]
    },
    {
     "data": {
      "text/plain": [
       "array([[1922,  368],\n",
       "       [ 415,  361]], dtype=int64)"
      ]
     },
     "metadata": {},
     "output_type": "display_data"
    },
    {
     "name": "stdout",
     "output_type": "stream",
     "text": [
      "Cross Val:\n",
      "Acc: 0.733278955954323\n",
      "Precision: 0.46159648395592096\n",
      "Recall: 0.4383272217428818\n",
      "f1: 0.44934542973266245\n",
      "ROC AUC: 0.6756142393474875\n",
      "\n",
      "Model: DecisionTreeClassifier(max_depth=25, random_state=0)\n",
      "\n"
     ]
    },
    {
     "data": {
      "text/plain": [
       "array([[1877,  413],\n",
       "       [ 497,  279]], dtype=int64)"
      ]
     },
     "metadata": {},
     "output_type": "display_data"
    },
    {
     "name": "stdout",
     "output_type": "stream",
     "text": [
      "Cross Val:\n",
      "Acc: 0.6841761827079935\n",
      "Precision: 0.3593722758688704\n",
      "Recall: 0.3444736842105264\n",
      "f1: 0.35166153973527475\n",
      "ROC AUC: 0.5802663507191851\n",
      "\n",
      "Model: DecisionTreeClassifier(max_depth=25, random_state=0)\n",
      "\n"
     ]
    },
    {
     "data": {
      "text/plain": [
       "array([[1911,  379],\n",
       "       [ 421,  355]], dtype=int64)"
      ]
     },
     "metadata": {},
     "output_type": "display_data"
    },
    {
     "name": "stdout",
     "output_type": "stream",
     "text": [
      "Cross Val:\n",
      "Acc: 0.7324632952691681\n",
      "Precision: 0.46013205268246693\n",
      "Recall: 0.4393075927523727\n",
      "f1: 0.4491220199813835\n",
      "ROC AUC: 0.6756030621674929\n",
      "\n",
      "Model: DecisionTreeClassifier(max_depth=30, random_state=0)\n",
      "\n"
     ]
    },
    {
     "data": {
      "text/plain": [
       "array([[1884,  406],\n",
       "       [ 497,  279]], dtype=int64)"
      ]
     },
     "metadata": {},
     "output_type": "display_data"
    },
    {
     "name": "stdout",
     "output_type": "stream",
     "text": [
      "Cross Val:\n",
      "Acc: 0.6840946166394779\n",
      "Precision: 0.36031833499032945\n",
      "Recall: 0.34906600517687664\n",
      "f1: 0.35455636441981786\n",
      "ROC AUC: 0.5822188283388555\n",
      "\n",
      "Model: DecisionTreeClassifier(max_depth=30, random_state=0)\n",
      "\n"
     ]
    },
    {
     "data": {
      "text/plain": [
       "array([[1902,  388],\n",
       "       [ 421,  355]], dtype=int64)"
      ]
     },
     "metadata": {},
     "output_type": "display_data"
    },
    {
     "name": "stdout",
     "output_type": "stream",
     "text": [
      "Cross Val:\n",
      "Acc: 0.7315660685154975\n",
      "Precision: 0.45836801031707053\n",
      "Recall: 0.43865185504745463\n",
      "f1: 0.44800202838112624\n",
      "ROC AUC: 0.6750105246638792\n",
      "\n",
      "Model: DecisionTreeClassifier(max_depth=35, random_state=0)\n",
      "\n"
     ]
    },
    {
     "data": {
      "text/plain": [
       "array([[1868,  422],\n",
       "       [ 496,  280]], dtype=int64)"
      ]
     },
     "metadata": {},
     "output_type": "display_data"
    },
    {
     "name": "stdout",
     "output_type": "stream",
     "text": [
      "Cross Val:\n",
      "Acc: 0.6836052202283849\n",
      "Precision: 0.359266511869634\n",
      "Recall: 0.3474266609145816\n",
      "f1: 0.3531674583479815\n",
      "ROC AUC: 0.5813274648450603\n",
      "\n",
      "Model: DecisionTreeClassifier(max_depth=35, random_state=0)\n",
      "\n"
     ]
    },
    {
     "data": {
      "text/plain": [
       "array([[1901,  389],\n",
       "       [ 426,  350]], dtype=int64)"
      ]
     },
     "metadata": {},
     "output_type": "display_data"
    },
    {
     "name": "stdout",
     "output_type": "stream",
     "text": [
      "Cross Val:\n",
      "Acc: 0.7315660685154975\n",
      "Precision: 0.45836801031707053\n",
      "Recall: 0.43865185504745463\n",
      "f1: 0.44800202838112624\n",
      "ROC AUC: 0.6750105246638792\n",
      "\n",
      "Model: DecisionTreeClassifier(max_depth=40, random_state=0)\n",
      "\n"
     ]
    },
    {
     "data": {
      "text/plain": [
       "array([[1868,  422],\n",
       "       [ 496,  280]], dtype=int64)"
      ]
     },
     "metadata": {},
     "output_type": "display_data"
    },
    {
     "name": "stdout",
     "output_type": "stream",
     "text": [
      "Cross Val:\n",
      "Acc: 0.683768352365416\n",
      "Precision: 0.35940072142165175\n",
      "Recall: 0.3470987920621225\n",
      "f1: 0.353062106296543\n",
      "ROC AUC: 0.5813967053356175\n",
      "\n",
      "Model: DecisionTreeClassifier(max_depth=40, random_state=0)\n",
      "\n"
     ]
    },
    {
     "data": {
      "text/plain": [
       "array([[1901,  389],\n",
       "       [ 426,  350]], dtype=int64)"
      ]
     },
     "metadata": {},
     "output_type": "display_data"
    },
    {
     "name": "stdout",
     "output_type": "stream",
     "text": [
      "Cross Val:\n",
      "Acc: 0.7315660685154975\n",
      "Precision: 0.45836801031707053\n",
      "Recall: 0.43865185504745463\n",
      "f1: 0.44800202838112624\n",
      "ROC AUC: 0.6750105246638792\n",
      "\n",
      "Model: DecisionTreeClassifier(max_depth=45, random_state=0)\n",
      "\n"
     ]
    },
    {
     "data": {
      "text/plain": [
       "array([[1868,  422],\n",
       "       [ 496,  280]], dtype=int64)"
      ]
     },
     "metadata": {},
     "output_type": "display_data"
    },
    {
     "name": "stdout",
     "output_type": "stream",
     "text": [
      "Cross Val:\n",
      "Acc: 0.683768352365416\n",
      "Precision: 0.35940072142165175\n",
      "Recall: 0.3470987920621225\n",
      "f1: 0.353062106296543\n",
      "ROC AUC: 0.5813967053356175\n",
      "\n",
      "Model: DecisionTreeClassifier(max_depth=45, random_state=0)\n",
      "\n"
     ]
    },
    {
     "data": {
      "text/plain": [
       "array([[1901,  389],\n",
       "       [ 426,  350]], dtype=int64)"
      ]
     },
     "metadata": {},
     "output_type": "display_data"
    },
    {
     "name": "stdout",
     "output_type": "stream",
     "text": [
      "Cross Val:\n",
      "Acc: 0.7315660685154975\n",
      "Precision: 0.45836801031707053\n",
      "Recall: 0.43865185504745463\n",
      "f1: 0.44800202838112624\n",
      "ROC AUC: 0.6750105246638792\n",
      "\n",
      "Model: DecisionTreeClassifier(max_depth=50, random_state=0)\n",
      "\n"
     ]
    },
    {
     "data": {
      "text/plain": [
       "array([[1868,  422],\n",
       "       [ 496,  280]], dtype=int64)"
      ]
     },
     "metadata": {},
     "output_type": "display_data"
    },
    {
     "name": "stdout",
     "output_type": "stream",
     "text": [
      "Cross Val:\n",
      "Acc: 0.683768352365416\n",
      "Precision: 0.35940072142165175\n",
      "Recall: 0.3470987920621225\n",
      "f1: 0.353062106296543\n",
      "ROC AUC: 0.5813967053356175\n",
      "\n",
      "Model: DecisionTreeClassifier(max_depth=50, random_state=0)\n",
      "\n"
     ]
    },
    {
     "data": {
      "text/plain": [
       "array([[1901,  389],\n",
       "       [ 426,  350]], dtype=int64)"
      ]
     },
     "metadata": {},
     "output_type": "display_data"
    },
    {
     "name": "stdout",
     "output_type": "stream",
     "text": [
      "Cross Val:\n",
      "Acc: 0.7315660685154975\n",
      "Precision: 0.45836801031707053\n",
      "Recall: 0.43865185504745463\n",
      "f1: 0.44800202838112624\n",
      "ROC AUC: 0.6750105246638792\n",
      "\n",
      "Model: DecisionTreeClassifier(max_depth=55, random_state=0)\n",
      "\n"
     ]
    },
    {
     "data": {
      "text/plain": [
       "array([[1868,  422],\n",
       "       [ 496,  280]], dtype=int64)"
      ]
     },
     "metadata": {},
     "output_type": "display_data"
    },
    {
     "name": "stdout",
     "output_type": "stream",
     "text": [
      "Cross Val:\n",
      "Acc: 0.683768352365416\n",
      "Precision: 0.35940072142165175\n",
      "Recall: 0.3470987920621225\n",
      "f1: 0.353062106296543\n",
      "ROC AUC: 0.5813967053356175\n",
      "\n",
      "Model: DecisionTreeClassifier(max_depth=55, random_state=0)\n",
      "\n"
     ]
    },
    {
     "data": {
      "text/plain": [
       "array([[1901,  389],\n",
       "       [ 426,  350]], dtype=int64)"
      ]
     },
     "metadata": {},
     "output_type": "display_data"
    },
    {
     "name": "stdout",
     "output_type": "stream",
     "text": [
      "Cross Val:\n",
      "Acc: 0.7315660685154975\n",
      "Precision: 0.45836801031707053\n",
      "Recall: 0.43865185504745463\n",
      "f1: 0.44800202838112624\n",
      "ROC AUC: 0.6750105246638792\n",
      "\n",
      "Model: DecisionTreeClassifier(max_depth=60, random_state=0)\n",
      "\n"
     ]
    },
    {
     "data": {
      "text/plain": [
       "array([[1868,  422],\n",
       "       [ 496,  280]], dtype=int64)"
      ]
     },
     "metadata": {},
     "output_type": "display_data"
    },
    {
     "name": "stdout",
     "output_type": "stream",
     "text": [
      "Cross Val:\n",
      "Acc: 0.683768352365416\n",
      "Precision: 0.35940072142165175\n",
      "Recall: 0.3470987920621225\n",
      "f1: 0.353062106296543\n",
      "ROC AUC: 0.5813967053356175\n",
      "\n",
      "Model: DecisionTreeClassifier(max_depth=60, random_state=0)\n",
      "\n"
     ]
    },
    {
     "data": {
      "text/plain": [
       "array([[1901,  389],\n",
       "       [ 426,  350]], dtype=int64)"
      ]
     },
     "metadata": {},
     "output_type": "display_data"
    },
    {
     "name": "stdout",
     "output_type": "stream",
     "text": [
      "Cross Val:\n",
      "Acc: 0.7315660685154975\n",
      "Precision: 0.45836801031707053\n",
      "Recall: 0.43865185504745463\n",
      "f1: 0.44800202838112624\n",
      "ROC AUC: 0.6750105246638792\n",
      "\n",
      "Model: DecisionTreeClassifier(max_depth=65, random_state=0)\n",
      "\n"
     ]
    },
    {
     "data": {
      "text/plain": [
       "array([[1868,  422],\n",
       "       [ 496,  280]], dtype=int64)"
      ]
     },
     "metadata": {},
     "output_type": "display_data"
    },
    {
     "name": "stdout",
     "output_type": "stream",
     "text": [
      "Cross Val:\n",
      "Acc: 0.683768352365416\n",
      "Precision: 0.35940072142165175\n",
      "Recall: 0.3470987920621225\n",
      "f1: 0.353062106296543\n",
      "ROC AUC: 0.5813967053356175\n",
      "\n",
      "Model: DecisionTreeClassifier(max_depth=65, random_state=0)\n",
      "\n"
     ]
    },
    {
     "data": {
      "text/plain": [
       "array([[1901,  389],\n",
       "       [ 426,  350]], dtype=int64)"
      ]
     },
     "metadata": {},
     "output_type": "display_data"
    },
    {
     "name": "stdout",
     "output_type": "stream",
     "text": [
      "Cross Val:\n",
      "Acc: 0.7315660685154975\n",
      "Precision: 0.45836801031707053\n",
      "Recall: 0.43865185504745463\n",
      "f1: 0.44800202838112624\n",
      "ROC AUC: 0.6750105246638792\n",
      "\n",
      "Model: DecisionTreeClassifier(max_depth=70, random_state=0)\n",
      "\n"
     ]
    },
    {
     "data": {
      "text/plain": [
       "array([[1868,  422],\n",
       "       [ 496,  280]], dtype=int64)"
      ]
     },
     "metadata": {},
     "output_type": "display_data"
    },
    {
     "name": "stdout",
     "output_type": "stream",
     "text": [
      "Cross Val:\n",
      "Acc: 0.683768352365416\n",
      "Precision: 0.35940072142165175\n",
      "Recall: 0.3470987920621225\n",
      "f1: 0.353062106296543\n",
      "ROC AUC: 0.5813967053356175\n",
      "\n",
      "Model: DecisionTreeClassifier(max_depth=70, random_state=0)\n",
      "\n"
     ]
    },
    {
     "data": {
      "text/plain": [
       "array([[1901,  389],\n",
       "       [ 426,  350]], dtype=int64)"
      ]
     },
     "metadata": {},
     "output_type": "display_data"
    },
    {
     "name": "stdout",
     "output_type": "stream",
     "text": [
      "Cross Val:\n",
      "Acc: 0.7315660685154975\n",
      "Precision: 0.45836801031707053\n",
      "Recall: 0.43865185504745463\n",
      "f1: 0.44800202838112624\n",
      "ROC AUC: 0.6750105246638792\n",
      "\n",
      "Model: DecisionTreeClassifier(max_depth=75, random_state=0)\n",
      "\n"
     ]
    },
    {
     "data": {
      "text/plain": [
       "array([[1868,  422],\n",
       "       [ 496,  280]], dtype=int64)"
      ]
     },
     "metadata": {},
     "output_type": "display_data"
    },
    {
     "name": "stdout",
     "output_type": "stream",
     "text": [
      "Cross Val:\n",
      "Acc: 0.683768352365416\n",
      "Precision: 0.35940072142165175\n",
      "Recall: 0.3470987920621225\n",
      "f1: 0.353062106296543\n",
      "ROC AUC: 0.5813967053356175\n",
      "\n",
      "Model: DecisionTreeClassifier(max_depth=75, random_state=0)\n",
      "\n"
     ]
    },
    {
     "data": {
      "text/plain": [
       "array([[1901,  389],\n",
       "       [ 426,  350]], dtype=int64)"
      ]
     },
     "metadata": {},
     "output_type": "display_data"
    },
    {
     "name": "stdout",
     "output_type": "stream",
     "text": [
      "Cross Val:\n",
      "Acc: 0.7315660685154975\n",
      "Precision: 0.45836801031707053\n",
      "Recall: 0.43865185504745463\n",
      "f1: 0.44800202838112624\n",
      "ROC AUC: 0.6750105246638792\n",
      "\n",
      "Model: DecisionTreeClassifier(max_depth=80, random_state=0)\n",
      "\n"
     ]
    },
    {
     "data": {
      "text/plain": [
       "array([[1868,  422],\n",
       "       [ 496,  280]], dtype=int64)"
      ]
     },
     "metadata": {},
     "output_type": "display_data"
    },
    {
     "name": "stdout",
     "output_type": "stream",
     "text": [
      "Cross Val:\n",
      "Acc: 0.683768352365416\n",
      "Precision: 0.35940072142165175\n",
      "Recall: 0.3470987920621225\n",
      "f1: 0.353062106296543\n",
      "ROC AUC: 0.5813967053356175\n",
      "\n",
      "Model: DecisionTreeClassifier(max_depth=80, random_state=0)\n",
      "\n"
     ]
    },
    {
     "data": {
      "text/plain": [
       "array([[1901,  389],\n",
       "       [ 426,  350]], dtype=int64)"
      ]
     },
     "metadata": {},
     "output_type": "display_data"
    },
    {
     "name": "stdout",
     "output_type": "stream",
     "text": [
      "Cross Val:\n",
      "Acc: 0.7315660685154975\n",
      "Precision: 0.45836801031707053\n",
      "Recall: 0.43865185504745463\n",
      "f1: 0.44800202838112624\n",
      "ROC AUC: 0.6750105246638792\n",
      "\n",
      "Model: DecisionTreeClassifier(max_depth=85, random_state=0)\n",
      "\n"
     ]
    },
    {
     "data": {
      "text/plain": [
       "array([[1868,  422],\n",
       "       [ 496,  280]], dtype=int64)"
      ]
     },
     "metadata": {},
     "output_type": "display_data"
    },
    {
     "name": "stdout",
     "output_type": "stream",
     "text": [
      "Cross Val:\n",
      "Acc: 0.683768352365416\n",
      "Precision: 0.35940072142165175\n",
      "Recall: 0.3470987920621225\n",
      "f1: 0.353062106296543\n",
      "ROC AUC: 0.5813967053356175\n",
      "\n",
      "Model: DecisionTreeClassifier(max_depth=85, random_state=0)\n",
      "\n"
     ]
    },
    {
     "data": {
      "text/plain": [
       "array([[1901,  389],\n",
       "       [ 426,  350]], dtype=int64)"
      ]
     },
     "metadata": {},
     "output_type": "display_data"
    },
    {
     "name": "stdout",
     "output_type": "stream",
     "text": [
      "Cross Val:\n",
      "Acc: 0.7315660685154975\n",
      "Precision: 0.45836801031707053\n",
      "Recall: 0.43865185504745463\n",
      "f1: 0.44800202838112624\n",
      "ROC AUC: 0.6750105246638792\n",
      "\n",
      "Model: DecisionTreeClassifier(max_depth=90, random_state=0)\n",
      "\n"
     ]
    },
    {
     "data": {
      "text/plain": [
       "array([[1868,  422],\n",
       "       [ 496,  280]], dtype=int64)"
      ]
     },
     "metadata": {},
     "output_type": "display_data"
    },
    {
     "name": "stdout",
     "output_type": "stream",
     "text": [
      "Cross Val:\n",
      "Acc: 0.683768352365416\n",
      "Precision: 0.35940072142165175\n",
      "Recall: 0.3470987920621225\n",
      "f1: 0.353062106296543\n",
      "ROC AUC: 0.5813967053356175\n",
      "\n",
      "Model: DecisionTreeClassifier(max_depth=90, random_state=0)\n",
      "\n"
     ]
    },
    {
     "data": {
      "text/plain": [
       "array([[1901,  389],\n",
       "       [ 426,  350]], dtype=int64)"
      ]
     },
     "metadata": {},
     "output_type": "display_data"
    },
    {
     "name": "stdout",
     "output_type": "stream",
     "text": [
      "Cross Val:\n",
      "Acc: 0.7315660685154975\n",
      "Precision: 0.45836801031707053\n",
      "Recall: 0.43865185504745463\n",
      "f1: 0.44800202838112624\n",
      "ROC AUC: 0.6750105246638792\n",
      "\n",
      "Model: DecisionTreeClassifier(max_depth=95, random_state=0)\n",
      "\n"
     ]
    },
    {
     "data": {
      "text/plain": [
       "array([[1868,  422],\n",
       "       [ 496,  280]], dtype=int64)"
      ]
     },
     "metadata": {},
     "output_type": "display_data"
    },
    {
     "name": "stdout",
     "output_type": "stream",
     "text": [
      "Cross Val:\n",
      "Acc: 0.683768352365416\n",
      "Precision: 0.35940072142165175\n",
      "Recall: 0.3470987920621225\n",
      "f1: 0.353062106296543\n",
      "ROC AUC: 0.5813967053356175\n",
      "\n",
      "Model: DecisionTreeClassifier(max_depth=95, random_state=0)\n",
      "\n"
     ]
    },
    {
     "data": {
      "text/plain": [
       "array([[1901,  389],\n",
       "       [ 426,  350]], dtype=int64)"
      ]
     },
     "metadata": {},
     "output_type": "display_data"
    },
    {
     "name": "stdout",
     "output_type": "stream",
     "text": [
      "Cross Val:\n",
      "Acc: 0.7315660685154975\n",
      "Precision: 0.45836801031707053\n",
      "Recall: 0.43865185504745463\n",
      "f1: 0.44800202838112624\n",
      "ROC AUC: 0.6750105246638792\n",
      "((0.5609569109187434, 'GaussianNB() set = chi k = 17'), 'scale: True', 'normalize:True')\n",
      "((0.5730844958319649, 'GaussianNB() set = mic k = 23'), 'scale: True', 'normalize:True')\n",
      "((0.5781474680480874, 'GaussianNB() set = chi k = 17'), 'scale: False', 'normalize:False')\n",
      "((0.5819471143282539, 'ExtraTreeClassifier(max_depth=10, random_state=0) set = mic k = 10'), 'scale: True', 'normalize:True')\n",
      "((0.5979601155618705, 'DecisionTreeClassifier(max_depth=5, random_state=0) set = chi k = 7'), 'scale: True', 'normalize:True')\n",
      "((0.619504957502011, 'DecisionTreeClassifier(max_depth=10, random_state=0) set = mic k = 10'), 'scale: True', 'normalize:True')\n"
     ]
    }
   ],
   "source": [
    "for scale in [True,False]:\n",
    "    for normalize in [True,False]:\n",
    "                     \n",
    "        #Extracting and Cleaning Data\n",
    "        data_cleaned = Data_Cleaning(pd.read_csv('z_train.csv'), \n",
    "                                     scale = scale, \n",
    "                                     normalize = normalize)\n",
    "        \n",
    "        #Train, Test Split\n",
    "        X = data_cleaned.drop(['target','enrollee_id'], axis = 1) \n",
    "        y = data_cleaned['target']\n",
    "        X_train, X_test, y_train, y_test = train_test_split(X, y, \n",
    "                                                            test_size=0.2)\n",
    "\n",
    "        X_train_fs_chi, X_test_fs_chi = select_features(X_train, y_train, X_test, \n",
    "                                                        chi2, \n",
    "                                                        k = 7)\n",
    "        X_train_fs_mic, X_test_fs_mic = select_features(X_train, y_train, X_test, \n",
    "                                                        mutual_info_classif, \n",
    "                                                        k = 10)\n",
    "             \n",
    "        for max_depth in np.arange(5,100,5):\n",
    "            a = ModelTest(DecisionTreeClassifier(max_depth=max_depth,\n",
    "                                                random_state=0), #Model    \n",
    "                          X_train = X_train_fs_chi, X_test = X_test_fs_chi,\n",
    "                          y_train = y_train, y_test = y_test,\n",
    "                          typ = 'chi',\n",
    "                          k = 7)\n",
    "            metricss.append((a, \"scale: \" + str(scale), \"normalize:\" + str(normalize)))\n",
    "\n",
    "            a = ModelTest(DecisionTreeClassifier(max_depth=max_depth,\n",
    "                                                random_state=0), #Model          \n",
    "                          X_train = X_train_fs_mic, X_test = X_test_fs_mic,  #Best\n",
    "                          y_train = y_train, y_test = y_test,\n",
    "                          typ = 'mic',\n",
    "                          k = 10\n",
    "                         \n",
    "                         \n",
    "                         \n",
    "                         \n",
    "                         )\n",
    "            metricss.append((a, \"scale: \" + str(scale), \"normalize:\" + str(normalize)))\n",
    "temp = 0.001\n",
    "for metric in metricss:\n",
    "    if metric[0][0] > temp:\n",
    "        print(metric)\n",
    "        temp = metric[0][0]  "
   ]
  },
  {
   "cell_type": "code",
   "execution_count": 32,
   "metadata": {},
   "outputs": [
    {
     "name": "stdout",
     "output_type": "stream",
     "text": [
      "\n",
      "Model: RandomForestClassifier(max_depth=5, random_state=0)\n",
      "\n"
     ]
    },
    {
     "data": {
      "text/plain": [
       "array([[2061,  211],\n",
       "       [ 486,  308]], dtype=int64)"
      ]
     },
     "metadata": {},
     "output_type": "display_data"
    },
    {
     "name": "stdout",
     "output_type": "stream",
     "text": [
      "Cross Val:\n",
      "Acc: 0.7864600326264274\n",
      "Precision: 0.6012363208699469\n",
      "Recall: 0.40858085808580863\n",
      "f1: 0.48582272822141304\n",
      "ROC AUC: 0.7830499626344\n",
      "\n",
      "Model: RandomForestClassifier(max_depth=5, random_state=0)\n",
      "\n"
     ]
    },
    {
     "data": {
      "text/plain": [
       "array([[2063,  209],\n",
       "       [ 482,  312]], dtype=int64)"
      ]
     },
     "metadata": {},
     "output_type": "display_data"
    },
    {
     "name": "stdout",
     "output_type": "stream",
     "text": [
      "Cross Val:\n",
      "Acc: 0.7860522022838499\n",
      "Precision: 0.599606370370592\n",
      "Recall: 0.4092409240924092\n",
      "f1: 0.48558308274466055\n",
      "ROC AUC: 0.7899130758146236\n",
      "\n",
      "Model: RandomForestClassifier(max_depth=10, random_state=0)\n",
      "\n"
     ]
    },
    {
     "data": {
      "text/plain": [
       "array([[2047,  225],\n",
       "       [ 504,  290]], dtype=int64)"
      ]
     },
     "metadata": {},
     "output_type": "display_data"
    },
    {
     "name": "stdout",
     "output_type": "stream",
     "text": [
      "Cross Val:\n",
      "Acc: 0.7790375203915172\n",
      "Precision: 0.578454307159659\n",
      "Recall: 0.3930693069306931\n",
      "f1: 0.46759232785579885\n",
      "ROC AUC: 0.7822842360075661\n",
      "\n",
      "Model: RandomForestClassifier(max_depth=10, random_state=0)\n",
      "\n"
     ]
    },
    {
     "data": {
      "text/plain": [
       "array([[2046,  226],\n",
       "       [ 485,  309]], dtype=int64)"
      ]
     },
     "metadata": {},
     "output_type": "display_data"
    },
    {
     "name": "stdout",
     "output_type": "stream",
     "text": [
      "Cross Val:\n",
      "Acc: 0.7859706362153345\n",
      "Precision: 0.5949784212470084\n",
      "Recall: 0.4231023102310232\n",
      "f1: 0.4936260813180022\n",
      "ROC AUC: 0.7944657791889698\n",
      "\n",
      "Model: RandomForestClassifier(max_depth=15, random_state=0)\n",
      "\n"
     ]
    },
    {
     "data": {
      "text/plain": [
       "array([[1986,  286],\n",
       "       [ 502,  292]], dtype=int64)"
      ]
     },
     "metadata": {},
     "output_type": "display_data"
    },
    {
     "name": "stdout",
     "output_type": "stream",
     "text": [
      "Cross Val:\n",
      "Acc: 0.7659869494290374\n",
      "Precision: 0.5339012397954849\n",
      "Recall: 0.42838283828382845\n",
      "f1: 0.474596222844253\n",
      "ROC AUC: 0.7557684262467417\n",
      "\n",
      "Model: RandomForestClassifier(max_depth=15, random_state=0)\n",
      "\n"
     ]
    },
    {
     "data": {
      "text/plain": [
       "array([[1991,  281],\n",
       "       [ 462,  332]], dtype=int64)"
      ]
     },
     "metadata": {},
     "output_type": "display_data"
    },
    {
     "name": "stdout",
     "output_type": "stream",
     "text": [
      "Cross Val:\n",
      "Acc: 0.7799347471451876\n",
      "Precision: 0.5675063731553396\n",
      "Recall: 0.46006600660066005\n",
      "f1: 0.5079417694809635\n",
      "ROC AUC: 0.7766275489954195\n",
      "\n",
      "Model: RandomForestClassifier(max_depth=20, random_state=0)\n",
      "\n"
     ]
    },
    {
     "data": {
      "text/plain": [
       "array([[1982,  290],\n",
       "       [ 502,  292]], dtype=int64)"
      ]
     },
     "metadata": {},
     "output_type": "display_data"
    },
    {
     "name": "stdout",
     "output_type": "stream",
     "text": [
      "Cross Val:\n",
      "Acc: 0.7632952691680261\n",
      "Precision: 0.526857532286387\n",
      "Recall: 0.43168316831683173\n",
      "f1: 0.47382445280967084\n",
      "ROC AUC: 0.7504221061326068\n",
      "\n",
      "Model: RandomForestClassifier(max_depth=20, random_state=0)\n",
      "\n"
     ]
    },
    {
     "data": {
      "text/plain": [
       "array([[1957,  315],\n",
       "       [ 454,  340]], dtype=int64)"
      ]
     },
     "metadata": {},
     "output_type": "display_data"
    },
    {
     "name": "stdout",
     "output_type": "stream",
     "text": [
      "Cross Val:\n",
      "Acc: 0.7671288743882545\n",
      "Precision: 0.5342327188591238\n",
      "Recall: 0.4521452145214521\n",
      "f1: 0.48929190745471374\n",
      "ROC AUC: 0.7605975277917825\n",
      "\n",
      "Model: RandomForestClassifier(max_depth=25, random_state=0)\n",
      "\n"
     ]
    },
    {
     "data": {
      "text/plain": [
       "array([[1979,  293],\n",
       "       [ 503,  291]], dtype=int64)"
      ]
     },
     "metadata": {},
     "output_type": "display_data"
    },
    {
     "name": "stdout",
     "output_type": "stream",
     "text": [
      "Cross Val:\n",
      "Acc: 0.7635399673735725\n",
      "Precision: 0.5273283893970545\n",
      "Recall: 0.4333333333333333\n",
      "f1: 0.47503841227996907\n",
      "ROC AUC: 0.7507737718517247\n",
      "\n",
      "Model: RandomForestClassifier(max_depth=25, random_state=0)\n",
      "\n"
     ]
    },
    {
     "data": {
      "text/plain": [
       "array([[1948,  324],\n",
       "       [ 456,  338]], dtype=int64)"
      ]
     },
     "metadata": {},
     "output_type": "display_data"
    },
    {
     "name": "stdout",
     "output_type": "stream",
     "text": [
      "Cross Val:\n",
      "Acc: 0.7656606851549757\n",
      "Precision: 0.5302546626140285\n",
      "Recall: 0.4541254125412541\n",
      "f1: 0.4887434191022787\n",
      "ROC AUC: 0.757689447167902\n",
      "\n",
      "Model: RandomForestClassifier(max_depth=30, random_state=0)\n",
      "\n"
     ]
    },
    {
     "data": {
      "text/plain": [
       "array([[1979,  293],\n",
       "       [ 503,  291]], dtype=int64)"
      ]
     },
     "metadata": {},
     "output_type": "display_data"
    },
    {
     "name": "stdout",
     "output_type": "stream",
     "text": [
      "Cross Val:\n",
      "Acc: 0.7635399673735725\n",
      "Precision: 0.5273283893970545\n",
      "Recall: 0.4333333333333333\n",
      "f1: 0.47503841227996907\n",
      "ROC AUC: 0.7507737718517247\n",
      "\n",
      "Model: RandomForestClassifier(max_depth=30, random_state=0)\n",
      "\n"
     ]
    },
    {
     "data": {
      "text/plain": [
       "array([[1946,  326],\n",
       "       [ 456,  338]], dtype=int64)"
      ]
     },
     "metadata": {},
     "output_type": "display_data"
    },
    {
     "name": "stdout",
     "output_type": "stream",
     "text": [
      "Cross Val:\n",
      "Acc: 0.7656606851549755\n",
      "Precision: 0.5303160570911424\n",
      "Recall: 0.4541254125412541\n",
      "f1: 0.4887666733671462\n",
      "ROC AUC: 0.7577940350914832\n",
      "\n",
      "Model: RandomForestClassifier(max_depth=35, random_state=0)\n",
      "\n"
     ]
    },
    {
     "data": {
      "text/plain": [
       "array([[1979,  293],\n",
       "       [ 503,  291]], dtype=int64)"
      ]
     },
     "metadata": {},
     "output_type": "display_data"
    },
    {
     "name": "stdout",
     "output_type": "stream",
     "text": [
      "Cross Val:\n",
      "Acc: 0.7635399673735725\n",
      "Precision: 0.5273283893970545\n",
      "Recall: 0.4333333333333333\n",
      "f1: 0.47503841227996907\n",
      "ROC AUC: 0.7507737718517247\n",
      "\n",
      "Model: RandomForestClassifier(max_depth=35, random_state=0)\n",
      "\n"
     ]
    },
    {
     "data": {
      "text/plain": [
       "array([[1946,  326],\n",
       "       [ 456,  338]], dtype=int64)"
      ]
     },
     "metadata": {},
     "output_type": "display_data"
    },
    {
     "name": "stdout",
     "output_type": "stream",
     "text": [
      "Cross Val:\n",
      "Acc: 0.7656606851549755\n",
      "Precision: 0.5303160570911424\n",
      "Recall: 0.4541254125412541\n",
      "f1: 0.4887666733671462\n",
      "ROC AUC: 0.7577940350914832\n",
      "\n",
      "Model: RandomForestClassifier(max_depth=40, random_state=0)\n",
      "\n"
     ]
    },
    {
     "data": {
      "text/plain": [
       "array([[1979,  293],\n",
       "       [ 503,  291]], dtype=int64)"
      ]
     },
     "metadata": {},
     "output_type": "display_data"
    },
    {
     "name": "stdout",
     "output_type": "stream",
     "text": [
      "Cross Val:\n",
      "Acc: 0.7635399673735725\n",
      "Precision: 0.5273283893970545\n",
      "Recall: 0.4333333333333333\n",
      "f1: 0.47503841227996907\n",
      "ROC AUC: 0.7507737718517247\n",
      "\n",
      "Model: RandomForestClassifier(max_depth=40, random_state=0)\n",
      "\n"
     ]
    },
    {
     "data": {
      "text/plain": [
       "array([[1946,  326],\n",
       "       [ 456,  338]], dtype=int64)"
      ]
     },
     "metadata": {},
     "output_type": "display_data"
    },
    {
     "name": "stdout",
     "output_type": "stream",
     "text": [
      "Cross Val:\n",
      "Acc: 0.7656606851549755\n",
      "Precision: 0.5303160570911424\n",
      "Recall: 0.4541254125412541\n",
      "f1: 0.4887666733671462\n",
      "ROC AUC: 0.7577940350914832\n",
      "\n",
      "Model: RandomForestClassifier(max_depth=45, random_state=0)\n",
      "\n"
     ]
    },
    {
     "data": {
      "text/plain": [
       "array([[1979,  293],\n",
       "       [ 503,  291]], dtype=int64)"
      ]
     },
     "metadata": {},
     "output_type": "display_data"
    },
    {
     "name": "stdout",
     "output_type": "stream",
     "text": [
      "Cross Val:\n",
      "Acc: 0.7635399673735725\n",
      "Precision: 0.5273283893970545\n",
      "Recall: 0.4333333333333333\n",
      "f1: 0.47503841227996907\n",
      "ROC AUC: 0.7507737718517247\n",
      "\n",
      "Model: RandomForestClassifier(max_depth=45, random_state=0)\n",
      "\n"
     ]
    },
    {
     "data": {
      "text/plain": [
       "array([[1946,  326],\n",
       "       [ 456,  338]], dtype=int64)"
      ]
     },
     "metadata": {},
     "output_type": "display_data"
    },
    {
     "name": "stdout",
     "output_type": "stream",
     "text": [
      "Cross Val:\n",
      "Acc: 0.7656606851549755\n",
      "Precision: 0.5303160570911424\n",
      "Recall: 0.4541254125412541\n",
      "f1: 0.4887666733671462\n",
      "ROC AUC: 0.7577940350914832\n",
      "\n",
      "Model: RandomForestClassifier(max_depth=50, random_state=0)\n",
      "\n"
     ]
    },
    {
     "data": {
      "text/plain": [
       "array([[1979,  293],\n",
       "       [ 503,  291]], dtype=int64)"
      ]
     },
     "metadata": {},
     "output_type": "display_data"
    },
    {
     "name": "stdout",
     "output_type": "stream",
     "text": [
      "Cross Val:\n",
      "Acc: 0.7635399673735725\n",
      "Precision: 0.5273283893970545\n",
      "Recall: 0.4333333333333333\n",
      "f1: 0.47503841227996907\n",
      "ROC AUC: 0.7507737718517247\n",
      "\n",
      "Model: RandomForestClassifier(max_depth=50, random_state=0)\n",
      "\n"
     ]
    },
    {
     "data": {
      "text/plain": [
       "array([[1946,  326],\n",
       "       [ 456,  338]], dtype=int64)"
      ]
     },
     "metadata": {},
     "output_type": "display_data"
    },
    {
     "name": "stdout",
     "output_type": "stream",
     "text": [
      "Cross Val:\n",
      "Acc: 0.7656606851549755\n",
      "Precision: 0.5303160570911424\n",
      "Recall: 0.4541254125412541\n",
      "f1: 0.4887666733671462\n",
      "ROC AUC: 0.7577940350914832\n",
      "\n",
      "Model: RandomForestClassifier(max_depth=55, random_state=0)\n",
      "\n"
     ]
    },
    {
     "data": {
      "text/plain": [
       "array([[1979,  293],\n",
       "       [ 503,  291]], dtype=int64)"
      ]
     },
     "metadata": {},
     "output_type": "display_data"
    },
    {
     "name": "stdout",
     "output_type": "stream",
     "text": [
      "Cross Val:\n",
      "Acc: 0.7635399673735725\n",
      "Precision: 0.5273283893970545\n",
      "Recall: 0.4333333333333333\n",
      "f1: 0.47503841227996907\n",
      "ROC AUC: 0.7507737718517247\n",
      "\n",
      "Model: RandomForestClassifier(max_depth=55, random_state=0)\n",
      "\n"
     ]
    },
    {
     "data": {
      "text/plain": [
       "array([[1946,  326],\n",
       "       [ 456,  338]], dtype=int64)"
      ]
     },
     "metadata": {},
     "output_type": "display_data"
    },
    {
     "name": "stdout",
     "output_type": "stream",
     "text": [
      "Cross Val:\n",
      "Acc: 0.7656606851549755\n",
      "Precision: 0.5303160570911424\n",
      "Recall: 0.4541254125412541\n",
      "f1: 0.4887666733671462\n",
      "ROC AUC: 0.7577940350914832\n",
      "\n",
      "Model: RandomForestClassifier(max_depth=60, random_state=0)\n",
      "\n"
     ]
    },
    {
     "data": {
      "text/plain": [
       "array([[1979,  293],\n",
       "       [ 503,  291]], dtype=int64)"
      ]
     },
     "metadata": {},
     "output_type": "display_data"
    },
    {
     "name": "stdout",
     "output_type": "stream",
     "text": [
      "Cross Val:\n",
      "Acc: 0.7635399673735725\n",
      "Precision: 0.5273283893970545\n",
      "Recall: 0.4333333333333333\n",
      "f1: 0.47503841227996907\n",
      "ROC AUC: 0.7507737718517247\n",
      "\n",
      "Model: RandomForestClassifier(max_depth=60, random_state=0)\n",
      "\n"
     ]
    },
    {
     "data": {
      "text/plain": [
       "array([[1946,  326],\n",
       "       [ 456,  338]], dtype=int64)"
      ]
     },
     "metadata": {},
     "output_type": "display_data"
    },
    {
     "name": "stdout",
     "output_type": "stream",
     "text": [
      "Cross Val:\n",
      "Acc: 0.7656606851549755\n",
      "Precision: 0.5303160570911424\n",
      "Recall: 0.4541254125412541\n",
      "f1: 0.4887666733671462\n",
      "ROC AUC: 0.7577940350914832\n",
      "\n",
      "Model: RandomForestClassifier(max_depth=65, random_state=0)\n",
      "\n"
     ]
    },
    {
     "data": {
      "text/plain": [
       "array([[1979,  293],\n",
       "       [ 503,  291]], dtype=int64)"
      ]
     },
     "metadata": {},
     "output_type": "display_data"
    },
    {
     "name": "stdout",
     "output_type": "stream",
     "text": [
      "Cross Val:\n",
      "Acc: 0.7635399673735725\n",
      "Precision: 0.5273283893970545\n",
      "Recall: 0.4333333333333333\n",
      "f1: 0.47503841227996907\n",
      "ROC AUC: 0.7507737718517247\n",
      "\n",
      "Model: RandomForestClassifier(max_depth=65, random_state=0)\n",
      "\n"
     ]
    },
    {
     "data": {
      "text/plain": [
       "array([[1946,  326],\n",
       "       [ 456,  338]], dtype=int64)"
      ]
     },
     "metadata": {},
     "output_type": "display_data"
    },
    {
     "name": "stdout",
     "output_type": "stream",
     "text": [
      "Cross Val:\n",
      "Acc: 0.7656606851549755\n",
      "Precision: 0.5303160570911424\n",
      "Recall: 0.4541254125412541\n",
      "f1: 0.4887666733671462\n",
      "ROC AUC: 0.7577940350914832\n",
      "\n",
      "Model: RandomForestClassifier(max_depth=70, random_state=0)\n",
      "\n"
     ]
    },
    {
     "data": {
      "text/plain": [
       "array([[1979,  293],\n",
       "       [ 503,  291]], dtype=int64)"
      ]
     },
     "metadata": {},
     "output_type": "display_data"
    },
    {
     "name": "stdout",
     "output_type": "stream",
     "text": [
      "Cross Val:\n",
      "Acc: 0.7635399673735725\n",
      "Precision: 0.5273283893970545\n",
      "Recall: 0.4333333333333333\n",
      "f1: 0.47503841227996907\n",
      "ROC AUC: 0.7507737718517247\n",
      "\n",
      "Model: RandomForestClassifier(max_depth=70, random_state=0)\n",
      "\n"
     ]
    },
    {
     "data": {
      "text/plain": [
       "array([[1946,  326],\n",
       "       [ 456,  338]], dtype=int64)"
      ]
     },
     "metadata": {},
     "output_type": "display_data"
    },
    {
     "name": "stdout",
     "output_type": "stream",
     "text": [
      "Cross Val:\n",
      "Acc: 0.7656606851549755\n",
      "Precision: 0.5303160570911424\n",
      "Recall: 0.4541254125412541\n",
      "f1: 0.4887666733671462\n",
      "ROC AUC: 0.7577940350914832\n",
      "\n",
      "Model: RandomForestClassifier(max_depth=75, random_state=0)\n",
      "\n"
     ]
    },
    {
     "data": {
      "text/plain": [
       "array([[1979,  293],\n",
       "       [ 503,  291]], dtype=int64)"
      ]
     },
     "metadata": {},
     "output_type": "display_data"
    },
    {
     "name": "stdout",
     "output_type": "stream",
     "text": [
      "Cross Val:\n",
      "Acc: 0.7635399673735725\n",
      "Precision: 0.5273283893970545\n",
      "Recall: 0.4333333333333333\n",
      "f1: 0.47503841227996907\n",
      "ROC AUC: 0.7507737718517247\n",
      "\n",
      "Model: RandomForestClassifier(max_depth=75, random_state=0)\n",
      "\n"
     ]
    },
    {
     "data": {
      "text/plain": [
       "array([[1946,  326],\n",
       "       [ 456,  338]], dtype=int64)"
      ]
     },
     "metadata": {},
     "output_type": "display_data"
    },
    {
     "name": "stdout",
     "output_type": "stream",
     "text": [
      "Cross Val:\n",
      "Acc: 0.7656606851549755\n",
      "Precision: 0.5303160570911424\n",
      "Recall: 0.4541254125412541\n",
      "f1: 0.4887666733671462\n",
      "ROC AUC: 0.7577940350914832\n",
      "\n",
      "Model: RandomForestClassifier(max_depth=80, random_state=0)\n",
      "\n"
     ]
    },
    {
     "data": {
      "text/plain": [
       "array([[1979,  293],\n",
       "       [ 503,  291]], dtype=int64)"
      ]
     },
     "metadata": {},
     "output_type": "display_data"
    },
    {
     "name": "stdout",
     "output_type": "stream",
     "text": [
      "Cross Val:\n",
      "Acc: 0.7635399673735725\n",
      "Precision: 0.5273283893970545\n",
      "Recall: 0.4333333333333333\n",
      "f1: 0.47503841227996907\n",
      "ROC AUC: 0.7507737718517247\n",
      "\n",
      "Model: RandomForestClassifier(max_depth=80, random_state=0)\n",
      "\n"
     ]
    },
    {
     "data": {
      "text/plain": [
       "array([[1946,  326],\n",
       "       [ 456,  338]], dtype=int64)"
      ]
     },
     "metadata": {},
     "output_type": "display_data"
    },
    {
     "name": "stdout",
     "output_type": "stream",
     "text": [
      "Cross Val:\n",
      "Acc: 0.7656606851549755\n",
      "Precision: 0.5303160570911424\n",
      "Recall: 0.4541254125412541\n",
      "f1: 0.4887666733671462\n",
      "ROC AUC: 0.7577940350914832\n",
      "\n",
      "Model: RandomForestClassifier(max_depth=85, random_state=0)\n",
      "\n"
     ]
    },
    {
     "data": {
      "text/plain": [
       "array([[1979,  293],\n",
       "       [ 503,  291]], dtype=int64)"
      ]
     },
     "metadata": {},
     "output_type": "display_data"
    },
    {
     "name": "stdout",
     "output_type": "stream",
     "text": [
      "Cross Val:\n",
      "Acc: 0.7635399673735725\n",
      "Precision: 0.5273283893970545\n",
      "Recall: 0.4333333333333333\n",
      "f1: 0.47503841227996907\n",
      "ROC AUC: 0.7507737718517247\n",
      "\n",
      "Model: RandomForestClassifier(max_depth=85, random_state=0)\n",
      "\n"
     ]
    },
    {
     "data": {
      "text/plain": [
       "array([[1946,  326],\n",
       "       [ 456,  338]], dtype=int64)"
      ]
     },
     "metadata": {},
     "output_type": "display_data"
    },
    {
     "name": "stdout",
     "output_type": "stream",
     "text": [
      "Cross Val:\n",
      "Acc: 0.7656606851549755\n",
      "Precision: 0.5303160570911424\n",
      "Recall: 0.4541254125412541\n",
      "f1: 0.4887666733671462\n",
      "ROC AUC: 0.7577940350914832\n",
      "\n",
      "Model: RandomForestClassifier(max_depth=90, random_state=0)\n",
      "\n"
     ]
    },
    {
     "data": {
      "text/plain": [
       "array([[1979,  293],\n",
       "       [ 503,  291]], dtype=int64)"
      ]
     },
     "metadata": {},
     "output_type": "display_data"
    },
    {
     "name": "stdout",
     "output_type": "stream",
     "text": [
      "Cross Val:\n",
      "Acc: 0.7635399673735725\n",
      "Precision: 0.5273283893970545\n",
      "Recall: 0.4333333333333333\n",
      "f1: 0.47503841227996907\n",
      "ROC AUC: 0.7507737718517247\n",
      "\n",
      "Model: RandomForestClassifier(max_depth=90, random_state=0)\n",
      "\n"
     ]
    },
    {
     "data": {
      "text/plain": [
       "array([[1946,  326],\n",
       "       [ 456,  338]], dtype=int64)"
      ]
     },
     "metadata": {},
     "output_type": "display_data"
    },
    {
     "name": "stdout",
     "output_type": "stream",
     "text": [
      "Cross Val:\n",
      "Acc: 0.7656606851549755\n",
      "Precision: 0.5303160570911424\n",
      "Recall: 0.4541254125412541\n",
      "f1: 0.4887666733671462\n",
      "ROC AUC: 0.7577940350914832\n",
      "\n",
      "Model: RandomForestClassifier(max_depth=95, random_state=0)\n",
      "\n"
     ]
    },
    {
     "data": {
      "text/plain": [
       "array([[1979,  293],\n",
       "       [ 503,  291]], dtype=int64)"
      ]
     },
     "metadata": {},
     "output_type": "display_data"
    },
    {
     "name": "stdout",
     "output_type": "stream",
     "text": [
      "Cross Val:\n",
      "Acc: 0.7635399673735725\n",
      "Precision: 0.5273283893970545\n",
      "Recall: 0.4333333333333333\n",
      "f1: 0.47503841227996907\n",
      "ROC AUC: 0.7507737718517247\n",
      "\n",
      "Model: RandomForestClassifier(max_depth=95, random_state=0)\n",
      "\n"
     ]
    },
    {
     "data": {
      "text/plain": [
       "array([[1946,  326],\n",
       "       [ 456,  338]], dtype=int64)"
      ]
     },
     "metadata": {},
     "output_type": "display_data"
    },
    {
     "name": "stdout",
     "output_type": "stream",
     "text": [
      "Cross Val:\n",
      "Acc: 0.7656606851549755\n",
      "Precision: 0.5303160570911424\n",
      "Recall: 0.4541254125412541\n",
      "f1: 0.4887666733671462\n",
      "ROC AUC: 0.7577940350914832\n",
      "\n",
      "Model: RandomForestClassifier(max_depth=5, random_state=0)\n",
      "\n"
     ]
    },
    {
     "data": {
      "text/plain": [
       "array([[2168,  197],\n",
       "       [ 397,  304]], dtype=int64)"
      ]
     },
     "metadata": {},
     "output_type": "display_data"
    },
    {
     "name": "stdout",
     "output_type": "stream",
     "text": [
      "Cross Val:\n",
      "Acc: 0.7770799347471453\n",
      "Precision: 0.595967330711642\n",
      "Recall: 0.3935436634717785\n",
      "f1: 0.47345018080640855\n",
      "ROC AUC: 0.7747434019504654\n",
      "\n",
      "Model: RandomForestClassifier(max_depth=5, random_state=0)\n",
      "\n"
     ]
    },
    {
     "data": {
      "text/plain": [
       "array([[2162,  203],\n",
       "       [ 389,  312]], dtype=int64)"
      ]
     },
     "metadata": {},
     "output_type": "display_data"
    },
    {
     "name": "stdout",
     "output_type": "stream",
     "text": [
      "Cross Val:\n",
      "Acc: 0.7780587275693313\n",
      "Precision: 0.5978197240387534\n",
      "Recall: 0.3977093061358237\n",
      "f1: 0.4771352301924979\n",
      "ROC AUC: 0.7861117897531675\n",
      "\n",
      "Model: RandomForestClassifier(max_depth=10, random_state=0)\n",
      "\n"
     ]
    },
    {
     "data": {
      "text/plain": [
       "array([[2137,  228],\n",
       "       [ 391,  310]], dtype=int64)"
      ]
     },
     "metadata": {},
     "output_type": "display_data"
    },
    {
     "name": "stdout",
     "output_type": "stream",
     "text": [
      "Cross Val:\n",
      "Acc: 0.7687601957585645\n",
      "Precision: 0.5668589033897542\n",
      "Recall: 0.3951441795690997\n",
      "f1: 0.46500669808150885\n",
      "ROC AUC: 0.7705892822204848\n",
      "\n",
      "Model: RandomForestClassifier(max_depth=10, random_state=0)\n",
      "\n"
     ]
    },
    {
     "data": {
      "text/plain": [
       "array([[2125,  240],\n",
       "       [ 360,  341]], dtype=int64)"
      ]
     },
     "metadata": {},
     "output_type": "display_data"
    },
    {
     "name": "stdout",
     "output_type": "stream",
     "text": [
      "Cross Val:\n",
      "Acc: 0.7823817292006525\n",
      "Precision: 0.5958077156745702\n",
      "Recall: 0.46013455394445807\n",
      "f1: 0.5182426947056125\n",
      "ROC AUC: 0.7932079398066381\n",
      "\n",
      "Model: RandomForestClassifier(max_depth=15, random_state=0)\n",
      "\n"
     ]
    },
    {
     "data": {
      "text/plain": [
       "array([[2043,  322],\n",
       "       [ 367,  334]], dtype=int64)"
      ]
     },
     "metadata": {},
     "output_type": "display_data"
    },
    {
     "name": "stdout",
     "output_type": "stream",
     "text": [
      "Cross Val:\n",
      "Acc: 0.7536704730831973\n",
      "Precision: 0.5201568139997136\n",
      "Recall: 0.43774576062914716\n",
      "f1: 0.4748890246118336\n",
      "ROC AUC: 0.7430423077851117\n",
      "\n",
      "Model: RandomForestClassifier(max_depth=15, random_state=0)\n",
      "\n"
     ]
    },
    {
     "data": {
      "text/plain": [
       "array([[2069,  296],\n",
       "       [ 358,  343]], dtype=int64)"
      ]
     },
     "metadata": {},
     "output_type": "display_data"
    },
    {
     "name": "stdout",
     "output_type": "stream",
     "text": [
      "Cross Val:\n",
      "Acc: 0.7726753670473083\n",
      "Precision: 0.5623608418701751\n",
      "Recall: 0.4876904644875891\n",
      "f1: 0.5218485713352914\n",
      "ROC AUC: 0.777628629359493\n",
      "\n",
      "Model: RandomForestClassifier(max_depth=20, random_state=0)\n",
      "\n"
     ]
    },
    {
     "data": {
      "text/plain": [
       "array([[2037,  328],\n",
       "       [ 370,  331]], dtype=int64)"
      ]
     },
     "metadata": {},
     "output_type": "display_data"
    },
    {
     "name": "stdout",
     "output_type": "stream",
     "text": [
      "Cross Val:\n",
      "Acc: 0.7508156606851548\n",
      "Precision: 0.5132397479484542\n",
      "Recall: 0.44030883919062835\n",
      "f1: 0.4735764814446055\n",
      "ROC AUC: 0.7374956901407591\n",
      "\n",
      "Model: RandomForestClassifier(max_depth=20, random_state=0)\n",
      "\n"
     ]
    },
    {
     "data": {
      "text/plain": [
       "array([[2040,  325],\n",
       "       [ 376,  325]], dtype=int64)"
      ]
     },
     "metadata": {},
     "output_type": "display_data"
    },
    {
     "name": "stdout",
     "output_type": "stream",
     "text": [
      "Cross Val:\n",
      "Acc: 0.7606035889070147\n",
      "Precision: 0.5337695659348207\n",
      "Recall: 0.4790448103547146\n",
      "f1: 0.5043586642623537\n",
      "ROC AUC: 0.761047428458945\n",
      "\n",
      "Model: RandomForestClassifier(max_depth=25, random_state=0)\n",
      "\n"
     ]
    },
    {
     "data": {
      "text/plain": [
       "array([[2038,  327],\n",
       "       [ 368,  333]], dtype=int64)"
      ]
     },
     "metadata": {},
     "output_type": "display_data"
    },
    {
     "name": "stdout",
     "output_type": "stream",
     "text": [
      "Cross Val:\n",
      "Acc: 0.7508156606851549\n",
      "Precision: 0.5132833080391913\n",
      "Recall: 0.44030986319324983\n",
      "f1: 0.47358992310709136\n",
      "ROC AUC: 0.737426645299266\n",
      "\n",
      "Model: RandomForestClassifier(max_depth=25, random_state=0)\n",
      "\n"
     ]
    },
    {
     "data": {
      "text/plain": [
       "array([[2041,  324],\n",
       "       [ 378,  323]], dtype=int64)"
      ]
     },
     "metadata": {},
     "output_type": "display_data"
    },
    {
     "name": "stdout",
     "output_type": "stream",
     "text": [
      "Cross Val:\n",
      "Acc: 0.7597063621533442\n",
      "Precision: 0.5320664140520723\n",
      "Recall: 0.4771186614237733\n",
      "f1: 0.5026346737051653\n",
      "ROC AUC: 0.7584711274959182\n",
      "\n",
      "Model: RandomForestClassifier(max_depth=30, random_state=0)\n",
      "\n"
     ]
    },
    {
     "data": {
      "text/plain": [
       "array([[2038,  327],\n",
       "       [ 368,  333]], dtype=int64)"
      ]
     },
     "metadata": {},
     "output_type": "display_data"
    },
    {
     "name": "stdout",
     "output_type": "stream",
     "text": [
      "Cross Val:\n",
      "Acc: 0.7508156606851549\n",
      "Precision: 0.5132833080391913\n",
      "Recall: 0.44030986319324983\n",
      "f1: 0.47358992310709136\n",
      "ROC AUC: 0.737426645299266\n",
      "\n",
      "Model: RandomForestClassifier(max_depth=30, random_state=0)\n",
      "\n"
     ]
    },
    {
     "data": {
      "text/plain": [
       "array([[2047,  318],\n",
       "       [ 378,  323]], dtype=int64)"
      ]
     },
     "metadata": {},
     "output_type": "display_data"
    },
    {
     "name": "stdout",
     "output_type": "stream",
     "text": [
      "Cross Val:\n",
      "Acc: 0.7604404567699836\n",
      "Precision: 0.5336212931954625\n",
      "Recall: 0.4780801998853117\n",
      "f1: 0.5038592765482521\n",
      "ROC AUC: 0.7582902222777647\n",
      "\n",
      "Model: RandomForestClassifier(max_depth=35, random_state=0)\n",
      "\n"
     ]
    },
    {
     "data": {
      "text/plain": [
       "array([[2038,  327],\n",
       "       [ 368,  333]], dtype=int64)"
      ]
     },
     "metadata": {},
     "output_type": "display_data"
    },
    {
     "name": "stdout",
     "output_type": "stream",
     "text": [
      "Cross Val:\n",
      "Acc: 0.7508156606851549\n",
      "Precision: 0.5132833080391913\n",
      "Recall: 0.44030986319324983\n",
      "f1: 0.47358992310709136\n",
      "ROC AUC: 0.737426645299266\n",
      "\n",
      "Model: RandomForestClassifier(max_depth=35, random_state=0)\n",
      "\n"
     ]
    },
    {
     "data": {
      "text/plain": [
       "array([[2047,  318],\n",
       "       [ 378,  323]], dtype=int64)"
      ]
     },
     "metadata": {},
     "output_type": "display_data"
    },
    {
     "name": "stdout",
     "output_type": "stream",
     "text": [
      "Cross Val:\n",
      "Acc: 0.7604404567699836\n",
      "Precision: 0.5336212931954625\n",
      "Recall: 0.4780801998853117\n",
      "f1: 0.5038592765482521\n",
      "ROC AUC: 0.7582938965741369\n",
      "\n",
      "Model: RandomForestClassifier(max_depth=40, random_state=0)\n",
      "\n"
     ]
    },
    {
     "data": {
      "text/plain": [
       "array([[2038,  327],\n",
       "       [ 368,  333]], dtype=int64)"
      ]
     },
     "metadata": {},
     "output_type": "display_data"
    },
    {
     "name": "stdout",
     "output_type": "stream",
     "text": [
      "Cross Val:\n",
      "Acc: 0.7508156606851549\n",
      "Precision: 0.5132833080391913\n",
      "Recall: 0.44030986319324983\n",
      "f1: 0.47358992310709136\n",
      "ROC AUC: 0.737426645299266\n",
      "\n",
      "Model: RandomForestClassifier(max_depth=40, random_state=0)\n",
      "\n"
     ]
    },
    {
     "data": {
      "text/plain": [
       "array([[2047,  318],\n",
       "       [ 378,  323]], dtype=int64)"
      ]
     },
     "metadata": {},
     "output_type": "display_data"
    },
    {
     "name": "stdout",
     "output_type": "stream",
     "text": [
      "Cross Val:\n",
      "Acc: 0.7604404567699836\n",
      "Precision: 0.5336212931954625\n",
      "Recall: 0.4780801998853117\n",
      "f1: 0.5038592765482521\n",
      "ROC AUC: 0.7582938965741369\n",
      "\n",
      "Model: RandomForestClassifier(max_depth=45, random_state=0)\n",
      "\n"
     ]
    },
    {
     "data": {
      "text/plain": [
       "array([[2038,  327],\n",
       "       [ 368,  333]], dtype=int64)"
      ]
     },
     "metadata": {},
     "output_type": "display_data"
    },
    {
     "name": "stdout",
     "output_type": "stream",
     "text": [
      "Cross Val:\n",
      "Acc: 0.7508156606851549\n",
      "Precision: 0.5132833080391913\n",
      "Recall: 0.44030986319324983\n",
      "f1: 0.47358992310709136\n",
      "ROC AUC: 0.737426645299266\n",
      "\n",
      "Model: RandomForestClassifier(max_depth=45, random_state=0)\n",
      "\n"
     ]
    },
    {
     "data": {
      "text/plain": [
       "array([[2047,  318],\n",
       "       [ 378,  323]], dtype=int64)"
      ]
     },
     "metadata": {},
     "output_type": "display_data"
    },
    {
     "name": "stdout",
     "output_type": "stream",
     "text": [
      "Cross Val:\n",
      "Acc: 0.7604404567699836\n",
      "Precision: 0.5336212931954625\n",
      "Recall: 0.4780801998853117\n",
      "f1: 0.5038592765482521\n",
      "ROC AUC: 0.7582938965741369\n",
      "\n",
      "Model: RandomForestClassifier(max_depth=50, random_state=0)\n",
      "\n"
     ]
    },
    {
     "data": {
      "text/plain": [
       "array([[2038,  327],\n",
       "       [ 368,  333]], dtype=int64)"
      ]
     },
     "metadata": {},
     "output_type": "display_data"
    },
    {
     "name": "stdout",
     "output_type": "stream",
     "text": [
      "Cross Val:\n",
      "Acc: 0.7508156606851549\n",
      "Precision: 0.5132833080391913\n",
      "Recall: 0.44030986319324983\n",
      "f1: 0.47358992310709136\n",
      "ROC AUC: 0.737426645299266\n",
      "\n",
      "Model: RandomForestClassifier(max_depth=50, random_state=0)\n",
      "\n"
     ]
    },
    {
     "data": {
      "text/plain": [
       "array([[2047,  318],\n",
       "       [ 378,  323]], dtype=int64)"
      ]
     },
     "metadata": {},
     "output_type": "display_data"
    },
    {
     "name": "stdout",
     "output_type": "stream",
     "text": [
      "Cross Val:\n",
      "Acc: 0.7604404567699836\n",
      "Precision: 0.5336212931954625\n",
      "Recall: 0.4780801998853117\n",
      "f1: 0.5038592765482521\n",
      "ROC AUC: 0.7582938965741369\n",
      "\n",
      "Model: RandomForestClassifier(max_depth=55, random_state=0)\n",
      "\n"
     ]
    },
    {
     "data": {
      "text/plain": [
       "array([[2038,  327],\n",
       "       [ 368,  333]], dtype=int64)"
      ]
     },
     "metadata": {},
     "output_type": "display_data"
    },
    {
     "name": "stdout",
     "output_type": "stream",
     "text": [
      "Cross Val:\n",
      "Acc: 0.7508156606851549\n",
      "Precision: 0.5132833080391913\n",
      "Recall: 0.44030986319324983\n",
      "f1: 0.47358992310709136\n",
      "ROC AUC: 0.737426645299266\n",
      "\n",
      "Model: RandomForestClassifier(max_depth=55, random_state=0)\n",
      "\n"
     ]
    },
    {
     "data": {
      "text/plain": [
       "array([[2047,  318],\n",
       "       [ 378,  323]], dtype=int64)"
      ]
     },
     "metadata": {},
     "output_type": "display_data"
    },
    {
     "name": "stdout",
     "output_type": "stream",
     "text": [
      "Cross Val:\n",
      "Acc: 0.7604404567699836\n",
      "Precision: 0.5336212931954625\n",
      "Recall: 0.4780801998853117\n",
      "f1: 0.5038592765482521\n",
      "ROC AUC: 0.7582938965741369\n",
      "\n",
      "Model: RandomForestClassifier(max_depth=60, random_state=0)\n",
      "\n"
     ]
    },
    {
     "data": {
      "text/plain": [
       "array([[2038,  327],\n",
       "       [ 368,  333]], dtype=int64)"
      ]
     },
     "metadata": {},
     "output_type": "display_data"
    },
    {
     "name": "stdout",
     "output_type": "stream",
     "text": [
      "Cross Val:\n",
      "Acc: 0.7508156606851549\n",
      "Precision: 0.5132833080391913\n",
      "Recall: 0.44030986319324983\n",
      "f1: 0.47358992310709136\n",
      "ROC AUC: 0.737426645299266\n",
      "\n",
      "Model: RandomForestClassifier(max_depth=60, random_state=0)\n",
      "\n"
     ]
    },
    {
     "data": {
      "text/plain": [
       "array([[2047,  318],\n",
       "       [ 378,  323]], dtype=int64)"
      ]
     },
     "metadata": {},
     "output_type": "display_data"
    },
    {
     "name": "stdout",
     "output_type": "stream",
     "text": [
      "Cross Val:\n",
      "Acc: 0.7604404567699836\n",
      "Precision: 0.5336212931954625\n",
      "Recall: 0.4780801998853117\n",
      "f1: 0.5038592765482521\n",
      "ROC AUC: 0.7582938965741369\n",
      "\n",
      "Model: RandomForestClassifier(max_depth=65, random_state=0)\n",
      "\n"
     ]
    },
    {
     "data": {
      "text/plain": [
       "array([[2038,  327],\n",
       "       [ 368,  333]], dtype=int64)"
      ]
     },
     "metadata": {},
     "output_type": "display_data"
    },
    {
     "name": "stdout",
     "output_type": "stream",
     "text": [
      "Cross Val:\n",
      "Acc: 0.7508156606851549\n",
      "Precision: 0.5132833080391913\n",
      "Recall: 0.44030986319324983\n",
      "f1: 0.47358992310709136\n",
      "ROC AUC: 0.737426645299266\n",
      "\n",
      "Model: RandomForestClassifier(max_depth=65, random_state=0)\n",
      "\n"
     ]
    },
    {
     "data": {
      "text/plain": [
       "array([[2047,  318],\n",
       "       [ 378,  323]], dtype=int64)"
      ]
     },
     "metadata": {},
     "output_type": "display_data"
    },
    {
     "name": "stdout",
     "output_type": "stream",
     "text": [
      "Cross Val:\n",
      "Acc: 0.7604404567699836\n",
      "Precision: 0.5336212931954625\n",
      "Recall: 0.4780801998853117\n",
      "f1: 0.5038592765482521\n",
      "ROC AUC: 0.7582938965741369\n",
      "\n",
      "Model: RandomForestClassifier(max_depth=70, random_state=0)\n",
      "\n"
     ]
    },
    {
     "data": {
      "text/plain": [
       "array([[2038,  327],\n",
       "       [ 368,  333]], dtype=int64)"
      ]
     },
     "metadata": {},
     "output_type": "display_data"
    },
    {
     "name": "stdout",
     "output_type": "stream",
     "text": [
      "Cross Val:\n",
      "Acc: 0.7508156606851549\n",
      "Precision: 0.5132833080391913\n",
      "Recall: 0.44030986319324983\n",
      "f1: 0.47358992310709136\n",
      "ROC AUC: 0.737426645299266\n",
      "\n",
      "Model: RandomForestClassifier(max_depth=70, random_state=0)\n",
      "\n"
     ]
    },
    {
     "data": {
      "text/plain": [
       "array([[2047,  318],\n",
       "       [ 378,  323]], dtype=int64)"
      ]
     },
     "metadata": {},
     "output_type": "display_data"
    },
    {
     "name": "stdout",
     "output_type": "stream",
     "text": [
      "Cross Val:\n",
      "Acc: 0.7604404567699836\n",
      "Precision: 0.5336212931954625\n",
      "Recall: 0.4780801998853117\n",
      "f1: 0.5038592765482521\n",
      "ROC AUC: 0.7582938965741369\n",
      "\n",
      "Model: RandomForestClassifier(max_depth=75, random_state=0)\n",
      "\n"
     ]
    },
    {
     "data": {
      "text/plain": [
       "array([[2038,  327],\n",
       "       [ 368,  333]], dtype=int64)"
      ]
     },
     "metadata": {},
     "output_type": "display_data"
    },
    {
     "name": "stdout",
     "output_type": "stream",
     "text": [
      "Cross Val:\n",
      "Acc: 0.7508156606851549\n",
      "Precision: 0.5132833080391913\n",
      "Recall: 0.44030986319324983\n",
      "f1: 0.47358992310709136\n",
      "ROC AUC: 0.737426645299266\n",
      "\n",
      "Model: RandomForestClassifier(max_depth=75, random_state=0)\n",
      "\n"
     ]
    },
    {
     "data": {
      "text/plain": [
       "array([[2047,  318],\n",
       "       [ 378,  323]], dtype=int64)"
      ]
     },
     "metadata": {},
     "output_type": "display_data"
    },
    {
     "name": "stdout",
     "output_type": "stream",
     "text": [
      "Cross Val:\n",
      "Acc: 0.7604404567699836\n",
      "Precision: 0.5336212931954625\n",
      "Recall: 0.4780801998853117\n",
      "f1: 0.5038592765482521\n",
      "ROC AUC: 0.7582938965741369\n",
      "\n",
      "Model: RandomForestClassifier(max_depth=80, random_state=0)\n",
      "\n"
     ]
    },
    {
     "data": {
      "text/plain": [
       "array([[2038,  327],\n",
       "       [ 368,  333]], dtype=int64)"
      ]
     },
     "metadata": {},
     "output_type": "display_data"
    },
    {
     "name": "stdout",
     "output_type": "stream",
     "text": [
      "Cross Val:\n",
      "Acc: 0.7508156606851549\n",
      "Precision: 0.5132833080391913\n",
      "Recall: 0.44030986319324983\n",
      "f1: 0.47358992310709136\n",
      "ROC AUC: 0.737426645299266\n",
      "\n",
      "Model: RandomForestClassifier(max_depth=80, random_state=0)\n",
      "\n"
     ]
    },
    {
     "data": {
      "text/plain": [
       "array([[2047,  318],\n",
       "       [ 378,  323]], dtype=int64)"
      ]
     },
     "metadata": {},
     "output_type": "display_data"
    },
    {
     "name": "stdout",
     "output_type": "stream",
     "text": [
      "Cross Val:\n",
      "Acc: 0.7604404567699836\n",
      "Precision: 0.5336212931954625\n",
      "Recall: 0.4780801998853117\n",
      "f1: 0.5038592765482521\n",
      "ROC AUC: 0.7582938965741369\n",
      "\n",
      "Model: RandomForestClassifier(max_depth=85, random_state=0)\n",
      "\n"
     ]
    },
    {
     "data": {
      "text/plain": [
       "array([[2038,  327],\n",
       "       [ 368,  333]], dtype=int64)"
      ]
     },
     "metadata": {},
     "output_type": "display_data"
    },
    {
     "name": "stdout",
     "output_type": "stream",
     "text": [
      "Cross Val:\n",
      "Acc: 0.7508156606851549\n",
      "Precision: 0.5132833080391913\n",
      "Recall: 0.44030986319324983\n",
      "f1: 0.47358992310709136\n",
      "ROC AUC: 0.737426645299266\n",
      "\n",
      "Model: RandomForestClassifier(max_depth=85, random_state=0)\n",
      "\n"
     ]
    },
    {
     "data": {
      "text/plain": [
       "array([[2047,  318],\n",
       "       [ 378,  323]], dtype=int64)"
      ]
     },
     "metadata": {},
     "output_type": "display_data"
    },
    {
     "name": "stdout",
     "output_type": "stream",
     "text": [
      "Cross Val:\n",
      "Acc: 0.7604404567699836\n",
      "Precision: 0.5336212931954625\n",
      "Recall: 0.4780801998853117\n",
      "f1: 0.5038592765482521\n",
      "ROC AUC: 0.7582938965741369\n",
      "\n",
      "Model: RandomForestClassifier(max_depth=90, random_state=0)\n",
      "\n"
     ]
    },
    {
     "data": {
      "text/plain": [
       "array([[2038,  327],\n",
       "       [ 368,  333]], dtype=int64)"
      ]
     },
     "metadata": {},
     "output_type": "display_data"
    },
    {
     "name": "stdout",
     "output_type": "stream",
     "text": [
      "Cross Val:\n",
      "Acc: 0.7508156606851549\n",
      "Precision: 0.5132833080391913\n",
      "Recall: 0.44030986319324983\n",
      "f1: 0.47358992310709136\n",
      "ROC AUC: 0.737426645299266\n",
      "\n",
      "Model: RandomForestClassifier(max_depth=90, random_state=0)\n",
      "\n"
     ]
    },
    {
     "data": {
      "text/plain": [
       "array([[2047,  318],\n",
       "       [ 378,  323]], dtype=int64)"
      ]
     },
     "metadata": {},
     "output_type": "display_data"
    },
    {
     "name": "stdout",
     "output_type": "stream",
     "text": [
      "Cross Val:\n",
      "Acc: 0.7604404567699836\n",
      "Precision: 0.5336212931954625\n",
      "Recall: 0.4780801998853117\n",
      "f1: 0.5038592765482521\n",
      "ROC AUC: 0.7582938965741369\n",
      "\n",
      "Model: RandomForestClassifier(max_depth=95, random_state=0)\n",
      "\n"
     ]
    },
    {
     "data": {
      "text/plain": [
       "array([[2038,  327],\n",
       "       [ 368,  333]], dtype=int64)"
      ]
     },
     "metadata": {},
     "output_type": "display_data"
    },
    {
     "name": "stdout",
     "output_type": "stream",
     "text": [
      "Cross Val:\n",
      "Acc: 0.7508156606851549\n",
      "Precision: 0.5132833080391913\n",
      "Recall: 0.44030986319324983\n",
      "f1: 0.47358992310709136\n",
      "ROC AUC: 0.737426645299266\n",
      "\n",
      "Model: RandomForestClassifier(max_depth=95, random_state=0)\n",
      "\n"
     ]
    },
    {
     "data": {
      "text/plain": [
       "array([[2047,  318],\n",
       "       [ 378,  323]], dtype=int64)"
      ]
     },
     "metadata": {},
     "output_type": "display_data"
    },
    {
     "name": "stdout",
     "output_type": "stream",
     "text": [
      "Cross Val:\n",
      "Acc: 0.7604404567699836\n",
      "Precision: 0.5336212931954625\n",
      "Recall: 0.4780801998853117\n",
      "f1: 0.5038592765482521\n",
      "ROC AUC: 0.7582938965741369\n",
      "\n",
      "Model: RandomForestClassifier(max_depth=5, random_state=0)\n",
      "\n"
     ]
    },
    {
     "data": {
      "text/plain": [
       "array([[2051,  187],\n",
       "       [ 505,  323]], dtype=int64)"
      ]
     },
     "metadata": {},
     "output_type": "display_data"
    },
    {
     "name": "stdout",
     "output_type": "stream",
     "text": [
      "Cross Val:\n",
      "Acc: 0.7840130505709624\n",
      "Precision: 0.5868016589539936\n",
      "Recall: 0.3965395763656633\n",
      "f1: 0.4728087810270698\n",
      "ROC AUC: 0.7781160895886974\n",
      "\n",
      "Model: RandomForestClassifier(max_depth=5, random_state=0)\n",
      "\n"
     ]
    },
    {
     "data": {
      "text/plain": [
       "array([[2059,  179],\n",
       "       [ 511,  317]], dtype=int64)"
      ]
     },
     "metadata": {},
     "output_type": "display_data"
    },
    {
     "name": "stdout",
     "output_type": "stream",
     "text": [
      "Cross Val:\n",
      "Acc: 0.7831973898858076\n",
      "Precision: 0.5868872471782807\n",
      "Recall: 0.3855406911928651\n",
      "f1: 0.4645665245716971\n",
      "ROC AUC: 0.7891628543502928\n",
      "\n",
      "Model: RandomForestClassifier(max_depth=10, random_state=0)\n",
      "\n"
     ]
    },
    {
     "data": {
      "text/plain": [
       "array([[2060,  178],\n",
       "       [ 524,  304]], dtype=int64)"
      ]
     },
     "metadata": {},
     "output_type": "display_data"
    },
    {
     "name": "stdout",
     "output_type": "stream",
     "text": [
      "Cross Val:\n",
      "Acc: 0.7776508972267537\n",
      "Precision: 0.5694275595730369\n",
      "Recall: 0.3721794871794871\n",
      "f1: 0.4499228002825557\n",
      "ROC AUC: 0.7766099306334157\n",
      "\n",
      "Model: RandomForestClassifier(max_depth=10, random_state=0)\n",
      "\n"
     ]
    },
    {
     "data": {
      "text/plain": [
       "array([[2043,  195],\n",
       "       [ 494,  334]], dtype=int64)"
      ]
     },
     "metadata": {},
     "output_type": "display_data"
    },
    {
     "name": "stdout",
     "output_type": "stream",
     "text": [
      "Cross Val:\n",
      "Acc: 0.7822185970636215\n",
      "Precision: 0.575139656799425\n",
      "Recall: 0.4209119286510591\n",
      "f1: 0.48571818901392616\n",
      "ROC AUC: 0.7932023229829116\n",
      "\n",
      "Model: RandomForestClassifier(max_depth=15, random_state=0)\n",
      "\n"
     ]
    },
    {
     "data": {
      "text/plain": [
       "array([[2012,  226],\n",
       "       [ 552,  276]], dtype=int64)"
      ]
     },
     "metadata": {},
     "output_type": "display_data"
    },
    {
     "name": "stdout",
     "output_type": "stream",
     "text": [
      "Cross Val:\n",
      "Acc: 0.7679445350734094\n",
      "Precision: 0.5354814776352235\n",
      "Recall: 0.3811772575250836\n",
      "f1: 0.44499985994132113\n",
      "ROC AUC: 0.7526161181982864\n",
      "\n",
      "Model: RandomForestClassifier(max_depth=15, random_state=0)\n",
      "\n"
     ]
    },
    {
     "data": {
      "text/plain": [
       "array([[2011,  227],\n",
       "       [ 497,  331]], dtype=int64)"
      ]
     },
     "metadata": {},
     "output_type": "display_data"
    },
    {
     "name": "stdout",
     "output_type": "stream",
     "text": [
      "Cross Val:\n",
      "Acc: 0.780016313213703\n",
      "Precision: 0.563618030744123\n",
      "Recall: 0.45094202898550717\n",
      "f1: 0.5004536994015826\n",
      "ROC AUC: 0.7833488058105075\n",
      "\n",
      "Model: RandomForestClassifier(max_depth=20, random_state=0)\n",
      "\n"
     ]
    },
    {
     "data": {
      "text/plain": [
       "array([[1944,  294],\n",
       "       [ 537,  291]], dtype=int64)"
      ]
     },
     "metadata": {},
     "output_type": "display_data"
    },
    {
     "name": "stdout",
     "output_type": "stream",
     "text": [
      "Cross Val:\n",
      "Acc: 0.7458401305057096\n",
      "Precision: 0.47543997549910005\n",
      "Recall: 0.3871783723522854\n",
      "f1: 0.42645363652685847\n",
      "ROC AUC: 0.7285547266820338\n",
      "\n",
      "Model: RandomForestClassifier(max_depth=20, random_state=0)\n",
      "\n"
     ]
    },
    {
     "data": {
      "text/plain": [
       "array([[2005,  233],\n",
       "       [ 498,  330]], dtype=int64)"
      ]
     },
     "metadata": {},
     "output_type": "display_data"
    },
    {
     "name": "stdout",
     "output_type": "stream",
     "text": [
      "Cross Val:\n",
      "Acc: 0.7753670473083198\n",
      "Precision: 0.5533653016387731\n",
      "Recall: 0.43123745819397996\n",
      "f1: 0.48428619872948697\n",
      "ROC AUC: 0.7703898097938833\n",
      "\n",
      "Model: RandomForestClassifier(max_depth=25, random_state=0)\n",
      "\n"
     ]
    },
    {
     "data": {
      "text/plain": [
       "array([[1927,  311],\n",
       "       [ 540,  288]], dtype=int64)"
      ]
     },
     "metadata": {},
     "output_type": "display_data"
    },
    {
     "name": "stdout",
     "output_type": "stream",
     "text": [
      "Cross Val:\n",
      "Acc: 0.7441272430668842\n",
      "Precision: 0.47186296221311164\n",
      "Recall: 0.3928494983277592\n",
      "f1: 0.4284061432831955\n",
      "ROC AUC: 0.7240925819040948\n",
      "\n",
      "Model: RandomForestClassifier(max_depth=25, random_state=0)\n",
      "\n"
     ]
    },
    {
     "data": {
      "text/plain": [
       "array([[2000,  238],\n",
       "       [ 497,  331]], dtype=int64)"
      ]
     },
     "metadata": {},
     "output_type": "display_data"
    },
    {
     "name": "stdout",
     "output_type": "stream",
     "text": [
      "Cross Val:\n",
      "Acc: 0.7716150081566068\n",
      "Precision: 0.5422280093444888\n",
      "Recall: 0.43123299888517275\n",
      "f1: 0.4798785800290621\n",
      "ROC AUC: 0.7636678007955033\n",
      "\n",
      "Model: RandomForestClassifier(max_depth=30, random_state=0)\n",
      "\n"
     ]
    },
    {
     "data": {
      "text/plain": [
       "array([[1936,  302],\n",
       "       [ 535,  293]], dtype=int64)"
      ]
     },
     "metadata": {},
     "output_type": "display_data"
    },
    {
     "name": "stdout",
     "output_type": "stream",
     "text": [
      "Cross Val:\n",
      "Acc: 0.7445350734094617\n",
      "Precision: 0.47272341728864775\n",
      "Recall: 0.3915072463768116\n",
      "f1: 0.4279554588789131\n",
      "ROC AUC: 0.7224621995756462\n",
      "\n",
      "Model: RandomForestClassifier(max_depth=30, random_state=0)\n",
      "\n"
     ]
    },
    {
     "data": {
      "text/plain": [
       "array([[1996,  242],\n",
       "       [ 494,  334]], dtype=int64)"
      ]
     },
     "metadata": {},
     "output_type": "display_data"
    },
    {
     "name": "stdout",
     "output_type": "stream",
     "text": [
      "Cross Val:\n",
      "Acc: 0.7732463295269167\n",
      "Precision: 0.5468333231123028\n",
      "Recall: 0.43156187290969905\n",
      "f1: 0.48194335891622514\n",
      "ROC AUC: 0.7630892065063668\n",
      "\n",
      "Model: RandomForestClassifier(max_depth=35, random_state=0)\n",
      "\n"
     ]
    },
    {
     "data": {
      "text/plain": [
       "array([[1936,  302],\n",
       "       [ 534,  294]], dtype=int64)"
      ]
     },
     "metadata": {},
     "output_type": "display_data"
    },
    {
     "name": "stdout",
     "output_type": "stream",
     "text": [
      "Cross Val:\n",
      "Acc: 0.7444535073409461\n",
      "Precision: 0.472428891355882\n",
      "Recall: 0.39084057971014496\n",
      "f1: 0.42742413761776393\n",
      "ROC AUC: 0.7227030479708586\n",
      "\n",
      "Model: RandomForestClassifier(max_depth=35, random_state=0)\n",
      "\n"
     ]
    },
    {
     "data": {
      "text/plain": [
       "array([[2000,  238],\n",
       "       [ 495,  333]], dtype=int64)"
      ]
     },
     "metadata": {},
     "output_type": "display_data"
    },
    {
     "name": "stdout",
     "output_type": "stream",
     "text": [
      "Cross Val:\n",
      "Acc: 0.7725122349102773\n",
      "Precision: 0.5450068217342994\n",
      "Recall: 0.4319007803790413\n",
      "f1: 0.4815095517038208\n",
      "ROC AUC: 0.7628566541926052\n",
      "\n",
      "Model: RandomForestClassifier(max_depth=40, random_state=0)\n",
      "\n"
     ]
    },
    {
     "data": {
      "text/plain": [
       "array([[1936,  302],\n",
       "       [ 536,  292]], dtype=int64)"
      ]
     },
     "metadata": {},
     "output_type": "display_data"
    },
    {
     "name": "stdout",
     "output_type": "stream",
     "text": [
      "Cross Val:\n",
      "Acc: 0.7443719412724307\n",
      "Precision: 0.4722994377900201\n",
      "Recall: 0.39117391304347826\n",
      "f1: 0.4275855209484417\n",
      "ROC AUC: 0.7226001821409633\n",
      "\n",
      "Model: RandomForestClassifier(max_depth=40, random_state=0)\n",
      "\n"
     ]
    },
    {
     "data": {
      "text/plain": [
       "array([[2000,  238],\n",
       "       [ 495,  333]], dtype=int64)"
      ]
     },
     "metadata": {},
     "output_type": "display_data"
    },
    {
     "name": "stdout",
     "output_type": "stream",
     "text": [
      "Cross Val:\n",
      "Acc: 0.7724306688417618\n",
      "Precision: 0.5447225840082011\n",
      "Recall: 0.4319007803790413\n",
      "f1: 0.4814102064791651\n",
      "ROC AUC: 0.762861153832634\n",
      "\n",
      "Model: RandomForestClassifier(max_depth=45, random_state=0)\n",
      "\n"
     ]
    },
    {
     "data": {
      "text/plain": [
       "array([[1936,  302],\n",
       "       [ 536,  292]], dtype=int64)"
      ]
     },
     "metadata": {},
     "output_type": "display_data"
    },
    {
     "name": "stdout",
     "output_type": "stream",
     "text": [
      "Cross Val:\n",
      "Acc: 0.7443719412724307\n",
      "Precision: 0.4722994377900201\n",
      "Recall: 0.39117391304347826\n",
      "f1: 0.4275855209484417\n",
      "ROC AUC: 0.7226001821409633\n",
      "\n",
      "Model: RandomForestClassifier(max_depth=45, random_state=0)\n",
      "\n"
     ]
    },
    {
     "data": {
      "text/plain": [
       "array([[2000,  238],\n",
       "       [ 495,  333]], dtype=int64)"
      ]
     },
     "metadata": {},
     "output_type": "display_data"
    },
    {
     "name": "stdout",
     "output_type": "stream",
     "text": [
      "Cross Val:\n",
      "Acc: 0.7724306688417618\n",
      "Precision: 0.5447225840082011\n",
      "Recall: 0.4319007803790413\n",
      "f1: 0.4814102064791651\n",
      "ROC AUC: 0.762861153832634\n",
      "\n",
      "Model: RandomForestClassifier(max_depth=50, random_state=0)\n",
      "\n"
     ]
    },
    {
     "data": {
      "text/plain": [
       "array([[1936,  302],\n",
       "       [ 536,  292]], dtype=int64)"
      ]
     },
     "metadata": {},
     "output_type": "display_data"
    },
    {
     "name": "stdout",
     "output_type": "stream",
     "text": [
      "Cross Val:\n",
      "Acc: 0.7443719412724307\n",
      "Precision: 0.4722994377900201\n",
      "Recall: 0.39117391304347826\n",
      "f1: 0.4275855209484417\n",
      "ROC AUC: 0.7226001821409633\n",
      "\n",
      "Model: RandomForestClassifier(max_depth=50, random_state=0)\n",
      "\n"
     ]
    },
    {
     "data": {
      "text/plain": [
       "array([[2000,  238],\n",
       "       [ 495,  333]], dtype=int64)"
      ]
     },
     "metadata": {},
     "output_type": "display_data"
    },
    {
     "name": "stdout",
     "output_type": "stream",
     "text": [
      "Cross Val:\n",
      "Acc: 0.7724306688417618\n",
      "Precision: 0.5447225840082011\n",
      "Recall: 0.4319007803790413\n",
      "f1: 0.4814102064791651\n",
      "ROC AUC: 0.762861153832634\n",
      "\n",
      "Model: RandomForestClassifier(max_depth=55, random_state=0)\n",
      "\n"
     ]
    },
    {
     "data": {
      "text/plain": [
       "array([[1936,  302],\n",
       "       [ 536,  292]], dtype=int64)"
      ]
     },
     "metadata": {},
     "output_type": "display_data"
    },
    {
     "name": "stdout",
     "output_type": "stream",
     "text": [
      "Cross Val:\n",
      "Acc: 0.7443719412724307\n",
      "Precision: 0.4722994377900201\n",
      "Recall: 0.39117391304347826\n",
      "f1: 0.4275855209484417\n",
      "ROC AUC: 0.7226001821409633\n",
      "\n",
      "Model: RandomForestClassifier(max_depth=55, random_state=0)\n",
      "\n"
     ]
    },
    {
     "data": {
      "text/plain": [
       "array([[2000,  238],\n",
       "       [ 495,  333]], dtype=int64)"
      ]
     },
     "metadata": {},
     "output_type": "display_data"
    },
    {
     "name": "stdout",
     "output_type": "stream",
     "text": [
      "Cross Val:\n",
      "Acc: 0.7724306688417618\n",
      "Precision: 0.5447225840082011\n",
      "Recall: 0.4319007803790413\n",
      "f1: 0.4814102064791651\n",
      "ROC AUC: 0.762861153832634\n",
      "\n",
      "Model: RandomForestClassifier(max_depth=60, random_state=0)\n",
      "\n"
     ]
    },
    {
     "data": {
      "text/plain": [
       "array([[1936,  302],\n",
       "       [ 536,  292]], dtype=int64)"
      ]
     },
     "metadata": {},
     "output_type": "display_data"
    },
    {
     "name": "stdout",
     "output_type": "stream",
     "text": [
      "Cross Val:\n",
      "Acc: 0.7443719412724307\n",
      "Precision: 0.4722994377900201\n",
      "Recall: 0.39117391304347826\n",
      "f1: 0.4275855209484417\n",
      "ROC AUC: 0.7226001821409633\n",
      "\n",
      "Model: RandomForestClassifier(max_depth=60, random_state=0)\n",
      "\n"
     ]
    },
    {
     "data": {
      "text/plain": [
       "array([[2000,  238],\n",
       "       [ 495,  333]], dtype=int64)"
      ]
     },
     "metadata": {},
     "output_type": "display_data"
    },
    {
     "name": "stdout",
     "output_type": "stream",
     "text": [
      "Cross Val:\n",
      "Acc: 0.7724306688417618\n",
      "Precision: 0.5447225840082011\n",
      "Recall: 0.4319007803790413\n",
      "f1: 0.4814102064791651\n",
      "ROC AUC: 0.762861153832634\n",
      "\n",
      "Model: RandomForestClassifier(max_depth=65, random_state=0)\n",
      "\n"
     ]
    },
    {
     "data": {
      "text/plain": [
       "array([[1936,  302],\n",
       "       [ 536,  292]], dtype=int64)"
      ]
     },
     "metadata": {},
     "output_type": "display_data"
    },
    {
     "name": "stdout",
     "output_type": "stream",
     "text": [
      "Cross Val:\n",
      "Acc: 0.7443719412724307\n",
      "Precision: 0.4722994377900201\n",
      "Recall: 0.39117391304347826\n",
      "f1: 0.4275855209484417\n",
      "ROC AUC: 0.7226001821409633\n",
      "\n",
      "Model: RandomForestClassifier(max_depth=65, random_state=0)\n",
      "\n"
     ]
    },
    {
     "data": {
      "text/plain": [
       "array([[2000,  238],\n",
       "       [ 495,  333]], dtype=int64)"
      ]
     },
     "metadata": {},
     "output_type": "display_data"
    },
    {
     "name": "stdout",
     "output_type": "stream",
     "text": [
      "Cross Val:\n",
      "Acc: 0.7724306688417618\n",
      "Precision: 0.5447225840082011\n",
      "Recall: 0.4319007803790413\n",
      "f1: 0.4814102064791651\n",
      "ROC AUC: 0.762861153832634\n",
      "\n",
      "Model: RandomForestClassifier(max_depth=70, random_state=0)\n",
      "\n"
     ]
    },
    {
     "data": {
      "text/plain": [
       "array([[1936,  302],\n",
       "       [ 536,  292]], dtype=int64)"
      ]
     },
     "metadata": {},
     "output_type": "display_data"
    },
    {
     "name": "stdout",
     "output_type": "stream",
     "text": [
      "Cross Val:\n",
      "Acc: 0.7443719412724307\n",
      "Precision: 0.4722994377900201\n",
      "Recall: 0.39117391304347826\n",
      "f1: 0.4275855209484417\n",
      "ROC AUC: 0.7226001821409633\n",
      "\n",
      "Model: RandomForestClassifier(max_depth=70, random_state=0)\n",
      "\n"
     ]
    },
    {
     "data": {
      "text/plain": [
       "array([[2000,  238],\n",
       "       [ 495,  333]], dtype=int64)"
      ]
     },
     "metadata": {},
     "output_type": "display_data"
    },
    {
     "name": "stdout",
     "output_type": "stream",
     "text": [
      "Cross Val:\n",
      "Acc: 0.7724306688417618\n",
      "Precision: 0.5447225840082011\n",
      "Recall: 0.4319007803790413\n",
      "f1: 0.4814102064791651\n",
      "ROC AUC: 0.762861153832634\n",
      "\n",
      "Model: RandomForestClassifier(max_depth=75, random_state=0)\n",
      "\n"
     ]
    },
    {
     "data": {
      "text/plain": [
       "array([[1936,  302],\n",
       "       [ 536,  292]], dtype=int64)"
      ]
     },
     "metadata": {},
     "output_type": "display_data"
    },
    {
     "name": "stdout",
     "output_type": "stream",
     "text": [
      "Cross Val:\n",
      "Acc: 0.7443719412724307\n",
      "Precision: 0.4722994377900201\n",
      "Recall: 0.39117391304347826\n",
      "f1: 0.4275855209484417\n",
      "ROC AUC: 0.7226001821409633\n",
      "\n",
      "Model: RandomForestClassifier(max_depth=75, random_state=0)\n",
      "\n"
     ]
    },
    {
     "data": {
      "text/plain": [
       "array([[2000,  238],\n",
       "       [ 495,  333]], dtype=int64)"
      ]
     },
     "metadata": {},
     "output_type": "display_data"
    },
    {
     "name": "stdout",
     "output_type": "stream",
     "text": [
      "Cross Val:\n",
      "Acc: 0.7724306688417618\n",
      "Precision: 0.5447225840082011\n",
      "Recall: 0.4319007803790413\n",
      "f1: 0.4814102064791651\n",
      "ROC AUC: 0.762861153832634\n",
      "\n",
      "Model: RandomForestClassifier(max_depth=80, random_state=0)\n",
      "\n"
     ]
    },
    {
     "data": {
      "text/plain": [
       "array([[1936,  302],\n",
       "       [ 536,  292]], dtype=int64)"
      ]
     },
     "metadata": {},
     "output_type": "display_data"
    },
    {
     "name": "stdout",
     "output_type": "stream",
     "text": [
      "Cross Val:\n",
      "Acc: 0.7443719412724307\n",
      "Precision: 0.4722994377900201\n",
      "Recall: 0.39117391304347826\n",
      "f1: 0.4275855209484417\n",
      "ROC AUC: 0.7226001821409633\n",
      "\n",
      "Model: RandomForestClassifier(max_depth=80, random_state=0)\n",
      "\n"
     ]
    },
    {
     "data": {
      "text/plain": [
       "array([[2000,  238],\n",
       "       [ 495,  333]], dtype=int64)"
      ]
     },
     "metadata": {},
     "output_type": "display_data"
    },
    {
     "name": "stdout",
     "output_type": "stream",
     "text": [
      "Cross Val:\n",
      "Acc: 0.7724306688417618\n",
      "Precision: 0.5447225840082011\n",
      "Recall: 0.4319007803790413\n",
      "f1: 0.4814102064791651\n",
      "ROC AUC: 0.762861153832634\n",
      "\n",
      "Model: RandomForestClassifier(max_depth=85, random_state=0)\n",
      "\n"
     ]
    },
    {
     "data": {
      "text/plain": [
       "array([[1936,  302],\n",
       "       [ 536,  292]], dtype=int64)"
      ]
     },
     "metadata": {},
     "output_type": "display_data"
    },
    {
     "name": "stdout",
     "output_type": "stream",
     "text": [
      "Cross Val:\n",
      "Acc: 0.7443719412724307\n",
      "Precision: 0.4722994377900201\n",
      "Recall: 0.39117391304347826\n",
      "f1: 0.4275855209484417\n",
      "ROC AUC: 0.7226001821409633\n",
      "\n",
      "Model: RandomForestClassifier(max_depth=85, random_state=0)\n",
      "\n"
     ]
    },
    {
     "data": {
      "text/plain": [
       "array([[2000,  238],\n",
       "       [ 495,  333]], dtype=int64)"
      ]
     },
     "metadata": {},
     "output_type": "display_data"
    },
    {
     "name": "stdout",
     "output_type": "stream",
     "text": [
      "Cross Val:\n",
      "Acc: 0.7724306688417618\n",
      "Precision: 0.5447225840082011\n",
      "Recall: 0.4319007803790413\n",
      "f1: 0.4814102064791651\n",
      "ROC AUC: 0.762861153832634\n",
      "\n",
      "Model: RandomForestClassifier(max_depth=90, random_state=0)\n",
      "\n"
     ]
    },
    {
     "data": {
      "text/plain": [
       "array([[1936,  302],\n",
       "       [ 536,  292]], dtype=int64)"
      ]
     },
     "metadata": {},
     "output_type": "display_data"
    },
    {
     "name": "stdout",
     "output_type": "stream",
     "text": [
      "Cross Val:\n",
      "Acc: 0.7443719412724307\n",
      "Precision: 0.4722994377900201\n",
      "Recall: 0.39117391304347826\n",
      "f1: 0.4275855209484417\n",
      "ROC AUC: 0.7226001821409633\n",
      "\n",
      "Model: RandomForestClassifier(max_depth=90, random_state=0)\n",
      "\n"
     ]
    },
    {
     "data": {
      "text/plain": [
       "array([[2000,  238],\n",
       "       [ 495,  333]], dtype=int64)"
      ]
     },
     "metadata": {},
     "output_type": "display_data"
    },
    {
     "name": "stdout",
     "output_type": "stream",
     "text": [
      "Cross Val:\n",
      "Acc: 0.7724306688417618\n",
      "Precision: 0.5447225840082011\n",
      "Recall: 0.4319007803790413\n",
      "f1: 0.4814102064791651\n",
      "ROC AUC: 0.762861153832634\n",
      "\n",
      "Model: RandomForestClassifier(max_depth=95, random_state=0)\n",
      "\n"
     ]
    },
    {
     "data": {
      "text/plain": [
       "array([[1936,  302],\n",
       "       [ 536,  292]], dtype=int64)"
      ]
     },
     "metadata": {},
     "output_type": "display_data"
    },
    {
     "name": "stdout",
     "output_type": "stream",
     "text": [
      "Cross Val:\n",
      "Acc: 0.7443719412724307\n",
      "Precision: 0.4722994377900201\n",
      "Recall: 0.39117391304347826\n",
      "f1: 0.4275855209484417\n",
      "ROC AUC: 0.7226001821409633\n",
      "\n",
      "Model: RandomForestClassifier(max_depth=95, random_state=0)\n",
      "\n"
     ]
    },
    {
     "data": {
      "text/plain": [
       "array([[2000,  238],\n",
       "       [ 495,  333]], dtype=int64)"
      ]
     },
     "metadata": {},
     "output_type": "display_data"
    },
    {
     "name": "stdout",
     "output_type": "stream",
     "text": [
      "Cross Val:\n",
      "Acc: 0.7724306688417618\n",
      "Precision: 0.5447225840082011\n",
      "Recall: 0.4319007803790413\n",
      "f1: 0.4814102064791651\n",
      "ROC AUC: 0.762861153832634\n",
      "\n",
      "Model: RandomForestClassifier(max_depth=5, random_state=0)\n",
      "\n"
     ]
    },
    {
     "data": {
      "text/plain": [
       "array([[2042,  198],\n",
       "       [ 492,  334]], dtype=int64)"
      ]
     },
     "metadata": {},
     "output_type": "display_data"
    },
    {
     "name": "stdout",
     "output_type": "stream",
     "text": [
      "Cross Val:\n",
      "Acc: 0.785725938009788\n",
      "Precision: 0.5892045144667419\n",
      "Recall: 0.4075919732441472\n",
      "f1: 0.48154875633194916\n",
      "ROC AUC: 0.7768081291971168\n",
      "\n",
      "Model: RandomForestClassifier(max_depth=5, random_state=0)\n",
      "\n"
     ]
    },
    {
     "data": {
      "text/plain": [
       "array([[2052,  188],\n",
       "       [ 503,  323]], dtype=int64)"
      ]
     },
     "metadata": {},
     "output_type": "display_data"
    },
    {
     "name": "stdout",
     "output_type": "stream",
     "text": [
      "Cross Val:\n",
      "Acc: 0.7849918433931485\n",
      "Precision: 0.5899083602156172\n",
      "Recall: 0.3965886287625418\n",
      "f1: 0.4738777434627056\n",
      "ROC AUC: 0.7879572607708285\n",
      "\n",
      "Model: RandomForestClassifier(max_depth=10, random_state=0)\n",
      "\n"
     ]
    },
    {
     "data": {
      "text/plain": [
       "array([[2052,  188],\n",
       "       [ 517,  309]], dtype=int64)"
      ]
     },
     "metadata": {},
     "output_type": "display_data"
    },
    {
     "name": "stdout",
     "output_type": "stream",
     "text": [
      "Cross Val:\n",
      "Acc: 0.7785481239804242\n",
      "Precision: 0.5732996270464044\n",
      "Recall: 0.36988740245261986\n",
      "f1: 0.4492532624090783\n",
      "ROC AUC: 0.7743366347115909\n",
      "\n",
      "Model: RandomForestClassifier(max_depth=10, random_state=0)\n",
      "\n"
     ]
    },
    {
     "data": {
      "text/plain": [
       "array([[2026,  214],\n",
       "       [ 482,  344]], dtype=int64)"
      ]
     },
     "metadata": {},
     "output_type": "display_data"
    },
    {
     "name": "stdout",
     "output_type": "stream",
     "text": [
      "Cross Val:\n",
      "Acc: 0.782300163132137\n",
      "Precision: 0.5741626340816463\n",
      "Recall: 0.42694648829431436\n",
      "f1: 0.48943147886662847\n",
      "ROC AUC: 0.7900057966268956\n",
      "\n",
      "Model: RandomForestClassifier(max_depth=15, random_state=0)\n",
      "\n"
     ]
    },
    {
     "data": {
      "text/plain": [
       "array([[2025,  215],\n",
       "       [ 526,  300]], dtype=int64)"
      ]
     },
     "metadata": {},
     "output_type": "display_data"
    },
    {
     "name": "stdout",
     "output_type": "stream",
     "text": [
      "Cross Val:\n",
      "Acc: 0.7604404567699837\n",
      "Precision: 0.5148626091637004\n",
      "Recall: 0.366561872909699\n",
      "f1: 0.42775889154365265\n",
      "ROC AUC: 0.7445449734946944\n",
      "\n",
      "Model: RandomForestClassifier(max_depth=15, random_state=0)\n",
      "\n"
     ]
    },
    {
     "data": {
      "text/plain": [
       "array([[1994,  246],\n",
       "       [ 463,  363]], dtype=int64)"
      ]
     },
     "metadata": {},
     "output_type": "display_data"
    },
    {
     "name": "stdout",
     "output_type": "stream",
     "text": [
      "Cross Val:\n",
      "Acc: 0.7758564437194126\n",
      "Precision: 0.5525541130786886\n",
      "Recall: 0.442288740245262\n",
      "f1: 0.4909924067443961\n",
      "ROC AUC: 0.7783393671221501\n",
      "\n",
      "Model: RandomForestClassifier(max_depth=20, random_state=0)\n",
      "\n"
     ]
    },
    {
     "data": {
      "text/plain": [
       "array([[1942,  298],\n",
       "       [ 511,  315]], dtype=int64)"
      ]
     },
     "metadata": {},
     "output_type": "display_data"
    },
    {
     "name": "stdout",
     "output_type": "stream",
     "text": [
      "Cross Val:\n",
      "Acc: 0.7362153344208809\n",
      "Precision: 0.4527154078300558\n",
      "Recall: 0.369561872909699\n",
      "f1: 0.4065820554613702\n",
      "ROC AUC: 0.718654429161399\n",
      "\n",
      "Model: RandomForestClassifier(max_depth=20, random_state=0)\n",
      "\n"
     ]
    },
    {
     "data": {
      "text/plain": [
       "array([[1967,  273],\n",
       "       [ 476,  350]], dtype=int64)"
      ]
     },
     "metadata": {},
     "output_type": "display_data"
    },
    {
     "name": "stdout",
     "output_type": "stream",
     "text": [
      "Cross Val:\n",
      "Acc: 0.7694942903752039\n",
      "Precision: 0.5360240238407709\n",
      "Recall: 0.4266209587513935\n",
      "f1: 0.47484125901867735\n",
      "ROC AUC: 0.762864005549816\n",
      "\n",
      "Model: RandomForestClassifier(max_depth=25, random_state=0)\n",
      "\n"
     ]
    },
    {
     "data": {
      "text/plain": [
       "array([[1934,  306],\n",
       "       [ 503,  323]], dtype=int64)"
      ]
     },
     "metadata": {},
     "output_type": "display_data"
    },
    {
     "name": "stdout",
     "output_type": "stream",
     "text": [
      "Cross Val:\n",
      "Acc: 0.7329526916802611\n",
      "Precision: 0.44473776246737734\n",
      "Recall: 0.3675574136008919\n",
      "f1: 0.4021795923297987\n",
      "ROC AUC: 0.7100039162311701\n",
      "\n",
      "Model: RandomForestClassifier(max_depth=25, random_state=0)\n",
      "\n"
     ]
    },
    {
     "data": {
      "text/plain": [
       "array([[1966,  274],\n",
       "       [ 482,  344]], dtype=int64)"
      ]
     },
     "metadata": {},
     "output_type": "display_data"
    },
    {
     "name": "stdout",
     "output_type": "stream",
     "text": [
      "Cross Val:\n",
      "Acc: 0.7623164763458401\n",
      "Precision: 0.5172110377373722\n",
      "Recall: 0.4199487179487179\n",
      "f1: 0.46324139358141175\n",
      "ROC AUC: 0.7491432228617476\n",
      "\n",
      "Model: RandomForestClassifier(max_depth=30, random_state=0)\n",
      "\n"
     ]
    },
    {
     "data": {
      "text/plain": [
       "array([[1937,  303],\n",
       "       [ 506,  320]], dtype=int64)"
      ]
     },
     "metadata": {},
     "output_type": "display_data"
    },
    {
     "name": "stdout",
     "output_type": "stream",
     "text": [
      "Cross Val:\n",
      "Acc: 0.7341761827079936\n",
      "Precision: 0.4475335997896891\n",
      "Recall: 0.3682285395763657\n",
      "f1: 0.40380291348933095\n",
      "ROC AUC: 0.7102503193691967\n",
      "\n",
      "Model: RandomForestClassifier(max_depth=30, random_state=0)\n",
      "\n"
     ]
    },
    {
     "data": {
      "text/plain": [
       "array([[1965,  275],\n",
       "       [ 487,  339]], dtype=int64)"
      ]
     },
     "metadata": {},
     "output_type": "display_data"
    },
    {
     "name": "stdout",
     "output_type": "stream",
     "text": [
      "Cross Val:\n",
      "Acc: 0.7602773246329527\n",
      "Precision: 0.5123558544961865\n",
      "Recall: 0.416613154960981\n",
      "f1: 0.4592798640820158\n",
      "ROC AUC: 0.7467543321221772\n",
      "\n",
      "Model: RandomForestClassifier(max_depth=35, random_state=0)\n",
      "\n"
     ]
    },
    {
     "data": {
      "text/plain": [
       "array([[1935,  305],\n",
       "       [ 502,  324]], dtype=int64)"
      ]
     },
     "metadata": {},
     "output_type": "display_data"
    },
    {
     "name": "stdout",
     "output_type": "stream",
     "text": [
      "Cross Val:\n",
      "Acc: 0.7343393148450245\n",
      "Precision: 0.4478246041925488\n",
      "Recall: 0.3692296544035674\n",
      "f1: 0.4045105847771516\n",
      "ROC AUC: 0.7103566989771511\n",
      "\n",
      "Model: RandomForestClassifier(max_depth=35, random_state=0)\n",
      "\n"
     ]
    },
    {
     "data": {
      "text/plain": [
       "array([[1964,  276],\n",
       "       [ 490,  336]], dtype=int64)"
      ]
     },
     "metadata": {},
     "output_type": "display_data"
    },
    {
     "name": "stdout",
     "output_type": "stream",
     "text": [
      "Cross Val:\n",
      "Acc: 0.7610929853181077\n",
      "Precision: 0.5143172256719444\n",
      "Recall: 0.416613154960981\n",
      "f1: 0.4600205013787903\n",
      "ROC AUC: 0.7468975208086546\n",
      "\n",
      "Model: RandomForestClassifier(max_depth=40, random_state=0)\n",
      "\n"
     ]
    },
    {
     "data": {
      "text/plain": [
       "array([[1936,  304],\n",
       "       [ 503,  323]], dtype=int64)"
      ]
     },
     "metadata": {},
     "output_type": "display_data"
    },
    {
     "name": "stdout",
     "output_type": "stream",
     "text": [
      "Cross Val:\n",
      "Acc: 0.734257748776509\n",
      "Precision: 0.44763014393832756\n",
      "Recall: 0.3688963210702341\n",
      "f1: 0.40423243437866674\n",
      "ROC AUC: 0.7103755974652722\n",
      "\n",
      "Model: RandomForestClassifier(max_depth=40, random_state=0)\n",
      "\n"
     ]
    },
    {
     "data": {
      "text/plain": [
       "array([[1963,  277],\n",
       "       [ 491,  335]], dtype=int64)"
      ]
     },
     "metadata": {},
     "output_type": "display_data"
    },
    {
     "name": "stdout",
     "output_type": "stream",
     "text": [
      "Cross Val:\n",
      "Acc: 0.7608482871125611\n",
      "Precision: 0.5135912786966842\n",
      "Recall: 0.41727982162764776\n",
      "f1: 0.46016266178231185\n",
      "ROC AUC: 0.7469082910117523\n",
      "\n",
      "Model: RandomForestClassifier(max_depth=45, random_state=0)\n",
      "\n"
     ]
    },
    {
     "data": {
      "text/plain": [
       "array([[1936,  304],\n",
       "       [ 503,  323]], dtype=int64)"
      ]
     },
     "metadata": {},
     "output_type": "display_data"
    },
    {
     "name": "stdout",
     "output_type": "stream",
     "text": [
      "Cross Val:\n",
      "Acc: 0.734257748776509\n",
      "Precision: 0.44763014393832756\n",
      "Recall: 0.3688963210702341\n",
      "f1: 0.40423243437866674\n",
      "ROC AUC: 0.7103755974652722\n",
      "\n",
      "Model: RandomForestClassifier(max_depth=45, random_state=0)\n",
      "\n"
     ]
    },
    {
     "data": {
      "text/plain": [
       "array([[1963,  277],\n",
       "       [ 492,  334]], dtype=int64)"
      ]
     },
     "metadata": {},
     "output_type": "display_data"
    },
    {
     "name": "stdout",
     "output_type": "stream",
     "text": [
      "Cross Val:\n",
      "Acc: 0.7608482871125611\n",
      "Precision: 0.5135912786966842\n",
      "Recall: 0.41727982162764776\n",
      "f1: 0.46016266178231185\n",
      "ROC AUC: 0.7469082910117523\n",
      "\n",
      "Model: RandomForestClassifier(max_depth=50, random_state=0)\n",
      "\n"
     ]
    },
    {
     "data": {
      "text/plain": [
       "array([[1936,  304],\n",
       "       [ 503,  323]], dtype=int64)"
      ]
     },
     "metadata": {},
     "output_type": "display_data"
    },
    {
     "name": "stdout",
     "output_type": "stream",
     "text": [
      "Cross Val:\n",
      "Acc: 0.734257748776509\n",
      "Precision: 0.44763014393832756\n",
      "Recall: 0.3688963210702341\n",
      "f1: 0.40423243437866674\n",
      "ROC AUC: 0.7103755974652722\n",
      "\n",
      "Model: RandomForestClassifier(max_depth=50, random_state=0)\n",
      "\n"
     ]
    },
    {
     "data": {
      "text/plain": [
       "array([[1963,  277],\n",
       "       [ 492,  334]], dtype=int64)"
      ]
     },
     "metadata": {},
     "output_type": "display_data"
    },
    {
     "name": "stdout",
     "output_type": "stream",
     "text": [
      "Cross Val:\n",
      "Acc: 0.7608482871125611\n",
      "Precision: 0.5135912786966842\n",
      "Recall: 0.41727982162764776\n",
      "f1: 0.46016266178231185\n",
      "ROC AUC: 0.7469082910117523\n",
      "\n",
      "Model: RandomForestClassifier(max_depth=55, random_state=0)\n",
      "\n"
     ]
    },
    {
     "data": {
      "text/plain": [
       "array([[1936,  304],\n",
       "       [ 503,  323]], dtype=int64)"
      ]
     },
     "metadata": {},
     "output_type": "display_data"
    },
    {
     "name": "stdout",
     "output_type": "stream",
     "text": [
      "Cross Val:\n",
      "Acc: 0.734257748776509\n",
      "Precision: 0.44763014393832756\n",
      "Recall: 0.3688963210702341\n",
      "f1: 0.40423243437866674\n",
      "ROC AUC: 0.7103755974652722\n",
      "\n",
      "Model: RandomForestClassifier(max_depth=55, random_state=0)\n",
      "\n"
     ]
    },
    {
     "data": {
      "text/plain": [
       "array([[1963,  277],\n",
       "       [ 492,  334]], dtype=int64)"
      ]
     },
     "metadata": {},
     "output_type": "display_data"
    },
    {
     "name": "stdout",
     "output_type": "stream",
     "text": [
      "Cross Val:\n",
      "Acc: 0.7608482871125611\n",
      "Precision: 0.5135912786966842\n",
      "Recall: 0.41727982162764776\n",
      "f1: 0.46016266178231185\n",
      "ROC AUC: 0.7469082910117523\n",
      "\n",
      "Model: RandomForestClassifier(max_depth=60, random_state=0)\n",
      "\n"
     ]
    },
    {
     "data": {
      "text/plain": [
       "array([[1936,  304],\n",
       "       [ 503,  323]], dtype=int64)"
      ]
     },
     "metadata": {},
     "output_type": "display_data"
    },
    {
     "name": "stdout",
     "output_type": "stream",
     "text": [
      "Cross Val:\n",
      "Acc: 0.734257748776509\n",
      "Precision: 0.44763014393832756\n",
      "Recall: 0.3688963210702341\n",
      "f1: 0.40423243437866674\n",
      "ROC AUC: 0.7103755974652722\n",
      "\n",
      "Model: RandomForestClassifier(max_depth=60, random_state=0)\n",
      "\n"
     ]
    },
    {
     "data": {
      "text/plain": [
       "array([[1963,  277],\n",
       "       [ 492,  334]], dtype=int64)"
      ]
     },
     "metadata": {},
     "output_type": "display_data"
    },
    {
     "name": "stdout",
     "output_type": "stream",
     "text": [
      "Cross Val:\n",
      "Acc: 0.7608482871125611\n",
      "Precision: 0.5135912786966842\n",
      "Recall: 0.41727982162764776\n",
      "f1: 0.46016266178231185\n",
      "ROC AUC: 0.7469082910117523\n",
      "\n",
      "Model: RandomForestClassifier(max_depth=65, random_state=0)\n",
      "\n"
     ]
    },
    {
     "data": {
      "text/plain": [
       "array([[1936,  304],\n",
       "       [ 503,  323]], dtype=int64)"
      ]
     },
     "metadata": {},
     "output_type": "display_data"
    },
    {
     "name": "stdout",
     "output_type": "stream",
     "text": [
      "Cross Val:\n",
      "Acc: 0.734257748776509\n",
      "Precision: 0.44763014393832756\n",
      "Recall: 0.3688963210702341\n",
      "f1: 0.40423243437866674\n",
      "ROC AUC: 0.7103755974652722\n",
      "\n",
      "Model: RandomForestClassifier(max_depth=65, random_state=0)\n",
      "\n"
     ]
    },
    {
     "data": {
      "text/plain": [
       "array([[1963,  277],\n",
       "       [ 492,  334]], dtype=int64)"
      ]
     },
     "metadata": {},
     "output_type": "display_data"
    },
    {
     "name": "stdout",
     "output_type": "stream",
     "text": [
      "Cross Val:\n",
      "Acc: 0.7608482871125611\n",
      "Precision: 0.5135912786966842\n",
      "Recall: 0.41727982162764776\n",
      "f1: 0.46016266178231185\n",
      "ROC AUC: 0.7469082910117523\n",
      "\n",
      "Model: RandomForestClassifier(max_depth=70, random_state=0)\n",
      "\n"
     ]
    },
    {
     "data": {
      "text/plain": [
       "array([[1936,  304],\n",
       "       [ 503,  323]], dtype=int64)"
      ]
     },
     "metadata": {},
     "output_type": "display_data"
    },
    {
     "name": "stdout",
     "output_type": "stream",
     "text": [
      "Cross Val:\n",
      "Acc: 0.734257748776509\n",
      "Precision: 0.44763014393832756\n",
      "Recall: 0.3688963210702341\n",
      "f1: 0.40423243437866674\n",
      "ROC AUC: 0.7103755974652722\n",
      "\n",
      "Model: RandomForestClassifier(max_depth=70, random_state=0)\n",
      "\n"
     ]
    },
    {
     "data": {
      "text/plain": [
       "array([[1963,  277],\n",
       "       [ 492,  334]], dtype=int64)"
      ]
     },
     "metadata": {},
     "output_type": "display_data"
    },
    {
     "name": "stdout",
     "output_type": "stream",
     "text": [
      "Cross Val:\n",
      "Acc: 0.7608482871125611\n",
      "Precision: 0.5135912786966842\n",
      "Recall: 0.41727982162764776\n",
      "f1: 0.46016266178231185\n",
      "ROC AUC: 0.7469082910117523\n",
      "\n",
      "Model: RandomForestClassifier(max_depth=75, random_state=0)\n",
      "\n"
     ]
    },
    {
     "data": {
      "text/plain": [
       "array([[1936,  304],\n",
       "       [ 503,  323]], dtype=int64)"
      ]
     },
     "metadata": {},
     "output_type": "display_data"
    },
    {
     "name": "stdout",
     "output_type": "stream",
     "text": [
      "Cross Val:\n",
      "Acc: 0.734257748776509\n",
      "Precision: 0.44763014393832756\n",
      "Recall: 0.3688963210702341\n",
      "f1: 0.40423243437866674\n",
      "ROC AUC: 0.7103755974652722\n",
      "\n",
      "Model: RandomForestClassifier(max_depth=75, random_state=0)\n",
      "\n"
     ]
    },
    {
     "data": {
      "text/plain": [
       "array([[1963,  277],\n",
       "       [ 492,  334]], dtype=int64)"
      ]
     },
     "metadata": {},
     "output_type": "display_data"
    },
    {
     "name": "stdout",
     "output_type": "stream",
     "text": [
      "Cross Val:\n",
      "Acc: 0.7608482871125611\n",
      "Precision: 0.5135912786966842\n",
      "Recall: 0.41727982162764776\n",
      "f1: 0.46016266178231185\n",
      "ROC AUC: 0.7469082910117523\n",
      "\n",
      "Model: RandomForestClassifier(max_depth=80, random_state=0)\n",
      "\n"
     ]
    },
    {
     "data": {
      "text/plain": [
       "array([[1936,  304],\n",
       "       [ 503,  323]], dtype=int64)"
      ]
     },
     "metadata": {},
     "output_type": "display_data"
    },
    {
     "name": "stdout",
     "output_type": "stream",
     "text": [
      "Cross Val:\n",
      "Acc: 0.734257748776509\n",
      "Precision: 0.44763014393832756\n",
      "Recall: 0.3688963210702341\n",
      "f1: 0.40423243437866674\n",
      "ROC AUC: 0.7103755974652722\n",
      "\n",
      "Model: RandomForestClassifier(max_depth=80, random_state=0)\n",
      "\n"
     ]
    },
    {
     "data": {
      "text/plain": [
       "array([[1963,  277],\n",
       "       [ 492,  334]], dtype=int64)"
      ]
     },
     "metadata": {},
     "output_type": "display_data"
    },
    {
     "name": "stdout",
     "output_type": "stream",
     "text": [
      "Cross Val:\n",
      "Acc: 0.7608482871125611\n",
      "Precision: 0.5135912786966842\n",
      "Recall: 0.41727982162764776\n",
      "f1: 0.46016266178231185\n",
      "ROC AUC: 0.7469082910117523\n",
      "\n",
      "Model: RandomForestClassifier(max_depth=85, random_state=0)\n",
      "\n"
     ]
    },
    {
     "data": {
      "text/plain": [
       "array([[1936,  304],\n",
       "       [ 503,  323]], dtype=int64)"
      ]
     },
     "metadata": {},
     "output_type": "display_data"
    },
    {
     "name": "stdout",
     "output_type": "stream",
     "text": [
      "Cross Val:\n",
      "Acc: 0.734257748776509\n",
      "Precision: 0.44763014393832756\n",
      "Recall: 0.3688963210702341\n",
      "f1: 0.40423243437866674\n",
      "ROC AUC: 0.7103755974652722\n",
      "\n",
      "Model: RandomForestClassifier(max_depth=85, random_state=0)\n",
      "\n"
     ]
    },
    {
     "data": {
      "text/plain": [
       "array([[1963,  277],\n",
       "       [ 492,  334]], dtype=int64)"
      ]
     },
     "metadata": {},
     "output_type": "display_data"
    },
    {
     "name": "stdout",
     "output_type": "stream",
     "text": [
      "Cross Val:\n",
      "Acc: 0.7608482871125611\n",
      "Precision: 0.5135912786966842\n",
      "Recall: 0.41727982162764776\n",
      "f1: 0.46016266178231185\n",
      "ROC AUC: 0.7469082910117523\n",
      "\n",
      "Model: RandomForestClassifier(max_depth=90, random_state=0)\n",
      "\n"
     ]
    },
    {
     "data": {
      "text/plain": [
       "array([[1936,  304],\n",
       "       [ 503,  323]], dtype=int64)"
      ]
     },
     "metadata": {},
     "output_type": "display_data"
    },
    {
     "name": "stdout",
     "output_type": "stream",
     "text": [
      "Cross Val:\n",
      "Acc: 0.734257748776509\n",
      "Precision: 0.44763014393832756\n",
      "Recall: 0.3688963210702341\n",
      "f1: 0.40423243437866674\n",
      "ROC AUC: 0.7103755974652722\n",
      "\n",
      "Model: RandomForestClassifier(max_depth=90, random_state=0)\n",
      "\n"
     ]
    },
    {
     "data": {
      "text/plain": [
       "array([[1963,  277],\n",
       "       [ 492,  334]], dtype=int64)"
      ]
     },
     "metadata": {},
     "output_type": "display_data"
    },
    {
     "name": "stdout",
     "output_type": "stream",
     "text": [
      "Cross Val:\n",
      "Acc: 0.7608482871125611\n",
      "Precision: 0.5135912786966842\n",
      "Recall: 0.41727982162764776\n",
      "f1: 0.46016266178231185\n",
      "ROC AUC: 0.7469082910117523\n",
      "\n",
      "Model: RandomForestClassifier(max_depth=95, random_state=0)\n",
      "\n"
     ]
    },
    {
     "data": {
      "text/plain": [
       "array([[1936,  304],\n",
       "       [ 503,  323]], dtype=int64)"
      ]
     },
     "metadata": {},
     "output_type": "display_data"
    },
    {
     "name": "stdout",
     "output_type": "stream",
     "text": [
      "Cross Val:\n",
      "Acc: 0.734257748776509\n",
      "Precision: 0.44763014393832756\n",
      "Recall: 0.3688963210702341\n",
      "f1: 0.40423243437866674\n",
      "ROC AUC: 0.7103755974652722\n",
      "\n",
      "Model: RandomForestClassifier(max_depth=95, random_state=0)\n",
      "\n"
     ]
    },
    {
     "data": {
      "text/plain": [
       "array([[1963,  277],\n",
       "       [ 492,  334]], dtype=int64)"
      ]
     },
     "metadata": {},
     "output_type": "display_data"
    },
    {
     "name": "stdout",
     "output_type": "stream",
     "text": [
      "Cross Val:\n",
      "Acc: 0.7608482871125611\n",
      "Precision: 0.5135912786966842\n",
      "Recall: 0.41727982162764776\n",
      "f1: 0.46016266178231185\n",
      "ROC AUC: 0.7469082910117523\n",
      "((0.5609569109187434, 'GaussianNB() set = chi k = 17'), 'scale: True', 'normalize:True')\n",
      "((0.5730844958319649, 'GaussianNB() set = mic k = 23'), 'scale: True', 'normalize:True')\n",
      "((0.5781474680480874, 'GaussianNB() set = chi k = 17'), 'scale: False', 'normalize:False')\n",
      "((0.5819471143282539, 'ExtraTreeClassifier(max_depth=10, random_state=0) set = mic k = 10'), 'scale: True', 'normalize:True')\n",
      "((0.5979601155618705, 'DecisionTreeClassifier(max_depth=5, random_state=0) set = chi k = 7'), 'scale: True', 'normalize:True')\n",
      "((0.619504957502011, 'DecisionTreeClassifier(max_depth=10, random_state=0) set = mic k = 10'), 'scale: True', 'normalize:True')\n"
     ]
    }
   ],
   "source": [
    "#Model Test                                   \n",
    "for scale in [True,False]:\n",
    "    for normalize in [True,False]:\n",
    "            \n",
    "        #Extracting and Cleaning Data\n",
    "        data_cleaned = Data_Cleaning(pd.read_csv('z_train.csv'), \n",
    "                                     scale = scale, \n",
    "                                     normalize = normalize)\n",
    "        \n",
    "        #Train, Test Split\n",
    "        X = data_cleaned.drop(['target','enrollee_id'], axis = 1) \n",
    "        y = data_cleaned['target']\n",
    "        X_train, X_test, y_train, y_test = train_test_split(X, y, \n",
    "                                                            test_size=0.2)\n",
    "\n",
    "        X_train_fs_chi, X_test_fs_chi = select_features(X_train, y_train, X_test, \n",
    "                                                        chi2, \n",
    "                                                        k = 7)\n",
    "        X_train_fs_mic, X_test_fs_mic = select_features(X_train, y_train, X_test, \n",
    "                                                        mutual_info_classif, \n",
    "                                                        k = 10)\n",
    "        \n",
    "        \n",
    "        for max_depth in np.arange(5,100,5):\n",
    "            a = ModelTest(RandomForestClassifier(max_depth=max_depth,\n",
    "                                                random_state=0), #Model    \n",
    "                          X_train = X_train_fs_chi, X_test = X_test_fs_chi,\n",
    "                          y_train = y_train, y_test = y_test,\n",
    "                          typ = 'chi',\n",
    "                          k = 7)\n",
    "            metricss.append((a, \"scale: \" + str(scale), \"normalize:\" + str(normalize)))\n",
    "\n",
    "            a = ModelTest(RandomForestClassifier(max_depth=max_depth,\n",
    "                                                random_state=0), #Model          \n",
    "                          X_train = X_train_fs_mic, X_test = X_test_fs_mic,  #Best\n",
    "                          y_train = y_train, y_test = y_test,\n",
    "                          typ = 'mic',\n",
    "                          k = 10)\n",
    "            metricss.append((a, \"scale: \" + str(scale), \"normalize:\" + str(normalize)))\n",
    "temp = 0.001\n",
    "for metric in metricss:\n",
    "    if metric[0][0] > temp:\n",
    "        print(metric)\n",
    "        temp = metric[0][0]  "
   ]
  },
  {
   "cell_type": "code",
   "execution_count": 33,
   "metadata": {},
   "outputs": [
    {
     "name": "stdout",
     "output_type": "stream",
     "text": [
      "\n",
      "Model: KNeighborsClassifier()\n",
      "\n"
     ]
    },
    {
     "data": {
      "text/plain": [
       "array([[2058,  267],\n",
       "       [ 477,  264]], dtype=int64)"
      ]
     },
     "metadata": {},
     "output_type": "display_data"
    },
    {
     "name": "stdout",
     "output_type": "stream",
     "text": [
      "Cross Val:\n",
      "Acc: 0.7552202283849919\n",
      "Precision: 0.5184554995143587\n",
      "Recall: 0.38665048543689323\n",
      "f1: 0.4425277642336501\n",
      "ROC AUC: 0.7200961168368015\n",
      "\n",
      "Model: KNeighborsClassifier(weights='distance')\n",
      "\n"
     ]
    },
    {
     "data": {
      "text/plain": [
       "array([[2019,  306],\n",
       "       [ 395,  346]], dtype=int64)"
      ]
     },
     "metadata": {},
     "output_type": "display_data"
    },
    {
     "name": "stdout",
     "output_type": "stream",
     "text": [
      "Cross Val:\n",
      "Acc: 0.7589722675367048\n",
      "Precision: 0.5273432791702849\n",
      "Recall: 0.4174704745093095\n",
      "f1: 0.46536270116119216\n",
      "ROC AUC: 0.7216472379114447\n",
      "\n",
      "Model: KNeighborsClassifier(n_neighbors=10)\n",
      "\n"
     ]
    },
    {
     "data": {
      "text/plain": [
       "array([[2098,  227],\n",
       "       [ 489,  252]], dtype=int64)"
      ]
     },
     "metadata": {},
     "output_type": "display_data"
    },
    {
     "name": "stdout",
     "output_type": "stream",
     "text": [
      "Cross Val:\n",
      "Acc: 0.7648450244698205\n",
      "Precision: 0.5571535186538858\n",
      "Recall: 0.3208075904677846\n",
      "f1: 0.4059392462860142\n",
      "ROC AUC: 0.7513390610588613\n",
      "\n",
      "Model: KNeighborsClassifier(n_neighbors=10, weights='distance')\n",
      "\n"
     ]
    },
    {
     "data": {
      "text/plain": [
       "array([[2030,  295],\n",
       "       [ 400,  341]], dtype=int64)"
      ]
     },
     "metadata": {},
     "output_type": "display_data"
    },
    {
     "name": "stdout",
     "output_type": "stream",
     "text": [
      "Cross Val:\n",
      "Acc: 0.7609298531810766\n",
      "Precision: 0.5352171704933969\n",
      "Recall: 0.38762976505694946\n",
      "f1: 0.4491629413229055\n",
      "ROC AUC: 0.7316322101011383\n",
      "\n",
      "Model: KNeighborsClassifier(n_neighbors=15)\n",
      "\n"
     ]
    },
    {
     "data": {
      "text/plain": [
       "array([[2037,  288],\n",
       "       [ 416,  325]], dtype=int64)"
      ]
     },
     "metadata": {},
     "output_type": "display_data"
    },
    {
     "name": "stdout",
     "output_type": "stream",
     "text": [
      "Cross Val:\n",
      "Acc: 0.7687601957585644\n",
      "Precision: 0.5577271356583196\n",
      "Recall: 0.3918442399024923\n",
      "f1: 0.4594530526525422\n",
      "ROC AUC: 0.7606488490536756\n",
      "\n",
      "Model: KNeighborsClassifier(n_neighbors=15, weights='distance')\n",
      "\n"
     ]
    },
    {
     "data": {
      "text/plain": [
       "array([[2029,  296],\n",
       "       [ 390,  351]], dtype=int64)"
      ]
     },
     "metadata": {},
     "output_type": "display_data"
    },
    {
     "name": "stdout",
     "output_type": "stream",
     "text": [
      "Cross Val:\n",
      "Acc: 0.7638662316476345\n",
      "Precision: 0.5409123230936401\n",
      "Recall: 0.4116294708527718\n",
      "f1: 0.4671832638997838\n",
      "ROC AUC: 0.732656718468125\n",
      "\n",
      "Model: KNeighborsClassifier(n_neighbors=20)\n",
      "\n"
     ]
    },
    {
     "data": {
      "text/plain": [
       "array([[2082,  243],\n",
       "       [ 439,  302]], dtype=int64)"
      ]
     },
     "metadata": {},
     "output_type": "display_data"
    },
    {
     "name": "stdout",
     "output_type": "stream",
     "text": [
      "Cross Val:\n",
      "Acc: 0.7694127243066884\n",
      "Precision: 0.5707474914667443\n",
      "Recall: 0.34285714285714286\n",
      "f1: 0.4276693750038554\n",
      "ROC AUC: 0.763862774771454\n",
      "\n",
      "Model: KNeighborsClassifier(n_neighbors=20, weights='distance')\n",
      "\n"
     ]
    },
    {
     "data": {
      "text/plain": [
       "array([[2038,  287],\n",
       "       [ 409,  332]], dtype=int64)"
      ]
     },
     "metadata": {},
     "output_type": "display_data"
    },
    {
     "name": "stdout",
     "output_type": "stream",
     "text": [
      "Cross Val:\n",
      "Acc: 0.7624796084828711\n",
      "Precision: 0.5387642136930004\n",
      "Recall: 0.3996238389442273\n",
      "f1: 0.4584620081696068\n",
      "ROC AUC: 0.734029348838907\n",
      "\n",
      "Model: KNeighborsClassifier(n_neighbors=25)\n",
      "\n"
     ]
    },
    {
     "data": {
      "text/plain": [
       "array([[2064,  261],\n",
       "       [ 427,  314]], dtype=int64)"
      ]
     },
     "metadata": {},
     "output_type": "display_data"
    },
    {
     "name": "stdout",
     "output_type": "stream",
     "text": [
      "Cross Val:\n",
      "Acc: 0.7699836867862969\n",
      "Precision: 0.5650778790447528\n",
      "Recall: 0.37658134745513383\n",
      "f1: 0.4512112353168793\n",
      "ROC AUC: 0.7664934823602334\n",
      "\n",
      "Model: KNeighborsClassifier(n_neighbors=25, weights='distance')\n",
      "\n"
     ]
    },
    {
     "data": {
      "text/plain": [
       "array([[2036,  289],\n",
       "       [ 398,  343]], dtype=int64)"
      ]
     },
     "metadata": {},
     "output_type": "display_data"
    },
    {
     "name": "stdout",
     "output_type": "stream",
     "text": [
      "Cross Val:\n",
      "Acc: 0.7635399673735725\n",
      "Precision: 0.5405525877876147\n",
      "Recall: 0.4080611944689615\n",
      "f1: 0.46464106573406144\n",
      "ROC AUC: 0.7348513969222255\n",
      "\n",
      "Model: KNeighborsClassifier(n_neighbors=30)\n",
      "\n"
     ]
    },
    {
     "data": {
      "text/plain": [
       "array([[2079,  246],\n",
       "       [ 435,  306]], dtype=int64)"
      ]
     },
     "metadata": {},
     "output_type": "display_data"
    },
    {
     "name": "stdout",
     "output_type": "stream",
     "text": [
      "Cross Val:\n",
      "Acc: 0.7712887438825449\n",
      "Precision: 0.5722950170207699\n",
      "Recall: 0.3603654436178708\n",
      "f1: 0.4412443908973048\n",
      "ROC AUC: 0.7674302296751137\n",
      "\n",
      "Model: KNeighborsClassifier(n_neighbors=30, weights='distance')\n",
      "\n"
     ]
    },
    {
     "data": {
      "text/plain": [
       "array([[2047,  278],\n",
       "       [ 407,  334]], dtype=int64)"
      ]
     },
     "metadata": {},
     "output_type": "display_data"
    },
    {
     "name": "stdout",
     "output_type": "stream",
     "text": [
      "Cross Val:\n",
      "Acc: 0.7637030995106037\n",
      "Precision: 0.5416921117622284\n",
      "Recall: 0.4044918673559451\n",
      "f1: 0.46262402276626363\n",
      "ROC AUC: 0.7346015683342555\n",
      "\n",
      "Model: KNeighborsClassifier(n_neighbors=35)\n",
      "\n"
     ]
    },
    {
     "data": {
      "text/plain": [
       "array([[2070,  255],\n",
       "       [ 422,  319]], dtype=int64)"
      ]
     },
     "metadata": {},
     "output_type": "display_data"
    },
    {
     "name": "stdout",
     "output_type": "stream",
     "text": [
      "Cross Val:\n",
      "Acc: 0.7716965742251223\n",
      "Precision: 0.5694987008669733\n",
      "Recall: 0.3840373219013996\n",
      "f1: 0.4579388023039634\n",
      "ROC AUC: 0.767913643784847\n",
      "\n",
      "Model: KNeighborsClassifier(n_neighbors=35, weights='distance')\n",
      "\n"
     ]
    },
    {
     "data": {
      "text/plain": [
       "array([[2048,  277],\n",
       "       [ 406,  335]], dtype=int64)"
      ]
     },
     "metadata": {},
     "output_type": "display_data"
    },
    {
     "name": "stdout",
     "output_type": "stream",
     "text": [
      "Cross Val:\n",
      "Acc: 0.7641924959216966\n",
      "Precision: 0.5436796287830292\n",
      "Recall: 0.4012409111923675\n",
      "f1: 0.46129688158911275\n",
      "ROC AUC: 0.7344202554764895\n",
      "\n",
      "Model: KNeighborsClassifier(n_neighbors=40)\n",
      "\n"
     ]
    },
    {
     "data": {
      "text/plain": [
       "array([[2099,  226],\n",
       "       [ 449,  292]], dtype=int64)"
      ]
     },
     "metadata": {},
     "output_type": "display_data"
    },
    {
     "name": "stdout",
     "output_type": "stream",
     "text": [
      "Cross Val:\n",
      "Acc: 0.7742251223491028\n",
      "Precision: 0.5819691183648634\n",
      "Recall: 0.36814714411801785\n",
      "f1: 0.4500018758954873\n",
      "ROC AUC: 0.7684440322213012\n",
      "\n",
      "Model: KNeighborsClassifier(n_neighbors=40, weights='distance')\n",
      "\n"
     ]
    },
    {
     "data": {
      "text/plain": [
       "array([[2051,  274],\n",
       "       [ 413,  328]], dtype=int64)"
      ]
     },
     "metadata": {},
     "output_type": "display_data"
    },
    {
     "name": "stdout",
     "output_type": "stream",
     "text": [
      "Cross Val:\n",
      "Acc: 0.7628874388254485\n",
      "Precision: 0.5400851563925009\n",
      "Recall: 0.3979973101332325\n",
      "f1: 0.45782017302496447\n",
      "ROC AUC: 0.7341758050147422\n",
      "\n",
      "Model: KNeighborsClassifier(n_neighbors=45)\n",
      "\n"
     ]
    },
    {
     "data": {
      "text/plain": [
       "array([[2079,  246],\n",
       "       [ 425,  316]], dtype=int64)"
      ]
     },
     "metadata": {},
     "output_type": "display_data"
    },
    {
     "name": "stdout",
     "output_type": "stream",
     "text": [
      "Cross Val:\n",
      "Acc: 0.7756933115823819\n",
      "Precision: 0.5817338315034231\n",
      "Recall: 0.3898657168074643\n",
      "f1: 0.465738349309586\n",
      "ROC AUC: 0.7685729581312967\n",
      "\n",
      "Model: KNeighborsClassifier(n_neighbors=45, weights='distance')\n",
      "\n"
     ]
    },
    {
     "data": {
      "text/plain": [
       "array([[2052,  273],\n",
       "       [ 415,  326]], dtype=int64)"
      ]
     },
     "metadata": {},
     "output_type": "display_data"
    },
    {
     "name": "stdout",
     "output_type": "stream",
     "text": [
      "Cross Val:\n",
      "Acc: 0.7639477977161502\n",
      "Precision: 0.5434616587233477\n",
      "Recall: 0.39735111167150006\n",
      "f1: 0.4585368786216531\n",
      "ROC AUC: 0.7341839739978917\n",
      "\n",
      "Model: KNeighborsClassifier()\n",
      "\n"
     ]
    },
    {
     "data": {
      "text/plain": [
       "array([[2003,  268],\n",
       "       [ 516,  279]], dtype=int64)"
      ]
     },
     "metadata": {},
     "output_type": "display_data"
    },
    {
     "name": "stdout",
     "output_type": "stream",
     "text": [
      "Cross Val:\n",
      "Acc: 0.7645187601957586\n",
      "Precision: 0.529903689794652\n",
      "Recall: 0.40210915131248226\n",
      "f1: 0.45654287984022207\n",
      "ROC AUC: 0.7305465851614523\n",
      "\n",
      "Model: KNeighborsClassifier(weights='distance')\n",
      "\n"
     ]
    },
    {
     "data": {
      "text/plain": [
       "array([[1947,  324],\n",
       "       [ 453,  342]], dtype=int64)"
      ]
     },
     "metadata": {},
     "output_type": "display_data"
    },
    {
     "name": "stdout",
     "output_type": "stream",
     "text": [
      "Cross Val:\n",
      "Acc: 0.7535073409461663\n",
      "Precision: 0.502537473709116\n",
      "Recall: 0.4255633510370904\n",
      "f1: 0.4602390412778116\n",
      "ROC AUC: 0.7271318683246127\n",
      "\n",
      "Model: KNeighborsClassifier(n_neighbors=10)\n",
      "\n"
     ]
    },
    {
     "data": {
      "text/plain": [
       "array([[2084,  187],\n",
       "       [ 575,  220]], dtype=int64)"
      ]
     },
     "metadata": {},
     "output_type": "display_data"
    },
    {
     "name": "stdout",
     "output_type": "stream",
     "text": [
      "Cross Val:\n",
      "Acc: 0.7701468189233279\n",
      "Precision: 0.5612521333608315\n",
      "Recall: 0.3169344086726553\n",
      "f1: 0.40410037185179803\n",
      "ROC AUC: 0.7532450690355887\n",
      "\n",
      "Model: KNeighborsClassifier(n_neighbors=10, weights='distance')\n",
      "\n"
     ]
    },
    {
     "data": {
      "text/plain": [
       "array([[1973,  298],\n",
       "       [ 457,  338]], dtype=int64)"
      ]
     },
     "metadata": {},
     "output_type": "display_data"
    },
    {
     "name": "stdout",
     "output_type": "stream",
     "text": [
      "Cross Val:\n",
      "Acc: 0.765415986949429\n",
      "Precision: 0.5323405350000361\n",
      "Recall: 0.42357659607020304\n",
      "f1: 0.4714143232332618\n",
      "ROC AUC: 0.7451847275571142\n",
      "\n",
      "Model: KNeighborsClassifier(n_neighbors=15)\n",
      "\n"
     ]
    },
    {
     "data": {
      "text/plain": [
       "array([[2018,  253],\n",
       "       [ 505,  290]], dtype=int64)"
      ]
     },
     "metadata": {},
     "output_type": "display_data"
    },
    {
     "name": "stdout",
     "output_type": "stream",
     "text": [
      "Cross Val:\n",
      "Acc: 0.7740619902120718\n",
      "Precision: 0.5625050458237004\n",
      "Recall: 0.38163726968723366\n",
      "f1: 0.45422691476086935\n",
      "ROC AUC: 0.7621080921206416\n",
      "\n",
      "Model: KNeighborsClassifier(n_neighbors=15, weights='distance')\n",
      "\n"
     ]
    },
    {
     "data": {
      "text/plain": [
       "array([[1987,  284],\n",
       "       [ 448,  347]], dtype=int64)"
      ]
     },
     "metadata": {},
     "output_type": "display_data"
    },
    {
     "name": "stdout",
     "output_type": "stream",
     "text": [
      "Cross Val:\n",
      "Acc: 0.7676998368678629\n",
      "Precision: 0.5393897849741138\n",
      "Recall: 0.4196063646099709\n",
      "f1: 0.4715685010167171\n",
      "ROC AUC: 0.7531268193390444\n",
      "\n",
      "Model: KNeighborsClassifier(n_neighbors=20)\n",
      "\n"
     ]
    },
    {
     "data": {
      "text/plain": [
       "array([[2056,  215],\n",
       "       [ 541,  254]], dtype=int64)"
      ]
     },
     "metadata": {},
     "output_type": "display_data"
    },
    {
     "name": "stdout",
     "output_type": "stream",
     "text": [
      "Cross Val:\n",
      "Acc: 0.7730016313213703\n",
      "Precision: 0.570385106846631\n",
      "Recall: 0.3209079186064302\n",
      "f1: 0.4094682116460743\n",
      "ROC AUC: 0.766629435021077\n",
      "\n",
      "Model: KNeighborsClassifier(n_neighbors=20, weights='distance')\n",
      "\n"
     ]
    },
    {
     "data": {
      "text/plain": [
       "array([[1993,  278],\n",
       "       [ 456,  339]], dtype=int64)"
      ]
     },
     "metadata": {},
     "output_type": "display_data"
    },
    {
     "name": "stdout",
     "output_type": "stream",
     "text": [
      "Cross Val:\n",
      "Acc: 0.768026101141925\n",
      "Precision: 0.5406092930845479\n",
      "Recall: 0.4140012676764365\n",
      "f1: 0.46850663191821723\n",
      "ROC AUC: 0.7563566356106455\n",
      "\n",
      "Model: KNeighborsClassifier(n_neighbors=25)\n",
      "\n"
     ]
    },
    {
     "data": {
      "text/plain": [
       "array([[2024,  247],\n",
       "       [ 499,  296]], dtype=int64)"
      ]
     },
     "metadata": {},
     "output_type": "display_data"
    },
    {
     "name": "stdout",
     "output_type": "stream",
     "text": [
      "Cross Val:\n",
      "Acc: 0.7757748776508973\n",
      "Precision: 0.5722705888883057\n",
      "Recall: 0.364811050641488\n",
      "f1: 0.4450568902047154\n",
      "ROC AUC: 0.7700261578048108\n",
      "\n",
      "Model: KNeighborsClassifier(n_neighbors=25, weights='distance')\n",
      "\n"
     ]
    },
    {
     "data": {
      "text/plain": [
       "array([[1994,  277],\n",
       "       [ 454,  341]], dtype=int64)"
      ]
     },
     "metadata": {},
     "output_type": "display_data"
    },
    {
     "name": "stdout",
     "output_type": "stream",
     "text": [
      "Cross Val:\n",
      "Acc: 0.7702283849918434\n",
      "Precision: 0.547370556332964\n",
      "Recall: 0.4113620964745482\n",
      "f1: 0.4691328755926046\n",
      "ROC AUC: 0.7589271277580448\n",
      "\n",
      "Model: KNeighborsClassifier(n_neighbors=30)\n",
      "\n"
     ]
    },
    {
     "data": {
      "text/plain": [
       "array([[2050,  221],\n",
       "       [ 512,  283]], dtype=int64)"
      ]
     },
     "metadata": {},
     "output_type": "display_data"
    },
    {
     "name": "stdout",
     "output_type": "stream",
     "text": [
      "Cross Val:\n",
      "Acc: 0.7765905383360522\n",
      "Precision: 0.5859304050650204\n",
      "Recall: 0.3298188096955391\n",
      "f1: 0.42175162014443385\n",
      "ROC AUC: 0.7712936308138388\n",
      "\n",
      "Model: KNeighborsClassifier(n_neighbors=30, weights='distance')\n",
      "\n"
     ]
    },
    {
     "data": {
      "text/plain": [
       "array([[2004,  267],\n",
       "       [ 462,  333]], dtype=int64)"
      ]
     },
     "metadata": {},
     "output_type": "display_data"
    },
    {
     "name": "stdout",
     "output_type": "stream",
     "text": [
      "Cross Val:\n",
      "Acc: 0.7716150081566069\n",
      "Precision: 0.5512402637926572\n",
      "Recall: 0.41465696238498023\n",
      "f1: 0.47287434363441366\n",
      "ROC AUC: 0.760396667803917\n",
      "\n",
      "Model: KNeighborsClassifier(n_neighbors=35)\n",
      "\n"
     ]
    },
    {
     "data": {
      "text/plain": [
       "array([[2050,  221],\n",
       "       [ 518,  277]], dtype=int64)"
      ]
     },
     "metadata": {},
     "output_type": "display_data"
    },
    {
     "name": "stdout",
     "output_type": "stream",
     "text": [
      "Cross Val:\n",
      "Acc: 0.7770799347471453\n",
      "Precision: 0.5809073866799341\n",
      "Recall: 0.3549035035953927\n",
      "f1: 0.44006242031015513\n",
      "ROC AUC: 0.7717977640948519\n",
      "\n",
      "Model: KNeighborsClassifier(n_neighbors=35, weights='distance')\n",
      "\n"
     ]
    },
    {
     "data": {
      "text/plain": [
       "array([[2005,  266],\n",
       "       [ 460,  335]], dtype=int64)"
      ]
     },
     "metadata": {},
     "output_type": "display_data"
    },
    {
     "name": "stdout",
     "output_type": "stream",
     "text": [
      "Cross Val:\n",
      "Acc: 0.7712071778140294\n",
      "Precision: 0.550910889403331\n",
      "Recall: 0.40805520949445934\n",
      "f1: 0.4684013793229439\n",
      "ROC AUC: 0.7617643578843882\n",
      "\n",
      "Model: KNeighborsClassifier(n_neighbors=40)\n",
      "\n"
     ]
    },
    {
     "data": {
      "text/plain": [
       "array([[2064,  207],\n",
       "       [ 536,  259]], dtype=int64)"
      ]
     },
     "metadata": {},
     "output_type": "display_data"
    },
    {
     "name": "stdout",
     "output_type": "stream",
     "text": [
      "Cross Val:\n",
      "Acc: 0.7760195758564435\n",
      "Precision: 0.5831410981616425\n",
      "Recall: 0.3271774528446222\n",
      "f1: 0.41853791820261355\n",
      "ROC AUC: 0.770350814008786\n",
      "\n",
      "Model: KNeighborsClassifier(n_neighbors=40, weights='distance')\n",
      "\n"
     ]
    },
    {
     "data": {
      "text/plain": [
       "array([[2003,  268],\n",
       "       [ 468,  327]], dtype=int64)"
      ]
     },
     "metadata": {},
     "output_type": "display_data"
    },
    {
     "name": "stdout",
     "output_type": "stream",
     "text": [
      "Cross Val:\n",
      "Acc: 0.7725938009787928\n",
      "Precision: 0.5552534194891188\n",
      "Recall: 0.40574607129587126\n",
      "f1: 0.46828292807500727\n",
      "ROC AUC: 0.7627305416150942\n",
      "\n",
      "Model: KNeighborsClassifier(n_neighbors=45)\n",
      "\n"
     ]
    },
    {
     "data": {
      "text/plain": [
       "array([[2058,  213],\n",
       "       [ 520,  275]], dtype=int64)"
      ]
     },
     "metadata": {},
     "output_type": "display_data"
    },
    {
     "name": "stdout",
     "output_type": "stream",
     "text": [
      "Cross Val:\n",
      "Acc: 0.7759380097879282\n",
      "Precision: 0.5754470248524496\n",
      "Recall: 0.3575448604463095\n",
      "f1: 0.44047550519869344\n",
      "ROC AUC: 0.7715268014444829\n",
      "\n",
      "Model: KNeighborsClassifier(n_neighbors=45, weights='distance')\n",
      "\n"
     ]
    },
    {
     "data": {
      "text/plain": [
       "array([[2010,  261],\n",
       "       [ 478,  317]], dtype=int64)"
      ]
     },
     "metadata": {},
     "output_type": "display_data"
    },
    {
     "name": "stdout",
     "output_type": "stream",
     "text": [
      "Cross Val:\n",
      "Acc: 0.7729200652528548\n",
      "Precision: 0.5566787646550051\n",
      "Recall: 0.401460013551024\n",
      "f1: 0.46620573885057526\n",
      "ROC AUC: 0.7638140558071865\n",
      "\n",
      "Model: KNeighborsClassifier()\n",
      "\n"
     ]
    },
    {
     "data": {
      "text/plain": [
       "array([[2051,  241],\n",
       "       [ 540,  234]], dtype=int64)"
      ]
     },
     "metadata": {},
     "output_type": "display_data"
    },
    {
     "name": "stdout",
     "output_type": "stream",
     "text": [
      "Cross Val:\n",
      "Acc: 0.7491843393148451\n",
      "Precision: 0.4940997378400921\n",
      "Recall: 0.3147540983606557\n",
      "f1: 0.38418887133620894\n",
      "ROC AUC: 0.6710079920257738\n",
      "\n",
      "Model: KNeighborsClassifier(weights='distance')\n",
      "\n"
     ]
    },
    {
     "data": {
      "text/plain": [
       "array([[2021,  271],\n",
       "       [ 521,  253]], dtype=int64)"
      ]
     },
     "metadata": {},
     "output_type": "display_data"
    },
    {
     "name": "stdout",
     "output_type": "stream",
     "text": [
      "Cross Val:\n",
      "Acc: 0.748694942903752\n",
      "Precision: 0.4930091947195997\n",
      "Recall: 0.3340983606557377\n",
      "f1: 0.3980046871871426\n",
      "ROC AUC: 0.6758331108381836\n",
      "\n",
      "Model: KNeighborsClassifier(n_neighbors=10)\n",
      "\n"
     ]
    },
    {
     "data": {
      "text/plain": [
       "array([[2163,  129],\n",
       "       [ 611,  163]], dtype=int64)"
      ]
     },
     "metadata": {},
     "output_type": "display_data"
    },
    {
     "name": "stdout",
     "output_type": "stream",
     "text": [
      "Cross Val:\n",
      "Acc: 0.7627243066884175\n",
      "Precision: 0.5581536740549641\n",
      "Recall: 0.22131147540983606\n",
      "f1: 0.31658718038243683\n",
      "ROC AUC: 0.6816598138160588\n",
      "\n",
      "Model: KNeighborsClassifier(n_neighbors=10, weights='distance')\n",
      "\n"
     ]
    },
    {
     "data": {
      "text/plain": [
       "array([[2097,  195],\n",
       "       [ 522,  252]], dtype=int64)"
      ]
     },
     "metadata": {},
     "output_type": "display_data"
    },
    {
     "name": "stdout",
     "output_type": "stream",
     "text": [
      "Cross Val:\n",
      "Acc: 0.7640293637846656\n",
      "Precision: 0.5473700661540138\n",
      "Recall: 0.299672131147541\n",
      "f1: 0.38721422752988155\n",
      "ROC AUC: 0.6860392303447785\n",
      "\n",
      "Model: KNeighborsClassifier(n_neighbors=15)\n",
      "\n"
     ]
    },
    {
     "data": {
      "text/plain": [
       "array([[2154,  138],\n",
       "       [ 577,  197]], dtype=int64)"
      ]
     },
     "metadata": {},
     "output_type": "display_data"
    },
    {
     "name": "stdout",
     "output_type": "stream",
     "text": [
      "Cross Val:\n",
      "Acc: 0.7673735725938011\n",
      "Precision: 0.5728437054796922\n",
      "Recall: 0.25508196721311477\n",
      "f1: 0.35282537266266817\n",
      "ROC AUC: 0.6865650308823268\n",
      "\n",
      "Model: KNeighborsClassifier(n_neighbors=15, weights='distance')\n",
      "\n"
     ]
    },
    {
     "data": {
      "text/plain": [
       "array([[2128,  164],\n",
       "       [ 546,  228]], dtype=int64)"
      ]
     },
     "metadata": {},
     "output_type": "display_data"
    },
    {
     "name": "stdout",
     "output_type": "stream",
     "text": [
      "Cross Val:\n",
      "Acc: 0.763295269168026\n",
      "Precision: 0.5514192802233846\n",
      "Recall: 0.2632786885245902\n",
      "f1: 0.356249894054593\n",
      "ROC AUC: 0.6919771808974564\n",
      "\n",
      "Model: KNeighborsClassifier(n_neighbors=20)\n",
      "\n"
     ]
    },
    {
     "data": {
      "text/plain": [
       "array([[2174,  118],\n",
       "       [ 602,  172]], dtype=int64)"
      ]
     },
     "metadata": {},
     "output_type": "display_data"
    },
    {
     "name": "stdout",
     "output_type": "stream",
     "text": [
      "Cross Val:\n",
      "Acc: 0.769331158238173\n",
      "Precision: 0.6024561382494975\n",
      "Recall: 0.2140983606557377\n",
      "f1: 0.3157844441489815\n",
      "ROC AUC: 0.690463323899539\n",
      "\n",
      "Model: KNeighborsClassifier(n_neighbors=20, weights='distance')\n",
      "\n"
     ]
    },
    {
     "data": {
      "text/plain": [
       "array([[2141,  151],\n",
       "       [ 571,  203]], dtype=int64)"
      ]
     },
     "metadata": {},
     "output_type": "display_data"
    },
    {
     "name": "stdout",
     "output_type": "stream",
     "text": [
      "Cross Val:\n",
      "Acc: 0.7654975530179445\n",
      "Precision: 0.5690548763884424\n",
      "Recall: 0.23934426229508196\n",
      "f1: 0.3368011937996715\n",
      "ROC AUC: 0.6913942436054894\n",
      "\n",
      "Model: KNeighborsClassifier(n_neighbors=25)\n",
      "\n"
     ]
    },
    {
     "data": {
      "text/plain": [
       "array([[2168,  124],\n",
       "       [ 595,  179]], dtype=int64)"
      ]
     },
     "metadata": {},
     "output_type": "display_data"
    },
    {
     "name": "stdout",
     "output_type": "stream",
     "text": [
      "Cross Val:\n",
      "Acc: 0.7704730831973898\n",
      "Precision: 0.6007096729870773\n",
      "Recall: 0.2304918032786885\n",
      "f1: 0.3329758411897172\n",
      "ROC AUC: 0.691244370872715\n",
      "\n",
      "Model: KNeighborsClassifier(n_neighbors=25, weights='distance')\n",
      "\n"
     ]
    },
    {
     "data": {
      "text/plain": [
       "array([[2163,  129],\n",
       "       [ 580,  194]], dtype=int64)"
      ]
     },
     "metadata": {},
     "output_type": "display_data"
    },
    {
     "name": "stdout",
     "output_type": "stream",
     "text": [
      "Cross Val:\n",
      "Acc: 0.7653344208809136\n",
      "Precision: 0.5729647083700964\n",
      "Recall: 0.22459016393442624\n",
      "f1: 0.3225170919911028\n",
      "ROC AUC: 0.6922603727238746\n",
      "\n",
      "Model: KNeighborsClassifier(n_neighbors=30)\n",
      "\n"
     ]
    },
    {
     "data": {
      "text/plain": [
       "array([[2186,  106],\n",
       "       [ 613,  161]], dtype=int64)"
      ]
     },
     "metadata": {},
     "output_type": "display_data"
    },
    {
     "name": "stdout",
     "output_type": "stream",
     "text": [
      "Cross Val:\n",
      "Acc: 0.7695758564437194\n",
      "Precision: 0.6070203892475843\n",
      "Recall: 0.2081967213114754\n",
      "f1: 0.3098329187254254\n",
      "ROC AUC: 0.6886504334205515\n",
      "\n",
      "Model: KNeighborsClassifier(n_neighbors=30, weights='distance')\n",
      "\n"
     ]
    },
    {
     "data": {
      "text/plain": [
       "array([[2168,  124],\n",
       "       [ 591,  183]], dtype=int64)"
      ]
     },
     "metadata": {},
     "output_type": "display_data"
    },
    {
     "name": "stdout",
     "output_type": "stream",
     "text": [
      "Cross Val:\n",
      "Acc: 0.764926590538336\n",
      "Precision: 0.5758585792104731\n",
      "Recall: 0.21081967213114755\n",
      "f1: 0.3083720748826383\n",
      "ROC AUC: 0.6913223331731368\n",
      "\n",
      "Model: KNeighborsClassifier(n_neighbors=35)\n",
      "\n"
     ]
    },
    {
     "data": {
      "text/plain": [
       "array([[2179,  113],\n",
       "       [ 608,  166]], dtype=int64)"
      ]
     },
     "metadata": {},
     "output_type": "display_data"
    },
    {
     "name": "stdout",
     "output_type": "stream",
     "text": [
      "Cross Val:\n",
      "Acc: 0.769494290375204\n",
      "Precision: 0.6062852086543041\n",
      "Recall: 0.20918032786885243\n",
      "f1: 0.31090694025251386\n",
      "ROC AUC: 0.6897625531763408\n",
      "\n",
      "Model: KNeighborsClassifier(n_neighbors=35, weights='distance')\n",
      "\n"
     ]
    },
    {
     "data": {
      "text/plain": [
       "array([[2177,  115],\n",
       "       [ 595,  179]], dtype=int64)"
      ]
     },
     "metadata": {},
     "output_type": "display_data"
    },
    {
     "name": "stdout",
     "output_type": "stream",
     "text": [
      "Cross Val:\n",
      "Acc: 0.765742251223491\n",
      "Precision: 0.5850605661431163\n",
      "Recall: 0.2036065573770492\n",
      "f1: 0.30167889633050493\n",
      "ROC AUC: 0.6898113241131343\n",
      "\n",
      "Model: KNeighborsClassifier(n_neighbors=40)\n",
      "\n"
     ]
    },
    {
     "data": {
      "text/plain": [
       "array([[2185,  107],\n",
       "       [ 618,  156]], dtype=int64)"
      ]
     },
     "metadata": {},
     "output_type": "display_data"
    },
    {
     "name": "stdout",
     "output_type": "stream",
     "text": [
      "Cross Val:\n",
      "Acc: 0.76721044045677\n",
      "Precision: 0.603406148509388\n",
      "Recall: 0.18721311475409835\n",
      "f1: 0.2856752226216619\n",
      "ROC AUC: 0.6882693437283068\n",
      "\n",
      "Model: KNeighborsClassifier(n_neighbors=40, weights='distance')\n",
      "\n"
     ]
    },
    {
     "data": {
      "text/plain": [
       "array([[2181,  111],\n",
       "       [ 608,  166]], dtype=int64)"
      ]
     },
     "metadata": {},
     "output_type": "display_data"
    },
    {
     "name": "stdout",
     "output_type": "stream",
     "text": [
      "Cross Val:\n",
      "Acc: 0.7640293637846656\n",
      "Precision: 0.5793750416389541\n",
      "Recall: 0.19114754098360656\n",
      "f1: 0.2871746284460186\n",
      "ROC AUC: 0.6889473309481853\n",
      "\n",
      "Model: KNeighborsClassifier(n_neighbors=45)\n",
      "\n"
     ]
    },
    {
     "data": {
      "text/plain": [
       "array([[2186,  106],\n",
       "       [ 615,  159]], dtype=int64)"
      ]
     },
     "metadata": {},
     "output_type": "display_data"
    },
    {
     "name": "stdout",
     "output_type": "stream",
     "text": [
      "Cross Val:\n",
      "Acc: 0.7689233278955954\n",
      "Precision: 0.6111934133110366\n",
      "Recall: 0.1960655737704918\n",
      "f1: 0.2968046918431939\n",
      "ROC AUC: 0.6877709545931899\n",
      "\n",
      "Model: KNeighborsClassifier(n_neighbors=45, weights='distance')\n",
      "\n"
     ]
    },
    {
     "data": {
      "text/plain": [
       "array([[2184,  108],\n",
       "       [ 613,  161]], dtype=int64)"
      ]
     },
     "metadata": {},
     "output_type": "display_data"
    },
    {
     "name": "stdout",
     "output_type": "stream",
     "text": [
      "Cross Val:\n",
      "Acc: 0.7632952691680261\n",
      "Precision: 0.5777361564207383\n",
      "Recall: 0.18163934426229505\n",
      "f1: 0.2760399888349173\n",
      "ROC AUC: 0.6878005019490575\n",
      "\n",
      "Model: KNeighborsClassifier()\n",
      "\n"
     ]
    },
    {
     "data": {
      "text/plain": [
       "array([[2083,  241],\n",
       "       [ 477,  265]], dtype=int64)"
      ]
     },
     "metadata": {},
     "output_type": "display_data"
    },
    {
     "name": "stdout",
     "output_type": "stream",
     "text": [
      "Cross Val:\n",
      "Acc: 0.7404567699836868\n",
      "Precision: 0.4746963840777587\n",
      "Recall: 0.30239566258983736\n",
      "f1: 0.3689719790589124\n",
      "ROC AUC: 0.6644522493341707\n",
      "\n",
      "Model: KNeighborsClassifier(weights='distance')\n",
      "\n"
     ]
    },
    {
     "data": {
      "text/plain": [
       "array([[2054,  270],\n",
       "       [ 444,  298]], dtype=int64)"
      ]
     },
     "metadata": {},
     "output_type": "display_data"
    },
    {
     "name": "stdout",
     "output_type": "stream",
     "text": [
      "Cross Val:\n",
      "Acc: 0.7544045676998368\n",
      "Precision: 0.5140702814290606\n",
      "Recall: 0.41632097675787005\n",
      "f1: 0.45949604335672223\n",
      "ROC AUC: 0.718140179622931\n",
      "\n",
      "Model: KNeighborsClassifier(n_neighbors=10)\n",
      "\n"
     ]
    },
    {
     "data": {
      "text/plain": [
       "array([[2190,  134],\n",
       "       [ 548,  194]], dtype=int64)"
      ]
     },
     "metadata": {},
     "output_type": "display_data"
    },
    {
     "name": "stdout",
     "output_type": "stream",
     "text": [
      "Cross Val:\n",
      "Acc: 0.7600326264274062\n",
      "Precision: 0.5561875315084407\n",
      "Recall: 0.2225602067835078\n",
      "f1: 0.31730546397453036\n",
      "ROC AUC: 0.6788488369924387\n",
      "\n",
      "Model: KNeighborsClassifier(n_neighbors=10, weights='distance')\n",
      "\n"
     ]
    },
    {
     "data": {
      "text/plain": [
       "array([[2087,  237],\n",
       "       [ 452,  290]], dtype=int64)"
      ]
     },
     "metadata": {},
     "output_type": "display_data"
    },
    {
     "name": "stdout",
     "output_type": "stream",
     "text": [
      "Cross Val:\n",
      "Acc: 0.7580750407830342\n",
      "Precision: 0.5254362485845607\n",
      "Recall: 0.39261232295212883\n",
      "f1: 0.4490838054313568\n",
      "ROC AUC: 0.7285981882742294\n",
      "\n",
      "Model: KNeighborsClassifier(n_neighbors=15)\n",
      "\n"
     ]
    },
    {
     "data": {
      "text/plain": [
       "array([[2179,  145],\n",
       "       [ 527,  215]], dtype=int64)"
      ]
     },
     "metadata": {},
     "output_type": "display_data"
    },
    {
     "name": "stdout",
     "output_type": "stream",
     "text": [
      "Cross Val:\n",
      "Acc: 0.7601141924959217\n",
      "Precision: 0.5512750080196855\n",
      "Recall: 0.24396776362795775\n",
      "f1: 0.3375248187317206\n",
      "ROC AUC: 0.68446597920846\n",
      "\n",
      "Model: KNeighborsClassifier(n_neighbors=15, weights='distance')\n",
      "\n"
     ]
    },
    {
     "data": {
      "text/plain": [
       "array([[2083,  241],\n",
       "       [ 459,  283]], dtype=int64)"
      ]
     },
     "metadata": {},
     "output_type": "display_data"
    },
    {
     "name": "stdout",
     "output_type": "stream",
     "text": [
      "Cross Val:\n",
      "Acc: 0.7611745513866232\n",
      "Precision: 0.5315630999802272\n",
      "Recall: 0.4234312612953389\n",
      "f1: 0.4709788967468221\n",
      "ROC AUC: 0.7308807874893885\n",
      "\n",
      "Model: KNeighborsClassifier(n_neighbors=20)\n",
      "\n"
     ]
    },
    {
     "data": {
      "text/plain": [
       "array([[2219,  105],\n",
       "       [ 555,  187]], dtype=int64)"
      ]
     },
     "metadata": {},
     "output_type": "display_data"
    },
    {
     "name": "stdout",
     "output_type": "stream",
     "text": [
      "Cross Val:\n",
      "Acc: 0.7618270799347471\n",
      "Precision: 0.5731294984473388\n",
      "Recall: 0.2037395452443996\n",
      "f1: 0.2999878406644583\n",
      "ROC AUC: 0.6901632572194596\n",
      "\n",
      "Model: KNeighborsClassifier(n_neighbors=20, weights='distance')\n",
      "\n"
     ]
    },
    {
     "data": {
      "text/plain": [
       "array([[2091,  233],\n",
       "       [ 457,  285]], dtype=int64)"
      ]
     },
     "metadata": {},
     "output_type": "display_data"
    },
    {
     "name": "stdout",
     "output_type": "stream",
     "text": [
      "Cross Val:\n",
      "Acc: 0.7632137030995105\n",
      "Precision: 0.5373048156331219\n",
      "Recall: 0.42115958475181775\n",
      "f1: 0.4719728150079573\n",
      "ROC AUC: 0.7319934824975837\n",
      "\n",
      "Model: KNeighborsClassifier(n_neighbors=25)\n",
      "\n"
     ]
    },
    {
     "data": {
      "text/plain": [
       "array([[2206,  118],\n",
       "       [ 543,  199]], dtype=int64)"
      ]
     },
     "metadata": {},
     "output_type": "display_data"
    },
    {
     "name": "stdout",
     "output_type": "stream",
     "text": [
      "Cross Val:\n",
      "Acc: 0.7640293637846656\n",
      "Precision: 0.5779884274257456\n",
      "Recall: 0.22418463413609047\n",
      "f1: 0.3223817735294986\n",
      "ROC AUC: 0.6930106216135792\n",
      "\n",
      "Model: KNeighborsClassifier(n_neighbors=25, weights='distance')\n",
      "\n"
     ]
    },
    {
     "data": {
      "text/plain": [
       "array([[2082,  242],\n",
       "       [ 450,  292]], dtype=int64)"
      ]
     },
     "metadata": {},
     "output_type": "display_data"
    },
    {
     "name": "stdout",
     "output_type": "stream",
     "text": [
      "Cross Val:\n",
      "Acc: 0.764926590538336\n",
      "Precision: 0.5411189430176394\n",
      "Recall: 0.4312098096078678\n",
      "f1: 0.4797344216880736\n",
      "ROC AUC: 0.7320948671977364\n",
      "\n",
      "Model: KNeighborsClassifier(n_neighbors=30)\n",
      "\n"
     ]
    },
    {
     "data": {
      "text/plain": [
       "array([[2229,   95],\n",
       "       [ 562,  180]], dtype=int64)"
      ]
     },
     "metadata": {},
     "output_type": "display_data"
    },
    {
     "name": "stdout",
     "output_type": "stream",
     "text": [
      "Cross Val:\n",
      "Acc: 0.7623980424143556\n",
      "Precision: 0.582782140330029\n",
      "Recall: 0.19108666414491657\n",
      "f1: 0.28733442828750627\n",
      "ROC AUC: 0.693149551023405\n",
      "\n",
      "Model: KNeighborsClassifier(n_neighbors=30, weights='distance')\n",
      "\n"
     ]
    },
    {
     "data": {
      "text/plain": [
       "array([[2072,  252],\n",
       "       [ 437,  305]], dtype=int64)"
      ]
     },
     "metadata": {},
     "output_type": "display_data"
    },
    {
     "name": "stdout",
     "output_type": "stream",
     "text": [
      "Cross Val:\n",
      "Acc: 0.7659869494290376\n",
      "Precision: 0.5438860963216597\n",
      "Recall: 0.43087777917875003\n",
      "f1: 0.4806728827119944\n",
      "ROC AUC: 0.732232526851932\n",
      "\n",
      "Model: KNeighborsClassifier(n_neighbors=35)\n",
      "\n"
     ]
    },
    {
     "data": {
      "text/plain": [
       "array([[2220,  104],\n",
       "       [ 558,  184]], dtype=int64)"
      ]
     },
     "metadata": {},
     "output_type": "display_data"
    },
    {
     "name": "stdout",
     "output_type": "stream",
     "text": [
      "Cross Val:\n",
      "Acc: 0.7625611745513866\n",
      "Precision: 0.578823442615242\n",
      "Recall: 0.19984449207750182\n",
      "f1: 0.29640223108892255\n",
      "ROC AUC: 0.6954208435105392\n",
      "\n",
      "Model: KNeighborsClassifier(n_neighbors=35, weights='distance')\n",
      "\n"
     ]
    },
    {
     "data": {
      "text/plain": [
       "array([[2072,  252],\n",
       "       [ 439,  303]], dtype=int64)"
      ]
     },
     "metadata": {},
     "output_type": "display_data"
    },
    {
     "name": "stdout",
     "output_type": "stream",
     "text": [
      "Cross Val:\n",
      "Acc: 0.764600326264274\n",
      "Precision: 0.5404781055625214\n",
      "Recall: 0.4266685579792376\n",
      "f1: 0.47671774608598333\n",
      "ROC AUC: 0.7321481977992054\n",
      "\n",
      "Model: KNeighborsClassifier(n_neighbors=40)\n",
      "\n"
     ]
    },
    {
     "data": {
      "text/plain": [
       "array([[2236,   88],\n",
       "       [ 575,  167]], dtype=int64)"
      ]
     },
     "metadata": {},
     "output_type": "display_data"
    },
    {
     "name": "stdout",
     "output_type": "stream",
     "text": [
      "Cross Val:\n",
      "Acc: 0.7626427406199021\n",
      "Precision: 0.591984385939847\n",
      "Recall: 0.17875635691169672\n",
      "f1: 0.27369601414153344\n",
      "ROC AUC: 0.6938880439071714\n",
      "\n",
      "Model: KNeighborsClassifier(n_neighbors=40, weights='distance')\n",
      "\n"
     ]
    },
    {
     "data": {
      "text/plain": [
       "array([[2069,  255],\n",
       "       [ 440,  302]], dtype=int64)"
      ]
     },
     "metadata": {},
     "output_type": "display_data"
    },
    {
     "name": "stdout",
     "output_type": "stream",
     "text": [
      "Cross Val:\n",
      "Acc: 0.7661500815660685\n",
      "Precision: 0.54433746080104\n",
      "Recall: 0.43121191106628\n",
      "f1: 0.4809580997403165\n",
      "ROC AUC: 0.7320830471494649\n",
      "\n",
      "Model: KNeighborsClassifier(n_neighbors=45)\n",
      "\n"
     ]
    },
    {
     "data": {
      "text/plain": [
       "array([[2231,   93],\n",
       "       [ 570,  172]], dtype=int64)"
      ]
     },
     "metadata": {},
     "output_type": "display_data"
    },
    {
     "name": "stdout",
     "output_type": "stream",
     "text": [
      "Cross Val:\n",
      "Acc: 0.7624796084828712\n",
      "Precision: 0.5891103612362689\n",
      "Recall: 0.17875320472407852\n",
      "f1: 0.273455697475718\n",
      "ROC AUC: 0.691689620077624\n",
      "\n",
      "Model: KNeighborsClassifier(n_neighbors=45, weights='distance')\n",
      "\n"
     ]
    },
    {
     "data": {
      "text/plain": [
       "array([[2074,  250],\n",
       "       [ 438,  304]], dtype=int64)"
      ]
     },
     "metadata": {},
     "output_type": "display_data"
    },
    {
     "name": "stdout",
     "output_type": "stream",
     "text": [
      "Cross Val:\n",
      "Acc: 0.765742251223491\n",
      "Precision: 0.542991254598187\n",
      "Recall: 0.4315334342033371\n",
      "f1: 0.4806596051117283\n",
      "ROC AUC: 0.7321871426423732\n",
      "((0.5609569109187434, 'GaussianNB() set = chi k = 17'), 'scale: True', 'normalize:True')\n",
      "((0.5730844958319649, 'GaussianNB() set = mic k = 23'), 'scale: True', 'normalize:True')\n",
      "((0.5781474680480874, 'GaussianNB() set = chi k = 17'), 'scale: False', 'normalize:False')\n",
      "((0.5819471143282539, 'ExtraTreeClassifier(max_depth=10, random_state=0) set = mic k = 10'), 'scale: True', 'normalize:True')\n",
      "((0.5979601155618705, 'DecisionTreeClassifier(max_depth=5, random_state=0) set = chi k = 7'), 'scale: True', 'normalize:True')\n",
      "((0.619504957502011, 'DecisionTreeClassifier(max_depth=10, random_state=0) set = mic k = 10'), 'scale: True', 'normalize:True')\n"
     ]
    }
   ],
   "source": [
    "#Model Test                                   \n",
    "for scale in [True,False]:\n",
    "    for normalize in [True,False]:\n",
    "        \n",
    "                    \n",
    "        #Extracting and Cleaning Data\n",
    "        data_cleaned = Data_Cleaning(pd.read_csv('z_train.csv'), \n",
    "                                     scale = scale, \n",
    "                                     normalize = normalize)\n",
    "        \n",
    "        #Train, Test Split\n",
    "        X = data_cleaned.drop(['target','enrollee_id'], axis = 1) \n",
    "        y = data_cleaned['target']\n",
    "        X_train, X_test, y_train, y_test = train_test_split(X, y, \n",
    "                                                            test_size=0.2)\n",
    "\n",
    "        X_train_fs_chi, X_test_fs_chi = select_features(X_train, y_train, X_test, \n",
    "                                                        chi2, \n",
    "                                                        k = 7)\n",
    "        X_train_fs_mic, X_test_fs_mic = select_features(X_train, y_train, X_test, \n",
    "                                                        mutual_info_classif, \n",
    "                                                        k = 10)\n",
    "        \n",
    "        \n",
    "        for n_neighbors in np.arange(5,50,5):\n",
    "            a = ModelTest(KNeighborsClassifier(n_neighbors=n_neighbors,\n",
    "                                               weights='uniform'), #Model    \n",
    "                          X_train = X_train_fs_chi, X_test = X_test_fs_chi,\n",
    "                          y_train = y_train, y_test = y_test,\n",
    "                          typ = 'chi',\n",
    "                          k = 7)\n",
    "            metricss.append((a, \"scale: \" + str(scale), \"normalize:\" + str(normalize)))\n",
    "\n",
    "            a = ModelTest(KNeighborsClassifier(n_neighbors=n_neighbors,\n",
    "                                               weights='distance'), #Model          \n",
    "                          X_train = X_train_fs_mic, X_test = X_test_fs_mic,  #Best\n",
    "                          y_train = y_train, y_test = y_test,\n",
    "                          typ = 'mic',\n",
    "                          k = 10)\n",
    "            metricss.append((a, \"scale: \" + str(scale), \"normalize:\" + str(normalize)))\n",
    "            \n",
    "temp = 0.001\n",
    "for metric in metricss:\n",
    "    if metric[0][0] > temp:\n",
    "        print(metric)\n",
    "        temp = metric[0][0]  "
   ]
  },
  {
   "cell_type": "code",
   "execution_count": 34,
   "metadata": {},
   "outputs": [
    {
     "name": "stdout",
     "output_type": "stream",
     "text": [
      "\n",
      "Model: SVC(class_weight='balanced')\n",
      "\n"
     ]
    },
    {
     "data": {
      "text/plain": [
       "array([[1693,  594],\n",
       "       [ 240,  539]], dtype=int64)"
      ]
     },
     "metadata": {},
     "output_type": "display_data"
    },
    {
     "name": "stdout",
     "output_type": "stream",
     "text": [
      "Cross Val:\n",
      "Acc: 0.734257748776509\n",
      "Precision: 0.47620067264941907\n",
      "Recall: 0.69393011216566\n",
      "f1: 0.5646542406255733\n",
      "ROC AUC: 0.7713729387836219\n",
      "\n",
      "Model: SVC()\n",
      "\n"
     ]
    },
    {
     "data": {
      "text/plain": [
       "array([[2095,  192],\n",
       "       [ 502,  277]], dtype=int64)"
      ]
     },
     "metadata": {},
     "output_type": "display_data"
    },
    {
     "name": "stdout",
     "output_type": "stream",
     "text": [
      "Cross Val:\n",
      "Acc: 0.7794453507340946\n",
      "Precision: 0.6032748168740334\n",
      "Recall: 0.33300043140638486\n",
      "f1: 0.4284502040465781\n",
      "ROC AUC: 0.7576282142130932\n",
      "\n",
      "Model: SVC(class_weight='balanced')\n",
      "\n"
     ]
    },
    {
     "data": {
      "text/plain": [
       "array([[1660,  628],\n",
       "       [ 220,  558]], dtype=int64)"
      ]
     },
     "metadata": {},
     "output_type": "display_data"
    },
    {
     "name": "stdout",
     "output_type": "stream",
     "text": [
      "Cross Val:\n",
      "Acc: 0.731321370309951\n",
      "Precision: 0.4725076179906028\n",
      "Recall: 0.6960040983606557\n",
      "f1: 0.562573526367861\n",
      "ROC AUC: 0.7663989746877112\n",
      "\n",
      "Model: SVC()\n",
      "\n"
     ]
    },
    {
     "data": {
      "text/plain": [
       "array([[2110,  178],\n",
       "       [ 507,  271]], dtype=int64)"
      ]
     },
     "metadata": {},
     "output_type": "display_data"
    },
    {
     "name": "stdout",
     "output_type": "stream",
     "text": [
      "Cross Val:\n",
      "Acc: 0.7786296900489397\n",
      "Precision: 0.5956259762144117\n",
      "Recall: 0.33453408110440036\n",
      "f1: 0.4276437049649326\n",
      "ROC AUC: 0.754776213551695\n",
      "\n",
      "Model: SVC(class_weight='balanced')\n",
      "\n"
     ]
    },
    {
     "data": {
      "text/plain": [
       "array([[1736,  552],\n",
       "       [ 343,  435]], dtype=int64)"
      ]
     },
     "metadata": {},
     "output_type": "display_data"
    },
    {
     "name": "stdout",
     "output_type": "stream",
     "text": [
      "Cross Val:\n",
      "Acc: 0.7187601957585644\n",
      "Precision: 0.4481100271176679\n",
      "Recall: 0.5732053494391717\n",
      "f1: 0.5027522406445923\n",
      "ROC AUC: 0.7129312440864275\n"
     ]
    },
    {
     "name": "stderr",
     "output_type": "stream",
     "text": [
      "C:\\Users\\Emilio\\anaconda3\\envs\\data\\lib\\site-packages\\sklearn\\metrics\\_classification.py:1221: UndefinedMetricWarning: Precision is ill-defined and being set to 0.0 due to no predicted samples. Use `zero_division` parameter to control this behavior.\n",
      "  _warn_prf(average, modifier, msg_start, len(result))\n",
      "C:\\Users\\Emilio\\anaconda3\\envs\\data\\lib\\site-packages\\sklearn\\metrics\\_classification.py:1221: UndefinedMetricWarning: Precision is ill-defined and being set to 0.0 due to no predicted samples. Use `zero_division` parameter to control this behavior.\n",
      "  _warn_prf(average, modifier, msg_start, len(result))\n",
      "C:\\Users\\Emilio\\anaconda3\\envs\\data\\lib\\site-packages\\sklearn\\metrics\\_classification.py:1221: UndefinedMetricWarning: Precision is ill-defined and being set to 0.0 due to no predicted samples. Use `zero_division` parameter to control this behavior.\n",
      "  _warn_prf(average, modifier, msg_start, len(result))\n",
      "C:\\Users\\Emilio\\anaconda3\\envs\\data\\lib\\site-packages\\sklearn\\metrics\\_classification.py:1221: UndefinedMetricWarning: Precision is ill-defined and being set to 0.0 due to no predicted samples. Use `zero_division` parameter to control this behavior.\n",
      "  _warn_prf(average, modifier, msg_start, len(result))\n",
      "C:\\Users\\Emilio\\anaconda3\\envs\\data\\lib\\site-packages\\sklearn\\metrics\\_classification.py:1221: UndefinedMetricWarning: Precision is ill-defined and being set to 0.0 due to no predicted samples. Use `zero_division` parameter to control this behavior.\n",
      "  _warn_prf(average, modifier, msg_start, len(result))\n",
      "C:\\Users\\Emilio\\anaconda3\\envs\\data\\lib\\site-packages\\sklearn\\metrics\\_classification.py:1221: UndefinedMetricWarning: Precision is ill-defined and being set to 0.0 due to no predicted samples. Use `zero_division` parameter to control this behavior.\n",
      "  _warn_prf(average, modifier, msg_start, len(result))\n",
      "C:\\Users\\Emilio\\anaconda3\\envs\\data\\lib\\site-packages\\sklearn\\metrics\\_classification.py:1221: UndefinedMetricWarning: Precision is ill-defined and being set to 0.0 due to no predicted samples. Use `zero_division` parameter to control this behavior.\n",
      "  _warn_prf(average, modifier, msg_start, len(result))\n",
      "C:\\Users\\Emilio\\anaconda3\\envs\\data\\lib\\site-packages\\sklearn\\metrics\\_classification.py:1221: UndefinedMetricWarning: Precision is ill-defined and being set to 0.0 due to no predicted samples. Use `zero_division` parameter to control this behavior.\n",
      "  _warn_prf(average, modifier, msg_start, len(result))\n",
      "C:\\Users\\Emilio\\anaconda3\\envs\\data\\lib\\site-packages\\sklearn\\metrics\\_classification.py:1221: UndefinedMetricWarning: Precision is ill-defined and being set to 0.0 due to no predicted samples. Use `zero_division` parameter to control this behavior.\n",
      "  _warn_prf(average, modifier, msg_start, len(result))\n"
     ]
    },
    {
     "name": "stdout",
     "output_type": "stream",
     "text": [
      "\n",
      "Model: SVC()\n",
      "\n"
     ]
    },
    {
     "name": "stderr",
     "output_type": "stream",
     "text": [
      "C:\\Users\\Emilio\\anaconda3\\envs\\data\\lib\\site-packages\\sklearn\\metrics\\_classification.py:1221: UndefinedMetricWarning: Precision is ill-defined and being set to 0.0 due to no predicted samples. Use `zero_division` parameter to control this behavior.\n",
      "  _warn_prf(average, modifier, msg_start, len(result))\n"
     ]
    },
    {
     "data": {
      "text/plain": [
       "array([[2288,    0],\n",
       "       [ 778,    0]], dtype=int64)"
      ]
     },
     "metadata": {},
     "output_type": "display_data"
    },
    {
     "name": "stdout",
     "output_type": "stream",
     "text": [
      "Cross Val:\n",
      "Acc: 0.7515497553017945\n",
      "Precision: 0.0\n",
      "Recall: 0.0\n",
      "f1: 0.0\n",
      "ROC AUC: 0.711800480417654\n",
      "\n",
      "Model: SVC(class_weight='balanced')\n",
      "\n"
     ]
    },
    {
     "data": {
      "text/plain": [
       "array([[1778,  529],\n",
       "       [ 331,  428]], dtype=int64)"
      ]
     },
     "metadata": {},
     "output_type": "display_data"
    },
    {
     "name": "stdout",
     "output_type": "stream",
     "text": [
      "Cross Val:\n",
      "Acc: 0.7222675367047308\n",
      "Precision: 0.45516069829308003\n",
      "Recall: 0.5572523471929488\n",
      "f1: 0.5008708513969127\n",
      "ROC AUC: 0.7117646817542587\n",
      "\n",
      "Model: SVC()\n",
      "\n"
     ]
    },
    {
     "data": {
      "text/plain": [
       "array([[2126,  181],\n",
       "       [ 493,  266]], dtype=int64)"
      ]
     },
     "metadata": {},
     "output_type": "display_data"
    },
    {
     "name": "stdout",
     "output_type": "stream",
     "text": [
      "Cross Val:\n",
      "Acc: 0.7779771615008155\n",
      "Precision: 0.6000141358489476\n",
      "Recall: 0.3347278107768623\n",
      "f1: 0.4293363516152162\n",
      "ROC AUC: 0.759681788960721\n",
      "((0.5609569109187434, 'GaussianNB() set = chi k = 17'), 'scale: True', 'normalize:True')\n",
      "((0.5730844958319649, 'GaussianNB() set = mic k = 23'), 'scale: True', 'normalize:True')\n",
      "((0.5781474680480874, 'GaussianNB() set = chi k = 17'), 'scale: False', 'normalize:False')\n",
      "((0.5819471143282539, 'ExtraTreeClassifier(max_depth=10, random_state=0) set = mic k = 10'), 'scale: True', 'normalize:True')\n",
      "((0.5979601155618705, 'DecisionTreeClassifier(max_depth=5, random_state=0) set = chi k = 7'), 'scale: True', 'normalize:True')\n",
      "((0.619504957502011, 'DecisionTreeClassifier(max_depth=10, random_state=0) set = mic k = 10'), 'scale: True', 'normalize:True')\n",
      "((0.6347961778638627, \"SVC(class_weight='balanced') set = chi k = 7\"), 'scale: True', 'normalize:True')\n"
     ]
    }
   ],
   "source": [
    "#Model Test                                   \n",
    "for scale in [True,False]:\n",
    "    for normalize in [True,False]:\n",
    "        \n",
    "                    \n",
    "        #Extracting and Cleaning Data\n",
    "        data_cleaned = Data_Cleaning(pd.read_csv('z_train.csv'), \n",
    "                                     scale = scale, \n",
    "                                     normalize = normalize)\n",
    "        \n",
    "        #Train, Test Split\n",
    "        X = data_cleaned.drop(['target','enrollee_id'], axis = 1) \n",
    "        y = data_cleaned['target']\n",
    "        X_train, X_test, y_train, y_test = train_test_split(X, y, \n",
    "                                                            test_size=0.2)\n",
    "\n",
    "        X_train_fs_chi, X_test_fs_chi = select_features(X_train, y_train, X_test, \n",
    "                                                        chi2, \n",
    "                                                        k = 7)\n",
    "        X_train_fs_mic, X_test_fs_mic = select_features(X_train, y_train, X_test, \n",
    "                                                        mutual_info_classif, \n",
    "                                                        k = 10)\n",
    "        \n",
    "        \n",
    "        a = ModelTest(SVC(class_weight ='balanced'), #Model    \n",
    "                       X_train = X_train_fs_chi, X_test = X_test_fs_chi,\n",
    "                       y_train = y_train, y_test = y_test,\n",
    "                       typ = 'chi',\n",
    "                       k = 7)\n",
    "        metricss.append((a, \"scale: \" + str(scale), \"normalize:\" + str(normalize)))\n",
    "\n",
    "        a = ModelTest(SVC(), #Model          \n",
    "                       X_train = X_train_fs_mic, X_test = X_test_fs_mic,  #Best\n",
    "                       y_train = y_train, y_test = y_test,\n",
    "                       typ = 'mic',\n",
    "                       k = 10)\n",
    "        metricss.append((a, \"scale: \" + str(scale), \"normalize:\" + str(normalize)))\n",
    "            \n",
    "temp = 0.001\n",
    "for metric in metricss:\n",
    "    if metric[0][0] > temp:\n",
    "        print(metric)\n",
    "        temp = metric[0][0]  "
   ]
  },
  {
   "cell_type": "markdown",
   "metadata": {},
   "source": [
    "# Model Train"
   ]
  },
  {
   "cell_type": "code",
   "execution_count": 22,
   "metadata": {},
   "outputs": [],
   "source": [
    "def ModelTrain(model, score_func, k,scale, normalize,):\n",
    "    \"\"\" \n",
    "        Functions that trains a model and return a df with \"enroll_id \"and \"target\"\n",
    "    \"\"\"\n",
    "    data_train = Data_Cleaning(pd.read_csv('z_train.csv'), \n",
    "                              scale=scale,\n",
    "                              normalize=normalize)\n",
    "    data_test = Data_Cleaning(pd.read_csv('z_test.csv'), \n",
    "                             scale=scale,\n",
    "                             normalize=normalize)\n",
    "    \n",
    "    #Cleaning\n",
    "    X_train = data_train.drop(['target','enrollee_id'], axis = 1) \n",
    "    y_train = data_train['target']\n",
    "    X_test = data_test.drop('enrollee_id', axis = 1)\n",
    "    \n",
    "    X_train, X_test = select_features(X_train, y_train, X_test, \n",
    "                                      score_func=score_func, \n",
    "                                      k = k)\n",
    "    #Training\n",
    "    model.fit(X_train,y_train)\n",
    "    y_pred = model.predict(X_test)\n",
    "    \n",
    "    #RSaving Submission DF\n",
    "    df_predicted = pd.DataFrame({'enrollee_id':data_test['enrollee_id'], \n",
    "                                 'target':y_pred})\n",
    "    df_predicted.to_csv('submission.csv', index=False) "
   ]
  },
  {
   "cell_type": "code",
   "execution_count": 24,
   "metadata": {},
   "outputs": [],
   "source": [
    "ModelTrain(DecisionTreeClassifier(max_depth=10, random_state=0),\n",
    "           mutual_info_classif,\n",
    "           23,\n",
    "           True,\n",
    "           False)"
   ]
  },
  {
   "cell_type": "code",
   "execution_count": null,
   "metadata": {},
   "outputs": [],
   "source": []
  }
 ],
 "metadata": {
  "kernelspec": {
   "display_name": "Python 3",
   "language": "python",
   "name": "python3"
  },
  "language_info": {
   "codemirror_mode": {
    "name": "ipython",
    "version": 3
   },
   "file_extension": ".py",
   "mimetype": "text/x-python",
   "name": "python",
   "nbconvert_exporter": "python",
   "pygments_lexer": "ipython3",
   "version": "3.8.5"
  }
 },
 "nbformat": 4,
 "nbformat_minor": 4
}
