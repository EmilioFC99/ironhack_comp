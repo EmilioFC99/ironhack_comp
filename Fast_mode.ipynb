{
 "cells": [
  {
   "cell_type": "markdown",
   "metadata": {},
   "source": [
    "# Fast mode"
   ]
  },
  {
   "cell_type": "code",
   "execution_count": 1,
   "metadata": {},
   "outputs": [],
   "source": [
    "#imports\n",
    "import pandas as pd\n",
    "import numpy as np\n",
    "import matplotlib.pyplot as plt\n",
    "import seaborn as sns\n",
    "import plotly.express as px\n",
    "\n",
    "from feature_engine.encoding import RareLabelEncoder, OneHotEncoder\n",
    "from sklearn.preprocessing import RobustScaler,Normalizer,StandardScaler\n",
    "from sklearn.tree import DecisionTreeClassifier\n",
    "from sklearn.linear_model import LogisticRegression\n",
    "from sklearn.model_selection import train_test_split, KFold, cross_val_score\n",
    "from scipy.stats import skew\n",
    "from sklearn import metrics"
   ]
  },
  {
   "cell_type": "code",
   "execution_count": 2,
   "metadata": {},
   "outputs": [],
   "source": [
    "def Fill_Null_Add_Imp_Column(data: pd.DataFrame,cols: list):\n",
    "    a = data.copy()\n",
    "    for col in cols:\n",
    "        a[col+\"_null\"] = np.where(a[col].isnull(),1,0)\n",
    "        filling_data = a[col].mode()[0]\n",
    "        a[col].fillna(filling_data,inplace=True)\n",
    "    return a"
   ]
  },
  {
   "cell_type": "code",
   "execution_count": 3,
   "metadata": {},
   "outputs": [],
   "source": [
    "def Create_Groups(x):\n",
    "    if x in ['1','2','3','4','5']:\n",
    "        return '1-5'\n",
    "    elif x in ['6','7','8','9','10']:\n",
    "        return '6-10'\n",
    "    elif x in ['11','12','13','14','15']:\n",
    "        return '11-15'\n",
    "    elif x in ['16','17','18','19','20']:\n",
    "        return '16-20'\n",
    "    else: return x"
   ]
  },
  {
   "cell_type": "code",
   "execution_count": 4,
   "metadata": {},
   "outputs": [],
   "source": [
    "def City_Encoder(df):\n",
    "    data = df.copy()\n",
    "    #Determining how many labels to create\n",
    "    cat = 'city'\n",
    "    temp_df = pd.Series(data[cat].value_counts() / len(data))\n",
    "\n",
    "    rare_encoder = RareLabelEncoder(tol=0.05,\n",
    "                                    n_categories=8,\n",
    "                                    variables=cat,\n",
    "                                    replace_with='Other')\n",
    "\n",
    "    rare_encoder.fit(data)\n",
    "    data = rare_encoder.transform(data)\n",
    "\n",
    "    #One Hot Encoding\n",
    "    one_hot_top = OneHotEncoder(\n",
    "        top_categories=5,\n",
    "        variables=cat)\n",
    "\n",
    "    one_hot_top.fit(data)\n",
    "    data = one_hot_top.transform(data)\n",
    "    \n",
    "    return data"
   ]
  },
  {
   "cell_type": "code",
   "execution_count": 5,
   "metadata": {},
   "outputs": [],
   "source": [
    "def EnrolledUniversity_Encoder(df):\n",
    "        data = df.copy()\n",
    "        cat = 'enrolled_university'\n",
    "        \n",
    "        one_hot_top = OneHotEncoder(top_categories=3,\n",
    "                                    variables=cat)\n",
    "\n",
    "        one_hot_top.fit(data)\n",
    "        data = one_hot_top.transform(data)\n",
    "\n",
    "        return data"
   ]
  },
  {
   "cell_type": "code",
   "execution_count": 6,
   "metadata": {},
   "outputs": [],
   "source": [
    "def Nulls(df):\n",
    "    data = df.copy()\n",
    "    \n",
    "    data.drop(['gender','company_size','company_type'], \n",
    "              axis = 1, \n",
    "              inplace = True)\n",
    "    \n",
    "    data = Fill_Null_Add_Imp_Column(data,['enrolled_university','major_discipline','last_new_job'])\n",
    "    \n",
    "    data['education_level'].fillna(\"No education\", inplace = True)\n",
    "    data['experience'] = data['experience'].apply(Create_Groups)\n",
    "    data['experience'].fillna('<1', inplace = True)\n",
    "    \n",
    "    return data"
   ]
  },
  {
   "cell_type": "code",
   "execution_count": 7,
   "metadata": {},
   "outputs": [],
   "source": [
    "def Categorical(X):\n",
    "    data = X.copy()\n",
    "    data = City_Encoder(data)\n",
    "    data['relevent_experience'] = data['relevent_experience'].apply(lambda x: 1 if 'Has' in x else 0)\n",
    "    data = EnrolledUniversity_Encoder(data)\n",
    "    data['education_level'] = data['education_level'].replace({\"No education\": 0,\n",
    "                                                               \"Primary School\":1,\n",
    "                                                               \"High School\":2,\n",
    "                                                               \"Graduate\":3,\n",
    "                                                               \"Masters\":4,\n",
    "                                                               \"Phd\":5})\n",
    "    data['major_discipline'] = data['major_discipline'].apply(lambda x: 1 if \"STEM\" in x else 0)\n",
    "    data['experience'] = data['experience'].replace({\"<1\": 0,\n",
    "                                                     \"1-5\":1,\n",
    "                                                     \"6-10\":2,\n",
    "                                                     \"11-15\":3,\n",
    "                                                     \"16-20\":4,\n",
    "                                                     \">20\":5})\n",
    "    data['last_new_job'] = data['last_new_job'].replace({\"never\": 0,\n",
    "                                                         \"1\":1,\n",
    "                                                         \"2\":2,\n",
    "                                                         \"3\":3,\n",
    "                                                         \"4\":4,\n",
    "                                                         \">4\":5})\n",
    "    return data"
   ]
  },
  {
   "cell_type": "code",
   "execution_count": 8,
   "metadata": {},
   "outputs": [],
   "source": [
    "def Process_Data(X, standardize = False):\n",
    "    \"\"\" \n",
    "    Function that cleans the data from the dataset\n",
    "    \"\"\"\n",
    "    #Removing and Filling Nulls\n",
    "    data_null = Nulls(X)\n",
    "    \n",
    "    #Label Encoders\n",
    "    data_cleaned = Categorical(data_null)\n",
    "    \n",
    "    if standardize:     \n",
    "        columns = ['city_development_index','training_hours']\n",
    "        data = data_cleaned[columns]\n",
    "        scaler = StandardScaler().fit(data)\n",
    "        data = scaler.transform(data)\n",
    "        data_cleaned[columns] = data\n",
    "    \n",
    "    return data_cleaned"
   ]
  },
  {
   "cell_type": "code",
   "execution_count": 9,
   "metadata": {},
   "outputs": [],
   "source": [
    "data_train = pd.read_csv('z_train.csv')\n",
    "data_test = pd.read_csv('z_test.csv')"
   ]
  },
  {
   "cell_type": "code",
   "execution_count": 10,
   "metadata": {},
   "outputs": [],
   "source": [
    "X = Process_Data(data_train.drop(['target','enrollee_id'], axis = 1))\n",
    "y = data_train['target']"
   ]
  },
  {
   "cell_type": "code",
   "execution_count": 11,
   "metadata": {},
   "outputs": [],
   "source": [
    "X_train, X_test, y_train, y_test = train_test_split(X, y, test_size=0.2)"
   ]
  },
  {
   "cell_type": "markdown",
   "metadata": {},
   "source": [
    "# Models"
   ]
  },
  {
   "cell_type": "markdown",
   "metadata": {},
   "source": [
    "## ---- Logistic"
   ]
  },
  {
   "cell_type": "code",
   "execution_count": 12,
   "metadata": {},
   "outputs": [
    {
     "name": "stderr",
     "output_type": "stream",
     "text": [
      "C:\\Users\\Emilio\\anaconda3\\envs\\data\\lib\\site-packages\\sklearn\\linear_model\\_logistic.py:762: ConvergenceWarning: lbfgs failed to converge (status=1):\n",
      "STOP: TOTAL NO. of ITERATIONS REACHED LIMIT.\n",
      "\n",
      "Increase the number of iterations (max_iter) or scale the data as shown in:\n",
      "    https://scikit-learn.org/stable/modules/preprocessing.html\n",
      "Please also refer to the documentation for alternative solver options:\n",
      "    https://scikit-learn.org/stable/modules/linear_model.html#logistic-regression\n",
      "  n_iter_i = _check_optimize_result(\n"
     ]
    },
    {
     "data": {
      "text/html": [
       "<div>\n",
       "<style scoped>\n",
       "    .dataframe tbody tr th:only-of-type {\n",
       "        vertical-align: middle;\n",
       "    }\n",
       "\n",
       "    .dataframe tbody tr th {\n",
       "        vertical-align: top;\n",
       "    }\n",
       "\n",
       "    .dataframe thead th {\n",
       "        text-align: right;\n",
       "    }\n",
       "</style>\n",
       "<table border=\"1\" class=\"dataframe\">\n",
       "  <thead>\n",
       "    <tr style=\"text-align: right;\">\n",
       "      <th></th>\n",
       "      <th>Actual</th>\n",
       "      <th>Predicted</th>\n",
       "    </tr>\n",
       "  </thead>\n",
       "  <tbody>\n",
       "    <tr>\n",
       "      <th>5047</th>\n",
       "      <td>0.0</td>\n",
       "      <td>0.0</td>\n",
       "    </tr>\n",
       "    <tr>\n",
       "      <th>14023</th>\n",
       "      <td>1.0</td>\n",
       "      <td>0.0</td>\n",
       "    </tr>\n",
       "    <tr>\n",
       "      <th>1634</th>\n",
       "      <td>0.0</td>\n",
       "      <td>0.0</td>\n",
       "    </tr>\n",
       "    <tr>\n",
       "      <th>2414</th>\n",
       "      <td>0.0</td>\n",
       "      <td>0.0</td>\n",
       "    </tr>\n",
       "    <tr>\n",
       "      <th>195</th>\n",
       "      <td>0.0</td>\n",
       "      <td>0.0</td>\n",
       "    </tr>\n",
       "    <tr>\n",
       "      <th>...</th>\n",
       "      <td>...</td>\n",
       "      <td>...</td>\n",
       "    </tr>\n",
       "    <tr>\n",
       "      <th>13635</th>\n",
       "      <td>0.0</td>\n",
       "      <td>0.0</td>\n",
       "    </tr>\n",
       "    <tr>\n",
       "      <th>7461</th>\n",
       "      <td>1.0</td>\n",
       "      <td>1.0</td>\n",
       "    </tr>\n",
       "    <tr>\n",
       "      <th>508</th>\n",
       "      <td>1.0</td>\n",
       "      <td>0.0</td>\n",
       "    </tr>\n",
       "    <tr>\n",
       "      <th>994</th>\n",
       "      <td>0.0</td>\n",
       "      <td>0.0</td>\n",
       "    </tr>\n",
       "    <tr>\n",
       "      <th>6355</th>\n",
       "      <td>0.0</td>\n",
       "      <td>0.0</td>\n",
       "    </tr>\n",
       "  </tbody>\n",
       "</table>\n",
       "<p>3066 rows × 2 columns</p>\n",
       "</div>"
      ],
      "text/plain": [
       "       Actual  Predicted\n",
       "5047      0.0        0.0\n",
       "14023     1.0        0.0\n",
       "1634      0.0        0.0\n",
       "2414      0.0        0.0\n",
       "195       0.0        0.0\n",
       "...       ...        ...\n",
       "13635     0.0        0.0\n",
       "7461      1.0        1.0\n",
       "508       1.0        0.0\n",
       "994       0.0        0.0\n",
       "6355      0.0        0.0\n",
       "\n",
       "[3066 rows x 2 columns]"
      ]
     },
     "metadata": {},
     "output_type": "display_data"
    },
    {
     "name": "stdout",
     "output_type": "stream",
     "text": [
      "Accuracy: 0.7870189171559034\n",
      "Precision: 0.611731843575419\n",
      "Recall: 0.2987721691678035\n",
      "f1: 0.4014665444546288\n"
     ]
    },
    {
     "data": {
      "text/plain": [
       "array([[2194,  139],\n",
       "       [ 514,  219]], dtype=int64)"
      ]
     },
     "metadata": {},
     "output_type": "display_data"
    }
   ],
   "source": [
    "model = LogisticRegression()\n",
    "model.fit(X_train, y_train)\n",
    "y_pred = model.predict(X_test)\n",
    "df_predicted = pd.DataFrame({'Actual':y_test, 'Predicted':y_pred})\n",
    "display(df_predicted)\n",
    "\n",
    "acc = metrics.accuracy_score(y_true = y_test, \n",
    "                             y_pred = y_pred)\n",
    "\n",
    "precision = metrics.precision_score(y_true = y_test, \n",
    "                             y_pred = y_pred)\n",
    "\n",
    "recall = metrics.recall_score(y_true = y_test, \n",
    "                             y_pred = y_pred)\n",
    "\n",
    "f1 = metrics.f1_score(y_true = y_test, \n",
    "                             y_pred = y_pred)\n",
    "\n",
    "print(f\"Accuracy: {acc}\\nPrecision: {precision}\\nRecall: {recall}\\nf1: {f1}\")\n",
    "\n",
    "display(metrics.confusion_matrix(y_test,y_pred))"
   ]
  },
  {
   "cell_type": "markdown",
   "metadata": {},
   "source": [
    "## ---- Tree Classification"
   ]
  },
  {
   "cell_type": "code",
   "execution_count": 13,
   "metadata": {},
   "outputs": [
    {
     "data": {
      "text/html": [
       "<div>\n",
       "<style scoped>\n",
       "    .dataframe tbody tr th:only-of-type {\n",
       "        vertical-align: middle;\n",
       "    }\n",
       "\n",
       "    .dataframe tbody tr th {\n",
       "        vertical-align: top;\n",
       "    }\n",
       "\n",
       "    .dataframe thead th {\n",
       "        text-align: right;\n",
       "    }\n",
       "</style>\n",
       "<table border=\"1\" class=\"dataframe\">\n",
       "  <thead>\n",
       "    <tr style=\"text-align: right;\">\n",
       "      <th></th>\n",
       "      <th>Actual</th>\n",
       "      <th>Predicted</th>\n",
       "    </tr>\n",
       "  </thead>\n",
       "  <tbody>\n",
       "    <tr>\n",
       "      <th>5047</th>\n",
       "      <td>0.0</td>\n",
       "      <td>1.0</td>\n",
       "    </tr>\n",
       "    <tr>\n",
       "      <th>14023</th>\n",
       "      <td>1.0</td>\n",
       "      <td>1.0</td>\n",
       "    </tr>\n",
       "    <tr>\n",
       "      <th>1634</th>\n",
       "      <td>0.0</td>\n",
       "      <td>0.0</td>\n",
       "    </tr>\n",
       "    <tr>\n",
       "      <th>2414</th>\n",
       "      <td>0.0</td>\n",
       "      <td>0.0</td>\n",
       "    </tr>\n",
       "    <tr>\n",
       "      <th>195</th>\n",
       "      <td>0.0</td>\n",
       "      <td>0.0</td>\n",
       "    </tr>\n",
       "    <tr>\n",
       "      <th>...</th>\n",
       "      <td>...</td>\n",
       "      <td>...</td>\n",
       "    </tr>\n",
       "    <tr>\n",
       "      <th>13635</th>\n",
       "      <td>0.0</td>\n",
       "      <td>0.0</td>\n",
       "    </tr>\n",
       "    <tr>\n",
       "      <th>7461</th>\n",
       "      <td>1.0</td>\n",
       "      <td>1.0</td>\n",
       "    </tr>\n",
       "    <tr>\n",
       "      <th>508</th>\n",
       "      <td>1.0</td>\n",
       "      <td>0.0</td>\n",
       "    </tr>\n",
       "    <tr>\n",
       "      <th>994</th>\n",
       "      <td>0.0</td>\n",
       "      <td>0.0</td>\n",
       "    </tr>\n",
       "    <tr>\n",
       "      <th>6355</th>\n",
       "      <td>0.0</td>\n",
       "      <td>0.0</td>\n",
       "    </tr>\n",
       "  </tbody>\n",
       "</table>\n",
       "<p>3066 rows × 2 columns</p>\n",
       "</div>"
      ],
      "text/plain": [
       "       Actual  Predicted\n",
       "5047      0.0        1.0\n",
       "14023     1.0        1.0\n",
       "1634      0.0        0.0\n",
       "2414      0.0        0.0\n",
       "195       0.0        0.0\n",
       "...       ...        ...\n",
       "13635     0.0        0.0\n",
       "7461      1.0        1.0\n",
       "508       1.0        0.0\n",
       "994       0.0        0.0\n",
       "6355      0.0        0.0\n",
       "\n",
       "[3066 rows x 2 columns]"
      ]
     },
     "metadata": {},
     "output_type": "display_data"
    },
    {
     "name": "stdout",
     "output_type": "stream",
     "text": [
      "Accuracy: 0.7860404435746902\n",
      "Precision: 0.5803757828810021\n",
      "Recall: 0.3792633015006821\n",
      "f1: 0.45874587458745875\n"
     ]
    },
    {
     "data": {
      "text/plain": [
       "array([[2132,  201],\n",
       "       [ 455,  278]], dtype=int64)"
      ]
     },
     "metadata": {},
     "output_type": "display_data"
    }
   ],
   "source": [
    "model = DecisionTreeClassifier(max_depth=6, random_state = 0)\n",
    "model.fit(X_train, y_train)\n",
    "y_pred = model.predict(X_test)\n",
    "df_predicted = pd.DataFrame({'Actual':y_test, 'Predicted':y_pred})\n",
    "display(df_predicted)\n",
    "\n",
    "acc = metrics.accuracy_score(y_true = y_test, \n",
    "                             y_pred = y_pred)\n",
    "\n",
    "precision = metrics.precision_score(y_true = y_test, \n",
    "                             y_pred = y_pred)\n",
    "\n",
    "recall = metrics.recall_score(y_true = y_test, \n",
    "                             y_pred = y_pred)\n",
    "\n",
    "f1 = metrics.f1_score(y_true = y_test, \n",
    "                             y_pred = y_pred)\n",
    "\n",
    "print(f\"Accuracy: {acc}\\nPrecision: {precision}\\nRecall: {recall}\\nf1: {f1}\")\n",
    "\n",
    "display(metrics.confusion_matrix(y_test,y_pred))"
   ]
  },
  {
   "cell_type": "code",
   "execution_count": 14,
   "metadata": {},
   "outputs": [],
   "source": [
    "def Tain_Model(model, archive_train, archive_test, standardize = False):\n",
    "    \"\"\" \n",
    "        Functions that trains a model and return a df with \"enroll_id \"and \"target\"\n",
    "    \"\"\"\n",
    "    #Extraction\n",
    "    data_train = pd.read_csv(archive_train)\n",
    "    data_test = pd.read_csv(archive_test)\n",
    "\n",
    "    #Cleaning\n",
    "    X_train = Process_Data(data_train.drop(['target','enrollee_id'], axis = 1),\n",
    "                           standardize = standardize)\n",
    "    y_train = data_train['target']\n",
    "    X_test = Process_Data(data_test.drop('enrollee_id', axis = 1),\n",
    "                          standardize = standardize)\n",
    "    #Training\n",
    "    model.fit(X_train,y_train)\n",
    "    y_pred = model.predict(X_test)\n",
    "    \n",
    "    #Return\n",
    "    df_predicted = pd.DataFrame({'enrollee_id':data_test['enrollee_id'], \n",
    "                                 'target':y_pred})\n",
    "    \n",
    "    df_predicted.to_csv('submission.csv', index=False) "
   ]
  },
  {
   "cell_type": "code",
   "execution_count": 15,
   "metadata": {},
   "outputs": [],
   "source": [
    "Tain_Model(model = DecisionTreeClassifier(max_depth=6),\n",
    "           archive_train='z_train.csv', \n",
    "           archive_test='z_test.csv',\n",
    "           standardize=False)"
   ]
  },
  {
   "cell_type": "code",
   "execution_count": 16,
   "metadata": {},
   "outputs": [
    {
     "data": {
      "text/plain": [
       "0.15031315240083507"
      ]
     },
     "execution_count": 16,
     "metadata": {},
     "output_type": "execute_result"
    }
   ],
   "source": [
    "data_test['major_discipline'].isnull().mean()"
   ]
  },
  {
   "cell_type": "code",
   "execution_count": null,
   "metadata": {},
   "outputs": [],
   "source": []
  }
 ],
 "metadata": {
  "kernelspec": {
   "display_name": "Python 3",
   "language": "python",
   "name": "python3"
  },
  "language_info": {
   "codemirror_mode": {
    "name": "ipython",
    "version": 3
   },
   "file_extension": ".py",
   "mimetype": "text/x-python",
   "name": "python",
   "nbconvert_exporter": "python",
   "pygments_lexer": "ipython3",
   "version": "3.8.5"
  }
 },
 "nbformat": 4,
 "nbformat_minor": 4
}
